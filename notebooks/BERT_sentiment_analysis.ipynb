{
  "nbformat": 4,
  "nbformat_minor": 0,
  "metadata": {
    "colab": {
      "name": "BERT-sentiment-analysis.ipynb",
      "provenance": [],
      "collapsed_sections": [],
      "machine_shape": "hm",
      "toc_visible": true
    },
    "kernelspec": {
      "name": "python3",
      "display_name": "Python 3"
    },
    "accelerator": "GPU"
  },
  "cells": [
    {
      "cell_type": "markdown",
      "source": [
        "[![Open In Colab](https://colab.research.google.com/assets/colab-badge.svg)](https://colab.research.google.com/github/googlecolab/colabtools/blob/master/notebooks/colab-github-demo.ipynb)"
      ],
      "metadata": {
        "id": "H2GDDXnPPnLa"
      }
    },
    {
      "cell_type": "markdown",
      "metadata": {
        "id": "p2B9-HFJBOyq"
      },
      "source": [
        "# Imports"
      ]
    },
    {
      "cell_type": "code",
      "metadata": {
        "id": "e7JnZmri5j2_",
        "colab": {
          "base_uri": "https://localhost:8080/"
        },
        "outputId": "206eda13-2879-4f7f-fab8-46fbf2cfb187"
      },
      "source": [
        "! python --version"
      ],
      "execution_count": null,
      "outputs": [
        {
          "output_type": "stream",
          "name": "stdout",
          "text": [
            "Python 3.7.13\n"
          ]
        }
      ]
    },
    {
      "cell_type": "code",
      "source": [
        "!pip install -q -U \"tensorflow-text==2.8.*\"\n",
        "!pip install -q tf-models-official==2.4.0"
      ],
      "metadata": {
        "id": "6iKNUdUXxAkj",
        "colab": {
          "base_uri": "https://localhost:8080/"
        },
        "outputId": "b92b9311-66e0-4067-8da0-8825e736b1f3"
      },
      "execution_count": null,
      "outputs": [
        {
          "output_type": "stream",
          "name": "stdout",
          "text": [
            "\u001b[K     |████████████████████████████████| 4.9 MB 5.5 MB/s \n",
            "\u001b[K     |████████████████████████████████| 462 kB 66.3 MB/s \n",
            "\u001b[K     |████████████████████████████████| 1.1 MB 5.1 MB/s \n",
            "\u001b[K     |████████████████████████████████| 43 kB 1.6 MB/s \n",
            "\u001b[K     |████████████████████████████████| 1.1 MB 49.2 MB/s \n",
            "\u001b[K     |████████████████████████████████| 237 kB 53.9 MB/s \n",
            "\u001b[K     |████████████████████████████████| 1.2 MB 51.6 MB/s \n",
            "\u001b[K     |████████████████████████████████| 47.8 MB 107 kB/s \n",
            "\u001b[K     |████████████████████████████████| 352 kB 72.5 MB/s \n",
            "\u001b[K     |████████████████████████████████| 596 kB 74.4 MB/s \n",
            "\u001b[K     |████████████████████████████████| 99 kB 12.6 MB/s \n",
            "\u001b[?25h  Building wheel for py-cpuinfo (setup.py) ... \u001b[?25l\u001b[?25hdone\n",
            "  Building wheel for seqeval (setup.py) ... \u001b[?25l\u001b[?25hdone\n"
          ]
        }
      ]
    },
    {
      "cell_type": "code",
      "metadata": {
        "id": "oXO5FPswBLSH",
        "colab": {
          "base_uri": "https://localhost:8080/"
        },
        "outputId": "72c77e38-59e8-4127-9258-edb336dec365"
      },
      "source": [
        "!pip install tensorflow_hub\n",
        "!pip install keras pydot graphviz"
      ],
      "execution_count": null,
      "outputs": [
        {
          "output_type": "stream",
          "name": "stdout",
          "text": [
            "Requirement already satisfied: tensorflow_hub in /usr/local/lib/python3.7/dist-packages (0.12.0)\n",
            "Requirement already satisfied: numpy>=1.12.0 in /usr/local/lib/python3.7/dist-packages (from tensorflow_hub) (1.21.6)\n",
            "Requirement already satisfied: protobuf>=3.8.0 in /usr/local/lib/python3.7/dist-packages (from tensorflow_hub) (3.17.3)\n",
            "Requirement already satisfied: six>=1.9 in /usr/local/lib/python3.7/dist-packages (from protobuf>=3.8.0->tensorflow_hub) (1.15.0)\n",
            "Requirement already satisfied: keras in /usr/local/lib/python3.7/dist-packages (2.8.0)\n",
            "Requirement already satisfied: pydot in /usr/local/lib/python3.7/dist-packages (1.3.0)\n",
            "Requirement already satisfied: graphviz in /usr/local/lib/python3.7/dist-packages (0.10.1)\n",
            "Requirement already satisfied: pyparsing>=2.1.4 in /usr/local/lib/python3.7/dist-packages (from pydot) (3.0.8)\n"
          ]
        }
      ]
    },
    {
      "cell_type": "code",
      "metadata": {
        "id": "kHzoXf8sCxaW",
        "colab": {
          "base_uri": "https://localhost:8080/"
        },
        "outputId": "dd2bbc79-1c03-4519-e324-81dc57d34a93"
      },
      "source": [
        "import os\n",
        "\n",
        "import numpy as np\n",
        "import pandas as pd\n",
        "\n",
        "import tensorflow as tf\n",
        "import tensorflow_hub as hub\n",
        "\n",
        "from keras.utils import np_utils\n",
        "\n",
        "import official.nlp.bert.bert_models\n",
        "import official.nlp.bert.configs\n",
        "import official.nlp.bert.run_classifier\n",
        "import official.nlp.bert.tokenization as tokenization\n",
        "\n",
        "from official.modeling import tf_utils\n",
        "from official import nlp\n",
        "from official.nlp import bert\n",
        "\n",
        "from sklearn.model_selection import train_test_split\n",
        "from sklearn.preprocessing import LabelEncoder\n",
        "\n",
        "import matplotlib.pyplot as plt\n",
        "\n",
        "gpus = tf.config.experimental.list_physical_devices('GPU')\n",
        "if gpus:\n",
        "  try:\n",
        "    # Currently, memory growth needs to be the same across GPUs\n",
        "    for gpu in gpus:\n",
        "      tf.config.experimental.set_memory_growth(gpu, True)\n",
        "    logical_gpus = tf.config.experimental.list_logical_devices('GPU')\n",
        "    print(len(gpus), \"Physical GPUs,\", len(logical_gpus), \"Logical GPUs\")\n",
        "  except RuntimeError as e:\n",
        "    # Memory growth must be set before GPUs have been initialized\n",
        "    print(e)\n",
        "\n",
        "print(\"Version: \", tf.__version__)\n",
        "print(\"Eager mode: \", tf.executing_eagerly())\n",
        "print(\"Hub version: \", hub.__version__)\n",
        "print(\"GPU is\", \"available\" if tf.config.list_physical_devices('GPU') else \"NOT AVAILABLE\")"
      ],
      "execution_count": null,
      "outputs": [
        {
          "output_type": "stream",
          "name": "stdout",
          "text": [
            "1 Physical GPUs, 1 Logical GPUs\n",
            "Version:  2.8.0\n",
            "Eager mode:  True\n",
            "Hub version:  0.12.0\n",
            "GPU is available\n"
          ]
        }
      ]
    },
    {
      "cell_type": "markdown",
      "metadata": {
        "id": "wWfuCNEnDJSX"
      },
      "source": [
        "# Data"
      ]
    },
    {
      "cell_type": "markdown",
      "source": [
        "# New Section"
      ],
      "metadata": {
        "id": "whD8PJzp_TDZ"
      }
    },
    {
      "cell_type": "code",
      "source": [
        "from google.colab import drive\n",
        "drive.mount('/content/gdrive')"
      ],
      "metadata": {
        "colab": {
          "base_uri": "https://localhost:8080/"
        },
        "id": "P_rwFwS_0agV",
        "outputId": "1e04768e-8223-45da-bd8c-0047112e2317"
      },
      "execution_count": null,
      "outputs": [
        {
          "output_type": "stream",
          "name": "stdout",
          "text": [
            "Mounted at /content/gdrive\n"
          ]
        }
      ]
    },
    {
      "cell_type": "code",
      "metadata": {
        "id": "8Iwpl2fpCwFq"
      },
      "source": [
        "df = pd.read_csv('/content/gdrive/MyDrive/MIAR/TFM/BERT Sentiment/data/IMDB Dataset.csv',\n",
        "                 encoding='ISO-8859-1', \n",
        "                 )"
      ],
      "execution_count": null,
      "outputs": []
    },
    {
      "cell_type": "code",
      "source": [
        "pd.set_option('max_colwidth', 100)"
      ],
      "metadata": {
        "id": "E4UzuE9dZKcz"
      },
      "execution_count": null,
      "outputs": []
    },
    {
      "cell_type": "code",
      "metadata": {
        "id": "cYgtLWXODYFJ",
        "colab": {
          "base_uri": "https://localhost:8080/",
          "height": 363
        },
        "outputId": "daabd38e-837d-46db-b779-4a1517ae0b8b"
      },
      "source": [
        "df.head(10)"
      ],
      "execution_count": null,
      "outputs": [
        {
          "output_type": "execute_result",
          "data": {
            "text/plain": [
              "                                                                                                review  \\\n",
              "0  One of the other reviewers has mentioned that after watching just 1 Oz episode you'll be hooked....   \n",
              "1  A wonderful little production. <br /><br />The filming technique is very unassuming- very old-ti...   \n",
              "2  I thought this was a wonderful way to spend time on a too hot summer weekend, sitting in the air...   \n",
              "3  Basically there's a family where a little boy (Jake) thinks there's a zombie in his closet & his...   \n",
              "4  Petter Mattei's \"Love in the Time of Money\" is a visually stunning film to watch. Mr. Mattei off...   \n",
              "5  Probably my all-time favorite movie, a story of selflessness, sacrifice and dedication to a nobl...   \n",
              "6  I sure would like to see a resurrection of a up dated Seahunt series with the tech they have tod...   \n",
              "7  This show was an amazing, fresh & innovative idea in the 70's when it first aired. The first 7 o...   \n",
              "8  Encouraged by the positive comments about this film on here I was looking forward to watching th...   \n",
              "9  If you like original gut wrenching laughter you will like this movie. If you are young or old th...   \n",
              "\n",
              "  sentiment  \n",
              "0  positive  \n",
              "1  positive  \n",
              "2  positive  \n",
              "3  negative  \n",
              "4  positive  \n",
              "5  positive  \n",
              "6  positive  \n",
              "7  negative  \n",
              "8  negative  \n",
              "9  positive  "
            ],
            "text/html": [
              "\n",
              "  <div id=\"df-8f753a79-da8d-44bd-8e84-3ba5ce69db24\">\n",
              "    <div class=\"colab-df-container\">\n",
              "      <div>\n",
              "<style scoped>\n",
              "    .dataframe tbody tr th:only-of-type {\n",
              "        vertical-align: middle;\n",
              "    }\n",
              "\n",
              "    .dataframe tbody tr th {\n",
              "        vertical-align: top;\n",
              "    }\n",
              "\n",
              "    .dataframe thead th {\n",
              "        text-align: right;\n",
              "    }\n",
              "</style>\n",
              "<table border=\"1\" class=\"dataframe\">\n",
              "  <thead>\n",
              "    <tr style=\"text-align: right;\">\n",
              "      <th></th>\n",
              "      <th>review</th>\n",
              "      <th>sentiment</th>\n",
              "    </tr>\n",
              "  </thead>\n",
              "  <tbody>\n",
              "    <tr>\n",
              "      <th>0</th>\n",
              "      <td>One of the other reviewers has mentioned that after watching just 1 Oz episode you'll be hooked....</td>\n",
              "      <td>positive</td>\n",
              "    </tr>\n",
              "    <tr>\n",
              "      <th>1</th>\n",
              "      <td>A wonderful little production. &lt;br /&gt;&lt;br /&gt;The filming technique is very unassuming- very old-ti...</td>\n",
              "      <td>positive</td>\n",
              "    </tr>\n",
              "    <tr>\n",
              "      <th>2</th>\n",
              "      <td>I thought this was a wonderful way to spend time on a too hot summer weekend, sitting in the air...</td>\n",
              "      <td>positive</td>\n",
              "    </tr>\n",
              "    <tr>\n",
              "      <th>3</th>\n",
              "      <td>Basically there's a family where a little boy (Jake) thinks there's a zombie in his closet &amp; his...</td>\n",
              "      <td>negative</td>\n",
              "    </tr>\n",
              "    <tr>\n",
              "      <th>4</th>\n",
              "      <td>Petter Mattei's \"Love in the Time of Money\" is a visually stunning film to watch. Mr. Mattei off...</td>\n",
              "      <td>positive</td>\n",
              "    </tr>\n",
              "    <tr>\n",
              "      <th>5</th>\n",
              "      <td>Probably my all-time favorite movie, a story of selflessness, sacrifice and dedication to a nobl...</td>\n",
              "      <td>positive</td>\n",
              "    </tr>\n",
              "    <tr>\n",
              "      <th>6</th>\n",
              "      <td>I sure would like to see a resurrection of a up dated Seahunt series with the tech they have tod...</td>\n",
              "      <td>positive</td>\n",
              "    </tr>\n",
              "    <tr>\n",
              "      <th>7</th>\n",
              "      <td>This show was an amazing, fresh &amp; innovative idea in the 70's when it first aired. The first 7 o...</td>\n",
              "      <td>negative</td>\n",
              "    </tr>\n",
              "    <tr>\n",
              "      <th>8</th>\n",
              "      <td>Encouraged by the positive comments about this film on here I was looking forward to watching th...</td>\n",
              "      <td>negative</td>\n",
              "    </tr>\n",
              "    <tr>\n",
              "      <th>9</th>\n",
              "      <td>If you like original gut wrenching laughter you will like this movie. If you are young or old th...</td>\n",
              "      <td>positive</td>\n",
              "    </tr>\n",
              "  </tbody>\n",
              "</table>\n",
              "</div>\n",
              "      <button class=\"colab-df-convert\" onclick=\"convertToInteractive('df-8f753a79-da8d-44bd-8e84-3ba5ce69db24')\"\n",
              "              title=\"Convert this dataframe to an interactive table.\"\n",
              "              style=\"display:none;\">\n",
              "        \n",
              "  <svg xmlns=\"http://www.w3.org/2000/svg\" height=\"24px\"viewBox=\"0 0 24 24\"\n",
              "       width=\"24px\">\n",
              "    <path d=\"M0 0h24v24H0V0z\" fill=\"none\"/>\n",
              "    <path d=\"M18.56 5.44l.94 2.06.94-2.06 2.06-.94-2.06-.94-.94-2.06-.94 2.06-2.06.94zm-11 1L8.5 8.5l.94-2.06 2.06-.94-2.06-.94L8.5 2.5l-.94 2.06-2.06.94zm10 10l.94 2.06.94-2.06 2.06-.94-2.06-.94-.94-2.06-.94 2.06-2.06.94z\"/><path d=\"M17.41 7.96l-1.37-1.37c-.4-.4-.92-.59-1.43-.59-.52 0-1.04.2-1.43.59L10.3 9.45l-7.72 7.72c-.78.78-.78 2.05 0 2.83L4 21.41c.39.39.9.59 1.41.59.51 0 1.02-.2 1.41-.59l7.78-7.78 2.81-2.81c.8-.78.8-2.07 0-2.86zM5.41 20L4 18.59l7.72-7.72 1.47 1.35L5.41 20z\"/>\n",
              "  </svg>\n",
              "      </button>\n",
              "      \n",
              "  <style>\n",
              "    .colab-df-container {\n",
              "      display:flex;\n",
              "      flex-wrap:wrap;\n",
              "      gap: 12px;\n",
              "    }\n",
              "\n",
              "    .colab-df-convert {\n",
              "      background-color: #E8F0FE;\n",
              "      border: none;\n",
              "      border-radius: 50%;\n",
              "      cursor: pointer;\n",
              "      display: none;\n",
              "      fill: #1967D2;\n",
              "      height: 32px;\n",
              "      padding: 0 0 0 0;\n",
              "      width: 32px;\n",
              "    }\n",
              "\n",
              "    .colab-df-convert:hover {\n",
              "      background-color: #E2EBFA;\n",
              "      box-shadow: 0px 1px 2px rgba(60, 64, 67, 0.3), 0px 1px 3px 1px rgba(60, 64, 67, 0.15);\n",
              "      fill: #174EA6;\n",
              "    }\n",
              "\n",
              "    [theme=dark] .colab-df-convert {\n",
              "      background-color: #3B4455;\n",
              "      fill: #D2E3FC;\n",
              "    }\n",
              "\n",
              "    [theme=dark] .colab-df-convert:hover {\n",
              "      background-color: #434B5C;\n",
              "      box-shadow: 0px 1px 3px 1px rgba(0, 0, 0, 0.15);\n",
              "      filter: drop-shadow(0px 1px 2px rgba(0, 0, 0, 0.3));\n",
              "      fill: #FFFFFF;\n",
              "    }\n",
              "  </style>\n",
              "\n",
              "      <script>\n",
              "        const buttonEl =\n",
              "          document.querySelector('#df-8f753a79-da8d-44bd-8e84-3ba5ce69db24 button.colab-df-convert');\n",
              "        buttonEl.style.display =\n",
              "          google.colab.kernel.accessAllowed ? 'block' : 'none';\n",
              "\n",
              "        async function convertToInteractive(key) {\n",
              "          const element = document.querySelector('#df-8f753a79-da8d-44bd-8e84-3ba5ce69db24');\n",
              "          const dataTable =\n",
              "            await google.colab.kernel.invokeFunction('convertToInteractive',\n",
              "                                                     [key], {});\n",
              "          if (!dataTable) return;\n",
              "\n",
              "          const docLinkHtml = 'Like what you see? Visit the ' +\n",
              "            '<a target=\"_blank\" href=https://colab.research.google.com/notebooks/data_table.ipynb>data table notebook</a>'\n",
              "            + ' to learn more about interactive tables.';\n",
              "          element.innerHTML = '';\n",
              "          dataTable['output_type'] = 'display_data';\n",
              "          await google.colab.output.renderOutput(dataTable, element);\n",
              "          const docLink = document.createElement('div');\n",
              "          docLink.innerHTML = docLinkHtml;\n",
              "          element.appendChild(docLink);\n",
              "        }\n",
              "      </script>\n",
              "    </div>\n",
              "  </div>\n",
              "  "
            ]
          },
          "metadata": {},
          "execution_count": 29
        }
      ]
    },
    {
      "cell_type": "markdown",
      "metadata": {
        "id": "5x34_8GvDf9C"
      },
      "source": [
        "We have two classes in the dataset"
      ]
    },
    {
      "cell_type": "code",
      "source": [
        "df.describe()"
      ],
      "metadata": {
        "colab": {
          "base_uri": "https://localhost:8080/",
          "height": 175
        },
        "id": "H38KaRWdZoXb",
        "outputId": "cbba0bad-a48d-4343-f088-625de962417c"
      },
      "execution_count": null,
      "outputs": [
        {
          "output_type": "execute_result",
          "data": {
            "text/plain": [
              "                                                   review sentiment\n",
              "count                                               50000     50000\n",
              "unique                                              49582         2\n",
              "top     Loved today's show!!! It was a variety and not...  positive\n",
              "freq                                                    5     25000"
            ],
            "text/html": [
              "\n",
              "  <div id=\"df-81b4a0df-11fc-427a-9db9-6af7ee63bd10\">\n",
              "    <div class=\"colab-df-container\">\n",
              "      <div>\n",
              "<style scoped>\n",
              "    .dataframe tbody tr th:only-of-type {\n",
              "        vertical-align: middle;\n",
              "    }\n",
              "\n",
              "    .dataframe tbody tr th {\n",
              "        vertical-align: top;\n",
              "    }\n",
              "\n",
              "    .dataframe thead th {\n",
              "        text-align: right;\n",
              "    }\n",
              "</style>\n",
              "<table border=\"1\" class=\"dataframe\">\n",
              "  <thead>\n",
              "    <tr style=\"text-align: right;\">\n",
              "      <th></th>\n",
              "      <th>review</th>\n",
              "      <th>sentiment</th>\n",
              "    </tr>\n",
              "  </thead>\n",
              "  <tbody>\n",
              "    <tr>\n",
              "      <th>count</th>\n",
              "      <td>50000</td>\n",
              "      <td>50000</td>\n",
              "    </tr>\n",
              "    <tr>\n",
              "      <th>unique</th>\n",
              "      <td>49582</td>\n",
              "      <td>2</td>\n",
              "    </tr>\n",
              "    <tr>\n",
              "      <th>top</th>\n",
              "      <td>Loved today's show!!! It was a variety and not...</td>\n",
              "      <td>positive</td>\n",
              "    </tr>\n",
              "    <tr>\n",
              "      <th>freq</th>\n",
              "      <td>5</td>\n",
              "      <td>25000</td>\n",
              "    </tr>\n",
              "  </tbody>\n",
              "</table>\n",
              "</div>\n",
              "      <button class=\"colab-df-convert\" onclick=\"convertToInteractive('df-81b4a0df-11fc-427a-9db9-6af7ee63bd10')\"\n",
              "              title=\"Convert this dataframe to an interactive table.\"\n",
              "              style=\"display:none;\">\n",
              "        \n",
              "  <svg xmlns=\"http://www.w3.org/2000/svg\" height=\"24px\"viewBox=\"0 0 24 24\"\n",
              "       width=\"24px\">\n",
              "    <path d=\"M0 0h24v24H0V0z\" fill=\"none\"/>\n",
              "    <path d=\"M18.56 5.44l.94 2.06.94-2.06 2.06-.94-2.06-.94-.94-2.06-.94 2.06-2.06.94zm-11 1L8.5 8.5l.94-2.06 2.06-.94-2.06-.94L8.5 2.5l-.94 2.06-2.06.94zm10 10l.94 2.06.94-2.06 2.06-.94-2.06-.94-.94-2.06-.94 2.06-2.06.94z\"/><path d=\"M17.41 7.96l-1.37-1.37c-.4-.4-.92-.59-1.43-.59-.52 0-1.04.2-1.43.59L10.3 9.45l-7.72 7.72c-.78.78-.78 2.05 0 2.83L4 21.41c.39.39.9.59 1.41.59.51 0 1.02-.2 1.41-.59l7.78-7.78 2.81-2.81c.8-.78.8-2.07 0-2.86zM5.41 20L4 18.59l7.72-7.72 1.47 1.35L5.41 20z\"/>\n",
              "  </svg>\n",
              "      </button>\n",
              "      \n",
              "  <style>\n",
              "    .colab-df-container {\n",
              "      display:flex;\n",
              "      flex-wrap:wrap;\n",
              "      gap: 12px;\n",
              "    }\n",
              "\n",
              "    .colab-df-convert {\n",
              "      background-color: #E8F0FE;\n",
              "      border: none;\n",
              "      border-radius: 50%;\n",
              "      cursor: pointer;\n",
              "      display: none;\n",
              "      fill: #1967D2;\n",
              "      height: 32px;\n",
              "      padding: 0 0 0 0;\n",
              "      width: 32px;\n",
              "    }\n",
              "\n",
              "    .colab-df-convert:hover {\n",
              "      background-color: #E2EBFA;\n",
              "      box-shadow: 0px 1px 2px rgba(60, 64, 67, 0.3), 0px 1px 3px 1px rgba(60, 64, 67, 0.15);\n",
              "      fill: #174EA6;\n",
              "    }\n",
              "\n",
              "    [theme=dark] .colab-df-convert {\n",
              "      background-color: #3B4455;\n",
              "      fill: #D2E3FC;\n",
              "    }\n",
              "\n",
              "    [theme=dark] .colab-df-convert:hover {\n",
              "      background-color: #434B5C;\n",
              "      box-shadow: 0px 1px 3px 1px rgba(0, 0, 0, 0.15);\n",
              "      filter: drop-shadow(0px 1px 2px rgba(0, 0, 0, 0.3));\n",
              "      fill: #FFFFFF;\n",
              "    }\n",
              "  </style>\n",
              "\n",
              "      <script>\n",
              "        const buttonEl =\n",
              "          document.querySelector('#df-81b4a0df-11fc-427a-9db9-6af7ee63bd10 button.colab-df-convert');\n",
              "        buttonEl.style.display =\n",
              "          google.colab.kernel.accessAllowed ? 'block' : 'none';\n",
              "\n",
              "        async function convertToInteractive(key) {\n",
              "          const element = document.querySelector('#df-81b4a0df-11fc-427a-9db9-6af7ee63bd10');\n",
              "          const dataTable =\n",
              "            await google.colab.kernel.invokeFunction('convertToInteractive',\n",
              "                                                     [key], {});\n",
              "          if (!dataTable) return;\n",
              "\n",
              "          const docLinkHtml = 'Like what you see? Visit the ' +\n",
              "            '<a target=\"_blank\" href=https://colab.research.google.com/notebooks/data_table.ipynb>data table notebook</a>'\n",
              "            + ' to learn more about interactive tables.';\n",
              "          element.innerHTML = '';\n",
              "          dataTable['output_type'] = 'display_data';\n",
              "          await google.colab.output.renderOutput(dataTable, element);\n",
              "          const docLink = document.createElement('div');\n",
              "          docLink.innerHTML = docLinkHtml;\n",
              "          element.appendChild(docLink);\n",
              "        }\n",
              "      </script>\n",
              "    </div>\n",
              "  </div>\n",
              "  "
            ]
          },
          "metadata": {},
          "execution_count": 14
        }
      ]
    },
    {
      "cell_type": "code",
      "source": [
        "df['sentiment'].value_counts().plot(kind='bar')\n",
        "df['sentiment'].value_counts()"
      ],
      "metadata": {
        "colab": {
          "base_uri": "https://localhost:8080/",
          "height": 352
        },
        "id": "nwnoN8RZvyEW",
        "outputId": "13cf9bf7-5878-4439-ab6e-c69d278d03ea"
      },
      "execution_count": null,
      "outputs": [
        {
          "output_type": "execute_result",
          "data": {
            "text/plain": [
              "positive    25000\n",
              "negative    25000\n",
              "Name: sentiment, dtype: int64"
            ]
          },
          "metadata": {},
          "execution_count": 39
        },
        {
          "output_type": "display_data",
          "data": {
            "text/plain": [
              "<Figure size 432x288 with 1 Axes>"
            ],
            "image/png": "[encoded data removed]"
          },
          "metadata": {
            "needs_background": "light"
          }
        }
      ]
    },
    {
      "cell_type": "code",
      "source": [
        "pd.concat(g for _, g in df.groupby(\"review\") if len(g) > 1)"
      ],
      "metadata": {
        "colab": {
          "base_uri": "https://localhost:8080/",
          "height": 423
        },
        "id": "oYI19rWmaYNt",
        "outputId": "51386427-faf3-4d59-f19e-41b2b818f072"
      },
      "execution_count": null,
      "outputs": [
        {
          "output_type": "execute_result",
          "data": {
            "text/plain": [
              "                                                                                                    review  \\\n",
              "34058  \"Go Fish\" garnered Rose Troche rightly or wrongly the reputation of a film maker with much promi...   \n",
              "47467  \"Go Fish\" garnered Rose Troche rightly or wrongly the reputation of a film maker with much promi...   \n",
              "29956  \"Three\" is a seriously dumb shipwreck movie. Masquerading as a psychological thriller, it's clos...   \n",
              "31488  \"Three\" is a seriously dumb shipwreck movie. Masquerading as a psychological thriller, it's clos...   \n",
              "2976   \"Witchery\" might just be the most incoherent and lamentably scripted horror movie of the 80's bu...   \n",
              "...                                                                                                    ...   \n",
              "47876  this movie sucks. did anyone notice that the entire movie was shot in like 2 rooms. there are NE...   \n",
              "23056  well, the writing was very sloppy, the directing was sloppier, and the editing made it worse (at...   \n",
              "44122  well, the writing was very sloppy, the directing was sloppier, and the editing made it worse (at...   \n",
              "10163  when I first heard about this movie, I noticed it was one of the most controversial films of the...   \n",
              "15305  when I first heard about this movie, I noticed it was one of the most controversial films of the...   \n",
              "\n",
              "      sentiment  \n",
              "34058  negative  \n",
              "47467  negative  \n",
              "29956  negative  \n",
              "31488  negative  \n",
              "2976   negative  \n",
              "...         ...  \n",
              "47876  negative  \n",
              "23056  negative  \n",
              "44122  negative  \n",
              "10163  positive  \n",
              "15305  positive  \n",
              "\n",
              "[824 rows x 2 columns]"
            ],
            "text/html": [
              "\n",
              "  <div id=\"df-e594dbc5-afa3-4d32-9751-68901f5d1d01\">\n",
              "    <div class=\"colab-df-container\">\n",
              "      <div>\n",
              "<style scoped>\n",
              "    .dataframe tbody tr th:only-of-type {\n",
              "        vertical-align: middle;\n",
              "    }\n",
              "\n",
              "    .dataframe tbody tr th {\n",
              "        vertical-align: top;\n",
              "    }\n",
              "\n",
              "    .dataframe thead th {\n",
              "        text-align: right;\n",
              "    }\n",
              "</style>\n",
              "<table border=\"1\" class=\"dataframe\">\n",
              "  <thead>\n",
              "    <tr style=\"text-align: right;\">\n",
              "      <th></th>\n",
              "      <th>review</th>\n",
              "      <th>sentiment</th>\n",
              "    </tr>\n",
              "  </thead>\n",
              "  <tbody>\n",
              "    <tr>\n",
              "      <th>34058</th>\n",
              "      <td>\"Go Fish\" garnered Rose Troche rightly or wrongly the reputation of a film maker with much promi...</td>\n",
              "      <td>negative</td>\n",
              "    </tr>\n",
              "    <tr>\n",
              "      <th>47467</th>\n",
              "      <td>\"Go Fish\" garnered Rose Troche rightly or wrongly the reputation of a film maker with much promi...</td>\n",
              "      <td>negative</td>\n",
              "    </tr>\n",
              "    <tr>\n",
              "      <th>29956</th>\n",
              "      <td>\"Three\" is a seriously dumb shipwreck movie. Masquerading as a psychological thriller, it's clos...</td>\n",
              "      <td>negative</td>\n",
              "    </tr>\n",
              "    <tr>\n",
              "      <th>31488</th>\n",
              "      <td>\"Three\" is a seriously dumb shipwreck movie. Masquerading as a psychological thriller, it's clos...</td>\n",
              "      <td>negative</td>\n",
              "    </tr>\n",
              "    <tr>\n",
              "      <th>2976</th>\n",
              "      <td>\"Witchery\" might just be the most incoherent and lamentably scripted horror movie of the 80's bu...</td>\n",
              "      <td>negative</td>\n",
              "    </tr>\n",
              "    <tr>\n",
              "      <th>...</th>\n",
              "      <td>...</td>\n",
              "      <td>...</td>\n",
              "    </tr>\n",
              "    <tr>\n",
              "      <th>47876</th>\n",
              "      <td>this movie sucks. did anyone notice that the entire movie was shot in like 2 rooms. there are NE...</td>\n",
              "      <td>negative</td>\n",
              "    </tr>\n",
              "    <tr>\n",
              "      <th>23056</th>\n",
              "      <td>well, the writing was very sloppy, the directing was sloppier, and the editing made it worse (at...</td>\n",
              "      <td>negative</td>\n",
              "    </tr>\n",
              "    <tr>\n",
              "      <th>44122</th>\n",
              "      <td>well, the writing was very sloppy, the directing was sloppier, and the editing made it worse (at...</td>\n",
              "      <td>negative</td>\n",
              "    </tr>\n",
              "    <tr>\n",
              "      <th>10163</th>\n",
              "      <td>when I first heard about this movie, I noticed it was one of the most controversial films of the...</td>\n",
              "      <td>positive</td>\n",
              "    </tr>\n",
              "    <tr>\n",
              "      <th>15305</th>\n",
              "      <td>when I first heard about this movie, I noticed it was one of the most controversial films of the...</td>\n",
              "      <td>positive</td>\n",
              "    </tr>\n",
              "  </tbody>\n",
              "</table>\n",
              "<p>824 rows × 2 columns</p>\n",
              "</div>\n",
              "      <button class=\"colab-df-convert\" onclick=\"convertToInteractive('df-e594dbc5-afa3-4d32-9751-68901f5d1d01')\"\n",
              "              title=\"Convert this dataframe to an interactive table.\"\n",
              "              style=\"display:none;\">\n",
              "        \n",
              "  <svg xmlns=\"http://www.w3.org/2000/svg\" height=\"24px\"viewBox=\"0 0 24 24\"\n",
              "       width=\"24px\">\n",
              "    <path d=\"M0 0h24v24H0V0z\" fill=\"none\"/>\n",
              "    <path d=\"M18.56 5.44l.94 2.06.94-2.06 2.06-.94-2.06-.94-.94-2.06-.94 2.06-2.06.94zm-11 1L8.5 8.5l.94-2.06 2.06-.94-2.06-.94L8.5 2.5l-.94 2.06-2.06.94zm10 10l.94 2.06.94-2.06 2.06-.94-2.06-.94-.94-2.06-.94 2.06-2.06.94z\"/><path d=\"M17.41 7.96l-1.37-1.37c-.4-.4-.92-.59-1.43-.59-.52 0-1.04.2-1.43.59L10.3 9.45l-7.72 7.72c-.78.78-.78 2.05 0 2.83L4 21.41c.39.39.9.59 1.41.59.51 0 1.02-.2 1.41-.59l7.78-7.78 2.81-2.81c.8-.78.8-2.07 0-2.86zM5.41 20L4 18.59l7.72-7.72 1.47 1.35L5.41 20z\"/>\n",
              "  </svg>\n",
              "      </button>\n",
              "      \n",
              "  <style>\n",
              "    .colab-df-container {\n",
              "      display:flex;\n",
              "      flex-wrap:wrap;\n",
              "      gap: 12px;\n",
              "    }\n",
              "\n",
              "    .colab-df-convert {\n",
              "      background-color: #E8F0FE;\n",
              "      border: none;\n",
              "      border-radius: 50%;\n",
              "      cursor: pointer;\n",
              "      display: none;\n",
              "      fill: #1967D2;\n",
              "      height: 32px;\n",
              "      padding: 0 0 0 0;\n",
              "      width: 32px;\n",
              "    }\n",
              "\n",
              "    .colab-df-convert:hover {\n",
              "      background-color: #E2EBFA;\n",
              "      box-shadow: 0px 1px 2px rgba(60, 64, 67, 0.3), 0px 1px 3px 1px rgba(60, 64, 67, 0.15);\n",
              "      fill: #174EA6;\n",
              "    }\n",
              "\n",
              "    [theme=dark] .colab-df-convert {\n",
              "      background-color: #3B4455;\n",
              "      fill: #D2E3FC;\n",
              "    }\n",
              "\n",
              "    [theme=dark] .colab-df-convert:hover {\n",
              "      background-color: #434B5C;\n",
              "      box-shadow: 0px 1px 3px 1px rgba(0, 0, 0, 0.15);\n",
              "      filter: drop-shadow(0px 1px 2px rgba(0, 0, 0, 0.3));\n",
              "      fill: #FFFFFF;\n",
              "    }\n",
              "  </style>\n",
              "\n",
              "      <script>\n",
              "        const buttonEl =\n",
              "          document.querySelector('#df-e594dbc5-afa3-4d32-9751-68901f5d1d01 button.colab-df-convert');\n",
              "        buttonEl.style.display =\n",
              "          google.colab.kernel.accessAllowed ? 'block' : 'none';\n",
              "\n",
              "        async function convertToInteractive(key) {\n",
              "          const element = document.querySelector('#df-e594dbc5-afa3-4d32-9751-68901f5d1d01');\n",
              "          const dataTable =\n",
              "            await google.colab.kernel.invokeFunction('convertToInteractive',\n",
              "                                                     [key], {});\n",
              "          if (!dataTable) return;\n",
              "\n",
              "          const docLinkHtml = 'Like what you see? Visit the ' +\n",
              "            '<a target=\"_blank\" href=https://colab.research.google.com/notebooks/data_table.ipynb>data table notebook</a>'\n",
              "            + ' to learn more about interactive tables.';\n",
              "          element.innerHTML = '';\n",
              "          dataTable['output_type'] = 'display_data';\n",
              "          await google.colab.output.renderOutput(dataTable, element);\n",
              "          const docLink = document.createElement('div');\n",
              "          docLink.innerHTML = docLinkHtml;\n",
              "          element.appendChild(docLink);\n",
              "        }\n",
              "      </script>\n",
              "    </div>\n",
              "  </div>\n",
              "  "
            ]
          },
          "metadata": {},
          "execution_count": 19
        }
      ]
    },
    {
      "cell_type": "code",
      "source": [
        "df = df.drop_duplicates()"
      ],
      "metadata": {
        "id": "rsH7YM2NeOQr"
      },
      "execution_count": null,
      "outputs": []
    },
    {
      "cell_type": "code",
      "source": [
        "#sentiment count\n",
        "df['sentiment'].value_counts()"
      ],
      "metadata": {
        "colab": {
          "base_uri": "https://localhost:8080/"
        },
        "id": "YrbqD2xle_X5",
        "outputId": "981399fb-3ce4-4d5f-b216-e141111fcdb8"
      },
      "execution_count": null,
      "outputs": [
        {
          "output_type": "execute_result",
          "data": {
            "text/plain": [
              "positive    24884\n",
              "negative    24698\n",
              "Name: sentiment, dtype: int64"
            ]
          },
          "metadata": {},
          "execution_count": 22
        }
      ]
    },
    {
      "cell_type": "code",
      "source": [
        "from bs4 import BeautifulSoup\n",
        "import re, string"
      ],
      "metadata": {
        "id": "LavbMAG0gGKp"
      },
      "execution_count": null,
      "outputs": []
    },
    {
      "cell_type": "code",
      "source": [
        "string.punctuation"
      ],
      "metadata": {
        "colab": {
          "base_uri": "https://localhost:8080/",
          "height": 35
        },
        "id": "3jxVc56jmLoO",
        "outputId": "42ee0ccc-5a97-40fa-f770-d6c6ee772eb3"
      },
      "execution_count": null,
      "outputs": [
        {
          "output_type": "execute_result",
          "data": {
            "text/plain": [
              "'!\"#$%&\\'()*+,-./:;<=>?@[\\\\]^_`{|}~'"
            ],
            "application/vnd.google.colaboratory.intrinsic+json": {
              "type": "string"
            }
          },
          "metadata": {},
          "execution_count": 30
        }
      ]
    },
    {
      "cell_type": "code",
      "metadata": {
        "id": "M8klwmVODcqW",
        "colab": {
          "base_uri": "https://localhost:8080/"
        },
        "outputId": "d1782332-c1fe-439b-e4a3-cf45ef452bee"
      },
      "source": [
        "df.sentiment.unique()"
      ],
      "execution_count": null,
      "outputs": [
        {
          "output_type": "execute_result",
          "data": {
            "text/plain": [
              "array(['positive', 'negative'], dtype=object)"
            ]
          },
          "metadata": {},
          "execution_count": 9
        }
      ]
    },
    {
      "cell_type": "code",
      "source": [
        "#Eliminando etiquetas HTML\n",
        "def remove_html_tags(text):\n",
        "    return re.sub('<.*?>', '', text)\n",
        "\n",
        "#Eliminando textos entre corchetes\n",
        "def remove_between_square_brackets(text):\n",
        "    return re.sub('\\[[^]]*\\]', '', text)\n",
        "\n",
        "#Eliminando signos de puntuación\n",
        "def remove_string_punctuation(text):\n",
        "    text = text.translate(text.maketrans('', '', string.punctuation))\n",
        "    return text\n",
        "\n",
        "#Funcion de limpieza\n",
        "def denoise_text(text):\n",
        "    text = remove_html_tags(text)\n",
        "    text = remove_between_square_brackets(text)\n",
        "    text = remove_string_punctuation(text)\n",
        "    return text\n",
        "\n",
        "#Aplicando la función de limpieza al dataframe\n",
        "df['review']=df['review'].apply(denoise_text)"
      ],
      "metadata": {
        "id": "wUGC-o2NgKRI"
      },
      "execution_count": null,
      "outputs": []
    },
    {
      "cell_type": "code",
      "source": [
        "df['review'][4]"
      ],
      "metadata": {
        "colab": {
          "base_uri": "https://localhost:8080/",
          "height": 142
        },
        "id": "JGYmwvnChcOe",
        "outputId": "d45c55ac-c16e-4a35-9b8c-1fc943649796"
      },
      "execution_count": null,
      "outputs": [
        {
          "output_type": "execute_result",
          "data": {
            "text/plain": [
              "'Petter Matteis Love in the Time of Money is a visually stunning film to watch Mr Mattei offers us a vivid portrait about human relations This is a movie that seems to be telling us what money power and success do to people in the different situations we encounter This being a variation on the Arthur Schnitzlers play about the same theme the director transfers the action to the present time New York where all these different characters meet and connect Each one is connected in one way or another to the next person but no one seems to know the previous point of contact Stylishly the film has a sophisticated luxurious look We are taken to see how these people live and the world they live in their own habitatThe only thing one gets out of all these souls in the picture is the different stages of loneliness each one inhabits A big city is not exactly the best place in which human relations find sincere fulfillment as one discerns is the case with most of the people we encounterThe acting is good under Mr Matteis direction Steve Buscemi Rosario Dawson Carol Kane Michael Imperioli Adrian Grenier and the rest of the talented cast make these characters come aliveWe wish Mr Mattei good luck and await anxiously for his next work'"
            ],
            "application/vnd.google.colaboratory.intrinsic+json": {
              "type": "string"
            }
          },
          "metadata": {},
          "execution_count": 63
        }
      ]
    },
    {
      "cell_type": "markdown",
      "metadata": {
        "id": "iyohoWzbDj84"
      },
      "source": [
        "Let's check how equally distributed those classes are."
      ]
    },
    {
      "cell_type": "code",
      "metadata": {
        "id": "bCtMIyUjDh3Z",
        "colab": {
          "base_uri": "https://localhost:8080/",
          "height": 265
        },
        "outputId": "1a87d7a1-234c-4579-d16c-7a3a595dc253"
      },
      "source": [
        "classes = df.sentiment.unique()\n",
        "counts = []\n",
        "\n",
        "for i in classes:\n",
        "  count = len(df[df.sentiment==i])\n",
        "  counts.append(count)\n",
        "\n",
        "plt.bar(['negative', 'positive'], counts)\n",
        "plt.show()"
      ],
      "execution_count": null,
      "outputs": [
        {
          "output_type": "display_data",
          "data": {
            "text/plain": [
              "<Figure size 432x288 with 1 Axes>"
            ],
            "image/png": "[encoded data removed]"
          },
          "metadata": {
            "needs_background": "light"
          }
        }
      ]
    },
    {
      "cell_type": "markdown",
      "metadata": {
        "id": "SHqqdip5Dov5"
      },
      "source": [
        "Even class distribution helps us a lot in text classifiction. Imagine a situation where 95% of data is in one class and the rest 5% is split among other 5 classes. If we wouldn't do anything about it model would just learn to guess the 95% class all the time and would be correct 95% of the time on the data we would use."
      ]
    },
    {
      "cell_type": "markdown",
      "metadata": {
        "id": "FMJJVjExD0Uq"
      },
      "source": [
        "To start modelling we still need to do a couple of things:\n",
        "\n",
        "1.   Split data into train and test datasets\n",
        "2.   Encode labels\n",
        "3.   Tokenize text\n",
        "\n"
      ]
    },
    {
      "cell_type": "markdown",
      "metadata": {
        "id": "HCwKlyvtD2wB"
      },
      "source": [
        "## Train/test split"
      ]
    },
    {
      "cell_type": "markdown",
      "metadata": {
        "id": "1e51xO2BD8wZ"
      },
      "source": [
        "We don't really need all 1.6 Million tweets for training so we can take a sample of 5% (to save up time on training) and then split that into 80% for training and 20% for testing."
      ]
    },
    {
      "cell_type": "code",
      "metadata": {
        "id": "I2bcU8X_Dz9M"
      },
      "source": [
        "sample_size = int(len(df)*0.05)\n",
        "sampleDf = df.sample(sample_size, random_state=42)\n",
        "x = sampleDf.review.values\n",
        "y = sampleDf.sentiment.values\n",
        "x_train, x_test, y_train, y_test = train_test_split(x, y, test_size=0.20, random_state=42)"
      ],
      "execution_count": null,
      "outputs": []
    },
    {
      "cell_type": "code",
      "source": [
        "##\n",
        "unique, counts = np.unique(y, return_counts=True)\n",
        "\n",
        "result = np.column_stack((unique, counts)) \n",
        "print (result)"
      ],
      "metadata": {
        "colab": {
          "base_uri": "https://localhost:8080/"
        },
        "id": "j5CAHJuA4ru3",
        "outputId": "d3910797-ca4f-474e-c8d4-e1a04773d3c6"
      },
      "execution_count": null,
      "outputs": [
        {
          "output_type": "stream",
          "name": "stdout",
          "text": [
            "[['negative' 1239]\n",
            " ['positive' 1261]]\n"
          ]
        }
      ]
    },
    {
      "cell_type": "markdown",
      "metadata": {
        "id": "R6CgL-y4EI3o"
      },
      "source": [
        "## Label Encoding"
      ]
    },
    {
      "cell_type": "markdown",
      "metadata": {
        "id": "aNDz2KRGEMRS"
      },
      "source": [
        "We could get away with other approach but you might want to use this for more than binary classification."
      ]
    },
    {
      "cell_type": "code",
      "metadata": {
        "id": "0mmW4jGVDmCH"
      },
      "source": [
        "encoder = LabelEncoder()\n",
        "encoder.fit(y)\n",
        "encoded_Y_test = encoder.transform(y_test)\n",
        "encoded_Y_train = encoder.transform(y_train)\n",
        "\n",
        "# convert integers to dummy variables (i.e. one hot encoded)\n",
        "dummy_y_test = np_utils.to_categorical(encoded_Y_test)\n",
        "dummy_y_train = np_utils.to_categorical(encoded_Y_train)"
      ],
      "execution_count": null,
      "outputs": []
    },
    {
      "cell_type": "code",
      "source": [
        "##\n",
        "print(len(encoded_Y_train))\n",
        "print(dummy_y_train.shape)\n",
        "print(dummy_y_train)"
      ],
      "metadata": {
        "colab": {
          "base_uri": "https://localhost:8080/"
        },
        "id": "HNoxpSeZ5Vuc",
        "outputId": "c387ec48-8170-46a6-c27c-754ddce8639b"
      },
      "execution_count": null,
      "outputs": [
        {
          "output_type": "stream",
          "name": "stdout",
          "text": [
            "2000\n",
            "(2000, 2)\n",
            "[[0. 1.]\n",
            " [0. 1.]\n",
            " [1. 0.]\n",
            " ...\n",
            " [1. 0.]\n",
            " [1. 0.]\n",
            " [0. 1.]]\n"
          ]
        }
      ]
    },
    {
      "cell_type": "markdown",
      "metadata": {
        "id": "doKxHdH6EXNZ"
      },
      "source": [
        "We might want to use encoding for later. For that we can save enconding map."
      ]
    },
    {
      "cell_type": "code",
      "metadata": {
        "id": "cwQNtv17EdUz"
      },
      "source": [
        "encoder_fname = 'imdb_classes.npy'\n",
        "my_wd = '/content/gdrive/MyDrive/MIAR/TFM/BERT Sentiment/data/'\n",
        "np.save(os.path.join(my_wd, encoder_fname) , encoder.classes_)"
      ],
      "execution_count": null,
      "outputs": []
    },
    {
      "cell_type": "markdown",
      "metadata": {
        "id": "ct1-P5r1FGQO"
      },
      "source": [
        "To load it when you'll use this in production just use the below cell (uncommented ofcourse)"
      ]
    },
    {
      "cell_type": "code",
      "metadata": {
        "id": "HEopM33sE_Et"
      },
      "source": [
        "# encoder = LabelEncoder()\n",
        "# encoder.classes_ = np.load(os.path.join(my_wd, encoder_fname), allow_pickle=True)"
      ],
      "execution_count": null,
      "outputs": []
    },
    {
      "cell_type": "markdown",
      "metadata": {
        "id": "Rq5GSy35Gibn"
      },
      "source": [
        "## Tokenization"
      ]
    },
    {
      "cell_type": "markdown",
      "metadata": {
        "id": "F5f_ey3VGknK"
      },
      "source": [
        "To tokenize our text we will use some functions from official.nlp.bert package and the pretrained [BERT](https://towardsdatascience.com/bert-explained-state-of-the-art-language-model-for-nlp-f8b21a9b6270) model itself. \\\\\n",
        "First we get the BERT model. I'll use the multilingual one as it will be best for most of your cases. To check all NLP models provided by TF HUB go [here](https://tfhub.dev/s?module-type=text-embedding,text-classification,text-generation,text-language-model,text-question-answering,text-retrieval-question-answering)."
      ]
    },
    {
      "cell_type": "code",
      "metadata": {
        "id": "atMa7VWVFQwV"
      },
      "source": [
        "bert_layer = hub.KerasLayer(\"https://tfhub.dev/tensorflow/bert_multi_cased_L-12_H-768_A-12/2\",\n",
        "                            trainable=True)"
      ],
      "execution_count": null,
      "outputs": []
    },
    {
      "cell_type": "code",
      "metadata": {
        "id": "VoD6yod_FRyN"
      },
      "source": [
        "vocab_file = bert_layer.resolved_object.vocab_file.asset_path.numpy()\n",
        "do_lower_case = bert_layer.resolved_object.do_lower_case.numpy()\n",
        "tokenizer = tokenization.FullTokenizer(vocab_file, do_lower_case)"
      ],
      "execution_count": null,
      "outputs": []
    },
    {
      "cell_type": "markdown",
      "metadata": {
        "id": "hh9FX32qHeKI"
      },
      "source": [
        "You can see that in above cell we have loaded some variables using the bert_layer we have downloaded. \n",
        "\n",
        "1.   ```vocab_file``` reads the vocab file associated to the downloaded model.\n",
        "2.   ```do_lower_case``` reads binary variable which if ```True``` means tokenizer will reformat all text to lower case rendering model to be **NOT** case sensitive. Should be ```False``` by default. You can check in a cell below.\n",
        "3.   ```tokenizer``` builds tokenizer using variables 1 and 2.\n",
        "\n"
      ]
    },
    {
      "cell_type": "code",
      "metadata": {
        "id": "d0JoikgjFTmk",
        "colab": {
          "base_uri": "https://localhost:8080/"
        },
        "outputId": "1ecebff5-5ecc-4f33-94b1-e28fde487fdc"
      },
      "source": [
        "do_lower_case"
      ],
      "execution_count": null,
      "outputs": [
        {
          "output_type": "execute_result",
          "data": {
            "text/plain": [
              "False"
            ]
          },
          "metadata": {},
          "execution_count": 19
        }
      ]
    },
    {
      "cell_type": "code",
      "source": [
        "##\n",
        "tokenizer.tokenize('Hello how are your printer?')"
      ],
      "metadata": {
        "colab": {
          "base_uri": "https://localhost:8080/"
        },
        "id": "wG-uTj1u9UXe",
        "outputId": "bee4578c-8433-4c17-cb82-242f39f3ff76"
      },
      "execution_count": null,
      "outputs": [
        {
          "output_type": "execute_result",
          "data": {
            "text/plain": [
              "['Hello', 'how', 'are', 'your', 'print', '##er', '?']"
            ]
          },
          "metadata": {},
          "execution_count": 20
        }
      ]
    },
    {
      "cell_type": "markdown",
      "metadata": {
        "id": "C3lCeedHKkkB"
      },
      "source": [
        "Lastly we need to add two additional tokens: Classification and Seperation. We will add these through functions we will use to tokenize our text."
      ]
    },
    {
      "cell_type": "code",
      "metadata": {
        "id": "q1Y7q4QTKuTD",
        "colab": {
          "base_uri": "https://localhost:8080/"
        },
        "outputId": "1d7cd873-8005-4a08-bdbc-d839fbec67f9"
      },
      "source": [
        "tokenizer.convert_tokens_to_ids(['[CLS]', '[SEP]'])"
      ],
      "execution_count": null,
      "outputs": [
        {
          "output_type": "execute_result",
          "data": {
            "text/plain": [
              "[101, 102]"
            ]
          },
          "metadata": {},
          "execution_count": 21
        }
      ]
    },
    {
      "cell_type": "markdown",
      "metadata": {
        "id": "Xazos3SQKa8w"
      },
      "source": [
        "Kewl, by this point we have everything for tokenization. This will take a bit as we have quite a bit of data."
      ]
    },
    {
      "cell_type": "code",
      "metadata": {
        "id": "-DIT-v6bIFrw"
      },
      "source": [
        "def encode_names(n):\n",
        "   tokens = list(tokenizer.tokenize(n))\n",
        "   tokens.append('[SEP]')  # seperation token. Would bemuch more useful if you had a multiple text input.\n",
        "   return tokenizer.convert_tokens_to_ids(tokens)\n",
        "\n",
        "reviews = tf.ragged.constant([\n",
        "    encode_names(n) for n in x_train])"
      ],
      "execution_count": null,
      "outputs": []
    },
    {
      "cell_type": "code",
      "metadata": {
        "id": "jfcVehzDK_--",
        "colab": {
          "base_uri": "https://localhost:8080/"
        },
        "outputId": "50c85049-5c1f-494a-d254-ef99e219da43"
      },
      "source": [
        "print('Tokenized Reviews shape', reviews.shape.as_list())"
      ],
      "execution_count": null,
      "outputs": [
        {
          "output_type": "stream",
          "name": "stdout",
          "text": [
            "Tokenized Reviews shape [2000, None]\n"
          ]
        }
      ]
    },
    {
      "cell_type": "markdown",
      "metadata": {
        "id": "loT0bjSoLZoo"
      },
      "source": [
        "This is to what our tweets have converted to. The ids there are essentially the same as in the simple NN example we did last time, just this time we use a predefined vocabulary.\n"
      ]
    },
    {
      "cell_type": "code",
      "metadata": {
        "id": "NPmesjL4LPtQ",
        "colab": {
          "base_uri": "https://localhost:8080/"
        },
        "outputId": "27b8c095-1be2-4642-ac63-fed1bcbaedce"
      },
      "source": [
        "reviews[10]"
      ],
      "execution_count": null,
      "outputs": [
        {
          "output_type": "execute_result",
          "data": {
            "text/plain": [
              "<tf.Tensor: shape=(315,), dtype=int32, numpy=\n",
              "array([ 10882,    169,  10862,  10108,  16040,  35841,  10251,    139,\n",
              "          119,    146,    119,    144,    119,    117,    146,  10134,\n",
              "        34279,  23307,  10114,  10531,  18379,    119,    146,  10392,\n",
              "        10119,  23044,  14212,  10216,  10114,  12888,  10271,  10124,\n",
              "          169,  70032,  18379,    119,  94304,  79913,  10124,  10472,\n",
              "        10173,  15478,  19113,  10345,  13486,  29025,  21408,  10114,\n",
              "        16874,  23432,  16040,  35841,  10251,    139,    119,    146,\n",
              "          119,    144,    119,    138,  19826,  10108,  10105,  13617,\n",
              "        23698,  16040,  35841,  10251,    139,    119,    146,    119,\n",
              "          144,    119,    112,    187,  13486,  10312,    117,  15244,\n",
              "        16366,  22156,  10146,  16040,  35841,  10251,    139,    119,\n",
              "          146,    119,    144,    119,  10146,    169,  10879,  10162,\n",
              "          119, 109320,    117,  10261,  10124,  10472,  10173,  15478,\n",
              "        19113,  21408,  10114,  16868,  51903,  10114,  10226,  13194,\n",
              "          119,  30815,  21489,  10124,  12820,  10146,  10119,  23486,\n",
              "        15478,  19113,  10146,  21286,    107,    153,  45726,  10157,\n",
              "          107,  16680,  19528,    119,  10167,    169,  11085,  10806,\n",
              "        31572,  10161,    117,  10192,  10464,  10124,  10173,  15478,\n",
              "        19113,  21408,  10114,  12253,  10455,  24016,  19353,    119,\n",
              "        10117,  22185,  18077,  10169,  10531,  10301,  11762,  10301,\n",
              "        14012,  11426,  10689,  10301,  14879,    119,  10377,  10134,\n",
              "        27728,  10230,    117,  10111,  12172,  10472,  18090,  11178,\n",
              "        12929,  10978,  16040,  35841,  10251,    139,    119,    146,\n",
              "          119,    144,    119,  10189,  20950,  10111,  10446,    118,\n",
              "        20950,  12134,  10550,  12172,  10472,  19034,  21852,    119,\n",
              "          146,  10134,  17491,  36474,  45565, 107583,  10169,  27365,\n",
              "        45759,  11527,    117,    169,  12558,  15198,  24268,  59158,\n",
              "        10162,  19353,  10146,  12546,  19521,  22156,    119,  10117,\n",
              "        18379,  38523,  19951,  10107,  10111,  38523,  19951,  10107,\n",
              "        12400,  56294,  10189,  16040,  35841,  10251,    139,    119,\n",
              "          146,    119,    144,    119,  20950,  11337,  63222,  33882,\n",
              "        10108,  17920,  10135,  10271,    119,    146,  10392,  10119,\n",
              "        23044,  14212,  10216,  10114,  23763,  10189,  10189,  44936,\n",
              "          119,  10377,    112,    187,  11858,  57204,  16065,  10114,\n",
              "          169,  15198,  18379,    119,    146,  10134,  11419,  51511,\n",
              "        10230,  10380,  13172,  10950,  10108,  10271,    117,  10473,\n",
              "        10119,  23044,  14212, 100102,    146,  34420,    112,    188,\n",
              "        15329,  42819,    146,  22591,  10188,  10531,    119,    146,\n",
              "        27874,  13028,  14819, 100745, 100240,  10454,  52124,  10531,\n",
              "        10464,    119,    102], dtype=int32)>"
            ]
          },
          "metadata": {},
          "execution_count": 24
        }
      ]
    },
    {
      "cell_type": "markdown",
      "metadata": {
        "id": "T5_IdTYjL_bT"
      },
      "source": [
        "If you want to see how tokenizer does the \"tokenizing\" check the cells below."
      ]
    },
    {
      "cell_type": "code",
      "metadata": {
        "id": "hqmw3xEKMtDn",
        "colab": {
          "base_uri": "https://localhost:8080/",
          "height": 122
        },
        "outputId": "366951b3-522a-4326-9e7b-81b1ab5de2ab"
      },
      "source": [
        "x_train[0]"
      ],
      "execution_count": null,
      "outputs": [
        {
          "output_type": "execute_result",
          "data": {
            "text/plain": [
              "'It\\'s a little disconcerting to have a character named Gig Young in a movie...played by Gig Young. But this film is where Gig got his name and also a nice career boost after playing small parts under another name.<br /><br />I\\'m going to go against the majority of the other comments and state that I really enjoyed this film, mainly because of the vibrant performance of Barbara Stanwyck as Fiona. She was funny, angry, vulnerable, caring, and feisty as the oldest of three daughters whose mother died on the Lusitania, and whose father was later killed during Woar War I. <br /><br />As the \"man\" of the house, Fiona has stood steadfast for years against settling her father\\'s will which would therefore allow a Donald Trump type named Charles Barclay to get the family home. But Fiona\\'s keeping a secret as to why she hates Barclay so much. Geraldine Fitzgerald is the middle, flirty sister, who is married to an Englishman but craves her youngest sister\\'s boyfriend (Gig Young).<br /><br />If you\\'re a Stanwyck fan, this is a no miss.'"
            ],
            "application/vnd.google.colaboratory.intrinsic+json": {
              "type": "string"
            }
          },
          "metadata": {},
          "execution_count": 25
        }
      ]
    },
    {
      "cell_type": "code",
      "metadata": {
        "id": "aQ9_HEAiLXUI",
        "colab": {
          "base_uri": "https://localhost:8080/"
        },
        "outputId": "065115f9-0523-40b4-dd60-048812e33614"
      },
      "source": [
        "tokenizedReview = tokenizer.tokenize(x_train[0])\n",
        "for i in tokenizedReview:\n",
        "  print(i, tokenizer.convert_tokens_to_ids([i]))"
      ],
      "execution_count": null,
      "outputs": [
        {
          "output_type": "stream",
          "name": "stdout",
          "text": [
            "It [10377]\n",
            "' [112]\n",
            "s [187]\n",
            "a [169]\n",
            "little [16745]\n",
            "disco [14884]\n",
            "##nce [12150]\n",
            "##rti [28304]\n",
            "##ng [10376]\n",
            "to [10114]\n",
            "have [10529]\n",
            "a [169]\n",
            "character [15092]\n",
            "named [12038]\n",
            "G [144]\n",
            "##ig [11142]\n",
            "Young [12478]\n",
            "in [10106]\n",
            "a [169]\n",
            "movie [18379]\n",
            ". [119]\n",
            ". [119]\n",
            ". [119]\n",
            "played [11553]\n",
            "by [10155]\n",
            "G [144]\n",
            "##ig [11142]\n",
            "Young [12478]\n",
            ". [119]\n",
            "But [16976]\n",
            "this [10531]\n",
            "film [10458]\n",
            "is [10124]\n",
            "where [10940]\n",
            "G [144]\n",
            "##ig [11142]\n",
            "got [19556]\n",
            "his [10226]\n",
            "name [11324]\n",
            "and [10111]\n",
            "also [10379]\n",
            "a [169]\n",
            "nic [46267]\n",
            "##e [10112]\n",
            "career [13021]\n",
            "bo [20506]\n",
            "##ost [18239]\n",
            "after [10662]\n",
            "playing [14879]\n",
            "small [12474]\n",
            "parts [15569]\n",
            "under [10571]\n",
            "another [12864]\n",
            "name [11324]\n",
            ". [119]\n",
            "< [133]\n",
            "br [33989]\n",
            "/ [120]\n",
            "> [135]\n",
            "< [133]\n",
            "br [33989]\n",
            "/ [120]\n",
            "> [135]\n",
            "I [146]\n",
            "' [112]\n",
            "m [181]\n",
            "going [19090]\n",
            "to [10114]\n",
            "go [11783]\n",
            "against [11327]\n",
            "the [10105]\n",
            "majority [19471]\n",
            "of [10108]\n",
            "the [10105]\n",
            "other [10684]\n",
            "comments [61565]\n",
            "and [10111]\n",
            "state [11388]\n",
            "that [10189]\n",
            "I [146]\n",
            "really [30181]\n",
            "enjoyed [52072]\n",
            "this [10531]\n",
            "film [10458]\n",
            ", [117]\n",
            "mainly [20827]\n",
            "because [12373]\n",
            "of [10108]\n",
            "the [10105]\n",
            "vi [13956]\n",
            "##bran [81371]\n",
            "##t [10123]\n",
            "performance [14432]\n",
            "of [10108]\n",
            "Barbara [16010]\n",
            "Stan [26637]\n",
            "##wy [12524]\n",
            "##ck [11263]\n",
            "as [10146]\n",
            "Fiona [82503]\n",
            ". [119]\n",
            "She [11149]\n",
            "was [10134]\n",
            "fun [41807]\n",
            "##ny [10756]\n",
            ", [117]\n",
            "ang [10488]\n",
            "##ry [10908]\n",
            ", [117]\n",
            "vulnerable [75602]\n",
            ", [117]\n",
            "car [13000]\n",
            "##ing [10230]\n",
            ", [117]\n",
            "and [10111]\n",
            "fe [34778]\n",
            "##isty [87706]\n",
            "as [10146]\n",
            "the [10105]\n",
            "oldest [27626]\n",
            "of [10108]\n",
            "three [11003]\n",
            "daughters [43392]\n",
            "whose [16879]\n",
            "mother [15293]\n",
            "died [12482]\n",
            "on [10135]\n",
            "the [10105]\n",
            "Lu [23859]\n",
            "##sita [69999]\n",
            "##nia [11335]\n",
            ", [117]\n",
            "and [10111]\n",
            "whose [16879]\n",
            "father [13194]\n",
            "was [10134]\n",
            "later [10873]\n",
            "killed [15875]\n",
            "during [10939]\n",
            "Wo [102204]\n",
            "##ar [10354]\n",
            "War [11277]\n",
            "I [146]\n",
            ". [119]\n",
            "< [133]\n",
            "br [33989]\n",
            "/ [120]\n",
            "> [135]\n",
            "< [133]\n",
            "br [33989]\n",
            "/ [120]\n",
            "> [135]\n",
            "As [10882]\n",
            "the [10105]\n",
            "\" [107]\n",
            "man [10817]\n",
            "\" [107]\n",
            "of [10108]\n",
            "the [10105]\n",
            "house [13215]\n",
            ", [117]\n",
            "Fiona [82503]\n",
            "has [10393]\n",
            "stood [39320]\n",
            "st [28780]\n",
            "##ead [30297]\n",
            "##fast [84445]\n",
            "for [10142]\n",
            "years [10855]\n",
            "against [11327]\n",
            "sett [25115]\n",
            "##ling [11945]\n",
            "her [10485]\n",
            "father [13194]\n",
            "' [112]\n",
            "s [187]\n",
            "will [11337]\n",
            "which [10319]\n",
            "would [10894]\n",
            "therefore [24529]\n",
            "allow [21992]\n",
            "a [169]\n",
            "Donald [16437]\n",
            "Trump [29846]\n",
            "type [12807]\n",
            "named [12038]\n",
            "Charles [10925]\n",
            "Barclay [97865]\n",
            "to [10114]\n",
            "get [15329]\n",
            "the [10105]\n",
            "family [11365]\n",
            "home [11816]\n",
            ". [119]\n",
            "But [16976]\n",
            "Fiona [82503]\n",
            "' [112]\n",
            "s [187]\n",
            "keeping [51318]\n",
            "a [169]\n",
            "secret [23658]\n",
            "as [10146]\n",
            "to [10114]\n",
            "why [31237]\n",
            "she [10833]\n",
            "hat [11250]\n",
            "##es [10171]\n",
            "Barclay [97865]\n",
            "so [10380]\n",
            "much [13172]\n",
            ". [119]\n",
            "Gerald [30483]\n",
            "##ine [11088]\n",
            "Fitzgerald [45231]\n",
            "is [10124]\n",
            "the [10105]\n",
            "middle [20181]\n",
            ", [117]\n",
            "fl [58768]\n",
            "##irt [82856]\n",
            "##y [10157]\n",
            "sister [19806]\n",
            ", [117]\n",
            "who [10479]\n",
            "is [10124]\n",
            "married [13524]\n",
            "to [10114]\n",
            "an [10151]\n",
            "English [11616]\n",
            "##man [10589]\n",
            "but [10473]\n",
            "c [171]\n",
            "##rave [44481]\n",
            "##s [10107]\n",
            "her [10485]\n",
            "youngest [48595]\n",
            "sister [19806]\n",
            "' [112]\n",
            "s [187]\n",
            "boyfriend [109465]\n",
            "( [113]\n",
            "G [144]\n",
            "##ig [11142]\n",
            "Young [12478]\n",
            ") [114]\n",
            ". [119]\n",
            "< [133]\n",
            "br [33989]\n",
            "/ [120]\n",
            "> [135]\n",
            "< [133]\n",
            "br [33989]\n",
            "/ [120]\n",
            "> [135]\n",
            "If [14535]\n",
            "you [13028]\n",
            "' [112]\n",
            "re [11639]\n",
            "a [169]\n",
            "Stan [26637]\n",
            "##wy [12524]\n",
            "##ck [11263]\n",
            "fan [10862]\n",
            ", [117]\n",
            "this [10531]\n",
            "is [10124]\n",
            "a [169]\n",
            "no [10192]\n",
            "miss [88237]\n",
            ". [119]\n"
          ]
        }
      ]
    },
    {
      "cell_type": "markdown",
      "metadata": {
        "id": "-M-VCb0INUdm"
      },
      "source": [
        "We still need to add classification token."
      ]
    },
    {
      "cell_type": "code",
      "metadata": {
        "id": "XOenrketMSKq",
        "colab": {
          "base_uri": "https://localhost:8080/",
          "height": 269
        },
        "outputId": "3a074127-fdae-46f7-d8ec-6a1538813e92"
      },
      "source": [
        "cls = [tokenizer.convert_tokens_to_ids(['[CLS]'])]*reviews.shape[0]\n",
        "input_word_ids = tf.concat([cls, reviews], axis=-1)\n",
        "_ = plt.pcolormesh(input_word_ids[0:10].to_tensor())"
      ],
      "execution_count": null,
      "outputs": [
        {
          "output_type": "display_data",
          "data": {
            "text/plain": [
              "<Figure size 432x288 with 1 Axes>"
            ],
            "image/png": "[encoded data removed]"
          },
          "metadata": {
            "needs_background": "light"
          }
        }
      ]
    },
    {
      "cell_type": "code",
      "source": [
        "##\n",
        "print(input_word_ids[0:3].to_tensor())"
      ],
      "metadata": {
        "colab": {
          "base_uri": "https://localhost:8080/"
        },
        "id": "AweIHv4z-3VI",
        "outputId": "8494afe7-b434-4a25-9910-f4e66deb8db2"
      },
      "execution_count": null,
      "outputs": [
        {
          "output_type": "stream",
          "name": "stdout",
          "text": [
            "tf.Tensor(\n",
            "[[   101  10377    112    187    169  16745  14884  12150  28304  10376\n",
            "   10114  10529    169  15092  12038    144  11142  12478  10106    169\n",
            "   18379    119    119    119  11553  10155    144  11142  12478    119\n",
            "   16976  10531  10458  10124  10940    144  11142  19556  10226  11324\n",
            "   10111  10379    169  46267  10112  13021  20506  18239  10662  14879\n",
            "   12474  15569  10571  12864  11324    119    133  33989    120    135\n",
            "     133  33989    120    135    146    112    181  19090  10114  11783\n",
            "   11327  10105  19471  10108  10105  10684  61565  10111  11388  10189\n",
            "     146  30181  52072  10531  10458    117  20827  12373  10108  10105\n",
            "   13956  81371  10123  14432  10108  16010  26637  12524  11263  10146\n",
            "   82503    119  11149  10134  41807  10756    117  10488  10908    117\n",
            "   75602    117  13000  10230    117  10111  34778  87706  10146  10105\n",
            "   27626  10108  11003  43392  16879  15293  12482  10135  10105  23859\n",
            "   69999  11335    117  10111  16879  13194  10134  10873  15875  10939\n",
            "  102204  10354  11277    146    119    133  33989    120    135    133\n",
            "   33989    120    135  10882  10105    107  10817    107  10108  10105\n",
            "   13215    117  82503  10393  39320  28780  30297  84445  10142  10855\n",
            "   11327  25115  11945  10485  13194    112    187  11337  10319  10894\n",
            "   24529  21992    169  16437  29846  12807  12038  10925  97865  10114\n",
            "   15329  10105  11365  11816    119  16976  82503    112    187  51318\n",
            "     169  23658  10146  10114  31237  10833  11250  10171  97865  10380\n",
            "   13172    119  30483  11088  45231  10124  10105  20181    117  58768\n",
            "   82856  10157  19806    117  10479  10124  13524  10114  10151  11616\n",
            "   10589  10473    171  44481  10107  10485  48595  19806    112    187\n",
            "  109465    113    144  11142  12478    114    119    133  33989    120\n",
            "     135    133  33989    120    135  14535  13028    112  11639    169\n",
            "   26637  12524  11263  10862    117  10531  10124    169  10192  88237\n",
            "     119    102      0      0      0      0      0      0      0      0\n",
            "       0      0      0      0      0      0      0      0      0      0\n",
            "       0      0      0]\n",
            " [   101    146  10134  10708  10105  18379  13448  14942    119    146\n",
            "     112  10323  15652  10105  10684  13098  10136  39129    117  10169\n",
            "   10105  30646  10108  31249  16357  17099    117  10111    146    112\n",
            "   10323  48323  10162  10189  11948  10108  10455  39129  10393    169\n",
            "   14136    119 110843  10124 103758    120  15263    117  10281  63081\n",
            "   11401  10124  72041  41435    117  10111  10531  18379  10124    169\n",
            "   20648  42658  11236  29815    119    133  33989    120    135    133\n",
            "   33989    120    135  10117  72041  20648  42658  11236  15510  14197\n",
            "   10108  10531  18379  15148  13448  14942    119  40456  10105  25157\n",
            "   10124  39951  10155  10105  14772    117  14772  11839    119  10377\n",
            "     112    187  10105  12898  18694  19302    117  10105  22282  10108\n",
            "   11839  10189  10134  13398  10939    169  10635  10841  11839  10134\n",
            "   52072  10146    169  10668  10108  11940  10114  11940  12103    119\n",
            "   10243 107073  10336  10155  48628    117  32768    118  16330  10107\n",
            "     117  14201  63759  10107    117  10111  13246  20538  30220  10171\n",
            "     119    133  33989    120    135    133  33989    120    135  17121\n",
            "     117  10978  10105  20538  30220  10171    119    146  16938    112\n",
            "     188  21852  12976  22564  10455  19174  12174  10529  33370  38184\n",
            "     117  10146  10689  10301    169  12558  12558  43941  11795  10108\n",
            "   75980  12682    119 101989  15938  13005  10124  69262  97656    117\n",
            "   27185  76206  11945  10226  12971    119    133  33989    120    135\n",
            "     133  33989    120    135  14439  12888  10531  10146  17864  10146\n",
            "   14128    119    146  30587  10189  10271  10944  10347  52072  10155\n",
            "   51747  10160  11152  13277    119  11399  11152  27949    117  10105\n",
            "   33462    146  10134  10106  10134  13375  10108  12898  10109  29470\n",
            "   10111  12898  10588    117  10111  10689  82321  10271    119    133\n",
            "   33989    120    135    133  33989    120    135  11065    112  22469\n",
            "   16138  10271  16683    117    146  73871    119    146  10134  10212\n",
            "   93357  10162  10114  15329  15127  27925  10135  10105  32023  13448\n",
            "   14942    119    102]\n",
            " [   101  12786    157  10567  56361  10107  10134  10151  73312  36592\n",
            "     119  11316  72531  11488    117  11371  36474  45565  49886  10376\n",
            "   10114  11299    117  10374  10474  47641    119    153  75385  10284\n",
            "   59150  10943  10393  74139  47641    119    146  17112  10531  18379\n",
            "   10135  10105  10833  35173  10108  15127  11436  12078  13708  10111\n",
            "   17112  10160  10105  34787  10189  10271  10134  11019  10155  10105\n",
            "   37719  87080  12023  11795  10479  11019  12786    157  10567  56361\n",
            "   10107    117  10380  91799    146  52289  10271  10741    119    146\n",
            "   10893  11823  10464  18167  10114  10347  27207  15774  10950  10406\n",
            "   11679  41807  10756    119    138  13301    171  10908  10188  12786\n",
            "     157  10567  56361  10107    119  11101  10106  10435    117    146\n",
            "   10134  12558  36474  45565 107583    119    146  10894  10472  11639\n",
            "   22530 101480  10531  10114  51747    117  60015  13028  10529  10151\n",
            "  104735  18285  10419  10108  13961  10635    117  10111  30181  17367\n",
            "   10114  32099  11152  10635    119  12209    117  13028    112  11639\n",
            "   18322  11898  14879  12078  13332    117  10345  84532  26133  10189\n",
            "   20970  13086  13028  27207  15774  10345  27874    119    102      0\n",
            "       0      0      0      0      0      0      0      0      0      0\n",
            "       0      0      0      0      0      0      0      0      0      0\n",
            "       0      0      0      0      0      0      0      0      0      0\n",
            "       0      0      0      0      0      0      0      0      0      0\n",
            "       0      0      0      0      0      0      0      0      0      0\n",
            "       0      0      0      0      0      0      0      0      0      0\n",
            "       0      0      0      0      0      0      0      0      0      0\n",
            "       0      0      0      0      0      0      0      0      0      0\n",
            "       0      0      0      0      0      0      0      0      0      0\n",
            "       0      0      0      0      0      0      0      0      0      0\n",
            "       0      0      0      0      0      0      0      0      0      0\n",
            "       0      0      0      0      0      0      0      0      0      0\n",
            "       0      0      0]], shape=(3, 293), dtype=int32)\n"
          ]
        }
      ]
    },
    {
      "cell_type": "markdown",
      "metadata": {
        "id": "OlHOhhbsOYDp"
      },
      "source": [
        "What you see above is a graphical representation of our tokenized tweets. First token is our classification token. Other colored blocks than background are other tokens. And background, well that's just padding."
      ]
    },
    {
      "cell_type": "markdown",
      "metadata": {
        "id": "7dKZpLlvQznW"
      },
      "source": [
        "## Mask and input type\n",
        "\n",
        "The model expects two additional inputs:\n",
        "\n",
        "* The input mask\n",
        "* The input type\n",
        "\n",
        "The mask allows the model to cleanly differentiate between the content and the padding. The mask has the same shape as the `input_word_ids`, and contains a `1` anywhere the `input_word_ids` is not padding."
      ]
    },
    {
      "cell_type": "code",
      "metadata": {
        "id": "DElTR00ENbYf",
        "colab": {
          "base_uri": "https://localhost:8080/"
        },
        "outputId": "33e96eb4-b3bc-4b21-8d24-0e95388bfd5e"
      },
      "source": [
        "input_word_ids"
      ],
      "execution_count": null,
      "outputs": [
        {
          "output_type": "execute_result",
          "data": {
            "text/plain": [
              "<tf.RaggedTensor [[101, 10377, 112, 187, 169, 16745, 14884, 12150, 28304, 10376, 10114,\n",
              "  10529, 169, 15092, 12038, 144, 11142, 12478, 10106, 169, 18379, 119, 119,\n",
              "  119, 11553, 10155, 144, 11142, 12478, 119, 16976, 10531, 10458, 10124,\n",
              "  10940, 144, 11142, 19556, 10226, 11324, 10111, 10379, 169, 46267, 10112,\n",
              "  13021, 20506, 18239, 10662, 14879, 12474, 15569, 10571, 12864, 11324, 119,\n",
              "  133, 33989, 120, 135, 133, 33989, 120, 135, 146, 112, 181, 19090, 10114,\n",
              "  11783, 11327, 10105, 19471, 10108, 10105, 10684, 61565, 10111, 11388,\n",
              "  10189, 146, 30181, 52072, 10531, 10458, 117, 20827, 12373, 10108, 10105,\n",
              "  13956, 81371, 10123, 14432, 10108, 16010, 26637, 12524, 11263, 10146,\n",
              "  82503, 119, 11149, 10134, 41807, 10756, 117, 10488, 10908, 117, 75602,\n",
              "  117, 13000, 10230, 117, 10111, 34778, 87706, 10146, 10105, 27626, 10108,\n",
              "  11003, 43392, 16879, 15293, 12482, 10135, 10105, 23859, 69999, 11335, 117,\n",
              "  10111, 16879, 13194, 10134, 10873, 15875, 10939, 102204, 10354, 11277,\n",
              "  146, 119, 133, 33989, 120, 135, 133, 33989, 120, 135, 10882, 10105, 107,\n",
              "  10817, 107, 10108, 10105, 13215, 117, 82503, 10393, 39320, 28780, 30297,\n",
              "  84445, 10142, 10855, 11327, 25115, 11945, 10485, 13194, 112, 187, 11337,\n",
              "  10319, 10894, 24529, 21992, 169, 16437, 29846, 12807, 12038, 10925, 97865,\n",
              "  10114, 15329, 10105, 11365, 11816, 119, 16976, 82503, 112, 187, 51318,\n",
              "  169, 23658, 10146, 10114, 31237, 10833, 11250, 10171, 97865, 10380, 13172,\n",
              "  119, 30483, 11088, 45231, 10124, 10105, 20181, 117, 58768, 82856, 10157,\n",
              "  19806, 117, 10479, 10124, 13524, 10114, 10151, 11616, 10589, 10473, 171,\n",
              "  44481, 10107, 10485, 48595, 19806, 112, 187, 109465, 113, 144, 11142,\n",
              "  12478, 114, 119, 133, 33989, 120, 135, 133, 33989, 120, 135, 14535, 13028,\n",
              "  112, 11639, 169, 26637, 12524, 11263, 10862, 117, 10531, 10124, 169,\n",
              "  10192, 88237, 119, 102]                                                   ,\n",
              " [101, 146, 10134, 10708, 10105, 18379, 13448, 14942, 119, 146, 112, 10323,\n",
              "  15652, 10105, 10684, 13098, 10136, 39129, 117, 10169, 10105, 30646, 10108,\n",
              "  31249, 16357, 17099, 117, 10111, 146, 112, 10323, 48323, 10162, 10189,\n",
              "  11948, 10108, 10455, 39129, 10393, 169, 14136, 119, 110843, 10124, 103758,\n",
              "  120, 15263, 117, 10281, 63081, 11401, 10124, 72041, 41435, 117, 10111,\n",
              "  10531, 18379, 10124, 169, 20648, 42658, 11236, 29815, 119, 133, 33989,\n",
              "  120, 135, 133, 33989, 120, 135, 10117, 72041, 20648, 42658, 11236, 15510,\n",
              "  14197, 10108, 10531, 18379, 15148, 13448, 14942, 119, 40456, 10105, 25157,\n",
              "  10124, 39951, 10155, 10105, 14772, 117, 14772, 11839, 119, 10377, 112,\n",
              "  187, 10105, 12898, 18694, 19302, 117, 10105, 22282, 10108, 11839, 10189,\n",
              "  10134, 13398, 10939, 169, 10635, 10841, 11839, 10134, 52072, 10146, 169,\n",
              "  10668, 10108, 11940, 10114, 11940, 12103, 119, 10243, 107073, 10336,\n",
              "  10155, 48628, 117, 32768, 118, 16330, 10107, 117, 14201, 63759, 10107,\n",
              "  117, 10111, 13246, 20538, 30220, 10171, 119, 133, 33989, 120, 135, 133,\n",
              "  33989, 120, 135, 17121, 117, 10978, 10105, 20538, 30220, 10171, 119, 146,\n",
              "  16938, 112, 188, 21852, 12976, 22564, 10455, 19174, 12174, 10529, 33370,\n",
              "  38184, 117, 10146, 10689, 10301, 169, 12558, 12558, 43941, 11795, 10108,\n",
              "  75980, 12682, 119, 101989, 15938, 13005, 10124, 69262, 97656, 117, 27185,\n",
              "  76206, 11945, 10226, 12971, 119, 133, 33989, 120, 135, 133, 33989, 120,\n",
              "  135, 14439, 12888, 10531, 10146, 17864, 10146, 14128, 119, 146, 30587,\n",
              "  10189, 10271, 10944, 10347, 52072, 10155, 51747, 10160, 11152, 13277, 119,\n",
              "  11399, 11152, 27949, 117, 10105, 33462, 146, 10134, 10106, 10134, 13375,\n",
              "  10108, 12898, 10109, 29470, 10111, 12898, 10588, 117, 10111, 10689, 82321,\n",
              "  10271, 119, 133, 33989, 120, 135, 133, 33989, 120, 135, 11065, 112, 22469,\n",
              "  16138, 10271, 16683, 117, 146, 73871, 119, 146, 10134, 10212, 93357,\n",
              "  10162, 10114, 15329, 15127, 27925, 10135, 10105, 32023, 13448, 14942, 119,\n",
              "  102]                                                                      ,\n",
              " [101, 12786, 157, 10567, 56361, 10107, 10134, 10151, 73312, 36592, 119,\n",
              "  11316, 72531, 11488, 117, 11371, 36474, 45565, 49886, 10376, 10114, 11299,\n",
              "  117, 10374, 10474, 47641, 119, 153, 75385, 10284, 59150, 10943, 10393,\n",
              "  74139, 47641, 119, 146, 17112, 10531, 18379, 10135, 10105, 10833, 35173,\n",
              "  10108, 15127, 11436, 12078, 13708, 10111, 17112, 10160, 10105, 34787,\n",
              "  10189, 10271, 10134, 11019, 10155, 10105, 37719, 87080, 12023, 11795,\n",
              "  10479, 11019, 12786, 157, 10567, 56361, 10107, 117, 10380, 91799, 146,\n",
              "  52289, 10271, 10741, 119, 146, 10893, 11823, 10464, 18167, 10114, 10347,\n",
              "  27207, 15774, 10950, 10406, 11679, 41807, 10756, 119, 138, 13301, 171,\n",
              "  10908, 10188, 12786, 157, 10567, 56361, 10107, 119, 11101, 10106, 10435,\n",
              "  117, 146, 10134, 12558, 36474, 45565, 107583, 119, 146, 10894, 10472,\n",
              "  11639, 22530, 101480, 10531, 10114, 51747, 117, 60015, 13028, 10529,\n",
              "  10151, 104735, 18285, 10419, 10108, 13961, 10635, 117, 10111, 30181,\n",
              "  17367, 10114, 32099, 11152, 10635, 119, 12209, 117, 13028, 112, 11639,\n",
              "  18322, 11898, 14879, 12078, 13332, 117, 10345, 84532, 26133, 10189, 20970,\n",
              "  13086, 13028, 27207, 15774, 10345, 27874, 119, 102]                       ,\n",
              " ...,\n",
              " [101, 11301, 146, 17112, 10531, 146, 37074, 10189, 10271, 10134, 10992,\n",
              "  22497, 169, 14325, 11263, 58768, 20898, 132, 10662, 16988, 146, 11823,\n",
              "  10950, 10189, 103883, 10288, 112, 187, 15293, 13954, 10105, 93124, 10380,\n",
              "  10189, 108361, 13172, 27347, 10271, 119, 12209, 117, 169, 14325, 11263,\n",
              "  58768, 20898, 10944, 10529, 11152, 44861, 10114, 10588, 132, 10531, 10464,\n",
              "  15107, 10472, 10111, 30181, 34208, 10472, 10114, 44861, 10189, 11206,\n",
              "  16106, 10114, 13190, 113, 34279, 10160, 10105, 27920, 16120, 21509, 14301,\n",
              "  11639, 91199, 83609, 114, 119, 11340, 48438, 10189, 146, 30587, 11408,\n",
              "  36192, 10107, 68312, 15378, 10124, 10105, 28780, 90695, 100060, 10108,\n",
              "  10105, 10105, 18167, 117, 10106, 10105, 18379, 117, 10940, 11530, 10151,\n",
              "  58577, 10157, 10124, 11019, 10948, 10105, 38576, 10108, 18048, 29241,\n",
              "  11143, 10114, 10105, 38576, 10108, 169, 11614, 27012, 11223, 10392, 57408,\n",
              "  10336, 191, 120, 183, 46226, 10562, 19904, 10280, 119, 33319, 10588,\n",
              "  10149, 10472, 10571, 10797, 10105, 38576, 10108, 18048, 29241, 11143,\n",
              "  11951, 49151, 10189, 10271, 10124, 169, 38576, 14446, 15138, 132, 21833,\n",
              "  10271, 10124, 169, 13409, 38576, 47761, 10151, 10392, 99848, 88134, 10124,\n",
              "  10472, 106, 13536, 49151, 10531, 13246, 18322, 119, 146, 97881, 11152,\n",
              "  18299, 10134, 32862, 10114, 13086, 169, 87468, 33311, 10189, 10124, 10106,\n",
              "  23247, 84298, 119, 10167, 18638, 117, 169, 19826, 10108, 24682, 10106,\n",
              "  10531, 18379, 10301, 10106, 12558, 23247, 84298, 119, 33319, 39129, 11858,\n",
              "  101615, 10107, 10301, 11053, 10142, 13677, 23247, 84298, 10531, 10464,\n",
              "  30181, 107, 11419, 32942, 10107, 107, 10106, 10189, 21079, 119, 10747,\n",
              "  12174, 10529, 10590, 169, 15198, 18379, 10189, 15573, 10105, 48919, 10107,\n",
              "  10108, 24404, 11096, 10939, 160, 13034, 30025, 132, 10111, 14796, 18093,\n",
              "  10105, 70762, 10134, 11327, 10588, 10479, 11152, 52743, 22391, 10114,\n",
              "  33253, 20252, 10106, 10105, 14041, 11059, 119, 103883, 10288, 112, 187,\n",
              "  29963, 17637, 15293, 38106, 10114, 11897, 14796, 10531, 70762, 10134,\n",
              "  11031, 11327, 24404, 10473, 30181, 12361, 73182, 10107, 10531, 119, 47556,\n",
              "  11951, 15329, 169, 14325, 11263, 58768, 20898, 10978, 14796, 10551, 14739,\n",
              "  15293, 10107, 55185, 14229, 132, 20363, 10108, 119, 10167, 169, 13170,\n",
              "  119, 11982, 10921, 13221, 119, 13885, 52743, 119, 12610, 19864, 10124,\n",
              "  10105, 18638, 10189, 169, 50803, 113, 10105, 19634, 10108, 10105, 20104,\n",
              "  10108, 24404, 112, 187, 14384, 114, 10124, 14541, 12014, 11816, 10662,\n",
              "  20252, 10106, 18159, 132, 21833, 10271, 10124, 94475, 12277, 10105, 10338,\n",
              "  10393, 18428, 106, 106, 138, 19826, 10108, 24682, 10978, 10531, 18379,\n",
              "  10301, 81607, 94475, 132, 10111, 15102, 146, 10529, 17067, 10189, 19034,\n",
              "  146, 11337, 10149, 10380, 13123, 10146, 10271, 34208, 10114, 10347, 10105,\n",
              "  12397, 64931, 10108, 10531, 17954, 10107, 119, 102]                       ,\n",
              " [101, 11723, 10301, 15838, 39129, 10111, 11059, 11155, 10301, 39129, 10319,\n",
              "  10301, 13246, 62006, 119, 74666, 10124, 12820, 10189, 119, 133, 33989,\n",
              "  120, 135, 133, 33989, 120, 135, 10117, 18379, 10124, 26097, 15838, 10135,\n",
              "  10435, 12789, 119, 10117, 32473, 117, 10105, 25086, 117, 10105, 26665,\n",
              "  11424, 117, 10105, 11839, 10111, 42536, 40843, 10124, 48573, 10454, 70032,\n",
              "  10111, 146, 25259, 16135, 10114, 10212, 30619, 14786, 10162, 14796, 11049,\n",
              "  14807, 10237, 11019, 10271, 10114, 10105, 22185, 29963, 119, 133, 33989,\n",
              "  120, 135, 133, 33989, 120, 135, 10117, 16205, 18638, 10124, 10189, 74666,\n",
              "  10124, 29956, 73182, 10162, 10169, 32473, 76956, 119, 10117, 17967, 10124,\n",
              "  61047, 13439, 10376, 10111, 24516, 13172, 10114, 10347, 25973, 10473,\n",
              "  10271, 15107, 10472, 18500, 10741, 10111, 10105, 32473, 23785, 48573,\n",
              "  10454, 29956, 55170, 22540, 10251, 10111, 11357, 66679, 10162, 119, 10117,\n",
              "  10458, 10124, 10472, 46966, 10111, 11337, 10472, 21964, 13028, 10169, 169,\n",
              "  11376, 17684, 10108, 171, 110685, 20838, 119, 14235, 10189, 27445, 10189,\n",
              "  10531, 18379, 10124, 11783, 10908, 117, 43934, 117, 81708, 29025, 10111,\n",
              "  187, 15983, 10157, 10301, 45581, 16105, 27833, 10479, 10529, 16903, 34918,\n",
              "  10107, 10662, 84532, 45516, 12373, 10271, 10124, 13301, 10188, 10189, 119,\n",
              "  133, 33989, 120, 135, 133, 33989, 120, 135, 12882, 146, 10392, 70990,\n",
              "  13028, 21852, 117, 10149, 10472, 21395, 10114, 34481, 10531, 12277, 13028,\n",
              "  10529, 11178, 12188, 10108, 82493, 42507, 10123, 117, 12373, 13028, 11337,\n",
              "  10347, 36474, 45565, 107583, 119, 138, 22024, 73823, 10111, 169, 15762,\n",
              "  27794, 10458, 10146, 10944, 10347, 119, 102]                              ,\n",
              " [101, 10117, 14812, 25414, 10124, 10464, 10108, 10105, 13824, 16672, 10107,\n",
              "  17038, 11019, 10114, 19918, 10169, 25990, 57232, 117, 11408, 10146, 169,\n",
              "  17925, 10111, 14155, 10111, 10146, 169, 22414, 10108, 16542, 10105, 62020,\n",
              "  10107, 12544, 68756, 119, 19318, 10105, 15263, 10817, 11847, 24963, 10135,\n",
              "  10105, 10684, 12250, 10108, 10105, 19771, 117, 10105, 62020, 10107, 11031,\n",
              "  10114, 10529, 10485, 13268, 10108, 10536, 18516, 10263, 10146, 12077,\n",
              "  10146, 11152, 10108, 17446, 15363, 19838, 119, 12716, 10105, 10635, 10108,\n",
              "  10105, 13127, 10117, 14812, 25414, 10124, 11847, 10106, 117, 10105, 11499,\n",
              "  43311, 10715, 10374, 10590, 10435, 10473, 23040, 16898, 10950, 119, 10117,\n",
              "  18604, 11943, 117, 10850, 10114, 10105, 22116, 10108, 36378, 18206, 117,\n",
              "  17112, 169, 64975, 10106, 11077, 10108, 10105, 10542, 117, 10473, 10472,\n",
              "  19118, 10454, 11850, 10271, 14907, 10134, 119, 133, 33989, 120, 135, 133,\n",
              "  33989, 120, 135, 10820, 13399, 10111, 17493, 108923, 10301, 11170, 118,\n",
              "  27519, 10106, 169, 11132, 10458, 14229, 10111, 10531, 10464, 10124, 13301,\n",
              "  15855, 10114, 11101, 10105, 18274, 45650, 16190, 24096, 119, 18249, 17493,\n",
              "  108923, 10124, 10105, 15198, 75980, 10157, 117, 169, 11356, 49866, 10157,\n",
              "  11499, 43311, 10715, 12041, 10877, 117, 10479, 10393, 10114, 11783, 12014,\n",
              "  10114, 169, 23627, 10261, 11250, 10171, 12373, 10108, 20570, 90837, 10107,\n",
              "  119, 133, 33989, 120, 135, 133, 33989, 120, 135, 10117, 22825, 10261, 112,\n",
              "  187, 27997, 10114, 73696, 10106, 10169, 10124, 10820, 13399, 119, 90179,\n",
              "  12141, 13399, 10142, 10105, 14316, 117, 146, 86697, 12277, 11155, 112,\n",
              "  187, 17038, 10590, 169, 36110, 10165, 117, 12947, 34146, 33068, 11084,\n",
              "  16303, 26463, 10917, 10479, 13399, 16874, 23432, 10107, 119, 10167, 25410,\n",
              "  112, 187, 21848, 14132, 10261, 10134, 10151, 10536, 12544, 27535, 11327,\n",
              "  10105, 22907, 35772, 10419, 28780, 10835, 15711, 10741, 10155, 169, 11859,\n",
              "  80092, 11553, 10155, 11334, 41280, 14206, 10115, 119, 10167, 10117, 14812,\n",
              "  25414, 117, 10261, 112, 187, 10105, 11859, 80092, 19353, 119, 10357,\n",
              "  69179, 11408, 11499, 43311, 10715, 10111, 33032, 10142, 33166, 20648,\n",
              "  42658, 12101, 119, 10357, 69179, 10464, 12544, 11365, 10841, 10689, 28780,\n",
              "  30759, 10226, 12361, 11268, 10111, 19135, 10105, 71598, 10108, 10464,\n",
              "  13337, 14079, 119, 15105, 11152, 18121, 73840, 10206, 10173, 28531, 10667,\n",
              "  10261, 11419, 92385, 10105, 20648, 42658, 12101, 10108, 10190, 13581,\n",
              "  18264, 10123, 112, 187, 19616, 19122, 10107, 119, 10357, 112, 187, 24376,\n",
              "  10824, 10162, 10841, 18264, 10123, 47798, 112, 188, 12888, 10271, 10189,\n",
              "  13170, 119, 133, 33989, 120, 135, 133, 33989, 120, 135, 10657, 27904,\n",
              "  14796, 12899, 10689, 42803, 10114, 83758, 27324, 31748, 10115, 10146, 169,\n",
              "  13877, 13724, 10336, 117, 146, 10134, 14794, 30181, 71869, 10261, 10134,\n",
              "  11178, 10668, 12544, 119, 10377, 112, 187, 10105, 10893, 61285, 14010,\n",
              "  146, 11823, 10106, 10117, 14812, 25414, 119, 133, 33989, 120, 135, 133,\n",
              "  33989, 120, 135, 12209, 19345, 56259, 117, 10105, 30518, 15834, 58588,\n",
              "  10162, 12898, 11499, 43311, 10715, 40564, 11129, 13399, 10111, 108923,\n",
              "  26092, 12400, 10124, 12820, 14772, 119, 56259, 28780, 30759, 10107, 14234,\n",
              "  18167, 10261, 112, 187, 10106, 10169, 10105, 18922, 119, 133, 33989, 120,\n",
              "  135, 133, 33989, 120, 135, 11399, 12676, 10479, 11850, 10455, 16672,\n",
              "  10107, 13486, 117, 10479, 21528, 10114, 12888, 169, 12250, 10108, 10820,\n",
              "  13399, 14794, 15652, 10135, 29963, 117, 10111, 10479, 16938, 112, 188,\n",
              "  11850, 10262, 16070, 51670, 16981, 117, 10117, 14812, 25414, 10124, 10105,\n",
              "  29580, 12041, 10123, 119, 102]                                            ]>"
            ]
          },
          "metadata": {},
          "execution_count": 29
        }
      ]
    },
    {
      "cell_type": "code",
      "metadata": {
        "id": "PNCmIxTbQ3L-",
        "colab": {
          "base_uri": "https://localhost:8080/",
          "height": 286
        },
        "outputId": "c3b6647c-f400-4f16-93ef-7f4619d3cfb3"
      },
      "source": [
        "input_mask = tf.ones_like(input_word_ids).to_tensor()\n",
        "\n",
        "plt.pcolormesh(input_mask)"
      ],
      "execution_count": null,
      "outputs": [
        {
          "output_type": "execute_result",
          "data": {
            "text/plain": [
              "<matplotlib.collections.QuadMesh at 0x7f4e543d2f10>"
            ]
          },
          "metadata": {},
          "execution_count": 30
        },
        {
          "output_type": "display_data",
          "data": {
            "text/plain": [
              "<Figure size 432x288 with 1 Axes>"
            ],
            "image/png": "[encoded data removed]"
          },
          "metadata": {
            "needs_background": "light"
          }
        }
      ]
    },
    {
      "cell_type": "markdown",
      "metadata": {
        "id": "ZLZsqTeHQ896"
      },
      "source": [
        "Here each yellow block has some input. We just make this for the model to differ between padding and input."
      ]
    },
    {
      "cell_type": "code",
      "metadata": {
        "id": "4-eSiqx-Q6t7",
        "colab": {
          "base_uri": "https://localhost:8080/",
          "height": 286
        },
        "outputId": "8c8562ee-3e78-4644-e82a-a9ce7fd8f18e"
      },
      "source": [
        "type_cls = tf.zeros_like(cls)\n",
        "type_review = tf.ones_like(reviews)\n",
        "input_type_ids = tf.concat([type_cls, type_review], axis=-1).to_tensor()\n",
        "\n",
        "plt.pcolormesh(input_type_ids)"
      ],
      "execution_count": null,
      "outputs": [
        {
          "output_type": "execute_result",
          "data": {
            "text/plain": [
              "<matplotlib.collections.QuadMesh at 0x7f4e543d2d50>"
            ]
          },
          "metadata": {},
          "execution_count": 31
        },
        {
          "output_type": "display_data",
          "data": {
            "text/plain": [
              "<Figure size 432x288 with 1 Axes>"
            ],
            "image/png": "[encoded data removed]"
          },
          "metadata": {
            "needs_background": "light"
          }
        }
      ]
    },
    {
      "cell_type": "code",
      "source": [
        "##\n",
        "input_type_ids\n"
      ],
      "metadata": {
        "colab": {
          "base_uri": "https://localhost:8080/"
        },
        "id": "uLvgJBpQFpp6",
        "outputId": "cafae99e-d789-438a-a02c-15faa04bf32e"
      },
      "execution_count": null,
      "outputs": [
        {
          "output_type": "execute_result",
          "data": {
            "text/plain": [
              "<tf.Tensor: shape=(2000, 1716), dtype=int32, numpy=\n",
              "array([[0, 1, 1, ..., 0, 0, 0],\n",
              "       [0, 1, 1, ..., 0, 0, 0],\n",
              "       [0, 1, 1, ..., 0, 0, 0],\n",
              "       ...,\n",
              "       [0, 1, 1, ..., 0, 0, 0],\n",
              "       [0, 1, 1, ..., 0, 0, 0],\n",
              "       [0, 1, 1, ..., 0, 0, 0]], dtype=int32)>"
            ]
          },
          "metadata": {},
          "execution_count": 32
        }
      ]
    },
    {
      "cell_type": "markdown",
      "metadata": {
        "id": "eq4nvwwcSYKe"
      },
      "source": [
        "It's hard to see but we added an empty block in front of each tweet for the `[CLS]` token. Check tensor below"
      ]
    },
    {
      "cell_type": "code",
      "metadata": {
        "id": "wPy0lCwtRs1f",
        "colab": {
          "base_uri": "https://localhost:8080/"
        },
        "outputId": "66c5b07f-4ee6-46f6-cbf3-165d53c927e4"
      },
      "source": [
        "input_type_ids"
      ],
      "execution_count": null,
      "outputs": [
        {
          "output_type": "execute_result",
          "data": {
            "text/plain": [
              "<tf.Tensor: shape=(2000, 1716), dtype=int32, numpy=\n",
              "array([[0, 1, 1, ..., 0, 0, 0],\n",
              "       [0, 1, 1, ..., 0, 0, 0],\n",
              "       [0, 1, 1, ..., 0, 0, 0],\n",
              "       ...,\n",
              "       [0, 1, 1, ..., 0, 0, 0],\n",
              "       [0, 1, 1, ..., 0, 0, 0],\n",
              "       [0, 1, 1, ..., 0, 0, 0]], dtype=int32)>"
            ]
          },
          "metadata": {},
          "execution_count": 33
        }
      ]
    },
    {
      "cell_type": "markdown",
      "metadata": {
        "id": "EkRhOGvoSrTi"
      },
      "source": [
        "## Remake into a function for normal use"
      ]
    },
    {
      "cell_type": "markdown",
      "metadata": {
        "id": "8iJXVNBRSwWz"
      },
      "source": [
        "So at this point we have all of our three inputs:\n",
        "\n",
        "1.   Tokens\n",
        "2.   Input mask\n",
        "3.   Input type\n",
        "\n",
        "It will make our work easier both now and in the future if we remake everything into funcitons.\n",
        "\n"
      ]
    },
    {
      "cell_type": "markdown",
      "metadata": {
        "id": "z0eyZii6TAwo"
      },
      "source": [
        "First let's set the max sequence lenght as we did in simple NN example."
      ]
    },
    {
      "cell_type": "code",
      "metadata": {
        "id": "e6gshuXmRwJ8"
      },
      "source": [
        "lens = [len(i) for i in input_word_ids]"
      ],
      "execution_count": null,
      "outputs": []
    },
    {
      "cell_type": "code",
      "source": [
        "##\n",
        "lens"
      ],
      "metadata": {
        "colab": {
          "base_uri": "https://localhost:8080/"
        },
        "id": "lqTFTK1LGro3",
        "outputId": "2c67e8c9-6615-4f92-fa35-0522f664cb29"
      },
      "execution_count": null,
      "outputs": [
        {
          "output_type": "execute_result",
          "data": {
            "text/plain": [
              "[272,\n",
              " 293,\n",
              " 169,\n",
              " 152,\n",
              " 278,\n",
              " 169,\n",
              " 308,\n",
              " 241,\n",
              " 267,\n",
              " 293,\n",
              " 316,\n",
              " 247,\n",
              " 175,\n",
              " 95,\n",
              " 302,\n",
              " 1341,\n",
              " 158,\n",
              " 217,\n",
              " 712,\n",
              " 481,\n",
              " 297,\n",
              " 101,\n",
              " 550,\n",
              " 207,\n",
              " 140,\n",
              " 184,\n",
              " 527,\n",
              " 613,\n",
              " 167,\n",
              " 231,\n",
              " 670,\n",
              " 191,\n",
              " 320,\n",
              " 359,\n",
              " 266,\n",
              " 170,\n",
              " 134,\n",
              " 594,\n",
              " 74,\n",
              " 190,\n",
              " 1168,\n",
              " 76,\n",
              " 413,\n",
              " 206,\n",
              " 377,\n",
              " 322,\n",
              " 410,\n",
              " 325,\n",
              " 637,\n",
              " 173,\n",
              " 359,\n",
              " 92,\n",
              " 417,\n",
              " 617,\n",
              " 380,\n",
              " 582,\n",
              " 149,\n",
              " 174,\n",
              " 161,\n",
              " 185,\n",
              " 952,\n",
              " 190,\n",
              " 269,\n",
              " 115,\n",
              " 413,\n",
              " 79,\n",
              " 426,\n",
              " 145,\n",
              " 100,\n",
              " 493,\n",
              " 204,\n",
              " 266,\n",
              " 168,\n",
              " 203,\n",
              " 217,\n",
              " 268,\n",
              " 252,\n",
              " 365,\n",
              " 201,\n",
              " 190,\n",
              " 214,\n",
              " 316,\n",
              " 337,\n",
              " 270,\n",
              " 342,\n",
              " 168,\n",
              " 212,\n",
              " 337,\n",
              " 65,\n",
              " 97,\n",
              " 560,\n",
              " 157,\n",
              " 558,\n",
              " 440,\n",
              " 174,\n",
              " 148,\n",
              " 257,\n",
              " 103,\n",
              " 390,\n",
              " 252,\n",
              " 1205,\n",
              " 320,\n",
              " 100,\n",
              " 420,\n",
              " 159,\n",
              " 271,\n",
              " 217,\n",
              " 300,\n",
              " 184,\n",
              " 1082,\n",
              " 252,\n",
              " 169,\n",
              " 856,\n",
              " 647,\n",
              " 465,\n",
              " 484,\n",
              " 217,\n",
              " 169,\n",
              " 458,\n",
              " 723,\n",
              " 1141,\n",
              " 160,\n",
              " 167,\n",
              " 371,\n",
              " 379,\n",
              " 741,\n",
              " 104,\n",
              " 207,\n",
              " 257,\n",
              " 398,\n",
              " 276,\n",
              " 304,\n",
              " 344,\n",
              " 245,\n",
              " 160,\n",
              " 125,\n",
              " 344,\n",
              " 58,\n",
              " 203,\n",
              " 205,\n",
              " 224,\n",
              " 147,\n",
              " 181,\n",
              " 182,\n",
              " 100,\n",
              " 658,\n",
              " 333,\n",
              " 339,\n",
              " 571,\n",
              " 170,\n",
              " 686,\n",
              " 251,\n",
              " 417,\n",
              " 294,\n",
              " 192,\n",
              " 136,\n",
              " 776,\n",
              " 181,\n",
              " 271,\n",
              " 186,\n",
              " 156,\n",
              " 563,\n",
              " 153,\n",
              " 254,\n",
              " 272,\n",
              " 241,\n",
              " 75,\n",
              " 215,\n",
              " 657,\n",
              " 274,\n",
              " 392,\n",
              " 676,\n",
              " 381,\n",
              " 185,\n",
              " 215,\n",
              " 235,\n",
              " 359,\n",
              " 405,\n",
              " 254,\n",
              " 405,\n",
              " 877,\n",
              " 765,\n",
              " 272,\n",
              " 193,\n",
              " 221,\n",
              " 166,\n",
              " 168,\n",
              " 1085,\n",
              " 229,\n",
              " 200,\n",
              " 245,\n",
              " 132,\n",
              " 65,\n",
              " 286,\n",
              " 244,\n",
              " 352,\n",
              " 356,\n",
              " 178,\n",
              " 228,\n",
              " 170,\n",
              " 445,\n",
              " 224,\n",
              " 335,\n",
              " 227,\n",
              " 158,\n",
              " 284,\n",
              " 300,\n",
              " 183,\n",
              " 507,\n",
              " 179,\n",
              " 219,\n",
              " 362,\n",
              " 559,\n",
              " 162,\n",
              " 125,\n",
              " 216,\n",
              " 274,\n",
              " 186,\n",
              " 91,\n",
              " 262,\n",
              " 256,\n",
              " 76,\n",
              " 224,\n",
              " 383,\n",
              " 302,\n",
              " 369,\n",
              " 100,\n",
              " 150,\n",
              " 178,\n",
              " 434,\n",
              " 401,\n",
              " 396,\n",
              " 1267,\n",
              " 76,\n",
              " 200,\n",
              " 107,\n",
              " 410,\n",
              " 295,\n",
              " 230,\n",
              " 187,\n",
              " 276,\n",
              " 472,\n",
              " 302,\n",
              " 261,\n",
              " 284,\n",
              " 381,\n",
              " 555,\n",
              " 532,\n",
              " 416,\n",
              " 168,\n",
              " 173,\n",
              " 352,\n",
              " 881,\n",
              " 72,\n",
              " 957,\n",
              " 87,\n",
              " 212,\n",
              " 297,\n",
              " 273,\n",
              " 433,\n",
              " 121,\n",
              " 191,\n",
              " 355,\n",
              " 369,\n",
              " 176,\n",
              " 291,\n",
              " 208,\n",
              " 69,\n",
              " 170,\n",
              " 382,\n",
              " 272,\n",
              " 387,\n",
              " 166,\n",
              " 443,\n",
              " 281,\n",
              " 831,\n",
              " 573,\n",
              " 178,\n",
              " 159,\n",
              " 321,\n",
              " 441,\n",
              " 194,\n",
              " 587,\n",
              " 293,\n",
              " 134,\n",
              " 204,\n",
              " 391,\n",
              " 647,\n",
              " 434,\n",
              " 244,\n",
              " 192,\n",
              " 167,\n",
              " 685,\n",
              " 706,\n",
              " 220,\n",
              " 187,\n",
              " 444,\n",
              " 171,\n",
              " 1104,\n",
              " 267,\n",
              " 324,\n",
              " 251,\n",
              " 423,\n",
              " 81,\n",
              " 80,\n",
              " 1111,\n",
              " 166,\n",
              " 323,\n",
              " 415,\n",
              " 355,\n",
              " 165,\n",
              " 197,\n",
              " 363,\n",
              " 195,\n",
              " 255,\n",
              " 189,\n",
              " 232,\n",
              " 854,\n",
              " 193,\n",
              " 195,\n",
              " 1430,\n",
              " 269,\n",
              " 237,\n",
              " 166,\n",
              " 139,\n",
              " 118,\n",
              " 570,\n",
              " 205,\n",
              " 159,\n",
              " 288,\n",
              " 283,\n",
              " 169,\n",
              " 354,\n",
              " 1220,\n",
              " 213,\n",
              " 207,\n",
              " 178,\n",
              " 286,\n",
              " 571,\n",
              " 178,\n",
              " 664,\n",
              " 178,\n",
              " 303,\n",
              " 193,\n",
              " 547,\n",
              " 90,\n",
              " 310,\n",
              " 315,\n",
              " 275,\n",
              " 769,\n",
              " 218,\n",
              " 379,\n",
              " 309,\n",
              " 263,\n",
              " 149,\n",
              " 200,\n",
              " 483,\n",
              " 222,\n",
              " 151,\n",
              " 314,\n",
              " 162,\n",
              " 392,\n",
              " 381,\n",
              " 197,\n",
              " 139,\n",
              " 229,\n",
              " 539,\n",
              " 226,\n",
              " 1220,\n",
              " 233,\n",
              " 252,\n",
              " 319,\n",
              " 267,\n",
              " 305,\n",
              " 284,\n",
              " 750,\n",
              " 246,\n",
              " 107,\n",
              " 365,\n",
              " 573,\n",
              " 75,\n",
              " 138,\n",
              " 204,\n",
              " 576,\n",
              " 743,\n",
              " 154,\n",
              " 672,\n",
              " 712,\n",
              " 178,\n",
              " 68,\n",
              " 422,\n",
              " 450,\n",
              " 1470,\n",
              " 173,\n",
              " 287,\n",
              " 312,\n",
              " 202,\n",
              " 232,\n",
              " 489,\n",
              " 209,\n",
              " 773,\n",
              " 367,\n",
              " 56,\n",
              " 206,\n",
              " 225,\n",
              " 1007,\n",
              " 363,\n",
              " 365,\n",
              " 321,\n",
              " 72,\n",
              " 205,\n",
              " 122,\n",
              " 386,\n",
              " 545,\n",
              " 197,\n",
              " 147,\n",
              " 517,\n",
              " 431,\n",
              " 182,\n",
              " 154,\n",
              " 188,\n",
              " 298,\n",
              " 177,\n",
              " 906,\n",
              " 1716,\n",
              " 264,\n",
              " 359,\n",
              " 332,\n",
              " 170,\n",
              " 470,\n",
              " 338,\n",
              " 206,\n",
              " 608,\n",
              " 240,\n",
              " 179,\n",
              " 230,\n",
              " 117,\n",
              " 592,\n",
              " 100,\n",
              " 184,\n",
              " 187,\n",
              " 237,\n",
              " 352,\n",
              " 216,\n",
              " 403,\n",
              " 211,\n",
              " 201,\n",
              " 202,\n",
              " 370,\n",
              " 154,\n",
              " 374,\n",
              " 460,\n",
              " 146,\n",
              " 278,\n",
              " 404,\n",
              " 300,\n",
              " 392,\n",
              " 278,\n",
              " 408,\n",
              " 257,\n",
              " 167,\n",
              " 201,\n",
              " 257,\n",
              " 347,\n",
              " 367,\n",
              " 109,\n",
              " 438,\n",
              " 538,\n",
              " 209,\n",
              " 307,\n",
              " 476,\n",
              " 120,\n",
              " 454,\n",
              " 376,\n",
              " 170,\n",
              " 57,\n",
              " 679,\n",
              " 432,\n",
              " 251,\n",
              " 69,\n",
              " 199,\n",
              " 283,\n",
              " 176,\n",
              " 445,\n",
              " 354,\n",
              " 226,\n",
              " 183,\n",
              " 682,\n",
              " 527,\n",
              " 60,\n",
              " 197,\n",
              " 349,\n",
              " 107,\n",
              " 381,\n",
              " 73,\n",
              " 555,\n",
              " 746,\n",
              " 203,\n",
              " 255,\n",
              " 149,\n",
              " 932,\n",
              " 388,\n",
              " 221,\n",
              " 323,\n",
              " 250,\n",
              " 400,\n",
              " 758,\n",
              " 748,\n",
              " 181,\n",
              " 243,\n",
              " 170,\n",
              " 923,\n",
              " 156,\n",
              " 203,\n",
              " 445,\n",
              " 186,\n",
              " 204,\n",
              " 197,\n",
              " 263,\n",
              " 214,\n",
              " 71,\n",
              " 252,\n",
              " 466,\n",
              " 835,\n",
              " 252,\n",
              " 741,\n",
              " 273,\n",
              " 160,\n",
              " 524,\n",
              " 298,\n",
              " 157,\n",
              " 151,\n",
              " 121,\n",
              " 345,\n",
              " 152,\n",
              " 237,\n",
              " 218,\n",
              " 205,\n",
              " 267,\n",
              " 453,\n",
              " 178,\n",
              " 188,\n",
              " 364,\n",
              " 171,\n",
              " 140,\n",
              " 653,\n",
              " 250,\n",
              " 592,\n",
              " 378,\n",
              " 205,\n",
              " 260,\n",
              " 181,\n",
              " 269,\n",
              " 203,\n",
              " 264,\n",
              " 298,\n",
              " 204,\n",
              " 486,\n",
              " 87,\n",
              " 192,\n",
              " 178,\n",
              " 863,\n",
              " 310,\n",
              " 187,\n",
              " 168,\n",
              " 374,\n",
              " 90,\n",
              " 168,\n",
              " 209,\n",
              " 402,\n",
              " 198,\n",
              " 157,\n",
              " 75,\n",
              " 223,\n",
              " 292,\n",
              " 279,\n",
              " 267,\n",
              " 157,\n",
              " 98,\n",
              " 185,\n",
              " 183,\n",
              " 230,\n",
              " 493,\n",
              " 202,\n",
              " 164,\n",
              " 379,\n",
              " 164,\n",
              " 216,\n",
              " 177,\n",
              " 352,\n",
              " 160,\n",
              " 429,\n",
              " 333,\n",
              " 155,\n",
              " 193,\n",
              " 91,\n",
              " 233,\n",
              " 223,\n",
              " 323,\n",
              " 257,\n",
              " 191,\n",
              " 185,\n",
              " 1361,\n",
              " 254,\n",
              " 152,\n",
              " 542,\n",
              " 664,\n",
              " 381,\n",
              " 212,\n",
              " 85,\n",
              " 161,\n",
              " 189,\n",
              " 177,\n",
              " 117,\n",
              " 580,\n",
              " 151,\n",
              " 232,\n",
              " 574,\n",
              " 347,\n",
              " 198,\n",
              " 615,\n",
              " 74,\n",
              " 82,\n",
              " 179,\n",
              " 135,\n",
              " 296,\n",
              " 455,\n",
              " 121,\n",
              " 1027,\n",
              " 98,\n",
              " 119,\n",
              " 471,\n",
              " 147,\n",
              " 157,\n",
              " 966,\n",
              " 576,\n",
              " 298,\n",
              " 161,\n",
              " 258,\n",
              " 81,\n",
              " 166,\n",
              " 256,\n",
              " 396,\n",
              " 259,\n",
              " 310,\n",
              " 1488,\n",
              " 398,\n",
              " 177,\n",
              " 166,\n",
              " 214,\n",
              " 405,\n",
              " 655,\n",
              " 393,\n",
              " 292,\n",
              " 95,\n",
              " 601,\n",
              " 168,\n",
              " 251,\n",
              " 675,\n",
              " 180,\n",
              " 92,\n",
              " 193,\n",
              " 787,\n",
              " 884,\n",
              " 1384,\n",
              " 524,\n",
              " 221,\n",
              " 532,\n",
              " 784,\n",
              " 227,\n",
              " 474,\n",
              " 158,\n",
              " 571,\n",
              " 149,\n",
              " 173,\n",
              " 166,\n",
              " 192,\n",
              " 511,\n",
              " 203,\n",
              " 201,\n",
              " 170,\n",
              " 442,\n",
              " 267,\n",
              " 183,\n",
              " 227,\n",
              " 226,\n",
              " 357,\n",
              " 640,\n",
              " 772,\n",
              " 161,\n",
              " 238,\n",
              " 164,\n",
              " 487,\n",
              " 322,\n",
              " 98,\n",
              " 164,\n",
              " 116,\n",
              " 170,\n",
              " 156,\n",
              " 324,\n",
              " 428,\n",
              " 187,\n",
              " 198,\n",
              " 155,\n",
              " 232,\n",
              " 1069,\n",
              " 193,\n",
              " 464,\n",
              " 208,\n",
              " 166,\n",
              " 252,\n",
              " 493,\n",
              " 583,\n",
              " 769,\n",
              " 161,\n",
              " 312,\n",
              " 860,\n",
              " 376,\n",
              " 402,\n",
              " 278,\n",
              " 315,\n",
              " 1131,\n",
              " 218,\n",
              " 957,\n",
              " 776,\n",
              " 210,\n",
              " 538,\n",
              " 178,\n",
              " 307,\n",
              " 218,\n",
              " 775,\n",
              " 299,\n",
              " 325,\n",
              " 290,\n",
              " 368,\n",
              " 163,\n",
              " 291,\n",
              " 761,\n",
              " 678,\n",
              " 150,\n",
              " 238,\n",
              " 165,\n",
              " 189,\n",
              " 251,\n",
              " 66,\n",
              " 146,\n",
              " 200,\n",
              " 249,\n",
              " 189,\n",
              " 212,\n",
              " 298,\n",
              " 607,\n",
              " 548,\n",
              " 203,\n",
              " 231,\n",
              " 106,\n",
              " 857,\n",
              " 554,\n",
              " 242,\n",
              " 378,\n",
              " 87,\n",
              " 165,\n",
              " 171,\n",
              " 236,\n",
              " 71,\n",
              " 124,\n",
              " 1600,\n",
              " 166,\n",
              " 480,\n",
              " 222,\n",
              " 184,\n",
              " 329,\n",
              " 201,\n",
              " 480,\n",
              " 148,\n",
              " 142,\n",
              " 174,\n",
              " 179,\n",
              " 636,\n",
              " 277,\n",
              " 443,\n",
              " 383,\n",
              " 72,\n",
              " 136,\n",
              " 218,\n",
              " 52,\n",
              " 391,\n",
              " 130,\n",
              " 139,\n",
              " 506,\n",
              " 202,\n",
              " 314,\n",
              " 169,\n",
              " 349,\n",
              " 223,\n",
              " 217,\n",
              " 253,\n",
              " 683,\n",
              " 247,\n",
              " 94,\n",
              " 329,\n",
              " 219,\n",
              " 184,\n",
              " 401,\n",
              " 95,\n",
              " 209,\n",
              " 851,\n",
              " 167,\n",
              " 146,\n",
              " 103,\n",
              " 250,\n",
              " 384,\n",
              " 245,\n",
              " 235,\n",
              " 174,\n",
              " 246,\n",
              " 475,\n",
              " 760,\n",
              " 178,\n",
              " 295,\n",
              " 600,\n",
              " 453,\n",
              " 147,\n",
              " 415,\n",
              " 173,\n",
              " 206,\n",
              " 475,\n",
              " 116,\n",
              " 383,\n",
              " 1230,\n",
              " 377,\n",
              " 194,\n",
              " 491,\n",
              " 181,\n",
              " 118,\n",
              " 171,\n",
              " 205,\n",
              " 126,\n",
              " 298,\n",
              " 63,\n",
              " 999,\n",
              " 306,\n",
              " 334,\n",
              " 191,\n",
              " 202,\n",
              " 184,\n",
              " 172,\n",
              " 283,\n",
              " 91,\n",
              " 491,\n",
              " 165,\n",
              " 293,\n",
              " 311,\n",
              " 203,\n",
              " 95,\n",
              " 570,\n",
              " 265,\n",
              " 295,\n",
              " 182,\n",
              " 392,\n",
              " 296,\n",
              " 149,\n",
              " 507,\n",
              " 68,\n",
              " 186,\n",
              " 254,\n",
              " 362,\n",
              " 248,\n",
              " 228,\n",
              " 58,\n",
              " 478,\n",
              " 1019,\n",
              " 163,\n",
              " 745,\n",
              " 71,\n",
              " 407,\n",
              " 425,\n",
              " 201,\n",
              " 525,\n",
              " 185,\n",
              " 187,\n",
              " 700,\n",
              " 313,\n",
              " 445,\n",
              " 74,\n",
              " 191,\n",
              " 328,\n",
              " 392,\n",
              " 98,\n",
              " 180,\n",
              " 176,\n",
              " 193,\n",
              " 237,\n",
              " 200,\n",
              " 57,\n",
              " 279,\n",
              " 554,\n",
              " 166,\n",
              " 225,\n",
              " 191,\n",
              " 161,\n",
              " 35,\n",
              " 126,\n",
              " 390,\n",
              " 247,\n",
              " 226,\n",
              " 228,\n",
              " 113,\n",
              " 555,\n",
              " 194,\n",
              " 202,\n",
              " 205,\n",
              " 187,\n",
              " 171,\n",
              " 205,\n",
              " 250,\n",
              " 567,\n",
              " 182,\n",
              " 831,\n",
              " 402,\n",
              " 171,\n",
              " 189,\n",
              " 269,\n",
              " 98,\n",
              " 207,\n",
              " 273,\n",
              " 80,\n",
              " 89,\n",
              " 552,\n",
              " 269,\n",
              " 907,\n",
              " 936,\n",
              " 224,\n",
              " 171,\n",
              " 290,\n",
              " 268,\n",
              " 625,\n",
              " 177,\n",
              " 60,\n",
              " 282,\n",
              " 179,\n",
              " 818,\n",
              " 335,\n",
              " 256,\n",
              " 730,\n",
              " 240,\n",
              " 106,\n",
              " 289,\n",
              " 189,\n",
              " 283,\n",
              " 657,\n",
              " 680,\n",
              " 70,\n",
              " 345,\n",
              " 209,\n",
              " 237,\n",
              " 152,\n",
              " 175,\n",
              " 194,\n",
              " 198,\n",
              " 305,\n",
              " 196,\n",
              " 349,\n",
              " 304,\n",
              " 274,\n",
              " 207,\n",
              " 192,\n",
              " 286,\n",
              " 217,\n",
              " 249,\n",
              " 270,\n",
              " 510,\n",
              " 102,\n",
              " 114,\n",
              " 526,\n",
              " 444,\n",
              " 168,\n",
              " 320,\n",
              " 230,\n",
              " 155,\n",
              " 261,\n",
              " 356,\n",
              " 226,\n",
              " 420,\n",
              " 547,\n",
              " 240,\n",
              " 493,\n",
              " 88,\n",
              " 91,\n",
              " 184,\n",
              " 239,\n",
              " 153,\n",
              " 183,\n",
              " 151,\n",
              " 654,\n",
              " 89,\n",
              " 82,\n",
              " 1115,\n",
              " 406,\n",
              " 267,\n",
              " ...]"
            ]
          },
          "metadata": {},
          "execution_count": 35
        }
      ]
    },
    {
      "cell_type": "code",
      "metadata": {
        "id": "-Yb9EjKDTNhj",
        "colab": {
          "base_uri": "https://localhost:8080/"
        },
        "outputId": "b12e9259-4d96-4493-ae11-e48f1181cdae"
      },
      "source": [
        "max_seq_length = max(lens)\n",
        "print('Max length is:', max_seq_length)"
      ],
      "execution_count": null,
      "outputs": [
        {
          "output_type": "stream",
          "name": "stdout",
          "text": [
            "Max length is: 1716\n"
          ]
        }
      ]
    },
    {
      "cell_type": "markdown",
      "metadata": {
        "id": "j9_1dgmeZX5w"
      },
      "source": [
        "Most of the time I suggest adding a bit more to the `max_seq_length` esspecially when ussing just a fraction of data. Let's make it `1.5*max_seq_length`."
      ]
    },
    {
      "cell_type": "code",
      "metadata": {
        "id": "1-MsePX3Zq0E",
        "colab": {
          "base_uri": "https://localhost:8080/"
        },
        "outputId": "7e5b0ecb-d843-4ea3-8248-eece6bccd0e8"
      },
      "source": [
        "#max_seq_length = int(1.5*max_seq_length)\n",
        "max_seq_length = 512\n",
        "print('Max length is:', max_seq_length)"
      ],
      "execution_count": null,
      "outputs": [
        {
          "output_type": "stream",
          "name": "stdout",
          "text": [
            "Max length is: 512\n"
          ]
        }
      ]
    },
    {
      "cell_type": "markdown",
      "metadata": {
        "id": "doqSqtdET5JQ"
      },
      "source": [
        "Functions themselves."
      ]
    },
    {
      "cell_type": "code",
      "metadata": {
        "id": "YYTddxJZT4cS"
      },
      "source": [
        "def encode_names(n, tokenizer):\n",
        "   tokens = list(tokenizer.tokenize(n))\n",
        "   tokens.append('[SEP]')\n",
        "   return tokenizer.convert_tokens_to_ids(tokens)\n",
        "\n",
        "def bert_encode(string_list, tokenizer, max_seq_length):\n",
        "  num_examples = len(string_list)\n",
        "  \n",
        "  string_tokens = tf.ragged.constant([\n",
        "      encode_names(n, tokenizer) for n in np.array(string_list)])\n",
        "\n",
        "  cls = [tokenizer.convert_tokens_to_ids(['[CLS]'])]*string_tokens.shape[0]\n",
        "  input_word_ids = tf.concat([cls, string_tokens], axis=-1)\n",
        "\n",
        "  input_mask = tf.ones_like(input_word_ids).to_tensor(shape=(None, max_seq_length))\n",
        "\n",
        "  type_cls = tf.zeros_like(cls)\n",
        "  type_tokens = tf.ones_like(string_tokens)\n",
        "  input_type_ids = tf.concat(\n",
        "      [type_cls, type_tokens], axis=-1).to_tensor(shape=(None, max_seq_length))\n",
        "\n",
        "  inputs = {\n",
        "      'input_word_ids': input_word_ids.to_tensor(shape=(None, max_seq_length)),\n",
        "      'input_mask': input_mask,\n",
        "      'input_type_ids': input_type_ids}\n",
        "\n",
        "  return inputs"
      ],
      "execution_count": null,
      "outputs": []
    },
    {
      "cell_type": "markdown",
      "metadata": {
        "id": "8K_R_A3lULSO"
      },
      "source": [
        "And now we preprocess inputs."
      ]
    },
    {
      "cell_type": "code",
      "metadata": {
        "id": "3X6EQXxVUi4s"
      },
      "source": [
        "X_train = bert_encode(x_train, tokenizer, max_seq_length)\n",
        "X_test = bert_encode(x_test, tokenizer, max_seq_length)"
      ],
      "execution_count": null,
      "outputs": []
    },
    {
      "cell_type": "markdown",
      "metadata": {
        "id": "nJ6PVsxmVbRO"
      },
      "source": [
        "# Bam MODEL part already"
      ]
    },
    {
      "cell_type": "markdown",
      "metadata": {
        "id": "4QVhnrzH9ygq"
      },
      "source": [
        "## Initial training"
      ]
    },
    {
      "cell_type": "markdown",
      "metadata": {
        "id": "kXvVljK3VjKt"
      },
      "source": [
        "We need to set up our model using the inputs we made, BERT model that we downloaded and an output layer based on num of classes we are using."
      ]
    },
    {
      "cell_type": "code",
      "metadata": {
        "id": "TENzkxMeThTv"
      },
      "source": [
        "num_class = len(encoder.classes_)  # Based on available class selection\n",
        "max_seq_length = max_seq_length  # we calculated this a couple cells ago\n",
        "\n",
        "input_word_ids = tf.keras.layers.Input(shape=(max_seq_length,), dtype=tf.int32,\n",
        "                                       name=\"input_word_ids\")\n",
        "input_mask = tf.keras.layers.Input(shape=(max_seq_length,), dtype=tf.int32,\n",
        "                                   name=\"input_mask\")\n",
        "segment_ids = tf.keras.layers.Input(shape=(max_seq_length,), dtype=tf.int32,\n",
        "                                    name=\"segment_ids\")\n",
        "\n",
        "pooled_output, sequence_output = bert_layer([input_word_ids, input_mask, segment_ids])                                  \n",
        "\n",
        "output = tf.keras.layers.Dropout(rate=0.1)(pooled_output)\n",
        "\n",
        "output = tf.keras.layers.Dense(num_class, activation='softmax', name='output')(output)\n",
        "\n",
        "model = tf.keras.Model(\n",
        "    inputs={\n",
        "        'input_word_ids': input_word_ids,\n",
        "        'input_mask': input_mask,\n",
        "        'input_type_ids': segment_ids\n",
        "        },\n",
        "        outputs=output)"
      ],
      "execution_count": null,
      "outputs": []
    },
    {
      "cell_type": "code",
      "source": [
        "[input_word_ids, input_mask, segment_ids]"
      ],
      "metadata": {
        "colab": {
          "base_uri": "https://localhost:8080/"
        },
        "id": "5weFOU4aqcrH",
        "outputId": "564c7c7b-c127-4d67-e41f-0d58ccd5d958"
      },
      "execution_count": null,
      "outputs": [
        {
          "output_type": "execute_result",
          "data": {
            "text/plain": [
              "[<KerasTensor: shape=(None, 512) dtype=int32 (created by layer 'input_word_ids')>,\n",
              " <KerasTensor: shape=(None, 512) dtype=int32 (created by layer 'input_mask')>,\n",
              " <KerasTensor: shape=(None, 512) dtype=int32 (created by layer 'segment_ids')>]"
            ]
          },
          "metadata": {},
          "execution_count": 42
        }
      ]
    },
    {
      "cell_type": "markdown",
      "metadata": {
        "id": "A4CLYDQYUZMP"
      },
      "source": [
        "Our model."
      ]
    },
    {
      "cell_type": "code",
      "metadata": {
        "id": "oN0Kh1ruUWPF",
        "colab": {
          "base_uri": "https://localhost:8080/",
          "height": 220
        },
        "outputId": "65e055ea-e6c8-404a-d9f8-8c65e72d55c0"
      },
      "source": [
        "tf.keras.utils.plot_model(model, show_shapes=True, dpi=48)"
      ],
      "execution_count": null,
      "outputs": [
        {
          "output_type": "execute_result",
          "data": {
            "text/plain": [
              "<IPython.core.display.Image object>"
            ],
            "image/png": "[encoded data removed]"
          },
          "metadata": {},
          "execution_count": 43
        }
      ]
    },
    {
      "cell_type": "markdown",
      "metadata": {
        "id": "qvap4afcV4cZ"
      },
      "source": [
        "Set up the training parameters."
      ]
    },
    {
      "cell_type": "code",
      "metadata": {
        "id": "bNeskVwpUco0"
      },
      "source": [
        "epochs = 3\n",
        "batch_size = 8  # select based on your GPU resources\n",
        "eval_batch_size = batch_size\n",
        "\n",
        "train_data_size = len(dummy_y_train)\n",
        "steps_per_epoch = int(train_data_size / batch_size)\n",
        "num_train_steps = steps_per_epoch * epochs\n",
        "warmup_steps = int(epochs * train_data_size * 0.1 / batch_size)\n",
        "\n",
        "optimizer = nlp.optimization.create_optimizer(\n",
        "    2e-5, num_train_steps=num_train_steps, num_warmup_steps=warmup_steps)"
      ],
      "execution_count": null,
      "outputs": []
    },
    {
      "cell_type": "markdown",
      "metadata": {
        "id": "V2PRw94bV_cy"
      },
      "source": [
        "Compile the model."
      ]
    },
    {
      "cell_type": "code",
      "metadata": {
        "id": "dpXu5QfFWAoD"
      },
      "source": [
        "model.compile(optimizer=optimizer,\n",
        "              loss='categorical_crossentropy',\n",
        "              metrics=['accuracy'])"
      ],
      "execution_count": null,
      "outputs": []
    },
    {
      "cell_type": "code",
      "metadata": {
        "id": "K0-u2YKQWDAV",
        "colab": {
          "base_uri": "https://localhost:8080/"
        },
        "outputId": "1eeb8eab-6bd3-4a7c-e0c0-3d478c537982"
      },
      "source": [
        "model.summary()"
      ],
      "execution_count": null,
      "outputs": [
        {
          "output_type": "stream",
          "name": "stdout",
          "text": [
            "Model: \"model\"\n",
            "__________________________________________________________________________________________________\n",
            " Layer (type)                   Output Shape         Param #     Connected to                     \n",
            "==================================================================================================\n",
            " input_word_ids (InputLayer)    [(None, 512)]        0           []                               \n",
            "                                                                                                  \n",
            " input_mask (InputLayer)        [(None, 512)]        0           []                               \n",
            "                                                                                                  \n",
            " segment_ids (InputLayer)       [(None, 512)]        0           []                               \n",
            "                                                                                                  \n",
            " keras_layer (KerasLayer)       [(None, 768),        177853441   ['input_word_ids[0][0]',         \n",
            "                                 (None, 512, 768)]                'input_mask[0][0]',             \n",
            "                                                                  'segment_ids[0][0]']            \n",
            "                                                                                                  \n",
            " dropout (Dropout)              (None, 768)          0           ['keras_layer[0][0]']            \n",
            "                                                                                                  \n",
            " output (Dense)                 (None, 2)            1538        ['dropout[0][0]']                \n",
            "                                                                                                  \n",
            "==================================================================================================\n",
            "Total params: 177,854,979\n",
            "Trainable params: 177,854,978\n",
            "Non-trainable params: 1\n",
            "__________________________________________________________________________________________________\n"
          ]
        }
      ]
    },
    {
      "cell_type": "markdown",
      "metadata": {
        "id": "h_jIRI2zWbtx"
      },
      "source": [
        "Set up a history to check our model performance afterwards."
      ]
    },
    {
      "cell_type": "code",
      "source": [
        "dummy_y_test\n"
      ],
      "metadata": {
        "colab": {
          "base_uri": "https://localhost:8080/"
        },
        "id": "vWg8xzFV1_48",
        "outputId": "845a6ca6-1a4a-4893-e4f7-13e4249d5ceb"
      },
      "execution_count": null,
      "outputs": [
        {
          "output_type": "execute_result",
          "data": {
            "text/plain": [
              "array([[1., 0.],\n",
              "       [0., 1.],\n",
              "       [0., 1.],\n",
              "       [1., 0.],\n",
              "       [0., 1.],\n",
              "       [0., 1.],\n",
              "       [0., 1.],\n",
              "       [1., 0.],\n",
              "       [0., 1.],\n",
              "       [0., 1.],\n",
              "       [0., 1.],\n",
              "       [1., 0.],\n",
              "       [0., 1.],\n",
              "       [0., 1.],\n",
              "       [1., 0.],\n",
              "       [0., 1.],\n",
              "       [1., 0.],\n",
              "       [1., 0.],\n",
              "       [0., 1.],\n",
              "       [1., 0.],\n",
              "       [0., 1.],\n",
              "       [1., 0.],\n",
              "       [0., 1.],\n",
              "       [0., 1.],\n",
              "       [0., 1.],\n",
              "       [0., 1.],\n",
              "       [1., 0.],\n",
              "       [0., 1.],\n",
              "       [1., 0.],\n",
              "       [1., 0.],\n",
              "       [1., 0.],\n",
              "       [0., 1.],\n",
              "       [0., 1.],\n",
              "       [0., 1.],\n",
              "       [1., 0.],\n",
              "       [0., 1.],\n",
              "       [0., 1.],\n",
              "       [0., 1.],\n",
              "       [0., 1.],\n",
              "       [0., 1.],\n",
              "       [0., 1.],\n",
              "       [0., 1.],\n",
              "       [1., 0.],\n",
              "       [1., 0.],\n",
              "       [0., 1.],\n",
              "       [0., 1.],\n",
              "       [0., 1.],\n",
              "       [0., 1.],\n",
              "       [1., 0.],\n",
              "       [0., 1.],\n",
              "       [1., 0.],\n",
              "       [0., 1.],\n",
              "       [1., 0.],\n",
              "       [1., 0.],\n",
              "       [1., 0.],\n",
              "       [1., 0.],\n",
              "       [0., 1.],\n",
              "       [0., 1.],\n",
              "       [0., 1.],\n",
              "       [0., 1.],\n",
              "       [1., 0.],\n",
              "       [1., 0.],\n",
              "       [0., 1.],\n",
              "       [1., 0.],\n",
              "       [1., 0.],\n",
              "       [0., 1.],\n",
              "       [1., 0.],\n",
              "       [0., 1.],\n",
              "       [0., 1.],\n",
              "       [1., 0.],\n",
              "       [0., 1.],\n",
              "       [1., 0.],\n",
              "       [0., 1.],\n",
              "       [0., 1.],\n",
              "       [0., 1.],\n",
              "       [1., 0.],\n",
              "       [1., 0.],\n",
              "       [0., 1.],\n",
              "       [0., 1.],\n",
              "       [1., 0.],\n",
              "       [1., 0.],\n",
              "       [1., 0.],\n",
              "       [1., 0.],\n",
              "       [0., 1.],\n",
              "       [1., 0.],\n",
              "       [1., 0.],\n",
              "       [1., 0.],\n",
              "       [1., 0.],\n",
              "       [0., 1.],\n",
              "       [1., 0.],\n",
              "       [0., 1.],\n",
              "       [1., 0.],\n",
              "       [0., 1.],\n",
              "       [1., 0.],\n",
              "       [0., 1.],\n",
              "       [0., 1.],\n",
              "       [0., 1.],\n",
              "       [1., 0.],\n",
              "       [1., 0.],\n",
              "       [0., 1.],\n",
              "       [0., 1.],\n",
              "       [0., 1.],\n",
              "       [0., 1.],\n",
              "       [1., 0.],\n",
              "       [1., 0.],\n",
              "       [0., 1.],\n",
              "       [0., 1.],\n",
              "       [0., 1.],\n",
              "       [0., 1.],\n",
              "       [0., 1.],\n",
              "       [0., 1.],\n",
              "       [1., 0.],\n",
              "       [1., 0.],\n",
              "       [0., 1.],\n",
              "       [0., 1.],\n",
              "       [1., 0.],\n",
              "       [1., 0.],\n",
              "       [0., 1.],\n",
              "       [0., 1.],\n",
              "       [1., 0.],\n",
              "       [0., 1.],\n",
              "       [0., 1.],\n",
              "       [1., 0.],\n",
              "       [0., 1.],\n",
              "       [0., 1.],\n",
              "       [0., 1.],\n",
              "       [0., 1.],\n",
              "       [1., 0.],\n",
              "       [0., 1.],\n",
              "       [0., 1.],\n",
              "       [0., 1.],\n",
              "       [0., 1.],\n",
              "       [0., 1.],\n",
              "       [0., 1.],\n",
              "       [1., 0.],\n",
              "       [0., 1.],\n",
              "       [1., 0.],\n",
              "       [0., 1.],\n",
              "       [0., 1.],\n",
              "       [0., 1.],\n",
              "       [0., 1.],\n",
              "       [0., 1.],\n",
              "       [1., 0.],\n",
              "       [0., 1.],\n",
              "       [1., 0.],\n",
              "       [1., 0.],\n",
              "       [0., 1.],\n",
              "       [0., 1.],\n",
              "       [0., 1.],\n",
              "       [1., 0.],\n",
              "       [0., 1.],\n",
              "       [0., 1.],\n",
              "       [1., 0.],\n",
              "       [1., 0.],\n",
              "       [1., 0.],\n",
              "       [0., 1.],\n",
              "       [1., 0.],\n",
              "       [0., 1.],\n",
              "       [0., 1.],\n",
              "       [0., 1.],\n",
              "       [0., 1.],\n",
              "       [0., 1.],\n",
              "       [0., 1.],\n",
              "       [0., 1.],\n",
              "       [0., 1.],\n",
              "       [1., 0.],\n",
              "       [0., 1.],\n",
              "       [0., 1.],\n",
              "       [1., 0.],\n",
              "       [0., 1.],\n",
              "       [0., 1.],\n",
              "       [1., 0.],\n",
              "       [1., 0.],\n",
              "       [0., 1.],\n",
              "       [0., 1.],\n",
              "       [0., 1.],\n",
              "       [1., 0.],\n",
              "       [1., 0.],\n",
              "       [1., 0.],\n",
              "       [1., 0.],\n",
              "       [0., 1.],\n",
              "       [1., 0.],\n",
              "       [1., 0.],\n",
              "       [1., 0.],\n",
              "       [0., 1.],\n",
              "       [1., 0.],\n",
              "       [0., 1.],\n",
              "       [1., 0.],\n",
              "       [0., 1.],\n",
              "       [1., 0.],\n",
              "       [0., 1.],\n",
              "       [1., 0.],\n",
              "       [1., 0.],\n",
              "       [0., 1.],\n",
              "       [0., 1.],\n",
              "       [1., 0.],\n",
              "       [1., 0.],\n",
              "       [0., 1.],\n",
              "       [1., 0.],\n",
              "       [1., 0.],\n",
              "       [1., 0.],\n",
              "       [1., 0.],\n",
              "       [0., 1.],\n",
              "       [0., 1.],\n",
              "       [0., 1.],\n",
              "       [0., 1.],\n",
              "       [1., 0.],\n",
              "       [1., 0.],\n",
              "       [1., 0.],\n",
              "       [1., 0.],\n",
              "       [1., 0.],\n",
              "       [1., 0.],\n",
              "       [1., 0.],\n",
              "       [0., 1.],\n",
              "       [1., 0.],\n",
              "       [1., 0.],\n",
              "       [0., 1.],\n",
              "       [1., 0.],\n",
              "       [1., 0.],\n",
              "       [1., 0.],\n",
              "       [1., 0.],\n",
              "       [1., 0.],\n",
              "       [1., 0.],\n",
              "       [0., 1.],\n",
              "       [1., 0.],\n",
              "       [0., 1.],\n",
              "       [1., 0.],\n",
              "       [1., 0.],\n",
              "       [1., 0.],\n",
              "       [1., 0.],\n",
              "       [1., 0.],\n",
              "       [0., 1.],\n",
              "       [0., 1.],\n",
              "       [1., 0.],\n",
              "       [1., 0.],\n",
              "       [0., 1.],\n",
              "       [0., 1.],\n",
              "       [0., 1.],\n",
              "       [0., 1.],\n",
              "       [1., 0.],\n",
              "       [1., 0.],\n",
              "       [1., 0.],\n",
              "       [0., 1.],\n",
              "       [1., 0.],\n",
              "       [1., 0.],\n",
              "       [1., 0.],\n",
              "       [0., 1.],\n",
              "       [1., 0.],\n",
              "       [0., 1.],\n",
              "       [0., 1.],\n",
              "       [0., 1.],\n",
              "       [1., 0.],\n",
              "       [1., 0.],\n",
              "       [1., 0.],\n",
              "       [1., 0.],\n",
              "       [1., 0.],\n",
              "       [0., 1.],\n",
              "       [0., 1.],\n",
              "       [0., 1.],\n",
              "       [0., 1.],\n",
              "       [1., 0.],\n",
              "       [0., 1.],\n",
              "       [0., 1.],\n",
              "       [1., 0.],\n",
              "       [1., 0.],\n",
              "       [1., 0.],\n",
              "       [1., 0.],\n",
              "       [1., 0.],\n",
              "       [1., 0.],\n",
              "       [0., 1.],\n",
              "       [0., 1.],\n",
              "       [0., 1.],\n",
              "       [0., 1.],\n",
              "       [1., 0.],\n",
              "       [1., 0.],\n",
              "       [1., 0.],\n",
              "       [1., 0.],\n",
              "       [0., 1.],\n",
              "       [1., 0.],\n",
              "       [0., 1.],\n",
              "       [1., 0.],\n",
              "       [0., 1.],\n",
              "       [1., 0.],\n",
              "       [1., 0.],\n",
              "       [1., 0.],\n",
              "       [0., 1.],\n",
              "       [0., 1.],\n",
              "       [1., 0.],\n",
              "       [1., 0.],\n",
              "       [0., 1.],\n",
              "       [1., 0.],\n",
              "       [1., 0.],\n",
              "       [0., 1.],\n",
              "       [1., 0.],\n",
              "       [0., 1.],\n",
              "       [1., 0.],\n",
              "       [0., 1.],\n",
              "       [1., 0.],\n",
              "       [1., 0.],\n",
              "       [0., 1.],\n",
              "       [0., 1.],\n",
              "       [0., 1.],\n",
              "       [1., 0.],\n",
              "       [1., 0.],\n",
              "       [0., 1.],\n",
              "       [0., 1.],\n",
              "       [0., 1.],\n",
              "       [0., 1.],\n",
              "       [0., 1.],\n",
              "       [1., 0.],\n",
              "       [0., 1.],\n",
              "       [0., 1.],\n",
              "       [1., 0.],\n",
              "       [0., 1.],\n",
              "       [1., 0.],\n",
              "       [0., 1.],\n",
              "       [1., 0.],\n",
              "       [1., 0.],\n",
              "       [0., 1.],\n",
              "       [1., 0.],\n",
              "       [0., 1.],\n",
              "       [0., 1.],\n",
              "       [0., 1.],\n",
              "       [0., 1.],\n",
              "       [1., 0.],\n",
              "       [1., 0.],\n",
              "       [0., 1.],\n",
              "       [1., 0.],\n",
              "       [0., 1.],\n",
              "       [1., 0.],\n",
              "       [0., 1.],\n",
              "       [0., 1.],\n",
              "       [1., 0.],\n",
              "       [1., 0.],\n",
              "       [1., 0.],\n",
              "       [1., 0.],\n",
              "       [0., 1.],\n",
              "       [1., 0.],\n",
              "       [1., 0.],\n",
              "       [1., 0.],\n",
              "       [0., 1.],\n",
              "       [0., 1.],\n",
              "       [0., 1.],\n",
              "       [1., 0.],\n",
              "       [0., 1.],\n",
              "       [1., 0.],\n",
              "       [1., 0.],\n",
              "       [0., 1.],\n",
              "       [1., 0.],\n",
              "       [1., 0.],\n",
              "       [0., 1.],\n",
              "       [0., 1.],\n",
              "       [1., 0.],\n",
              "       [0., 1.],\n",
              "       [1., 0.],\n",
              "       [0., 1.],\n",
              "       [0., 1.],\n",
              "       [0., 1.],\n",
              "       [1., 0.],\n",
              "       [1., 0.],\n",
              "       [1., 0.],\n",
              "       [0., 1.],\n",
              "       [1., 0.],\n",
              "       [0., 1.],\n",
              "       [0., 1.],\n",
              "       [0., 1.],\n",
              "       [1., 0.],\n",
              "       [1., 0.],\n",
              "       [1., 0.],\n",
              "       [1., 0.],\n",
              "       [0., 1.],\n",
              "       [0., 1.],\n",
              "       [0., 1.],\n",
              "       [0., 1.],\n",
              "       [1., 0.],\n",
              "       [1., 0.],\n",
              "       [1., 0.],\n",
              "       [1., 0.],\n",
              "       [1., 0.],\n",
              "       [1., 0.],\n",
              "       [1., 0.],\n",
              "       [0., 1.],\n",
              "       [1., 0.],\n",
              "       [0., 1.],\n",
              "       [1., 0.],\n",
              "       [0., 1.],\n",
              "       [1., 0.],\n",
              "       [1., 0.],\n",
              "       [0., 1.],\n",
              "       [0., 1.],\n",
              "       [0., 1.],\n",
              "       [0., 1.],\n",
              "       [1., 0.],\n",
              "       [1., 0.],\n",
              "       [1., 0.],\n",
              "       [0., 1.],\n",
              "       [0., 1.],\n",
              "       [0., 1.],\n",
              "       [1., 0.],\n",
              "       [0., 1.],\n",
              "       [0., 1.],\n",
              "       [1., 0.],\n",
              "       [0., 1.],\n",
              "       [1., 0.],\n",
              "       [1., 0.],\n",
              "       [0., 1.],\n",
              "       [1., 0.],\n",
              "       [0., 1.],\n",
              "       [1., 0.],\n",
              "       [0., 1.],\n",
              "       [1., 0.],\n",
              "       [0., 1.],\n",
              "       [1., 0.],\n",
              "       [0., 1.],\n",
              "       [1., 0.],\n",
              "       [0., 1.],\n",
              "       [1., 0.],\n",
              "       [1., 0.],\n",
              "       [0., 1.],\n",
              "       [0., 1.],\n",
              "       [1., 0.],\n",
              "       [1., 0.],\n",
              "       [1., 0.],\n",
              "       [1., 0.],\n",
              "       [0., 1.],\n",
              "       [1., 0.],\n",
              "       [0., 1.],\n",
              "       [1., 0.],\n",
              "       [0., 1.],\n",
              "       [1., 0.],\n",
              "       [0., 1.],\n",
              "       [1., 0.],\n",
              "       [0., 1.],\n",
              "       [0., 1.],\n",
              "       [0., 1.],\n",
              "       [1., 0.],\n",
              "       [0., 1.],\n",
              "       [1., 0.],\n",
              "       [0., 1.],\n",
              "       [1., 0.],\n",
              "       [0., 1.],\n",
              "       [0., 1.],\n",
              "       [1., 0.],\n",
              "       [0., 1.],\n",
              "       [0., 1.],\n",
              "       [1., 0.],\n",
              "       [1., 0.],\n",
              "       [1., 0.],\n",
              "       [0., 1.],\n",
              "       [0., 1.],\n",
              "       [1., 0.],\n",
              "       [1., 0.],\n",
              "       [0., 1.],\n",
              "       [0., 1.],\n",
              "       [0., 1.],\n",
              "       [1., 0.],\n",
              "       [1., 0.],\n",
              "       [0., 1.],\n",
              "       [0., 1.],\n",
              "       [1., 0.],\n",
              "       [1., 0.],\n",
              "       [0., 1.],\n",
              "       [1., 0.],\n",
              "       [0., 1.],\n",
              "       [0., 1.],\n",
              "       [0., 1.],\n",
              "       [0., 1.],\n",
              "       [0., 1.],\n",
              "       [0., 1.],\n",
              "       [1., 0.],\n",
              "       [0., 1.],\n",
              "       [1., 0.],\n",
              "       [1., 0.],\n",
              "       [0., 1.],\n",
              "       [1., 0.],\n",
              "       [0., 1.],\n",
              "       [1., 0.],\n",
              "       [1., 0.],\n",
              "       [0., 1.],\n",
              "       [0., 1.],\n",
              "       [0., 1.],\n",
              "       [1., 0.],\n",
              "       [0., 1.],\n",
              "       [0., 1.],\n",
              "       [1., 0.],\n",
              "       [1., 0.],\n",
              "       [1., 0.],\n",
              "       [1., 0.],\n",
              "       [1., 0.],\n",
              "       [0., 1.],\n",
              "       [0., 1.],\n",
              "       [0., 1.],\n",
              "       [1., 0.],\n",
              "       [1., 0.],\n",
              "       [0., 1.],\n",
              "       [0., 1.],\n",
              "       [0., 1.],\n",
              "       [1., 0.],\n",
              "       [0., 1.],\n",
              "       [0., 1.]], dtype=float32)"
            ]
          },
          "metadata": {},
          "execution_count": 54
        }
      ]
    },
    {
      "cell_type": "code",
      "metadata": {
        "id": "ATMWQDkVWY6n",
        "colab": {
          "base_uri": "https://localhost:8080/"
        },
        "outputId": "634106f6-60fa-4266-a1ef-31f8dd766fe7"
      },
      "source": [
        "history = model.fit(X_train,\n",
        "                    dummy_y_train,\n",
        "                    epochs=epochs,\n",
        "                    batch_size=batch_size,\n",
        "                    validation_data=(X_test, dummy_y_test),\n",
        "                    verbose=1)"
      ],
      "execution_count": null,
      "outputs": [
        {
          "output_type": "stream",
          "name": "stdout",
          "text": [
            "Epoch 1/3\n",
            "250/250 [==============================] - 182s 685ms/step - loss: 0.5956 - accuracy: 0.6600 - val_loss: 0.3523 - val_accuracy: 0.8500\n",
            "Epoch 2/3\n",
            "250/250 [==============================] - 170s 682ms/step - loss: 0.3235 - accuracy: 0.8835 - val_loss: 0.4296 - val_accuracy: 0.8700\n",
            "Epoch 3/3\n",
            "250/250 [==============================] - 170s 682ms/step - loss: 0.2588 - accuracy: 0.9075 - val_loss: 0.4296 - val_accuracy: 0.8700\n"
          ]
        }
      ]
    },
    {
      "cell_type": "markdown",
      "metadata": {
        "id": "yVMCMpQJXXdM"
      },
      "source": [
        "Evaluation"
      ]
    },
    {
      "cell_type": "code",
      "metadata": {
        "id": "6yY0h7CPXWD_",
        "colab": {
          "base_uri": "https://localhost:8080/"
        },
        "outputId": "b7da9e91-56d4-493c-8780-6fd8ac1053a7"
      },
      "source": [
        "loss, accuracy = model.evaluate(X_train, dummy_y_train, verbose=False)\n",
        "print(\"Training Accuracy: {:.4f}\".format(accuracy))\n",
        "loss, accuracy = model.evaluate(X_test, dummy_y_test, verbose=False)\n",
        "print(\"Testing Accuracy:  {:.4f}\".format(accuracy))"
      ],
      "execution_count": null,
      "outputs": [
        {
          "output_type": "stream",
          "name": "stdout",
          "text": [
            "Training Accuracy: 0.9170\n",
            "Testing Accuracy:  0.8700\n"
          ]
        }
      ]
    },
    {
      "cell_type": "markdown",
      "metadata": {
        "id": "QeIFeUsyXVwQ"
      },
      "source": [
        "Noice plots are noice"
      ]
    },
    {
      "cell_type": "code",
      "metadata": {
        "id": "n1jJDOPzXcEH"
      },
      "source": [
        "plt.style.use('ggplot')\n",
        "\n",
        "def plot_history(history):\n",
        "    acc = history.history['accuracy']\n",
        "    val_acc = history.history['val_accuracy']\n",
        "    loss = history.history['loss']\n",
        "    val_loss = history.history['val_loss']\n",
        "    x = range(1, len(acc) + 1)\n",
        "\n",
        "    plt.figure(figsize=(12, 5))\n",
        "    plt.subplot(1, 2, 1)\n",
        "    plt.plot(x, acc, 'b', label='Training acc')\n",
        "    plt.plot(x, val_acc, 'r', label='Validation acc')\n",
        "    plt.title('Training and validation accuracy')\n",
        "    plt.legend()\n",
        "    plt.subplot(1, 2, 2)\n",
        "    plt.plot(x, loss, 'b', label='Training loss')\n",
        "    plt.plot(x, val_loss, 'r', label='Validation loss')\n",
        "    plt.title('Training and validation loss')\n",
        "    plt.legend()"
      ],
      "execution_count": null,
      "outputs": []
    },
    {
      "cell_type": "code",
      "metadata": {
        "id": "RY7XA4HP9S7H",
        "colab": {
          "base_uri": "https://localhost:8080/",
          "height": 337
        },
        "outputId": "9c66f035-146c-41d6-8ea6-8e34be0a0875"
      },
      "source": [
        "plot_history(history)"
      ],
      "execution_count": null,
      "outputs": [
        {
          "output_type": "display_data",
          "data": {
            "text/plain": [
              "<Figure size 864x360 with 2 Axes>"
            ],
            "image/png": "[encoded data removed]"
          },
          "metadata": {}
        }
      ]
    },
    {
      "cell_type": "markdown",
      "metadata": {
        "id": "C5VEZdft9buk"
      },
      "source": [
        "So, looking at the plot above we can see that at the 3rd epoch our `Validation Loss` jumped significantly even though `Validation Accuracy` stayed pretty much the same. If we would train it more on the same data it would significantly overtrain. \\\\\n",
        "What we can do instead is make another training dataset, lower our learning rate commonly denoted as `lr`, recompile our model using new `lr` and then train it a bit more. \\\\\n",
        "But before doing that we should save our model just in case if we would want to do the additional training in later sessions."
      ]
    },
    {
      "cell_type": "markdown",
      "metadata": {
        "id": "r-eqXo5f3SJc"
      },
      "source": [
        "## Model saving for later use"
      ]
    },
    {
      "cell_type": "markdown",
      "metadata": {
        "id": "ART6DOetXit1"
      },
      "source": [
        "Let's save our model for later use. Unfortunatelly we can't use the optimizer we used for model training to save. I get an error and I can't resolve it. So we will recompile our model before saving."
      ]
    },
    {
      "cell_type": "code",
      "metadata": {
        "id": "nInJE2SrXfS3"
      },
      "source": [
        "model.compile(optimizer='adam',\n",
        "              loss='categorical_crossentropy',\n",
        "              metrics=['accuracy'])"
      ],
      "execution_count": null,
      "outputs": []
    },
    {
      "cell_type": "code",
      "metadata": {
        "id": "eGLOM58PX4Rg",
        "colab": {
          "base_uri": "https://localhost:8080/"
        },
        "outputId": "42510c95-634c-44e0-bcd2-5b32a7f99be4"
      },
      "source": [
        "model_fname = 'imdb_BERT_5pct'\n",
        "my_wd = '/content/gdrive/MyDrive/MIAR/TFM/BERT Sentiment/data/'\n",
        "\n",
        "model.save(os.path.join(my_wd, model_fname))"
      ],
      "execution_count": null,
      "outputs": [
        {
          "output_type": "stream",
          "name": "stderr",
          "text": [
            "WARNING:absl:Found untraced functions such as restored_function_body, restored_function_body, restored_function_body, restored_function_body, restored_function_body while saving (showing 5 of 378). These functions will not be directly callable after loading.\n"
          ]
        },
        {
          "output_type": "stream",
          "name": "stdout",
          "text": [
            "INFO:tensorflow:Assets written to: /content/gdrive/MyDrive/MIAR/TFM/BERT Sentiment/data/imdb_BERT_5pct/assets\n"
          ]
        },
        {
          "output_type": "stream",
          "name": "stderr",
          "text": [
            "INFO:tensorflow:Assets written to: /content/gdrive/MyDrive/MIAR/TFM/BERT Sentiment/data/imdb_BERT_5pct/assets\n"
          ]
        }
      ]
    },
    {
      "cell_type": "markdown",
      "metadata": {
        "id": "jl6wQ47qah-I"
      },
      "source": [
        "### Validate saved model"
      ]
    },
    {
      "cell_type": "markdown",
      "metadata": {
        "id": "MCH6r6NnakdW"
      },
      "source": [
        "Sometimes TF likes to corrupt your model when saving. It's always a good idea to check if everything loads correctly after save."
      ]
    },
    {
      "cell_type": "code",
      "metadata": {
        "id": "RUc7jKm6acec"
      },
      "source": [
        "model_fname = 'imdb_BERT_5pct'\n",
        "my_wd = '/content/gdrive/MyDrive/MIAR/TFM/BERT Sentiment/data/'\n",
        "\n",
        "new_model = tf.keras.models.load_model(os.path.join(my_wd, model_fname))"
      ],
      "execution_count": null,
      "outputs": []
    },
    {
      "cell_type": "code",
      "metadata": {
        "id": "PTW3N0FuawQP",
        "colab": {
          "base_uri": "https://localhost:8080/"
        },
        "outputId": "a7ba364a-0f61-4560-a423-4c3c271fe72b"
      },
      "source": [
        "loss, accuracy = new_model.evaluate(X_test, dummy_y_test, verbose=False)\n",
        "print(\"Testing Accuracy:  {:.4f}\".format(accuracy))"
      ],
      "execution_count": null,
      "outputs": [
        {
          "output_type": "stream",
          "name": "stdout",
          "text": [
            "Testing Accuracy:  0.8282\n"
          ]
        }
      ]
    },
    {
      "cell_type": "code",
      "metadata": {
        "id": "b41aPYSnayV_",
        "colab": {
          "base_uri": "https://localhost:8080/"
        },
        "outputId": "287868fc-7c8a-4b54-8208-8c42428e5923"
      },
      "source": [
        "new_model.summary()"
      ],
      "execution_count": null,
      "outputs": [
        {
          "output_type": "stream",
          "name": "stdout",
          "text": [
            "Model: \"model\"\n",
            "__________________________________________________________________________________________________\n",
            " Layer (type)                   Output Shape         Param #     Connected to                     \n",
            "==================================================================================================\n",
            " input_word_ids (InputLayer)    [(None, 180)]        0           []                               \n",
            "                                                                                                  \n",
            " input_mask (InputLayer)        [(None, 180)]        0           []                               \n",
            "                                                                                                  \n",
            " segment_ids (InputLayer)       [(None, 180)]        0           []                               \n",
            "                                                                                                  \n",
            " keras_layer (KerasLayer)       [(None, 768),        177853441   ['input_word_ids[0][0]',         \n",
            "                                 (None, 180, 768)]                'input_mask[0][0]',             \n",
            "                                                                  'segment_ids[0][0]']            \n",
            "                                                                                                  \n",
            " dropout (Dropout)              (None, 768)          0           ['keras_layer[0][0]']            \n",
            "                                                                                                  \n",
            " output (Dense)                 (None, 2)            1538        ['dropout[0][0]']                \n",
            "                                                                                                  \n",
            "==================================================================================================\n",
            "Total params: 177,854,979\n",
            "Trainable params: 177,854,978\n",
            "Non-trainable params: 1\n",
            "__________________________________________________________________________________________________\n"
          ]
        }
      ]
    },
    {
      "cell_type": "markdown",
      "metadata": {
        "id": "UResPCMRa2-Q"
      },
      "source": [
        "For safety reasons I would check the tokenizer variables as well."
      ]
    },
    {
      "cell_type": "code",
      "metadata": {
        "id": "9BOIJwPAazvD"
      },
      "source": [
        "tokenizerSaved = bert.tokenization.FullTokenizer(\n",
        "    vocab_file=os.path.join(my_wd, model_fname, 'assets/vocab.txt'),\n",
        "    do_lower_case=False)"
      ],
      "execution_count": null,
      "outputs": []
    },
    {
      "cell_type": "markdown",
      "metadata": {
        "id": "u8_Z4Mxwbk10"
      },
      "source": [
        "If this loads, you should be fine."
      ]
    },
    {
      "cell_type": "code",
      "metadata": {
        "id": "iE3HggMgbkVO",
        "colab": {
          "base_uri": "https://localhost:8080/"
        },
        "outputId": "368a6bf8-9470-48f0-9149-8762ed90e800"
      },
      "source": [
        "tokenizedTweet = tokenizerSaved.tokenize(x_train[0])\n",
        "for i in tokenizedTweet:\n",
        "  print(i, tokenizerSaved.convert_tokens_to_ids([i]))"
      ],
      "execution_count": null,
      "outputs": [
        {
          "output_type": "stream",
          "name": "stdout",
          "text": [
            "im [10211]\n",
            "soo [101893]\n",
            "ob [17339]\n",
            "##ses [13149]\n",
            "##sed [16219]\n",
            "with [10169]\n",
            "the [10105]\n",
            "song [12011]\n",
            "& [111]\n",
            "quo [48718]\n",
            "##t [10123]\n",
            "; [132]\n",
            "when [10841]\n",
            "i [177]\n",
            "get [15329]\n",
            "home [11816]\n",
            "your [20442]\n",
            "so [10380]\n",
            "dead [23457]\n",
            "by [10155]\n",
            "may [11387]\n",
            "##day [24558]\n",
            "parade [71115]\n",
            "& [111]\n",
            "quo [48718]\n",
            "##t [10123]\n",
            "; [132]\n",
            "it [10271]\n",
            "an [10151]\n",
            "aw [56237]\n",
            "##some [79972]\n",
            "song [12011]\n",
            "! [106]\n"
          ]
        }
      ]
    },
    {
      "cell_type": "markdown",
      "metadata": {
        "id": "Z6JCf8ON-Hro"
      },
      "source": [
        "As everything seems fine, we can move on to second training itteration and try to make our model a bit better."
      ]
    },
    {
      "cell_type": "markdown",
      "metadata": {
        "id": "WMhBzgkd5zAM"
      },
      "source": [
        "## Second training itteration"
      ]
    },
    {
      "cell_type": "code",
      "metadata": {
        "id": "XaNCm8S6Xd2G",
        "colab": {
          "base_uri": "https://localhost:8080/",
          "height": 337
        },
        "outputId": "e30a03f1-0335-46e9-ab6f-7c300304e6d0"
      },
      "source": [
        "plot_history(history)"
      ],
      "execution_count": null,
      "outputs": [
        {
          "output_type": "display_data",
          "data": {
            "text/plain": [
              "<Figure size 864x360 with 2 Axes>"
            ],
            "image/png": "[encoded data removed]"
          },
          "metadata": {}
        }
      ]
    },
    {
      "cell_type": "markdown",
      "metadata": {
        "id": "GEIaolS13gGY"
      },
      "source": [
        "As mentioned before, looking at the plot above we can see that at the 3rd epoch our `Validation Loss` jumped significantly even though `Validation Accuracy` stayed pretty much the same. If we would train it more on the same data it would significantly overtrain. \\\\\n",
        "\n",
        "What we can do instead is make another training dataset, lower our learning rate commonly denoted as `lr`, recompile our model using new `lr` and then train it a bit more.\n",
        "\n",
        "Are there any other options to approach overtraining? Sure. One of the most obvious ways would be to increase dropout layer number or the dropout precentage. You could try playing around with pooling as well, but in essence dropout would be your go to. \n",
        "\n",
        "If you do not know what dropout is then in short it 'turns off' preceeding layer neurons before next layer calculation, thus increasing the need for the model to 'abstract' things it sees.\n",
        "\n",
        "Anyway, in our case we are doing `lr` change and adding new data for the model. Let's see how that goes."
      ]
    },
    {
      "cell_type": "markdown",
      "metadata": {
        "id": "UotwRyBE6NP0"
      },
      "source": [
        "### Data"
      ]
    },
    {
      "cell_type": "markdown",
      "metadata": {
        "id": "8TkMh3rG59LK"
      },
      "source": [
        "First we need to prep our data. It's good that we made our processing easier making some functions. Let's take another 5% sample from our data."
      ]
    },
    {
      "cell_type": "code",
      "metadata": {
        "id": "mXXGcaZM54hg"
      },
      "source": [
        "sample_size = int(len(df)*0.05)\n",
        "sampleDf = df.sample(sample_size, random_state=42)  # notice the random state changes\n",
        "x = sampleDf.text.values\n",
        "y = sampleDf.target.values\n",
        "x_train2, x_test2, y_train2, y_test2 = train_test_split(x, y, test_size=0.20, random_state=19)  # notice the random state changes"
      ],
      "execution_count": null,
      "outputs": []
    },
    {
      "cell_type": "code",
      "metadata": {
        "id": "wC2tIF7-67F4",
        "colab": {
          "base_uri": "https://localhost:8080/",
          "height": 283
        },
        "outputId": "498cfa44-941b-4af3-9fa1-cd47f6ed0e75"
      },
      "source": [
        "classes = sampleDf.target.unique()\n",
        "print(classes)\n",
        "counts = []\n",
        "\n",
        "for i in classes:\n",
        "  count = len(sampleDf[sampleDf.target==i])\n",
        "  counts.append(count)\n",
        "\n",
        "plt.bar(['negative', 'positive'], counts)\n",
        "plt.show()"
      ],
      "execution_count": null,
      "outputs": [
        {
          "output_type": "stream",
          "name": "stdout",
          "text": [
            "[0 4]\n"
          ]
        },
        {
          "output_type": "display_data",
          "data": {
            "text/plain": [
              "<Figure size 432x288 with 1 Axes>"
            ],
            "image/png": "[encoded data removed]"
          },
          "metadata": {}
        }
      ]
    },
    {
      "cell_type": "markdown",
      "metadata": {
        "id": "Q7Qh-nti6mR7"
      },
      "source": [
        "It's not a bad idea to always check if your sample is representitive of the dataset itself. Most of the time it will, but when getting small samples it might be off in small datasets."
      ]
    },
    {
      "cell_type": "markdown",
      "metadata": {
        "id": "vAKNqpPh7c2M"
      },
      "source": [
        "#### Label Encoding\n",
        "Now we need to encode labels again. Good thing we have our label encoder saved."
      ]
    },
    {
      "cell_type": "code",
      "metadata": {
        "id": "teAtzXqt7ki-"
      },
      "source": [
        "encoder_fname = 'twitter_classes.npy'\n",
        "my_wd = '/content/gdrive/MyDrive/MIAR/TFM/BERT Sentiment/data/'\n",
        "\n",
        "encoder = LabelEncoder()\n",
        "encoder.classes_ = np.load(os.path.join(my_wd, encoder_fname), allow_pickle=True)\n",
        "\n",
        "encoded_Y_test2 = encoder.transform(y_test2)\n",
        "encoded_Y_train2 = encoder.transform(y_train2)\n",
        "\n",
        "# convert integers to dummy variables (i.e. one hot encoded)\n",
        "dummy_y_test2 = np_utils.to_categorical(encoded_Y_test2)\n",
        "dummy_y_train2 = np_utils.to_categorical(encoded_Y_train2)"
      ],
      "execution_count": null,
      "outputs": []
    },
    {
      "cell_type": "markdown",
      "metadata": {
        "id": "5c_9kIrI8cDz"
      },
      "source": [
        "#### Input preprocessing\n",
        "As we did before we need to tokenize our inputs (tweets) as `input_word_ids` and then add `input_mask` and `input_type`. As we saved our model, we can use it to build our tokenizer as it was."
      ]
    },
    {
      "cell_type": "code",
      "metadata": {
        "id": "lRDJu1jJ8mlF"
      },
      "source": [
        "model_fname = 'imdb_BERT_5pct'\n",
        "my_wd = '/content/gdrive/MyDrive/MIAR/TFM/BERT Sentiment/data/'\n",
        "\n",
        "tokenizerSaved = bert.tokenization.FullTokenizer(\n",
        "    vocab_file=os.path.join(my_wd, model_fname, 'assets/vocab.txt'),\n",
        "    do_lower_case=False)"
      ],
      "execution_count": null,
      "outputs": []
    },
    {
      "cell_type": "markdown",
      "metadata": {
        "id": "2rE5vM_OBaPP"
      },
      "source": [
        "I repaste our encoding functions here so it would be easier to follow."
      ]
    },
    {
      "cell_type": "code",
      "metadata": {
        "id": "wB9ImmkYbxJo"
      },
      "source": [
        "def encode_names(n, tokenizer):\n",
        "   tokens = list(tokenizer.tokenize(n))\n",
        "   tokens.append('[SEP]')\n",
        "   return tokenizer.convert_tokens_to_ids(tokens)\n",
        "\n",
        "def bert_encode(string_list, tokenizer, max_seq_length):\n",
        "  num_examples = len(string_list)\n",
        "  \n",
        "  string_tokens = tf.ragged.constant([\n",
        "      encode_names(n, tokenizer) for n in np.array(string_list)])\n",
        "\n",
        "  cls = [tokenizer.convert_tokens_to_ids(['[CLS]'])]*string_tokens.shape[0]\n",
        "  input_word_ids = tf.concat([cls, string_tokens], axis=-1)\n",
        "\n",
        "  input_mask = tf.ones_like(input_word_ids).to_tensor(shape=(None, max_seq_length))\n",
        "\n",
        "  type_cls = tf.zeros_like(cls)\n",
        "  type_tokens = tf.ones_like(string_tokens)\n",
        "  input_type_ids = tf.concat(\n",
        "      [type_cls, type_tokens], axis=-1).to_tensor(shape=(None, max_seq_length))\n",
        "\n",
        "  inputs = {\n",
        "      'input_word_ids': input_word_ids.to_tensor(shape=(None, max_seq_length)),\n",
        "      'input_mask': input_mask,\n",
        "      'input_type_ids': input_type_ids}\n",
        "\n",
        "  return inputs"
      ],
      "execution_count": null,
      "outputs": []
    },
    {
      "cell_type": "markdown",
      "metadata": {
        "id": "AFSbqkIzCEjn"
      },
      "source": [
        "As you can see in the functions we use max_seq_length to convert our tweets into inputs. We can't really change it from the one used to build our model as it is in the model structure itself. See below."
      ]
    },
    {
      "cell_type": "code",
      "metadata": {
        "id": "ACSBixa4CUg5",
        "colab": {
          "base_uri": "https://localhost:8080/"
        },
        "outputId": "1cf00886-a567-4f67-9b11-765389686b9a"
      },
      "source": [
        "print('Max sequence length is:', max_seq_length)"
      ],
      "execution_count": null,
      "outputs": [
        {
          "output_type": "stream",
          "name": "stdout",
          "text": [
            "Max sequence length is: 180\n"
          ]
        }
      ]
    },
    {
      "cell_type": "code",
      "metadata": {
        "id": "YoKZh0u0CcVT",
        "colab": {
          "base_uri": "https://localhost:8080/"
        },
        "outputId": "0ce5363c-d0a8-4a71-ee85-5e84aaa05ba0"
      },
      "source": [
        "model.summary()"
      ],
      "execution_count": null,
      "outputs": [
        {
          "output_type": "stream",
          "name": "stdout",
          "text": [
            "Model: \"model\"\n",
            "__________________________________________________________________________________________________\n",
            " Layer (type)                   Output Shape         Param #     Connected to                     \n",
            "==================================================================================================\n",
            " input_word_ids (InputLayer)    [(None, 180)]        0           []                               \n",
            "                                                                                                  \n",
            " input_mask (InputLayer)        [(None, 180)]        0           []                               \n",
            "                                                                                                  \n",
            " segment_ids (InputLayer)       [(None, 180)]        0           []                               \n",
            "                                                                                                  \n",
            " keras_layer (KerasLayer)       [(None, 768),        177853441   ['input_word_ids[0][0]',         \n",
            "                                 (None, 180, 768)]                'input_mask[0][0]',             \n",
            "                                                                  'segment_ids[0][0]']            \n",
            "                                                                                                  \n",
            " dropout (Dropout)              (None, 768)          0           ['keras_layer[0][0]']            \n",
            "                                                                                                  \n",
            " output (Dense)                 (None, 2)            1538        ['dropout[0][0]']                \n",
            "                                                                                                  \n",
            "==================================================================================================\n",
            "Total params: 177,854,979\n",
            "Trainable params: 177,854,978\n",
            "Non-trainable params: 1\n",
            "__________________________________________________________________________________________________\n"
          ]
        }
      ]
    },
    {
      "cell_type": "markdown",
      "metadata": {
        "id": "p7_D8CRsCpmM"
      },
      "source": [
        "You can see that all of the `InputLayers` have a shape of (0, 240) which is (0, `max_seq_length`). For that reason we must use the same `max_seq_length` for our model to understand the inputs it gets."
      ]
    },
    {
      "cell_type": "markdown",
      "metadata": {
        "id": "rMQbLqqpB2Zn"
      },
      "source": [
        "Now we will use the above functions to make all 3 of our inputs."
      ]
    },
    {
      "cell_type": "code",
      "metadata": {
        "id": "uiE8pkuqB6k_"
      },
      "source": [
        "X_train2 = bert_encode(x_train2, tokenizerSaved, max_seq_length)\n",
        "X_test2 = bert_encode(x_test2, tokenizerSaved, max_seq_length)"
      ],
      "execution_count": null,
      "outputs": []
    },
    {
      "cell_type": "code",
      "metadata": {
        "id": "1FG6bmxm6hQo",
        "colab": {
          "base_uri": "https://localhost:8080/",
          "height": 35
        },
        "outputId": "624b36da-31a1-4dd4-e46c-43cb9c6703a7"
      },
      "source": [
        "x_train2[0]"
      ],
      "execution_count": null,
      "outputs": [
        {
          "output_type": "execute_result",
          "data": {
            "text/plain": [
              "'@giselitapr http://twitpic.com/4wwtd - thats funny! '"
            ],
            "application/vnd.google.colaboratory.intrinsic+json": {
              "type": "string"
            }
          },
          "metadata": {},
          "execution_count": 112
        }
      ]
    },
    {
      "cell_type": "markdown",
      "metadata": {
        "id": "dXHn00cwDWac"
      },
      "source": [
        "### Training"
      ]
    },
    {
      "cell_type": "markdown",
      "metadata": {
        "id": "E04UInSQDkxM"
      },
      "source": [
        "Firstly let's load our saved model."
      ]
    },
    {
      "cell_type": "code",
      "metadata": {
        "id": "oIcOCiswDN9P",
        "colab": {
          "base_uri": "https://localhost:8080/"
        },
        "outputId": "0ae224bf-d58d-400a-cbc7-699255df522d"
      },
      "source": [
        "model_fname = 'twitter_BERT_5pct'\n",
        "my_wd = '/content/gdrive/MyDrive/MIAR/TFM/BERT Sentiment/data/'\n",
        "\n",
        "new_model = tf.keras.models.load_model(os.path.join(my_wd, model_fname))\n",
        "new_model.summary()"
      ],
      "execution_count": null,
      "outputs": [
        {
          "output_type": "stream",
          "name": "stdout",
          "text": [
            "Model: \"model\"\n",
            "__________________________________________________________________________________________________\n",
            " Layer (type)                   Output Shape         Param #     Connected to                     \n",
            "==================================================================================================\n",
            " input_word_ids (InputLayer)    [(None, 180)]        0           []                               \n",
            "                                                                                                  \n",
            " input_mask (InputLayer)        [(None, 180)]        0           []                               \n",
            "                                                                                                  \n",
            " segment_ids (InputLayer)       [(None, 180)]        0           []                               \n",
            "                                                                                                  \n",
            " keras_layer (KerasLayer)       [(None, 768),        177853441   ['input_word_ids[0][0]',         \n",
            "                                 (None, 180, 768)]                'input_mask[0][0]',             \n",
            "                                                                  'segment_ids[0][0]']            \n",
            "                                                                                                  \n",
            " dropout (Dropout)              (None, 768)          0           ['keras_layer[0][0]']            \n",
            "                                                                                                  \n",
            " output (Dense)                 (None, 2)            1538        ['dropout[0][0]']                \n",
            "                                                                                                  \n",
            "==================================================================================================\n",
            "Total params: 177,854,979\n",
            "Trainable params: 177,854,978\n",
            "Non-trainable params: 1\n",
            "__________________________________________________________________________________________________\n"
          ]
        }
      ]
    },
    {
      "cell_type": "code",
      "metadata": {
        "id": "yapkpJpXIFpw",
        "colab": {
          "base_uri": "https://localhost:8080/",
          "height": 220
        },
        "outputId": "8dd69616-e7c4-4dd1-8fc4-4d91347cd9e5"
      },
      "source": [
        "tf.keras.utils.plot_model(new_model, show_shapes=True, dpi=48)"
      ],
      "execution_count": null,
      "outputs": [
        {
          "output_type": "execute_result",
          "data": {
            "text/plain": [
              "<IPython.core.display.Image object>"
            ],
            "image/png": "[encoded data removed]"
          },
          "metadata": {},
          "execution_count": 114
        }
      ]
    },
    {
      "cell_type": "markdown",
      "metadata": {
        "id": "AAZri5-9D2Z3"
      },
      "source": [
        "To check training progress we can use the new and the old testing datasets. Their accuracy should be close. Let's see how it compares."
      ]
    },
    {
      "cell_type": "code",
      "metadata": {
        "id": "1n4i6qwPDtlM",
        "colab": {
          "base_uri": "https://localhost:8080/"
        },
        "outputId": "fa6080ee-1880-48d3-883b-b41930d0e9e3"
      },
      "source": [
        "loss, accuracy = new_model.evaluate(X_test, dummy_y_test, verbose=False)  # OLD\n",
        "print(\"Old testing Accuracy:  {:.4f}\".format(accuracy))\n",
        "\n",
        "loss, accuracy = new_model.evaluate(X_test2, dummy_y_test2, verbose=False)  # NEW\n",
        "print(\"New testing Accuracy:  {:.4f}\".format(accuracy))"
      ],
      "execution_count": null,
      "outputs": [
        {
          "output_type": "stream",
          "name": "stdout",
          "text": [
            "Old testing Accuracy:  0.8282\n",
            "New testing Accuracy:  0.9188\n"
          ]
        }
      ]
    },
    {
      "cell_type": "markdown",
      "metadata": {
        "id": "FoW6MxnIGRap"
      },
      "source": [
        "As you can see there's some difference. In any case, I suggest you use the same testing sample to proceed with you training no matter if the accuracy is the same. This of course applies only to when you do not train on the full dataset."
      ]
    },
    {
      "cell_type": "markdown",
      "metadata": {
        "id": "atw5HDRxGuBa"
      },
      "source": [
        "We need to setup our training parameters again."
      ]
    },
    {
      "cell_type": "code",
      "metadata": {
        "id": "TfgAOC5KERoI"
      },
      "source": [
        "epochs = 3\n",
        "batch_size = 24  # select based on your GPU resources\n",
        "eval_batch_size = batch_size\n",
        "\n",
        "train_data_size = len(dummy_y_train2)\n",
        "steps_per_epoch = int(train_data_size / batch_size)\n",
        "num_train_steps = steps_per_epoch * epochs\n",
        "warmup_steps = int(epochs * train_data_size * 0.1 / batch_size)"
      ],
      "execution_count": null,
      "outputs": []
    },
    {
      "cell_type": "markdown",
      "metadata": {
        "id": "swSWAB2FHLWA"
      },
      "source": [
        "Now the optimizer we use has learing rate decay in it. Which means learning rate goes down over time by the set parameters. We can lower the initial learning rate for this training session or we could use other optimizer with a fixed learning rate altogether."
      ]
    },
    {
      "cell_type": "code",
      "metadata": {
        "id": "mIKL2_TXHKNP"
      },
      "source": [
        "optimizer = nlp.optimization.create_optimizer(\n",
        "    2e-6, num_train_steps=num_train_steps, num_warmup_steps=warmup_steps)"
      ],
      "execution_count": null,
      "outputs": []
    },
    {
      "cell_type": "markdown",
      "metadata": {
        "id": "eylQBZg5HpC3"
      },
      "source": [
        "Let's compile our model."
      ]
    },
    {
      "cell_type": "code",
      "metadata": {
        "id": "up0osQrxHntP"
      },
      "source": [
        "new_model.compile(optimizer=optimizer,\n",
        "              loss='categorical_crossentropy',\n",
        "              metrics=['accuracy'])"
      ],
      "execution_count": null,
      "outputs": []
    },
    {
      "cell_type": "markdown",
      "metadata": {
        "id": "2YxVDhFMH86s"
      },
      "source": [
        "And now finally we can train again and see if that helps us achieve a better accuracy."
      ]
    },
    {
      "cell_type": "code",
      "metadata": {
        "id": "H4_BM84kH03L",
        "colab": {
          "base_uri": "https://localhost:8080/"
        },
        "outputId": "02dc453e-f5d4-40fd-9312-db57d3bb28a9"
      },
      "source": [
        "history2 = new_model.fit(X_train2,  # using new training set\n",
        "                         dummy_y_train2,  # using new training set\n",
        "                         epochs=epochs,\n",
        "                         batch_size=batch_size,\n",
        "                         validation_data=(X_test, dummy_y_test),  # using old test dataset\n",
        "                         verbose=1)"
      ],
      "execution_count": null,
      "outputs": [
        {
          "output_type": "stream",
          "name": "stdout",
          "text": [
            "Epoch 1/3\n",
            "2667/2667 [==============================] - 1632s 606ms/step - loss: 0.2561 - accuracy: 0.8992 - val_loss: 0.4016 - val_accuracy: 0.8422\n",
            "Epoch 2/3\n",
            "2667/2667 [==============================] - 1616s 606ms/step - loss: 0.2373 - accuracy: 0.9078 - val_loss: 0.3945 - val_accuracy: 0.8497\n",
            "Epoch 3/3\n",
            "2667/2667 [==============================] - 1616s 606ms/step - loss: 0.2269 - accuracy: 0.9124 - val_loss: 0.3833 - val_accuracy: 0.8538\n"
          ]
        }
      ]
    },
    {
      "cell_type": "markdown",
      "metadata": {
        "id": "e6J-2ru2rKLo"
      },
      "source": [
        "Let's plot everything out."
      ]
    },
    {
      "cell_type": "code",
      "metadata": {
        "id": "cHkRaP7Cpf_V"
      },
      "source": [
        "for i in history2.history:\n",
        "  for ele in history2.history[i]:\n",
        "    history.history[i].append(ele)"
      ],
      "execution_count": null,
      "outputs": []
    },
    {
      "cell_type": "code",
      "metadata": {
        "id": "Ug8_LyTbqxcS",
        "colab": {
          "base_uri": "https://localhost:8080/",
          "height": 337
        },
        "outputId": "75cc79ea-11c0-4175-a8c1-e68ff35cc5eb"
      },
      "source": [
        "plot_history(history)"
      ],
      "execution_count": null,
      "outputs": [
        {
          "output_type": "display_data",
          "data": {
            "text/plain": [
              "<Figure size 864x360 with 2 Axes>"
            ],
            "image/png": "[encoded data removed]"
          },
          "metadata": {}
        }
      ]
    },
    {
      "cell_type": "markdown",
      "metadata": {
        "id": "ZmWxjR2jrVjq"
      },
      "source": [
        "Our lines aren't consistent as we changed the training dataset. However, you can see that both the `val_accuracy` and `val_loss` improved. At his point we could itterate again and improve the model a bit more and more. Just understand that every incrimental improvement will take more data/time as it significantly slows down over time."
      ]
    },
    {
      "cell_type": "code",
      "metadata": {
        "id": "SimSbUNv7N4V"
      },
      "source": [
        "new_model.compile(optimizer='adam',\n",
        "              loss='categorical_crossentropy',\n",
        "              metrics=['accuracy'])"
      ],
      "execution_count": null,
      "outputs": []
    },
    {
      "cell_type": "code",
      "metadata": {
        "colab": {
          "base_uri": "https://localhost:8080/"
        },
        "outputId": "43d7ab80-84ae-48a9-f521-4b8838520a59",
        "id": "9iRs5CaA7N4W"
      },
      "source": [
        "model_fname = 'twitter_BERT_5pct_2'\n",
        "my_wd = '/content/gdrive/MyDrive/MIAR/TFM/BERT Sentiment/data/'\n",
        "\n",
        "new_model.save(os.path.join(my_wd, model_fname))"
      ],
      "execution_count": null,
      "outputs": [
        {
          "output_type": "stream",
          "name": "stderr",
          "text": [
            "WARNING:absl:Found untraced functions such as restored_function_body, restored_function_body, restored_function_body, restored_function_body, restored_function_body while saving (showing 5 of 378). These functions will not be directly callable after loading.\n"
          ]
        },
        {
          "output_type": "stream",
          "name": "stdout",
          "text": [
            "INFO:tensorflow:Assets written to: /content/gdrive/MyDrive/MIAR/TFM/BERT Sentiment/data/twitter_BERT_5pct_2/assets\n"
          ]
        },
        {
          "output_type": "stream",
          "name": "stderr",
          "text": [
            "INFO:tensorflow:Assets written to: /content/gdrive/MyDrive/MIAR/TFM/BERT Sentiment/data/twitter_BERT_5pct_2/assets\n"
          ]
        }
      ]
    },
    {
      "cell_type": "markdown",
      "metadata": {
        "id": "F5y81Wvk1Cav"
      },
      "source": [
        "# Is BERT worth it?"
      ]
    },
    {
      "cell_type": "markdown",
      "metadata": {
        "id": "nEzeXzX61GFe"
      },
      "source": [
        "So is BERT worth. BERT is a huge model compared to our simple NN and Logistic Regression models we used before. Is the increase in accuracy impactful enough compared to the increase in computation needed? Let's comapre accuracy:\n",
        "\n",
        "\n",
        "1.   Logistic Regression 0.80\n",
        "2.   Simple NN           0.79\n",
        "3.   Finetuned BERT      0.84\n",
        "\n",
        "In this case it totally depends on you. I personaly would say let's use Logistic Regression. Easily deployable, low computational resources and the task isn't that signicificant in terms of a mistake. If your goal is maximum accuracy possible I would train BERT a bit more and try to get to at least 85%, that would be significant enough to use BERT instead a much less computationaly intesnive Logistic Regression.\n",
        "\n"
      ]
    },
    {
      "cell_type": "markdown",
      "metadata": {
        "id": "aQIJMSxWRNOX"
      },
      "source": [
        "# Test"
      ]
    },
    {
      "cell_type": "markdown",
      "metadata": {
        "id": "CvXzVKLNS3EZ"
      },
      "source": [
        "We need to check in with our label encoder to get our classes."
      ]
    },
    {
      "cell_type": "code",
      "metadata": {
        "id": "Q48W5efMSdtI"
      },
      "source": [
        "encoder_fname = 'imdb_classes.npy'\n",
        "my_wd = '/content/gdrive/MyDrive/MIAR/TFM/BERT Sentiment/data/'\n",
        "\n",
        "encoder = LabelEncoder()\n",
        "encoder.classes_ = np.load(os.path.join(my_wd, encoder_fname), allow_pickle=True)"
      ],
      "execution_count": null,
      "outputs": []
    },
    {
      "cell_type": "markdown",
      "metadata": {
        "id": "XgjPsHVcTX9V"
      },
      "source": [
        "This is how our classes are encoded for the model."
      ]
    },
    {
      "cell_type": "code",
      "metadata": {
        "id": "ZT2DvZ2oTCBJ",
        "colab": {
          "base_uri": "https://localhost:8080/"
        },
        "outputId": "4f0268d6-8abb-44f9-cd62-2b135a207709"
      },
      "source": [
        "encoder.classes_"
      ],
      "execution_count": null,
      "outputs": [
        {
          "output_type": "execute_result",
          "data": {
            "text/plain": [
              "array(['negative', 'positive'], dtype=object)"
            ]
          },
          "metadata": {},
          "execution_count": 63
        }
      ]
    },
    {
      "cell_type": "markdown",
      "metadata": {
        "id": "-aVOr8MlSxa6"
      },
      "source": [
        "Input preprocessing."
      ]
    },
    {
      "cell_type": "code",
      "metadata": {
        "id": "SiruBLfcrCUo"
      },
      "source": [
        "tweet = ['Fui a ver la pelicula pensando que era muy mala pero resulto ser una pelicula muy buena. Las actuaciones fueron fascinantes y el guión me encanto']\n",
        "inputs = bert_encode(string_list=list(tweet), \n",
        "                     tokenizer=tokenizerSaved, \n",
        "                     max_seq_length=512)"
      ],
      "execution_count": null,
      "outputs": []
    },
    {
      "cell_type": "markdown",
      "metadata": {
        "id": "Zkoy3SgCTdgc"
      },
      "source": [
        "Prediction."
      ]
    },
    {
      "cell_type": "code",
      "metadata": {
        "id": "wQWW5CCtTDji",
        "colab": {
          "base_uri": "https://localhost:8080/"
        },
        "outputId": "312b19dc-8411-418f-b288-8354e68ce1d7"
      },
      "source": [
        "prediction = model.predict(inputs)\n",
        "print(prediction)\n",
        "print('Tweet is', 'positive' if encoder.classes_[np.argmax(prediction)]=='positive' else 'negative')"
      ],
      "execution_count": null,
      "outputs": [
        {
          "output_type": "stream",
          "name": "stdout",
          "text": [
            "[[0.25372165 0.74627835]]\n",
            "Tweet is positive\n"
          ]
        }
      ]
    },
    {
      "cell_type": "code",
      "metadata": {
        "id": "eq-DshwxTt4n",
        "colab": {
          "base_uri": "https://localhost:8080/"
        },
        "outputId": "8cea5258-6fdb-4ba1-b4d2-8e5b89200214"
      },
      "source": [
        "inputs"
      ],
      "execution_count": null,
      "outputs": [
        {
          "output_type": "execute_result",
          "data": {
            "text/plain": [
              "{'input_mask': <tf.Tensor: shape=(1, 180), dtype=int32, numpy=\n",
              " array([[1, 1, 1, 1, 1, 1, 1, 1, 1, 1, 1, 1, 0, 0, 0, 0, 0, 0, 0, 0, 0, 0,\n",
              "         0, 0, 0, 0, 0, 0, 0, 0, 0, 0, 0, 0, 0, 0, 0, 0, 0, 0, 0, 0, 0, 0,\n",
              "         0, 0, 0, 0, 0, 0, 0, 0, 0, 0, 0, 0, 0, 0, 0, 0, 0, 0, 0, 0, 0, 0,\n",
              "         0, 0, 0, 0, 0, 0, 0, 0, 0, 0, 0, 0, 0, 0, 0, 0, 0, 0, 0, 0, 0, 0,\n",
              "         0, 0, 0, 0, 0, 0, 0, 0, 0, 0, 0, 0, 0, 0, 0, 0, 0, 0, 0, 0, 0, 0,\n",
              "         0, 0, 0, 0, 0, 0, 0, 0, 0, 0, 0, 0, 0, 0, 0, 0, 0, 0, 0, 0, 0, 0,\n",
              "         0, 0, 0, 0, 0, 0, 0, 0, 0, 0, 0, 0, 0, 0, 0, 0, 0, 0, 0, 0, 0, 0,\n",
              "         0, 0, 0, 0, 0, 0, 0, 0, 0, 0, 0, 0, 0, 0, 0, 0, 0, 0, 0, 0, 0, 0,\n",
              "         0, 0, 0, 0]], dtype=int32)>,\n",
              " 'input_type_ids': <tf.Tensor: shape=(1, 180), dtype=int32, numpy=\n",
              " array([[0, 1, 1, 1, 1, 1, 1, 1, 1, 1, 1, 1, 0, 0, 0, 0, 0, 0, 0, 0, 0, 0,\n",
              "         0, 0, 0, 0, 0, 0, 0, 0, 0, 0, 0, 0, 0, 0, 0, 0, 0, 0, 0, 0, 0, 0,\n",
              "         0, 0, 0, 0, 0, 0, 0, 0, 0, 0, 0, 0, 0, 0, 0, 0, 0, 0, 0, 0, 0, 0,\n",
              "         0, 0, 0, 0, 0, 0, 0, 0, 0, 0, 0, 0, 0, 0, 0, 0, 0, 0, 0, 0, 0, 0,\n",
              "         0, 0, 0, 0, 0, 0, 0, 0, 0, 0, 0, 0, 0, 0, 0, 0, 0, 0, 0, 0, 0, 0,\n",
              "         0, 0, 0, 0, 0, 0, 0, 0, 0, 0, 0, 0, 0, 0, 0, 0, 0, 0, 0, 0, 0, 0,\n",
              "         0, 0, 0, 0, 0, 0, 0, 0, 0, 0, 0, 0, 0, 0, 0, 0, 0, 0, 0, 0, 0, 0,\n",
              "         0, 0, 0, 0, 0, 0, 0, 0, 0, 0, 0, 0, 0, 0, 0, 0, 0, 0, 0, 0, 0, 0,\n",
              "         0, 0, 0, 0]], dtype=int32)>,\n",
              " 'input_word_ids': <tf.Tensor: shape=(1, 180), dtype=int32, numpy=\n",
              " array([[  101, 24165, 10157, 89512, 16348, 10109, 11926, 10196, 10119,\n",
              "         10146, 10812,   102,     0,     0,     0,     0,     0,     0,\n",
              "             0,     0,     0,     0,     0,     0,     0,     0,     0,\n",
              "             0,     0,     0,     0,     0,     0,     0,     0,     0,\n",
              "             0,     0,     0,     0,     0,     0,     0,     0,     0,\n",
              "             0,     0,     0,     0,     0,     0,     0,     0,     0,\n",
              "             0,     0,     0,     0,     0,     0,     0,     0,     0,\n",
              "             0,     0,     0,     0,     0,     0,     0,     0,     0,\n",
              "             0,     0,     0,     0,     0,     0,     0,     0,     0,\n",
              "             0,     0,     0,     0,     0,     0,     0,     0,     0,\n",
              "             0,     0,     0,     0,     0,     0,     0,     0,     0,\n",
              "             0,     0,     0,     0,     0,     0,     0,     0,     0,\n",
              "             0,     0,     0,     0,     0,     0,     0,     0,     0,\n",
              "             0,     0,     0,     0,     0,     0,     0,     0,     0,\n",
              "             0,     0,     0,     0,     0,     0,     0,     0,     0,\n",
              "             0,     0,     0,     0,     0,     0,     0,     0,     0,\n",
              "             0,     0,     0,     0,     0,     0,     0,     0,     0,\n",
              "             0,     0,     0,     0,     0,     0,     0,     0,     0,\n",
              "             0,     0,     0,     0,     0,     0,     0,     0,     0,\n",
              "             0,     0,     0,     0,     0,     0,     0,     0,     0]],\n",
              "       dtype=int32)>}"
            ]
          },
          "metadata": {},
          "execution_count": 137
        }
      ]
    },
    {
      "cell_type": "code",
      "metadata": {
        "id": "PmCu_hwGLpRr"
      },
      "source": [
        ""
      ],
      "execution_count": null,
      "outputs": []
    }
  ]
}