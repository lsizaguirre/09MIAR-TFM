{
  "nbformat": 4,
  "nbformat_minor": 0,
  "metadata": {
    "colab": {
      "name": "BERT-sentiment-analysis.ipynb",
      "provenance": [],
      "collapsed_sections": [],
      "machine_shape": "hm",
      "toc_visible": true
    },
    "kernelspec": {
      "name": "python3",
      "display_name": "Python 3"
    },
    "accelerator": "GPU"
  },
  "cells": [
    {
      "cell_type": "markdown",
      "source": [
        "[![Open In Colab](https://colab.research.google.com/assets/colab-badge.svg)](https://colab.research.google.com/github/lsizaguirre/09MIAR-TFM/blob/main/notebooks/BERT_sentiment_analysis.ipynb)"
      ],
      "metadata": {
        "id": "H2GDDXnPPnLa"
      }
    },
    {
      "cell_type": "markdown",
      "source": [
        "<div>\n",
        "<img src=\"https://www.dropbox.com/s/crnfuz6kotkjzxa/viu_logo.png?dl=1\" width=\"300\"/>\n",
        "</div>\n",
        "\n",
        "## 09MIAR - TFM\n",
        "### Análisis de Sentimiento\n",
        "\n",
        "*por Luis Arturo Izaguirre Viera - lsizaguirre@gmail.com*\n",
        "\n",
        "---"
      ],
      "metadata": {
        "id": "_XIGQ1hxR44W"
      }
    },
    {
      "cell_type": "markdown",
      "metadata": {
        "id": "p2B9-HFJBOyq"
      },
      "source": [
        "# Librerias y Entorno"
      ]
    },
    {
      "cell_type": "markdown",
      "source": [
        "## Instalando librerias"
      ],
      "metadata": {
        "id": "t02J6-26TTfD"
      }
    },
    {
      "cell_type": "code",
      "source": [
        "!pip install -q -U \"tensorflow-text==2.8.*\"\n",
        "!pip install -q tf-models-official==2.4.0"
      ],
      "metadata": {
        "id": "6iKNUdUXxAkj",
        "colab": {
          "base_uri": "https://localhost:8080/"
        },
        "outputId": "25e6dd2b-7b3a-4784-d765-2bbd21a7b81f"
      },
      "execution_count": null,
      "outputs": [
        {
          "output_type": "stream",
          "name": "stdout",
          "text": [
            "\u001b[K     |████████████████████████████████| 4.9 MB 7.2 MB/s \n",
            "\u001b[K     |████████████████████████████████| 462 kB 64.9 MB/s \n",
            "\u001b[K     |████████████████████████████████| 1.1 MB 10.1 MB/s \n",
            "\u001b[K     |████████████████████████████████| 352 kB 72.4 MB/s \n",
            "\u001b[K     |████████████████████████████████| 1.1 MB 83.4 MB/s \n",
            "\u001b[K     |████████████████████████████████| 47.8 MB 1.2 MB/s \n",
            "\u001b[K     |████████████████████████████████| 99 kB 2.5 MB/s \n",
            "\u001b[K     |████████████████████████████████| 1.2 MB 56.1 MB/s \n",
            "\u001b[K     |████████████████████████████████| 596 kB 70.5 MB/s \n",
            "\u001b[K     |████████████████████████████████| 237 kB 68.0 MB/s \n",
            "\u001b[K     |████████████████████████████████| 43 kB 2.4 MB/s \n",
            "\u001b[?25h  Building wheel for py-cpuinfo (setup.py) ... \u001b[?25l\u001b[?25hdone\n",
            "  Building wheel for seqeval (setup.py) ... \u001b[?25l\u001b[?25hdone\n"
          ]
        }
      ]
    },
    {
      "cell_type": "code",
      "metadata": {
        "id": "oXO5FPswBLSH",
        "colab": {
          "base_uri": "https://localhost:8080/"
        },
        "outputId": "f6f6bef9-24e6-4f87-c28d-0e3eacab9072"
      },
      "source": [
        "!pip install tensorflow_hub\n",
        "!pip install keras pydot graphviz"
      ],
      "execution_count": null,
      "outputs": [
        {
          "output_type": "stream",
          "name": "stdout",
          "text": [
            "Requirement already satisfied: tensorflow_hub in /usr/local/lib/python3.7/dist-packages (0.12.0)\n",
            "Requirement already satisfied: numpy>=1.12.0 in /usr/local/lib/python3.7/dist-packages (from tensorflow_hub) (1.21.6)\n",
            "Requirement already satisfied: protobuf>=3.8.0 in /usr/local/lib/python3.7/dist-packages (from tensorflow_hub) (3.17.3)\n",
            "Requirement already satisfied: six>=1.9 in /usr/local/lib/python3.7/dist-packages (from protobuf>=3.8.0->tensorflow_hub) (1.15.0)\n",
            "Requirement already satisfied: keras in /usr/local/lib/python3.7/dist-packages (2.8.0)\n",
            "Requirement already satisfied: pydot in /usr/local/lib/python3.7/dist-packages (1.3.0)\n",
            "Requirement already satisfied: graphviz in /usr/local/lib/python3.7/dist-packages (0.10.1)\n",
            "Requirement already satisfied: pyparsing>=2.1.4 in /usr/local/lib/python3.7/dist-packages (from pydot) (3.0.8)\n"
          ]
        }
      ]
    },
    {
      "cell_type": "markdown",
      "source": [
        "## Importando librerias"
      ],
      "metadata": {
        "id": "3vEVGFDITlS6"
      }
    },
    {
      "cell_type": "code",
      "metadata": {
        "id": "kHzoXf8sCxaW"
      },
      "source": [
        "import os\n",
        "\n",
        "import numpy as np\n",
        "import pandas as pd\n",
        "\n",
        "import tensorflow as tf\n",
        "import tensorflow_hub as hub\n",
        "\n",
        "from keras.utils import np_utils\n",
        "\n",
        "import official.nlp.bert.bert_models\n",
        "import official.nlp.bert.configs\n",
        "import official.nlp.bert.run_classifier\n",
        "import official.nlp.bert.tokenization as tokenization\n",
        "\n",
        "from official.modeling import tf_utils\n",
        "from official import nlp\n",
        "from official.nlp import bert\n",
        "\n",
        "from sklearn.model_selection import train_test_split\n",
        "from sklearn.preprocessing import LabelEncoder\n",
        "\n",
        "from google.colab import drive\n",
        "from bs4 import BeautifulSoup\n",
        "import re, string\n",
        "\n",
        "import matplotlib.pyplot as plt"
      ],
      "execution_count": 31,
      "outputs": []
    },
    {
      "cell_type": "markdown",
      "source": [
        "## Obteniendo información del entorno"
      ],
      "metadata": {
        "id": "POXQerynTrtV"
      }
    },
    {
      "cell_type": "code",
      "source": [
        "! python --version"
      ],
      "metadata": {
        "colab": {
          "base_uri": "https://localhost:8080/"
        },
        "id": "OJVySCYiT5C4",
        "outputId": "633b1e70-5240-4f25-ecbe-e3a18269bf87"
      },
      "execution_count": null,
      "outputs": [
        {
          "output_type": "stream",
          "name": "stdout",
          "text": [
            "Python 3.7.13\n"
          ]
        }
      ]
    },
    {
      "cell_type": "code",
      "source": [
        "gpus = tf.config.experimental.list_physical_devices('GPU')\n",
        "if gpus:\n",
        "  try:\n",
        "    # Currently, memory growth needs to be the same across GPUs\n",
        "    for gpu in gpus:\n",
        "      tf.config.experimental.set_memory_growth(gpu, True)\n",
        "    logical_gpus = tf.config.experimental.list_logical_devices('GPU')\n",
        "    print(len(gpus), \"Physical GPUs,\", len(logical_gpus), \"Logical GPUs\")\n",
        "  except RuntimeError as e:\n",
        "    # Memory growth must be set before GPUs have been initialized\n",
        "    print(e)\n",
        "\n",
        "print(\"TF Version: \", tf.__version__)\n",
        "print(\"Eager mode: \", tf.executing_eagerly())\n",
        "print(\"Hub version: \", hub.__version__)\n",
        "print(\"GPU is\", \"available\" if tf.config.list_physical_devices('GPU') else \"NOT AVAILABLE\")"
      ],
      "metadata": {
        "colab": {
          "base_uri": "https://localhost:8080/"
        },
        "id": "vR4gT3GPTw0J",
        "outputId": "c299e99a-8b11-46cc-e589-46c72bdccbe3"
      },
      "execution_count": null,
      "outputs": [
        {
          "output_type": "stream",
          "name": "stdout",
          "text": [
            "1 Physical GPUs, 1 Logical GPUs\n",
            "TF Version:  2.8.0\n",
            "Eager mode:  True\n",
            "Hub version:  0.12.0\n",
            "GPU is available\n"
          ]
        }
      ]
    },
    {
      "cell_type": "markdown",
      "metadata": {
        "id": "wWfuCNEnDJSX"
      },
      "source": [
        "# Datos"
      ]
    },
    {
      "cell_type": "markdown",
      "source": [
        "## Carga de dataset"
      ],
      "metadata": {
        "id": "whD8PJzp_TDZ"
      }
    },
    {
      "cell_type": "code",
      "source": [
        "# Se monta el Google Drive\n",
        "drive.mount('/content/gdrive')"
      ],
      "metadata": {
        "colab": {
          "base_uri": "https://localhost:8080/"
        },
        "id": "P_rwFwS_0agV",
        "outputId": "fa6767f4-de53-4f78-cb52-e74dbd514415"
      },
      "execution_count": null,
      "outputs": [
        {
          "output_type": "stream",
          "name": "stdout",
          "text": [
            "Mounted at /content/gdrive\n"
          ]
        }
      ]
    },
    {
      "cell_type": "code",
      "metadata": {
        "id": "8Iwpl2fpCwFq"
      },
      "source": [
        "df = pd.read_csv('/content/gdrive/MyDrive/VIU-MIAR/09MIAR-TFM/BERT-sentiment-analysis/dataset/IMDB-dataset.csv'\n",
        "                ,encoding='ISO-8859-1')"
      ],
      "execution_count": null,
      "outputs": []
    },
    {
      "cell_type": "markdown",
      "source": [
        "## Inspección de los datos"
      ],
      "metadata": {
        "id": "12E_EXFoXUsW"
      }
    },
    {
      "cell_type": "code",
      "source": [
        "#Para poder observar mejor las reseñas\n",
        "pd.set_option('max_colwidth', 100)"
      ],
      "metadata": {
        "id": "KdIoSy6gX5eV"
      },
      "execution_count": null,
      "outputs": []
    },
    {
      "cell_type": "code",
      "metadata": {
        "id": "cYgtLWXODYFJ",
        "colab": {
          "base_uri": "https://localhost:8080/",
          "height": 363
        },
        "outputId": "6f185416-584b-4938-b577-b92689ce9fbe"
      },
      "source": [
        "#Inspeccionamos las primeras 10 reseñas del dataset\n",
        "df.head(10)"
      ],
      "execution_count": null,
      "outputs": [
        {
          "output_type": "execute_result",
          "data": {
            "text/plain": [
              "                                                                                                review sentiment\n",
              "0  One of the other reviewers has mentioned that after watching just 1 Oz episode you'll be hooked....  positive\n",
              "1  A wonderful little production. <br /><br />The filming technique is very unassuming- very old-ti...  positive\n",
              "2  I thought this was a wonderful way to spend time on a too hot summer weekend, sitting in the air...  positive\n",
              "3  Basically there's a family where a little boy (Jake) thinks there's a zombie in his closet & his...  negative\n",
              "4  Petter Mattei's \"Love in the Time of Money\" is a visually stunning film to watch. Mr. Mattei off...  positive\n",
              "5  Probably my all-time favorite movie, a story of selflessness, sacrifice and dedication to a nobl...  positive\n",
              "6  I sure would like to see a resurrection of a up dated Seahunt series with the tech they have tod...  positive\n",
              "7  This show was an amazing, fresh & innovative idea in the 70's when it first aired. The first 7 o...  negative\n",
              "8  Encouraged by the positive comments about this film on here I was looking forward to watching th...  negative\n",
              "9  If you like original gut wrenching laughter you will like this movie. If you are young or old th...  positive"
            ],
            "text/html": [
              "\n",
              "  <div id=\"df-d4421bc1-7d32-4fa6-9669-de0dc5b59728\">\n",
              "    <div class=\"colab-df-container\">\n",
              "      <div>\n",
              "<style scoped>\n",
              "    .dataframe tbody tr th:only-of-type {\n",
              "        vertical-align: middle;\n",
              "    }\n",
              "\n",
              "    .dataframe tbody tr th {\n",
              "        vertical-align: top;\n",
              "    }\n",
              "\n",
              "    .dataframe thead th {\n",
              "        text-align: right;\n",
              "    }\n",
              "</style>\n",
              "<table border=\"1\" class=\"dataframe\">\n",
              "  <thead>\n",
              "    <tr style=\"text-align: right;\">\n",
              "      <th></th>\n",
              "      <th>review</th>\n",
              "      <th>sentiment</th>\n",
              "    </tr>\n",
              "  </thead>\n",
              "  <tbody>\n",
              "    <tr>\n",
              "      <th>0</th>\n",
              "      <td>One of the other reviewers has mentioned that after watching just 1 Oz episode you'll be hooked....</td>\n",
              "      <td>positive</td>\n",
              "    </tr>\n",
              "    <tr>\n",
              "      <th>1</th>\n",
              "      <td>A wonderful little production. &lt;br /&gt;&lt;br /&gt;The filming technique is very unassuming- very old-ti...</td>\n",
              "      <td>positive</td>\n",
              "    </tr>\n",
              "    <tr>\n",
              "      <th>2</th>\n",
              "      <td>I thought this was a wonderful way to spend time on a too hot summer weekend, sitting in the air...</td>\n",
              "      <td>positive</td>\n",
              "    </tr>\n",
              "    <tr>\n",
              "      <th>3</th>\n",
              "      <td>Basically there's a family where a little boy (Jake) thinks there's a zombie in his closet &amp; his...</td>\n",
              "      <td>negative</td>\n",
              "    </tr>\n",
              "    <tr>\n",
              "      <th>4</th>\n",
              "      <td>Petter Mattei's \"Love in the Time of Money\" is a visually stunning film to watch. Mr. Mattei off...</td>\n",
              "      <td>positive</td>\n",
              "    </tr>\n",
              "    <tr>\n",
              "      <th>5</th>\n",
              "      <td>Probably my all-time favorite movie, a story of selflessness, sacrifice and dedication to a nobl...</td>\n",
              "      <td>positive</td>\n",
              "    </tr>\n",
              "    <tr>\n",
              "      <th>6</th>\n",
              "      <td>I sure would like to see a resurrection of a up dated Seahunt series with the tech they have tod...</td>\n",
              "      <td>positive</td>\n",
              "    </tr>\n",
              "    <tr>\n",
              "      <th>7</th>\n",
              "      <td>This show was an amazing, fresh &amp; innovative idea in the 70's when it first aired. The first 7 o...</td>\n",
              "      <td>negative</td>\n",
              "    </tr>\n",
              "    <tr>\n",
              "      <th>8</th>\n",
              "      <td>Encouraged by the positive comments about this film on here I was looking forward to watching th...</td>\n",
              "      <td>negative</td>\n",
              "    </tr>\n",
              "    <tr>\n",
              "      <th>9</th>\n",
              "      <td>If you like original gut wrenching laughter you will like this movie. If you are young or old th...</td>\n",
              "      <td>positive</td>\n",
              "    </tr>\n",
              "  </tbody>\n",
              "</table>\n",
              "</div>\n",
              "      <button class=\"colab-df-convert\" onclick=\"convertToInteractive('df-d4421bc1-7d32-4fa6-9669-de0dc5b59728')\"\n",
              "              title=\"Convert this dataframe to an interactive table.\"\n",
              "              style=\"display:none;\">\n",
              "        \n",
              "  <svg xmlns=\"http://www.w3.org/2000/svg\" height=\"24px\"viewBox=\"0 0 24 24\"\n",
              "       width=\"24px\">\n",
              "    <path d=\"M0 0h24v24H0V0z\" fill=\"none\"/>\n",
              "    <path d=\"M18.56 5.44l.94 2.06.94-2.06 2.06-.94-2.06-.94-.94-2.06-.94 2.06-2.06.94zm-11 1L8.5 8.5l.94-2.06 2.06-.94-2.06-.94L8.5 2.5l-.94 2.06-2.06.94zm10 10l.94 2.06.94-2.06 2.06-.94-2.06-.94-.94-2.06-.94 2.06-2.06.94z\"/><path d=\"M17.41 7.96l-1.37-1.37c-.4-.4-.92-.59-1.43-.59-.52 0-1.04.2-1.43.59L10.3 9.45l-7.72 7.72c-.78.78-.78 2.05 0 2.83L4 21.41c.39.39.9.59 1.41.59.51 0 1.02-.2 1.41-.59l7.78-7.78 2.81-2.81c.8-.78.8-2.07 0-2.86zM5.41 20L4 18.59l7.72-7.72 1.47 1.35L5.41 20z\"/>\n",
              "  </svg>\n",
              "      </button>\n",
              "      \n",
              "  <style>\n",
              "    .colab-df-container {\n",
              "      display:flex;\n",
              "      flex-wrap:wrap;\n",
              "      gap: 12px;\n",
              "    }\n",
              "\n",
              "    .colab-df-convert {\n",
              "      background-color: #E8F0FE;\n",
              "      border: none;\n",
              "      border-radius: 50%;\n",
              "      cursor: pointer;\n",
              "      display: none;\n",
              "      fill: #1967D2;\n",
              "      height: 32px;\n",
              "      padding: 0 0 0 0;\n",
              "      width: 32px;\n",
              "    }\n",
              "\n",
              "    .colab-df-convert:hover {\n",
              "      background-color: #E2EBFA;\n",
              "      box-shadow: 0px 1px 2px rgba(60, 64, 67, 0.3), 0px 1px 3px 1px rgba(60, 64, 67, 0.15);\n",
              "      fill: #174EA6;\n",
              "    }\n",
              "\n",
              "    [theme=dark] .colab-df-convert {\n",
              "      background-color: #3B4455;\n",
              "      fill: #D2E3FC;\n",
              "    }\n",
              "\n",
              "    [theme=dark] .colab-df-convert:hover {\n",
              "      background-color: #434B5C;\n",
              "      box-shadow: 0px 1px 3px 1px rgba(0, 0, 0, 0.15);\n",
              "      filter: drop-shadow(0px 1px 2px rgba(0, 0, 0, 0.3));\n",
              "      fill: #FFFFFF;\n",
              "    }\n",
              "  </style>\n",
              "\n",
              "      <script>\n",
              "        const buttonEl =\n",
              "          document.querySelector('#df-d4421bc1-7d32-4fa6-9669-de0dc5b59728 button.colab-df-convert');\n",
              "        buttonEl.style.display =\n",
              "          google.colab.kernel.accessAllowed ? 'block' : 'none';\n",
              "\n",
              "        async function convertToInteractive(key) {\n",
              "          const element = document.querySelector('#df-d4421bc1-7d32-4fa6-9669-de0dc5b59728');\n",
              "          const dataTable =\n",
              "            await google.colab.kernel.invokeFunction('convertToInteractive',\n",
              "                                                     [key], {});\n",
              "          if (!dataTable) return;\n",
              "\n",
              "          const docLinkHtml = 'Like what you see? Visit the ' +\n",
              "            '<a target=\"_blank\" href=https://colab.research.google.com/notebooks/data_table.ipynb>data table notebook</a>'\n",
              "            + ' to learn more about interactive tables.';\n",
              "          element.innerHTML = '';\n",
              "          dataTable['output_type'] = 'display_data';\n",
              "          await google.colab.output.renderOutput(dataTable, element);\n",
              "          const docLink = document.createElement('div');\n",
              "          docLink.innerHTML = docLinkHtml;\n",
              "          element.appendChild(docLink);\n",
              "        }\n",
              "      </script>\n",
              "    </div>\n",
              "  </div>\n",
              "  "
            ]
          },
          "metadata": {},
          "execution_count": 21
        }
      ]
    },
    {
      "cell_type": "code",
      "source": [
        "# Obtenemos un poco más de información del dataframe\n",
        "df.describe()"
      ],
      "metadata": {
        "colab": {
          "base_uri": "https://localhost:8080/",
          "height": 175
        },
        "id": "H38KaRWdZoXb",
        "outputId": "bbd60578-b70f-46ad-9400-8f81ccf661c7"
      },
      "execution_count": null,
      "outputs": [
        {
          "output_type": "execute_result",
          "data": {
            "text/plain": [
              "                                                                                                     review sentiment\n",
              "count                                                                                                 50000     50000\n",
              "unique                                                                                                49582         2\n",
              "top     Loved today's show!!! It was a variety and not solely cooking (which would have been great too)....  positive\n",
              "freq                                                                                                      5     25000"
            ],
            "text/html": [
              "\n",
              "  <div id=\"df-92407cd3-8de5-4608-a40f-8b3a7c3faa61\">\n",
              "    <div class=\"colab-df-container\">\n",
              "      <div>\n",
              "<style scoped>\n",
              "    .dataframe tbody tr th:only-of-type {\n",
              "        vertical-align: middle;\n",
              "    }\n",
              "\n",
              "    .dataframe tbody tr th {\n",
              "        vertical-align: top;\n",
              "    }\n",
              "\n",
              "    .dataframe thead th {\n",
              "        text-align: right;\n",
              "    }\n",
              "</style>\n",
              "<table border=\"1\" class=\"dataframe\">\n",
              "  <thead>\n",
              "    <tr style=\"text-align: right;\">\n",
              "      <th></th>\n",
              "      <th>review</th>\n",
              "      <th>sentiment</th>\n",
              "    </tr>\n",
              "  </thead>\n",
              "  <tbody>\n",
              "    <tr>\n",
              "      <th>count</th>\n",
              "      <td>50000</td>\n",
              "      <td>50000</td>\n",
              "    </tr>\n",
              "    <tr>\n",
              "      <th>unique</th>\n",
              "      <td>49582</td>\n",
              "      <td>2</td>\n",
              "    </tr>\n",
              "    <tr>\n",
              "      <th>top</th>\n",
              "      <td>Loved today's show!!! It was a variety and not solely cooking (which would have been great too)....</td>\n",
              "      <td>positive</td>\n",
              "    </tr>\n",
              "    <tr>\n",
              "      <th>freq</th>\n",
              "      <td>5</td>\n",
              "      <td>25000</td>\n",
              "    </tr>\n",
              "  </tbody>\n",
              "</table>\n",
              "</div>\n",
              "      <button class=\"colab-df-convert\" onclick=\"convertToInteractive('df-92407cd3-8de5-4608-a40f-8b3a7c3faa61')\"\n",
              "              title=\"Convert this dataframe to an interactive table.\"\n",
              "              style=\"display:none;\">\n",
              "        \n",
              "  <svg xmlns=\"http://www.w3.org/2000/svg\" height=\"24px\"viewBox=\"0 0 24 24\"\n",
              "       width=\"24px\">\n",
              "    <path d=\"M0 0h24v24H0V0z\" fill=\"none\"/>\n",
              "    <path d=\"M18.56 5.44l.94 2.06.94-2.06 2.06-.94-2.06-.94-.94-2.06-.94 2.06-2.06.94zm-11 1L8.5 8.5l.94-2.06 2.06-.94-2.06-.94L8.5 2.5l-.94 2.06-2.06.94zm10 10l.94 2.06.94-2.06 2.06-.94-2.06-.94-.94-2.06-.94 2.06-2.06.94z\"/><path d=\"M17.41 7.96l-1.37-1.37c-.4-.4-.92-.59-1.43-.59-.52 0-1.04.2-1.43.59L10.3 9.45l-7.72 7.72c-.78.78-.78 2.05 0 2.83L4 21.41c.39.39.9.59 1.41.59.51 0 1.02-.2 1.41-.59l7.78-7.78 2.81-2.81c.8-.78.8-2.07 0-2.86zM5.41 20L4 18.59l7.72-7.72 1.47 1.35L5.41 20z\"/>\n",
              "  </svg>\n",
              "      </button>\n",
              "      \n",
              "  <style>\n",
              "    .colab-df-container {\n",
              "      display:flex;\n",
              "      flex-wrap:wrap;\n",
              "      gap: 12px;\n",
              "    }\n",
              "\n",
              "    .colab-df-convert {\n",
              "      background-color: #E8F0FE;\n",
              "      border: none;\n",
              "      border-radius: 50%;\n",
              "      cursor: pointer;\n",
              "      display: none;\n",
              "      fill: #1967D2;\n",
              "      height: 32px;\n",
              "      padding: 0 0 0 0;\n",
              "      width: 32px;\n",
              "    }\n",
              "\n",
              "    .colab-df-convert:hover {\n",
              "      background-color: #E2EBFA;\n",
              "      box-shadow: 0px 1px 2px rgba(60, 64, 67, 0.3), 0px 1px 3px 1px rgba(60, 64, 67, 0.15);\n",
              "      fill: #174EA6;\n",
              "    }\n",
              "\n",
              "    [theme=dark] .colab-df-convert {\n",
              "      background-color: #3B4455;\n",
              "      fill: #D2E3FC;\n",
              "    }\n",
              "\n",
              "    [theme=dark] .colab-df-convert:hover {\n",
              "      background-color: #434B5C;\n",
              "      box-shadow: 0px 1px 3px 1px rgba(0, 0, 0, 0.15);\n",
              "      filter: drop-shadow(0px 1px 2px rgba(0, 0, 0, 0.3));\n",
              "      fill: #FFFFFF;\n",
              "    }\n",
              "  </style>\n",
              "\n",
              "      <script>\n",
              "        const buttonEl =\n",
              "          document.querySelector('#df-92407cd3-8de5-4608-a40f-8b3a7c3faa61 button.colab-df-convert');\n",
              "        buttonEl.style.display =\n",
              "          google.colab.kernel.accessAllowed ? 'block' : 'none';\n",
              "\n",
              "        async function convertToInteractive(key) {\n",
              "          const element = document.querySelector('#df-92407cd3-8de5-4608-a40f-8b3a7c3faa61');\n",
              "          const dataTable =\n",
              "            await google.colab.kernel.invokeFunction('convertToInteractive',\n",
              "                                                     [key], {});\n",
              "          if (!dataTable) return;\n",
              "\n",
              "          const docLinkHtml = 'Like what you see? Visit the ' +\n",
              "            '<a target=\"_blank\" href=https://colab.research.google.com/notebooks/data_table.ipynb>data table notebook</a>'\n",
              "            + ' to learn more about interactive tables.';\n",
              "          element.innerHTML = '';\n",
              "          dataTable['output_type'] = 'display_data';\n",
              "          await google.colab.output.renderOutput(dataTable, element);\n",
              "          const docLink = document.createElement('div');\n",
              "          docLink.innerHTML = docLinkHtml;\n",
              "          element.appendChild(docLink);\n",
              "        }\n",
              "      </script>\n",
              "    </div>\n",
              "  </div>\n",
              "  "
            ]
          },
          "metadata": {},
          "execution_count": 22
        }
      ]
    },
    {
      "cell_type": "code",
      "source": [
        "# Confirmamos que existen registros duplicados\n",
        "pd.concat(g for _, g in df.groupby(\"review\") if len(g) > 1)"
      ],
      "metadata": {
        "colab": {
          "base_uri": "https://localhost:8080/",
          "height": 423
        },
        "id": "3RxaC7zxZ8m3",
        "outputId": "2388d8ad-4779-4b08-f807-1819acdf9d1c"
      },
      "execution_count": null,
      "outputs": [
        {
          "output_type": "execute_result",
          "data": {
            "text/plain": [
              "                                                                                                    review sentiment\n",
              "34058  \"Go Fish\" garnered Rose Troche rightly or wrongly the reputation of a film maker with much promi...  negative\n",
              "47467  \"Go Fish\" garnered Rose Troche rightly or wrongly the reputation of a film maker with much promi...  negative\n",
              "29956  \"Three\" is a seriously dumb shipwreck movie. Masquerading as a psychological thriller, it's clos...  negative\n",
              "31488  \"Three\" is a seriously dumb shipwreck movie. Masquerading as a psychological thriller, it's clos...  negative\n",
              "2976   \"Witchery\" might just be the most incoherent and lamentably scripted horror movie of the 80's bu...  negative\n",
              "...                                                                                                    ...       ...\n",
              "47876  this movie sucks. did anyone notice that the entire movie was shot in like 2 rooms. there are NE...  negative\n",
              "23056  well, the writing was very sloppy, the directing was sloppier, and the editing made it worse (at...  negative\n",
              "44122  well, the writing was very sloppy, the directing was sloppier, and the editing made it worse (at...  negative\n",
              "10163  when I first heard about this movie, I noticed it was one of the most controversial films of the...  positive\n",
              "15305  when I first heard about this movie, I noticed it was one of the most controversial films of the...  positive\n",
              "\n",
              "[824 rows x 2 columns]"
            ],
            "text/html": [
              "\n",
              "  <div id=\"df-2cb36852-c7db-4a40-b2fc-0c364e821950\">\n",
              "    <div class=\"colab-df-container\">\n",
              "      <div>\n",
              "<style scoped>\n",
              "    .dataframe tbody tr th:only-of-type {\n",
              "        vertical-align: middle;\n",
              "    }\n",
              "\n",
              "    .dataframe tbody tr th {\n",
              "        vertical-align: top;\n",
              "    }\n",
              "\n",
              "    .dataframe thead th {\n",
              "        text-align: right;\n",
              "    }\n",
              "</style>\n",
              "<table border=\"1\" class=\"dataframe\">\n",
              "  <thead>\n",
              "    <tr style=\"text-align: right;\">\n",
              "      <th></th>\n",
              "      <th>review</th>\n",
              "      <th>sentiment</th>\n",
              "    </tr>\n",
              "  </thead>\n",
              "  <tbody>\n",
              "    <tr>\n",
              "      <th>34058</th>\n",
              "      <td>\"Go Fish\" garnered Rose Troche rightly or wrongly the reputation of a film maker with much promi...</td>\n",
              "      <td>negative</td>\n",
              "    </tr>\n",
              "    <tr>\n",
              "      <th>47467</th>\n",
              "      <td>\"Go Fish\" garnered Rose Troche rightly or wrongly the reputation of a film maker with much promi...</td>\n",
              "      <td>negative</td>\n",
              "    </tr>\n",
              "    <tr>\n",
              "      <th>29956</th>\n",
              "      <td>\"Three\" is a seriously dumb shipwreck movie. Masquerading as a psychological thriller, it's clos...</td>\n",
              "      <td>negative</td>\n",
              "    </tr>\n",
              "    <tr>\n",
              "      <th>31488</th>\n",
              "      <td>\"Three\" is a seriously dumb shipwreck movie. Masquerading as a psychological thriller, it's clos...</td>\n",
              "      <td>negative</td>\n",
              "    </tr>\n",
              "    <tr>\n",
              "      <th>2976</th>\n",
              "      <td>\"Witchery\" might just be the most incoherent and lamentably scripted horror movie of the 80's bu...</td>\n",
              "      <td>negative</td>\n",
              "    </tr>\n",
              "    <tr>\n",
              "      <th>...</th>\n",
              "      <td>...</td>\n",
              "      <td>...</td>\n",
              "    </tr>\n",
              "    <tr>\n",
              "      <th>47876</th>\n",
              "      <td>this movie sucks. did anyone notice that the entire movie was shot in like 2 rooms. there are NE...</td>\n",
              "      <td>negative</td>\n",
              "    </tr>\n",
              "    <tr>\n",
              "      <th>23056</th>\n",
              "      <td>well, the writing was very sloppy, the directing was sloppier, and the editing made it worse (at...</td>\n",
              "      <td>negative</td>\n",
              "    </tr>\n",
              "    <tr>\n",
              "      <th>44122</th>\n",
              "      <td>well, the writing was very sloppy, the directing was sloppier, and the editing made it worse (at...</td>\n",
              "      <td>negative</td>\n",
              "    </tr>\n",
              "    <tr>\n",
              "      <th>10163</th>\n",
              "      <td>when I first heard about this movie, I noticed it was one of the most controversial films of the...</td>\n",
              "      <td>positive</td>\n",
              "    </tr>\n",
              "    <tr>\n",
              "      <th>15305</th>\n",
              "      <td>when I first heard about this movie, I noticed it was one of the most controversial films of the...</td>\n",
              "      <td>positive</td>\n",
              "    </tr>\n",
              "  </tbody>\n",
              "</table>\n",
              "<p>824 rows × 2 columns</p>\n",
              "</div>\n",
              "      <button class=\"colab-df-convert\" onclick=\"convertToInteractive('df-2cb36852-c7db-4a40-b2fc-0c364e821950')\"\n",
              "              title=\"Convert this dataframe to an interactive table.\"\n",
              "              style=\"display:none;\">\n",
              "        \n",
              "  <svg xmlns=\"http://www.w3.org/2000/svg\" height=\"24px\"viewBox=\"0 0 24 24\"\n",
              "       width=\"24px\">\n",
              "    <path d=\"M0 0h24v24H0V0z\" fill=\"none\"/>\n",
              "    <path d=\"M18.56 5.44l.94 2.06.94-2.06 2.06-.94-2.06-.94-.94-2.06-.94 2.06-2.06.94zm-11 1L8.5 8.5l.94-2.06 2.06-.94-2.06-.94L8.5 2.5l-.94 2.06-2.06.94zm10 10l.94 2.06.94-2.06 2.06-.94-2.06-.94-.94-2.06-.94 2.06-2.06.94z\"/><path d=\"M17.41 7.96l-1.37-1.37c-.4-.4-.92-.59-1.43-.59-.52 0-1.04.2-1.43.59L10.3 9.45l-7.72 7.72c-.78.78-.78 2.05 0 2.83L4 21.41c.39.39.9.59 1.41.59.51 0 1.02-.2 1.41-.59l7.78-7.78 2.81-2.81c.8-.78.8-2.07 0-2.86zM5.41 20L4 18.59l7.72-7.72 1.47 1.35L5.41 20z\"/>\n",
              "  </svg>\n",
              "      </button>\n",
              "      \n",
              "  <style>\n",
              "    .colab-df-container {\n",
              "      display:flex;\n",
              "      flex-wrap:wrap;\n",
              "      gap: 12px;\n",
              "    }\n",
              "\n",
              "    .colab-df-convert {\n",
              "      background-color: #E8F0FE;\n",
              "      border: none;\n",
              "      border-radius: 50%;\n",
              "      cursor: pointer;\n",
              "      display: none;\n",
              "      fill: #1967D2;\n",
              "      height: 32px;\n",
              "      padding: 0 0 0 0;\n",
              "      width: 32px;\n",
              "    }\n",
              "\n",
              "    .colab-df-convert:hover {\n",
              "      background-color: #E2EBFA;\n",
              "      box-shadow: 0px 1px 2px rgba(60, 64, 67, 0.3), 0px 1px 3px 1px rgba(60, 64, 67, 0.15);\n",
              "      fill: #174EA6;\n",
              "    }\n",
              "\n",
              "    [theme=dark] .colab-df-convert {\n",
              "      background-color: #3B4455;\n",
              "      fill: #D2E3FC;\n",
              "    }\n",
              "\n",
              "    [theme=dark] .colab-df-convert:hover {\n",
              "      background-color: #434B5C;\n",
              "      box-shadow: 0px 1px 3px 1px rgba(0, 0, 0, 0.15);\n",
              "      filter: drop-shadow(0px 1px 2px rgba(0, 0, 0, 0.3));\n",
              "      fill: #FFFFFF;\n",
              "    }\n",
              "  </style>\n",
              "\n",
              "      <script>\n",
              "        const buttonEl =\n",
              "          document.querySelector('#df-2cb36852-c7db-4a40-b2fc-0c364e821950 button.colab-df-convert');\n",
              "        buttonEl.style.display =\n",
              "          google.colab.kernel.accessAllowed ? 'block' : 'none';\n",
              "\n",
              "        async function convertToInteractive(key) {\n",
              "          const element = document.querySelector('#df-2cb36852-c7db-4a40-b2fc-0c364e821950');\n",
              "          const dataTable =\n",
              "            await google.colab.kernel.invokeFunction('convertToInteractive',\n",
              "                                                     [key], {});\n",
              "          if (!dataTable) return;\n",
              "\n",
              "          const docLinkHtml = 'Like what you see? Visit the ' +\n",
              "            '<a target=\"_blank\" href=https://colab.research.google.com/notebooks/data_table.ipynb>data table notebook</a>'\n",
              "            + ' to learn more about interactive tables.';\n",
              "          element.innerHTML = '';\n",
              "          dataTable['output_type'] = 'display_data';\n",
              "          await google.colab.output.renderOutput(dataTable, element);\n",
              "          const docLink = document.createElement('div');\n",
              "          docLink.innerHTML = docLinkHtml;\n",
              "          element.appendChild(docLink);\n",
              "        }\n",
              "      </script>\n",
              "    </div>\n",
              "  </div>\n",
              "  "
            ]
          },
          "metadata": {},
          "execution_count": 24
        }
      ]
    },
    {
      "cell_type": "code",
      "source": [
        "#Inspeccionamos como están distribuidos los valores de las etiquetas\n",
        "df['sentiment'].value_counts().plot(kind='bar')\n",
        "df['sentiment'].value_counts()"
      ],
      "metadata": {
        "colab": {
          "base_uri": "https://localhost:8080/",
          "height": 352
        },
        "id": "nwnoN8RZvyEW",
        "outputId": "89faeb46-794d-44cc-cd64-d2e7dd4b6010"
      },
      "execution_count": 26,
      "outputs": [
        {
          "output_type": "execute_result",
          "data": {
            "text/plain": [
              "positive    25000\n",
              "negative    25000\n",
              "Name: sentiment, dtype: int64"
            ]
          },
          "metadata": {},
          "execution_count": 26
        },
        {
          "output_type": "display_data",
          "data": {
            "text/plain": [
              "<Figure size 432x288 with 1 Axes>"
            ],
            "image/png": "[encoded data removed]"
          },
          "metadata": {
            "needs_background": "light"
          }
        }
      ]
    },
    {
      "cell_type": "markdown",
      "metadata": {
        "id": "5x34_8GvDf9C"
      },
      "source": [
        "En este punto podemos concluir:\n",
        "\n",
        "\n",
        "* El data set esta compuesto de 50.000 registros\n",
        "* Para cada registro contamos con 2 columnas, la reseña (review) y el sentimiento (sentiment)\n",
        "* El sentimiento contiene solo dos valores (positive y negative)\n",
        "* El dataset esta perfectamente balanceado en cuanto a las etiquetas con 25.000 registros etiquetados como posittivos y 25.000 registros etiquetados como negativos.\n",
        "* Existen registros duplicados por lo que procederemos a hacer un filtrado de los datos\n",
        "\n",
        "PD: La distribución de clases nos ayuda mucho en la clasificación de textos. Imaginemos una situación en la que el 95% de los datos se encuentran en una clase y el 5% restante se divide entre otras 5 clases. Si no hiciéramos nada al respecto, el modelo simplemente aprendería a adivinar la clase del 95% todo el tiempo y estaría en lo correcto el 95% de las veces con los datos que usaríamos.\n",
        "\n",
        "\n"
      ]
    },
    {
      "cell_type": "markdown",
      "source": [
        "## Filtrado de los datos"
      ],
      "metadata": {
        "id": "x4Tovl0ta8K9"
      }
    },
    {
      "cell_type": "code",
      "source": [
        "#Procedemos a eliminar los registros duplicados del dataset.\n",
        "df = df.drop_duplicates()"
      ],
      "metadata": {
        "id": "rsH7YM2NeOQr"
      },
      "execution_count": 27,
      "outputs": []
    },
    {
      "cell_type": "code",
      "source": [
        "#Obtenemos las dimensiones del dataframe despues del filtrado de duplicados.\n",
        "shape = df.shape\n",
        "print('\\nDataFrame Shape :', shape)\n",
        "print('\\nNumber of rows :', shape[0])\n",
        "print('\\nNumber of columns :', shape[1])"
      ],
      "metadata": {
        "colab": {
          "base_uri": "https://localhost:8080/"
        },
        "id": "YrbqD2xle_X5",
        "outputId": "1991367b-bf76-418d-a002-e374a6da1abb"
      },
      "execution_count": 30,
      "outputs": [
        {
          "output_type": "stream",
          "name": "stdout",
          "text": [
            "\n",
            "DataFrame Shape : (49582, 2)\n",
            "\n",
            "Number of rows : 49582\n",
            "\n",
            "Number of columns : 2\n"
          ]
        }
      ]
    },
    {
      "cell_type": "markdown",
      "source": [
        "## Limpieza de datos"
      ],
      "metadata": {
        "id": "HpskDyHJbjZa"
      }
    },
    {
      "cell_type": "markdown",
      "source": [
        "Debido a la naturaleza de los reviews, construiremos una funcion de limpieza que permita:\n",
        "* Remover etiquetas HTML en la reseña.\n",
        "* Eliminar textos entre corchetes.\n",
        "* Eliminar signos de puntuación.\n",
        "\n",
        "De esta forma eliminamos elementos que puedan causar ruido y obtendremos un mejor performance del modelo.\n",
        "\n"
      ],
      "metadata": {
        "id": "4CKxXy9Fb1kL"
      }
    },
    {
      "cell_type": "code",
      "source": [
        "#Eliminando etiquetas HTML\n",
        "def remove_html_tags(text):\n",
        "    return re.sub('<.*?>', '', text)\n",
        "\n",
        "#Eliminando textos entre corchetes\n",
        "def remove_between_square_brackets(text):\n",
        "    return re.sub('\\[[^]]*\\]', '', text)\n",
        "\n",
        "#Eliminando signos de puntuación\n",
        "def remove_string_punctuation(text):\n",
        "    text = text.translate(text.maketrans('', '', string.punctuation))\n",
        "    return text\n",
        "\n",
        "#Funcion de limpieza\n",
        "def denoise_text(text):\n",
        "    text = remove_html_tags(text)\n",
        "    text = remove_between_square_brackets(text)\n",
        "    text = remove_string_punctuation(text)\n",
        "    return text"
      ],
      "metadata": {
        "id": "wUGC-o2NgKRI"
      },
      "execution_count": 32,
      "outputs": []
    },
    {
      "cell_type": "code",
      "source": [
        "# Visualizamos un review antes de aplicar la funcion de limpieza\n",
        "df['review'][4]"
      ],
      "metadata": {
        "colab": {
          "base_uri": "https://localhost:8080/",
          "height": 178
        },
        "id": "0vD5VGPEb5Me",
        "outputId": "58988a5f-21a6-456f-9c1e-f8e85a27b4d6"
      },
      "execution_count": 33,
      "outputs": [
        {
          "output_type": "execute_result",
          "data": {
            "text/plain": [
              "'Petter Mattei\\'s \"Love in the Time of Money\" is a visually stunning film to watch. Mr. Mattei offers us a vivid portrait about human relations. This is a movie that seems to be telling us what money, power and success do to people in the different situations we encounter. <br /><br />This being a variation on the Arthur Schnitzler\\'s play about the same theme, the director transfers the action to the present time New York where all these different characters meet and connect. Each one is connected in one way, or another to the next person, but no one seems to know the previous point of contact. Stylishly, the film has a sophisticated luxurious look. We are taken to see how these people live and the world they live in their own habitat.<br /><br />The only thing one gets out of all these souls in the picture is the different stages of loneliness each one inhabits. A big city is not exactly the best place in which human relations find sincere fulfillment, as one discerns is the case with most of the people we encounter.<br /><br />The acting is good under Mr. Mattei\\'s direction. Steve Buscemi, Rosario Dawson, Carol Kane, Michael Imperioli, Adrian Grenier, and the rest of the talented cast, make these characters come alive.<br /><br />We wish Mr. Mattei good luck and await anxiously for his next work.'"
            ],
            "application/vnd.google.colaboratory.intrinsic+json": {
              "type": "string"
            }
          },
          "metadata": {},
          "execution_count": 33
        }
      ]
    },
    {
      "cell_type": "code",
      "source": [
        "#Aplicando la función de limpieza al dataframe\n",
        "df['review']=df['review'].apply(denoise_text)"
      ],
      "metadata": {
        "id": "VPhbL8LacDUH"
      },
      "execution_count": 34,
      "outputs": []
    },
    {
      "cell_type": "code",
      "source": [
        "# Visualizamos un review antes de aplicar la funcion de limpieza\n",
        "df['review'][4]"
      ],
      "metadata": {
        "colab": {
          "base_uri": "https://localhost:8080/",
          "height": 178
        },
        "id": "yBPAdVh2cCpa",
        "outputId": "939db929-17b5-4c99-cc06-7ebcc27b5bc1"
      },
      "execution_count": 35,
      "outputs": [
        {
          "output_type": "execute_result",
          "data": {
            "text/plain": [
              "'Petter Matteis Love in the Time of Money is a visually stunning film to watch Mr Mattei offers us a vivid portrait about human relations This is a movie that seems to be telling us what money power and success do to people in the different situations we encounter This being a variation on the Arthur Schnitzlers play about the same theme the director transfers the action to the present time New York where all these different characters meet and connect Each one is connected in one way or another to the next person but no one seems to know the previous point of contact Stylishly the film has a sophisticated luxurious look We are taken to see how these people live and the world they live in their own habitatThe only thing one gets out of all these souls in the picture is the different stages of loneliness each one inhabits A big city is not exactly the best place in which human relations find sincere fulfillment as one discerns is the case with most of the people we encounterThe acting is good under Mr Matteis direction Steve Buscemi Rosario Dawson Carol Kane Michael Imperioli Adrian Grenier and the rest of the talented cast make these characters come aliveWe wish Mr Mattei good luck and await anxiously for his next work'"
            ],
            "application/vnd.google.colaboratory.intrinsic+json": {
              "type": "string"
            }
          },
          "metadata": {},
          "execution_count": 35
        }
      ]
    },
    {
      "cell_type": "markdown",
      "metadata": {
        "id": "FMJJVjExD0Uq"
      },
      "source": [
        "To start modelling we still need to do a couple of things:\n",
        "\n",
        "1.   Split data into train and test datasets\n",
        "2.   Encode labels\n",
        "3.   Tokenize text\n",
        "\n"
      ]
    },
    {
      "cell_type": "markdown",
      "metadata": {
        "id": "HCwKlyvtD2wB"
      },
      "source": [
        "## Train/test split"
      ]
    },
    {
      "cell_type": "markdown",
      "metadata": {
        "id": "1e51xO2BD8wZ"
      },
      "source": [
        "We don't really need all 1.6 Million tweets for training so we can take a sample of 5% (to save up time on training) and then split that into 80% for training and 20% for testing."
      ]
    },
    {
      "cell_type": "code",
      "metadata": {
        "id": "I2bcU8X_Dz9M"
      },
      "source": [
        "x = df.review.values\n",
        "y = df.sentiment.values\n",
        "x_train, x_test, y_train, y_test = train_test_split(x, y, test_size=0.20, random_state=42)"
      ],
      "execution_count": 37,
      "outputs": []
    },
    {
      "cell_type": "code",
      "source": [
        "unique, counts = np.unique(y_test, return_counts=True)\n",
        "\n",
        "result = np.column_stack((unique, counts)) \n",
        "print (result)"
      ],
      "metadata": {
        "colab": {
          "base_uri": "https://localhost:8080/"
        },
        "id": "j5CAHJuA4ru3",
        "outputId": "ba80c049-6cb9-4b98-9172-40f0f4683d87"
      },
      "execution_count": 39,
      "outputs": [
        {
          "output_type": "stream",
          "name": "stdout",
          "text": [
            "[['negative' 4939]\n",
            " ['positive' 4978]]\n"
          ]
        }
      ]
    },
    {
      "cell_type": "markdown",
      "metadata": {
        "id": "R6CgL-y4EI3o"
      },
      "source": [
        "## Label Encoding"
      ]
    },
    {
      "cell_type": "markdown",
      "metadata": {
        "id": "aNDz2KRGEMRS"
      },
      "source": [
        "We could get away with other approach but you might want to use this for more than binary classification."
      ]
    },
    {
      "cell_type": "code",
      "metadata": {
        "id": "0mmW4jGVDmCH",
        "colab": {
          "base_uri": "https://localhost:8080/"
        },
        "outputId": "bf663613-57bc-443c-d5d4-540fdc24f619"
      },
      "source": [
        "encoder = LabelEncoder()\n",
        "encoder.fit(y)\n",
        "\n",
        "encoder.classes_"
      ],
      "execution_count": 40,
      "outputs": [
        {
          "output_type": "execute_result",
          "data": {
            "text/plain": [
              "array(['negative', 'positive'], dtype=object)"
            ]
          },
          "metadata": {},
          "execution_count": 40
        }
      ]
    },
    {
      "cell_type": "code",
      "source": [
        "encoded_Y_test = encoder.transform(y_test)\n",
        "encoded_Y_train = encoder.transform(y_train)\n",
        "\n",
        "# convert integers to dummy variables (i.e. one hot encoded)\n",
        "dummy_y_test = np_utils.to_categorical(encoded_Y_test)\n",
        "dummy_y_train = np_utils.to_categorical(encoded_Y_train)"
      ],
      "metadata": {
        "id": "WSHbXQCei-Fa"
      },
      "execution_count": 41,
      "outputs": []
    },
    {
      "cell_type": "markdown",
      "metadata": {
        "id": "doKxHdH6EXNZ"
      },
      "source": [
        "We might want to use encoding for later. For that we can save enconding map."
      ]
    },
    {
      "cell_type": "code",
      "metadata": {
        "id": "cwQNtv17EdUz"
      },
      "source": [
        "encoder_fname = 'imdb_encoder_classes.npy'\n",
        "my_wd = '/content/gdrive/MyDrive/VIU-MIAR/09MIAR-TFM/BERT-sentiment-analysis/assets/'\n",
        "np.save(os.path.join(my_wd, encoder_fname) , encoder.classes_)"
      ],
      "execution_count": 47,
      "outputs": []
    },
    {
      "cell_type": "markdown",
      "metadata": {
        "id": "ct1-P5r1FGQO"
      },
      "source": [
        "To load it when you'll use this in production just use the below cell (uncommented ofcourse)"
      ]
    },
    {
      "cell_type": "code",
      "metadata": {
        "id": "HEopM33sE_Et"
      },
      "source": [
        "# encoder = LabelEncoder()\n",
        "# encoder.classes_ = np.load(os.path.join(my_wd, encoder_fname), allow_pickle=True)"
      ],
      "execution_count": null,
      "outputs": []
    },
    {
      "cell_type": "markdown",
      "metadata": {
        "id": "Rq5GSy35Gibn"
      },
      "source": [
        "## Tokenization"
      ]
    },
    {
      "cell_type": "markdown",
      "metadata": {
        "id": "F5f_ey3VGknK"
      },
      "source": [
        "To tokenize our text we will use some functions from official.nlp.bert package and the pretrained [BERT](https://towardsdatascience.com/bert-explained-state-of-the-art-language-model-for-nlp-f8b21a9b6270) model itself. \\\\\n",
        "First we get the BERT model. I'll use the multilingual one as it will be best for most of your cases. To check all NLP models provided by TF HUB go [here](https://tfhub.dev/s?module-type=text-embedding,text-classification,text-generation,text-language-model,text-question-answering,text-retrieval-question-answering)."
      ]
    },
    {
      "cell_type": "code",
      "metadata": {
        "id": "atMa7VWVFQwV"
      },
      "source": [
        "bert_layer = hub.KerasLayer(\"https://tfhub.dev/tensorflow/bert_multi_cased_L-12_H-768_A-12/2\",\n",
        "                            trainable=True)"
      ],
      "execution_count": 48,
      "outputs": []
    },
    {
      "cell_type": "code",
      "metadata": {
        "id": "VoD6yod_FRyN"
      },
      "source": [
        "vocab_file = bert_layer.resolved_object.vocab_file.asset_path.numpy()\n",
        "do_lower_case = bert_layer.resolved_object.do_lower_case.numpy()\n",
        "tokenizer = tokenization.FullTokenizer(vocab_file, do_lower_case)"
      ],
      "execution_count": 49,
      "outputs": []
    },
    {
      "cell_type": "markdown",
      "metadata": {
        "id": "hh9FX32qHeKI"
      },
      "source": [
        "You can see that in above cell we have loaded some variables using the bert_layer we have downloaded. \n",
        "\n",
        "1.   ```vocab_file``` reads the vocab file associated to the downloaded model.\n",
        "2.   ```do_lower_case``` reads binary variable which if ```True``` means tokenizer will reformat all text to lower case rendering model to be **NOT** case sensitive. Should be ```False``` by default. You can check in a cell below.\n",
        "3.   ```tokenizer``` builds tokenizer using variables 1 and 2.\n",
        "\n"
      ]
    },
    {
      "cell_type": "code",
      "metadata": {
        "id": "d0JoikgjFTmk",
        "colab": {
          "base_uri": "https://localhost:8080/"
        },
        "outputId": "bfa13f21-412a-4e5b-c980-0c422e43aac1"
      },
      "source": [
        "do_lower_case"
      ],
      "execution_count": 50,
      "outputs": [
        {
          "output_type": "execute_result",
          "data": {
            "text/plain": [
              "False"
            ]
          },
          "metadata": {},
          "execution_count": 50
        }
      ]
    },
    {
      "cell_type": "code",
      "source": [
        "##\n",
        "tokenizer.tokenize('Hello how are your printer?')"
      ],
      "metadata": {
        "colab": {
          "base_uri": "https://localhost:8080/"
        },
        "id": "wG-uTj1u9UXe",
        "outputId": "2887ff23-4f33-420d-bd16-73e69eafa379"
      },
      "execution_count": 51,
      "outputs": [
        {
          "output_type": "execute_result",
          "data": {
            "text/plain": [
              "['Hello', 'how', 'are', 'your', 'print', '##er', '?']"
            ]
          },
          "metadata": {},
          "execution_count": 51
        }
      ]
    },
    {
      "cell_type": "markdown",
      "metadata": {
        "id": "C3lCeedHKkkB"
      },
      "source": [
        "Lastly we need to add two additional tokens: Classification and Seperation. We will add these through functions we will use to tokenize our text."
      ]
    },
    {
      "cell_type": "code",
      "metadata": {
        "id": "q1Y7q4QTKuTD",
        "colab": {
          "base_uri": "https://localhost:8080/"
        },
        "outputId": "55302769-f78d-40ac-eaed-fde60f9f1a28"
      },
      "source": [
        "tokenizer.convert_tokens_to_ids(['[CLS]', '[SEP]'])"
      ],
      "execution_count": 52,
      "outputs": [
        {
          "output_type": "execute_result",
          "data": {
            "text/plain": [
              "[101, 102]"
            ]
          },
          "metadata": {},
          "execution_count": 52
        }
      ]
    },
    {
      "cell_type": "markdown",
      "metadata": {
        "id": "Xazos3SQKa8w"
      },
      "source": [
        "Kewl, by this point we have everything for tokenization. This will take a bit as we have quite a bit of data."
      ]
    },
    {
      "cell_type": "code",
      "metadata": {
        "id": "-DIT-v6bIFrw"
      },
      "source": [
        "#Tokeniza y devuelve ids\n",
        "def encode_reviews(r):\n",
        "   tokens = list(tokenizer.tokenize(r))\n",
        "   tokens.append('[SEP]')  # seperation token. Would bemuch more useful if you had a multiple text input.\n",
        "   return tokenizer.convert_tokens_to_ids(tokens)\n",
        "\n",
        "reviews = tf.ragged.constant([encode_reviews(r) for r in x_train])"
      ],
      "execution_count": 53,
      "outputs": []
    },
    {
      "cell_type": "code",
      "metadata": {
        "id": "jfcVehzDK_--",
        "colab": {
          "base_uri": "https://localhost:8080/"
        },
        "outputId": "2d25d0f7-9cde-4b53-a69a-949393e8d5e0"
      },
      "source": [
        "print('Tokenized Reviews shape', reviews.shape.as_list())"
      ],
      "execution_count": 54,
      "outputs": [
        {
          "output_type": "stream",
          "name": "stdout",
          "text": [
            "Tokenized Reviews shape [39665, None]\n"
          ]
        }
      ]
    },
    {
      "cell_type": "markdown",
      "metadata": {
        "id": "loT0bjSoLZoo"
      },
      "source": [
        "This is to what our tweets have converted to. The ids there are essentially the same as in the simple NN example we did last time, just this time we use a predefined vocabulary.\n"
      ]
    },
    {
      "cell_type": "code",
      "metadata": {
        "id": "NPmesjL4LPtQ",
        "colab": {
          "base_uri": "https://localhost:8080/"
        },
        "outputId": "ada6b7a1-9cf8-4dcc-e351-5b8c98c2af9e"
      },
      "source": [
        "reviews[2]"
      ],
      "execution_count": 64,
      "outputs": [
        {
          "output_type": "execute_result",
          "data": {
            "text/plain": [
              "<tf.Tensor: shape=(562,), dtype=int32, numpy=\n",
              "array([ 14864,  12558,  19118,  10114,  23763,  12820,  12976,  10134,\n",
              "        19090,  10135,  10169,  10117,  14005,  10188,  24181,  10111,\n",
              "        12976,  10105,  10458,  12174,  10529,  10590,  13663,  13093,\n",
              "       103633,  95411,  84033,  19287,  17644,  10106,  10458,  10160,\n",
              "        10531,  12331,  10134,  10114,  42439,  17920,  10142,  10226,\n",
              "        33462,  69815,  30446,  10226,  12542,  22846,  10124,  12976,\n",
              "        72256,  10957,  10114,  48394,  10950,  25086,  45083,  10357,\n",
              "        11019,  14005,  10188,  24181,  10142,  10226,  17864,  10114,\n",
              "        10347,  11419,  15926,  14601,  25105,  27512,  17929,  12914,\n",
              "        13098,  15797,  10134,  44929,  14446,  10142,  25105,  10107,\n",
              "        18170,  10111,  11991,  12014,  10105,  14072,  10108,  10531,\n",
              "        18379,  10142,  10464,  10924,  11090,  11643,  32473,  42663,\n",
              "        10151,  15624,  83595,  10667,  10631,  29639,  12677,  10479,\n",
              "        35017,  10106,  16138,  10169,  68006,  27512,  17929,  28780,\n",
              "       104939,  10230,  10169,  13716,  21484,  26029,  40830,  13229,\n",
              "        19634,  10124,    169,  11206,  11053,  30931,  54131,  13134,\n",
              "        21631,  71063,  60159,  90753,  10112,  10479,  10124,  10146,\n",
              "          171,  68228,  22238,  10162,  10135,  10105,  22978,  10146,\n",
              "        10261,  10124,  10950,  10357,  92174,  10107,  29639,  12677,\n",
              "        10114,  11424,  10135,  10226,  10549,  11640,  10111,  11155,\n",
              "        29639,  12677,  10124,  34788,  26591,  10165,  10111,  26591,\n",
              "        10165,  10708,    169,  12998,  10108,  29448,  10111,  10104,\n",
              "        91199,  10123,  11090,  11643,  14005,  10188,  24181,  49157,\n",
              "        10160,    169,  99876,  10107,  32547,  15102,    146,  68312,\n",
              "        10169,  10464,  10108,  10105,  89897,  10107,  10189,  14280,\n",
              "        18745,  10301,  42318,  10142,  18084,  10635,  10114,  23332,\n",
              "          169,  32473,  27567,  10531,  18379,  71840,  10107,  10117,\n",
              "        18167,  10106,  10105,  41807,  13215,  10124,  69262,  97656,\n",
              "        84033,  22591,  10271,  13663,  11839,  15102,  10111,    146,\n",
              "        30587,  10105,  13093,  21610,  10271,  12935,  14864,    169,\n",
              "        48201,  18969,  10117,  46747,  15916,  10124,  28780, 104939,\n",
              "        10230,  10160,  73205,  78241,  10111,  12558,  64918,  15529,\n",
              "        13034,  35199,  10134,  10151,  50337,  14066,  27925,  22451,\n",
              "        10106,  10226,  24215, 101328,  75798,  13275,  10111,  83509,\n",
              "        63400,    169,  20722,  97026,  21264,  10111,  21701,  10473,\n",
              "        10106,  11299,  14280,  10474,  17122,  10146,  12277,  10261,\n",
              "        47798,  10123,  54399,  14764,  10345,  47798,  10123,  13574,\n",
              "        10105,  10635,  10114,  26800,    169,  15092,  47556,  10261,\n",
              "        89123,  10107,  10135,  44915,  10107,  11049,  10146,  59649,\n",
              "        10107,  10111,  12211,  10550,  63800,  10107,  11340,  10108,\n",
              "        10105,  10893,  13465,  10261,  34420,  10123,  10149,  10531,\n",
              "        10134,  37670,  10124,  28057,  10940,  10105,  12461,  30811,\n",
              "        10151,  50337,  78846,  24666,  14432,  10950,  10108,  10957,\n",
              "        62046,  10562,  10189,  10169,  16680,  52883,  10940,  10261,\n",
              "        15573,  10261,  10124,    169,  22013,  10108,  33166,  29914,\n",
              "        25086,  10146,  10261,  41008,  10107,  10106,  10226,  14432,\n",
              "        18249,  84033,  10124,  30918,  14517,  57672,  22238,  34238,\n",
              "        10146,  12461,  16624,  11170,  77799,  10111, 103592,  31063,\n",
              "          169,  27185,  10119,  54881,  18621,  10908,  59649,  10111,\n",
              "        34279,  48195,  10134,    169,  15040,  13170,  10114,    169,\n",
              "       100356,  71823,  10261,  10124,  19540,  10212,  17703,  11945,\n",
              "        11090,  11643,  32403,  16021,  10301,  50337,  11198,  90753,\n",
              "        10111,  26202,  20751,  27512,  17929,  11783,  28163,  13499,\n",
              "        10111,  44898,  44927,  38039,  10485,  34746,  10134,  13123,\n",
              "        76902,  10155,  35183,  27899,  10124,  10146,  49176,    169,\n",
              "        17876,  22009,  59257,  10111,  10464,  10108,  10105,  14772,\n",
              "        29963,  25599,  10107,  12489,    169,  81708,  12103,  10142,\n",
              "        11049,    169,  13956,  81371,  10123,  54883,  10738,  10756,\n",
              "        10458,  10189,  95411,  84033,  15446,  10124,  43509,  57039,\n",
              "        10111,  10117,  14005,  10188,  24181,  10124,  10192,  30646,\n",
              "        16976,  10531,  10464,  24516,  10105,  17904,  10165,  12127,\n",
              "        19265,  32199,  10146,  15107,  10117,  63672,  97026,  59885,\n",
              "        54325,  10146,  15107,  11178,  11424,  10189,  84033,  12172,\n",
              "        12381,  10105,  13093,  11787,  10357,  10134,    169,  14772,\n",
              "        16410,  10479,  14819,  10529,  10590,  13507,    169,  13961,\n",
              "        10129,  38587,  10261,  65390,  10123,  10357,  10134,    169,\n",
              "        93309,  31005,  25032,  10157,  10261,  23794,  10798,  33700,\n",
              "        10473,  10146,  10124,  18713,  10162,  10155,  11152,  10108,\n",
              "        10226,  10873,  11424,  10261,  23794,  10105,  13926,  10108,\n",
              "        10105,  13093,  56500,  10107,  10261, 107761,  10123,  10529,\n",
              "        11408,    102], dtype=int32)>"
            ]
          },
          "metadata": {},
          "execution_count": 64
        }
      ]
    },
    {
      "cell_type": "markdown",
      "metadata": {
        "id": "T5_IdTYjL_bT"
      },
      "source": [
        "If you want to see how tokenizer does the \"tokenizing\" check the cells below."
      ]
    },
    {
      "cell_type": "code",
      "metadata": {
        "id": "hqmw3xEKMtDn",
        "colab": {
          "base_uri": "https://localhost:8080/",
          "height": 107
        },
        "outputId": "4ca4e5d9-43cf-49f3-e48c-ea9f987953e3"
      },
      "source": [
        "x_train[0]"
      ],
      "execution_count": 65,
      "outputs": [
        {
          "output_type": "execute_result",
          "data": {
            "text/plain": [
              "'I really liked the movie The Emporers New Groove but watching this was like coming home and seeing your wife having relations with a llama Seriously this movie was bad Its like Club Dread after Super Troopers I am supposed to write 10 lines but I dont even know what else to say I laughed a couple of times but only because I was drinking A movie like that should at least be funny when your drunk It was not Maybe llamas are just funny and regular cartoon people arent Either way just stick with The Emporers New Groove if you want a funny cartoon llamathemed movie Line 10 is this line right here'"
            ],
            "application/vnd.google.colaboratory.intrinsic+json": {
              "type": "string"
            }
          },
          "metadata": {},
          "execution_count": 65
        }
      ]
    },
    {
      "cell_type": "code",
      "metadata": {
        "id": "aQ9_HEAiLXUI",
        "colab": {
          "base_uri": "https://localhost:8080/"
        },
        "outputId": "8f6cd537-85fd-4060-caa6-cbc680f19bce"
      },
      "source": [
        "tokenizedReview = tokenizer.tokenize(x_train[0])\n",
        "for i in tokenizedReview:\n",
        "  print(i, tokenizer.convert_tokens_to_ids([i]))"
      ],
      "execution_count": 66,
      "outputs": [
        {
          "output_type": "stream",
          "name": "stdout",
          "text": [
            "I [146]\n",
            "really [30181]\n",
            "like [11850]\n",
            "##d [10162]\n",
            "the [10105]\n",
            "movie [18379]\n",
            "The [10117]\n",
            "Em [11289]\n",
            "##pore [62758]\n",
            "##rs [10943]\n",
            "New [10287]\n",
            "Groove [76502]\n",
            "but [10473]\n",
            "watching [84532]\n",
            "this [10531]\n",
            "was [10134]\n",
            "like [11850]\n",
            "coming [23959]\n",
            "home [11816]\n",
            "and [10111]\n",
            "seeing [57039]\n",
            "your [20442]\n",
            "wife [14384]\n",
            "having [13677]\n",
            "relations [19824]\n",
            "with [10169]\n",
            "a [169]\n",
            "llama [47281]\n",
            "Seri [48939]\n",
            "##ously [47173]\n",
            "this [10531]\n",
            "movie [18379]\n",
            "was [10134]\n",
            "bad [15838]\n",
            "Its [14864]\n",
            "like [11850]\n",
            "Club [11316]\n",
            "Dre [72531]\n",
            "##ad [11488]\n",
            "after [10662]\n",
            "Super [12786]\n",
            "T [157]\n",
            "##ro [10567]\n",
            "##oper [56361]\n",
            "##s [10107]\n",
            "I [146]\n",
            "am [10392]\n",
            "supposed [59516]\n",
            "to [10114]\n",
            "write [28685]\n",
            "10 [10150]\n",
            "lines [19515]\n",
            "but [10473]\n",
            "I [146]\n",
            "dont [11758]\n",
            "even [13246]\n",
            "know [21852]\n",
            "what [12976]\n",
            "else [40843]\n",
            "to [10114]\n",
            "say [23763]\n",
            "I [146]\n",
            "lau [27207]\n",
            "##ghed [75395]\n",
            "a [169]\n",
            "couple [20969]\n",
            "of [10108]\n",
            "times [13465]\n",
            "but [10473]\n",
            "only [10893]\n",
            "because [12373]\n",
            "I [146]\n",
            "was [10134]\n",
            "drinking [68351]\n",
            "A [138]\n",
            "movie [18379]\n",
            "like [11850]\n",
            "that [10189]\n",
            "should [14819]\n",
            "at [10160]\n",
            "least [16298]\n",
            "be [10347]\n",
            "fun [41807]\n",
            "##ny [10756]\n",
            "when [10841]\n",
            "your [20442]\n",
            "dr [17094]\n",
            "##unk [33551]\n",
            "It [10377]\n",
            "was [10134]\n",
            "not [10472]\n",
            "Maybe [107561]\n",
            "llama [47281]\n",
            "##s [10107]\n",
            "are [10301]\n",
            "just [12820]\n",
            "fun [41807]\n",
            "##ny [10756]\n",
            "and [10111]\n",
            "regular [15670]\n",
            "cartoon [97727]\n",
            "people [11426]\n",
            "aren [99045]\n",
            "##t [10123]\n",
            "Eit [101262]\n",
            "##her [14206]\n",
            "way [13170]\n",
            "just [12820]\n",
            "stick [84081]\n",
            "with [10169]\n",
            "The [10117]\n",
            "Em [11289]\n",
            "##pore [62758]\n",
            "##rs [10943]\n",
            "New [10287]\n",
            "Groove [76502]\n",
            "if [12277]\n",
            "you [13028]\n",
            "want [21528]\n",
            "a [169]\n",
            "fun [41807]\n",
            "##ny [10756]\n",
            "cartoon [97727]\n",
            "llama [47281]\n",
            "##the [26900]\n",
            "##med [21986]\n",
            "movie [18379]\n",
            "Line [14357]\n",
            "10 [10150]\n",
            "is [10124]\n",
            "this [10531]\n",
            "line [12117]\n",
            "right [13448]\n",
            "here [19353]\n"
          ]
        }
      ]
    },
    {
      "cell_type": "markdown",
      "metadata": {
        "id": "-M-VCb0INUdm"
      },
      "source": [
        "We still need to add classification token."
      ]
    },
    {
      "cell_type": "code",
      "metadata": {
        "id": "XOenrketMSKq",
        "colab": {
          "base_uri": "https://localhost:8080/",
          "height": 269
        },
        "outputId": "f7c86a13-8944-4c54-c2da-a13e48e02e99"
      },
      "source": [
        "cls = [tokenizer.convert_tokens_to_ids(['[CLS]'])]*reviews.shape[0]\n",
        "input_word_ids = tf.concat([cls, reviews], axis=-1)\n",
        "_ = plt.pcolormesh(input_word_ids[0:10].to_tensor())"
      ],
      "execution_count": 78,
      "outputs": [
        {
          "output_type": "display_data",
          "data": {
            "text/plain": [
              "<Figure size 432x288 with 1 Axes>"
            ],
            "image/png": "[encoded data removed]"
          },
          "metadata": {
            "needs_background": "light"
          }
        }
      ]
    },
    {
      "cell_type": "markdown",
      "metadata": {
        "id": "OlHOhhbsOYDp"
      },
      "source": [
        "What you see above is a graphical representation of our tokenized tweets. First token is our classification token. Other colored blocks than background are other tokens. And background, well that's just padding."
      ]
    },
    {
      "cell_type": "markdown",
      "metadata": {
        "id": "7dKZpLlvQznW"
      },
      "source": [
        "## Mask and input type\n",
        "\n",
        "The model expects two additional inputs:\n",
        "\n",
        "* The input mask\n",
        "* The input type\n",
        "\n",
        "The mask allows the model to cleanly differentiate between the content and the padding. The mask has the same shape as the `input_word_ids`, and contains a `1` anywhere the `input_word_ids` is not padding."
      ]
    },
    {
      "cell_type": "code",
      "metadata": {
        "id": "DElTR00ENbYf"
      },
      "source": [
        "#trunco a 512\n",
        "\n",
        "input_word_ids = input_word_ids[:,0:512]"
      ],
      "execution_count": 94,
      "outputs": []
    },
    {
      "cell_type": "code",
      "source": [
        "_ = plt.pcolormesh(input_word_ids[0:10].to_tensor())"
      ],
      "metadata": {
        "colab": {
          "base_uri": "https://localhost:8080/",
          "height": 269
        },
        "id": "zdbKZ02dv-Qu",
        "outputId": "f20bd266-5647-4fe9-d24d-60241aab5ad3"
      },
      "execution_count": 97,
      "outputs": [
        {
          "output_type": "display_data",
          "data": {
            "text/plain": [
              "<Figure size 432x288 with 1 Axes>"
            ],
            "image/png": "[encoded data removed]"
          },
          "metadata": {
            "needs_background": "light"
          }
        }
      ]
    },
    {
      "cell_type": "code",
      "metadata": {
        "id": "PNCmIxTbQ3L-",
        "colab": {
          "base_uri": "https://localhost:8080/",
          "height": 283
        },
        "outputId": "f0df99d9-fb25-46be-ea11-6815eb28b80f"
      },
      "source": [
        "input_mask = tf.ones_like(input_word_ids).to_tensor()\n",
        "plt.pcolormesh(input_mask)"
      ],
      "execution_count": 98,
      "outputs": [
        {
          "output_type": "execute_result",
          "data": {
            "text/plain": [
              "<matplotlib.collections.QuadMesh at 0x7ff2e9a86b10>"
            ]
          },
          "metadata": {},
          "execution_count": 98
        },
        {
          "output_type": "display_data",
          "data": {
            "text/plain": [
              "<Figure size 432x288 with 1 Axes>"
            ],
            "image/png": "[encoded data removed]"
          },
          "metadata": {
            "needs_background": "light"
          }
        }
      ]
    },
    {
      "cell_type": "markdown",
      "metadata": {
        "id": "ZLZsqTeHQ896"
      },
      "source": [
        "Here each yellow block has some input. We just make this for the model to differ between padding and input."
      ]
    },
    {
      "cell_type": "code",
      "source": [
        "reviews = reviews[:,0:511]\n"
      ],
      "metadata": {
        "id": "gCv37DCew2F7"
      },
      "execution_count": 103,
      "outputs": []
    },
    {
      "cell_type": "code",
      "metadata": {
        "id": "4-eSiqx-Q6t7",
        "colab": {
          "base_uri": "https://localhost:8080/",
          "height": 283
        },
        "outputId": "964b616f-8fa9-497d-8386-8995556de2be"
      },
      "source": [
        "type_cls = tf.zeros_like(cls)\n",
        "type_review = tf.ones_like(reviews)\n",
        "input_type_ids = tf.concat([type_cls, type_review], axis=-1).to_tensor()\n",
        "\n",
        "plt.pcolormesh(input_type_ids)"
      ],
      "execution_count": 104,
      "outputs": [
        {
          "output_type": "execute_result",
          "data": {
            "text/plain": [
              "<matplotlib.collections.QuadMesh at 0x7ff2e9a4d1d0>"
            ]
          },
          "metadata": {},
          "execution_count": 104
        },
        {
          "output_type": "display_data",
          "data": {
            "text/plain": [
              "<Figure size 432x288 with 1 Axes>"
            ],
            "image/png": "[encoded data removed]"
          },
          "metadata": {
            "needs_background": "light"
          }
        }
      ]
    },
    {
      "cell_type": "markdown",
      "metadata": {
        "id": "eq4nvwwcSYKe"
      },
      "source": [
        "It's hard to see but we added an empty block in front of each tweet for the `[CLS]` token. Check tensor below"
      ]
    },
    {
      "cell_type": "code",
      "metadata": {
        "id": "wPy0lCwtRs1f",
        "colab": {
          "base_uri": "https://localhost:8080/"
        },
        "outputId": "5e965262-1d89-44ac-e5eb-ce41a0935d20"
      },
      "source": [
        "input_type_ids"
      ],
      "execution_count": 106,
      "outputs": [
        {
          "output_type": "execute_result",
          "data": {
            "text/plain": [
              "<tf.Tensor: shape=(39665, 512), dtype=int32, numpy=\n",
              "array([[0, 1, 1, ..., 0, 0, 0],\n",
              "       [0, 1, 1, ..., 0, 0, 0],\n",
              "       [0, 1, 1, ..., 1, 1, 1],\n",
              "       ...,\n",
              "       [0, 1, 1, ..., 1, 1, 1],\n",
              "       [0, 1, 1, ..., 0, 0, 0],\n",
              "       [0, 1, 1, ..., 0, 0, 0]], dtype=int32)>"
            ]
          },
          "metadata": {},
          "execution_count": 106
        }
      ]
    },
    {
      "cell_type": "markdown",
      "metadata": {
        "id": "EkRhOGvoSrTi"
      },
      "source": [
        "## Remake into a function for normal use"
      ]
    },
    {
      "cell_type": "markdown",
      "metadata": {
        "id": "8iJXVNBRSwWz"
      },
      "source": [
        "So at this point we have all of our three inputs:\n",
        "\n",
        "1.   Tokens\n",
        "2.   Input mask\n",
        "3.   Input type\n",
        "\n",
        "It will make our work easier both now and in the future if we remake everything into funcitons.\n",
        "\n"
      ]
    },
    {
      "cell_type": "markdown",
      "metadata": {
        "id": "z0eyZii6TAwo"
      },
      "source": [
        "First let's set the max sequence lenght as we did in simple NN example."
      ]
    },
    {
      "cell_type": "code",
      "metadata": {
        "id": "e6gshuXmRwJ8"
      },
      "source": [
        "lens = [len(i) for i in input_word_ids]"
      ],
      "execution_count": 107,
      "outputs": []
    },
    {
      "cell_type": "code",
      "metadata": {
        "id": "-Yb9EjKDTNhj",
        "colab": {
          "base_uri": "https://localhost:8080/"
        },
        "outputId": "b58610eb-d3c6-46a3-907f-2a56e4c0faae"
      },
      "source": [
        "max_seq_length = max(lens)\n",
        "print('Max length is:', max_seq_length)"
      ],
      "execution_count": 109,
      "outputs": [
        {
          "output_type": "stream",
          "name": "stdout",
          "text": [
            "Max length is: 512\n"
          ]
        }
      ]
    },
    {
      "cell_type": "markdown",
      "metadata": {
        "id": "j9_1dgmeZX5w"
      },
      "source": [
        "Most of the time I suggest adding a bit more to the `max_seq_length` esspecially when ussing just a fraction of data. Let's make it `1.5*max_seq_length`."
      ]
    },
    {
      "cell_type": "code",
      "metadata": {
        "id": "1-MsePX3Zq0E",
        "colab": {
          "base_uri": "https://localhost:8080/"
        },
        "outputId": "c610bed2-2116-4c17-de6d-fb39bfe5c847"
      },
      "source": [
        "#max_seq_length = int(1.5*max_seq_length)\n",
        "max_seq_length = 512\n",
        "print('Max length is:', max_seq_length)"
      ],
      "execution_count": 110,
      "outputs": [
        {
          "output_type": "stream",
          "name": "stdout",
          "text": [
            "Max length is: 512\n"
          ]
        }
      ]
    },
    {
      "cell_type": "markdown",
      "metadata": {
        "id": "doqSqtdET5JQ"
      },
      "source": [
        "Functions themselves."
      ]
    },
    {
      "cell_type": "code",
      "metadata": {
        "id": "YYTddxJZT4cS"
      },
      "source": [
        "def encode_reviews(r, tokenizer):\n",
        "   tokens = list(tokenizer.tokenize(r))\n",
        "   tokens = tokens[0:510]\n",
        "   tokens.append('[SEP]')\n",
        "   return tokenizer.convert_tokens_to_ids(tokens)\n",
        "\n",
        "def bert_encode(string_list, tokenizer, max_seq_length):\n",
        "  num_examples = len(string_list)\n",
        "  \n",
        "  string_tokens = tf.ragged.constant([\n",
        "      encode_reviews(n, tokenizer) for n in np.array(string_list)])\n",
        "\n",
        "  cls = [tokenizer.convert_tokens_to_ids(['[CLS]'])]*string_tokens.shape[0]\n",
        "  input_word_ids = tf.concat([cls, string_tokens], axis=-1)\n",
        "\n",
        "  input_mask = tf.ones_like(input_word_ids).to_tensor(shape=(None, max_seq_length))\n",
        "\n",
        "  type_cls = tf.zeros_like(cls)\n",
        "  type_tokens = tf.ones_like(string_tokens)\n",
        "  input_type_ids = tf.concat(\n",
        "      [type_cls, type_tokens], axis=-1).to_tensor(shape=(None, max_seq_length))\n",
        "\n",
        "  inputs = {\n",
        "      'input_word_ids': input_word_ids.to_tensor(shape=(None, max_seq_length)),\n",
        "      'input_mask': input_mask,\n",
        "      'input_type_ids': input_type_ids}\n",
        "\n",
        "  return inputs"
      ],
      "execution_count": 117,
      "outputs": []
    },
    {
      "cell_type": "code",
      "source": [
        "#a = bert_encode(['Esta es una fraseEsta es una fraseEsta es una fraseEsta es una fraseEsta es una fraseEsta es una fraseEsta es una fraseEsta es una fraseEsta es una fraseEsta es una fraseEsta es una fraseEsta es una fraseEsta es una fraseEsta es una fraseEsta es una fraseEsta es una fraseEsta es una fraseEsta es una fraseEsta es una fraseEsta es una fraseEsta es una fraseEsta es una fraseEsta es una fraseEsta es una fraseEsta es una fraseEsta es una fraseEsta es una fraseEsta es una fraseEsta es una fraseEsta es una fraseEsta es una fraseEsta es una fraseEsta es una fraseEsta es una fraseEsta es una fraseEsta es una fraseEsta es una fraseEsta es una fraseEsta es una fraseEsta es una fraseEsta es una fraseEsta es una fraseEsta es una fraseEsta es una fraseEsta es una fraseEsta es una una fraseEsta es una una fraseEsta es una una fraseEsta es una una fraseEsta es una una fraseEsta es una una fraseEsta es una una fraseEsta es una una fraseEsta es una una fraseEsta es una una fraseEsta es una una fraseEsta es una una fraseEsta es una una fraseEsta es una una fraseEsta es una una fraseEsta es una una fraseEsta es una una fraseEsta es una una fraseEsta es una una fraseEsta es una una fraseEsta es una una fraseEsta es una una fraseEsta es una una fraseEsta es una una fraseEsta es una una fraseEsta es una una fraseEsta es una una fraseEsta es una una fraseEsta es una una fraseEsta es una una fraseEsta es una una fraseEsta es una una fraseEsta es una una una fraseEsta es una una fraseEsta es una una fraseEsta es una una fraseEsta es una una fraseEsta es una una fraseEsta es una una fraseEsta es una una fraseEsta es una una fraseEsta es una una fraseEsta es una una fraseEsta es una una fraseEsta es una una fraseEsta es una una fraseEsta es una una fraseEsta es una una fraseEsta es una una fraseEsta es una una fraseEsta es una una fraseEsta es una una fraseEsta es una una fraseEsta es una una fraseEsta es una una fraseEsta es una una fraseEsta es una una fraseEsta es una fraseEsta es una una fraseEsta es una una fraseEsta es una una fraseEsta es una una fraseEsta es una fraseEsta es una fraseEsta es una fraseEsta es una fraseEsta es una fraseEsta es una frase'], tokenizer, max_seq_length)\n",
        "a = bert_encode(['Esta es una frase'], tokenizer, max_seq_length)\n",
        "print(a)"
      ],
      "metadata": {
        "colab": {
          "base_uri": "https://localhost:8080/"
        },
        "id": "dys_X9krzix9",
        "outputId": "f99cde5d-a789-42a0-b00c-4e058bbd7228"
      },
      "execution_count": 119,
      "outputs": [
        {
          "output_type": "stream",
          "name": "stdout",
          "text": [
            "{'input_word_ids': <tf.Tensor: shape=(1, 512), dtype=int32, numpy=\n",
            "array([[  101, 13666, 10196, 10153, 41234,   102,     0,     0,     0,\n",
            "            0,     0,     0,     0,     0,     0,     0,     0,     0,\n",
            "            0,     0,     0,     0,     0,     0,     0,     0,     0,\n",
            "            0,     0,     0,     0,     0,     0,     0,     0,     0,\n",
            "            0,     0,     0,     0,     0,     0,     0,     0,     0,\n",
            "            0,     0,     0,     0,     0,     0,     0,     0,     0,\n",
            "            0,     0,     0,     0,     0,     0,     0,     0,     0,\n",
            "            0,     0,     0,     0,     0,     0,     0,     0,     0,\n",
            "            0,     0,     0,     0,     0,     0,     0,     0,     0,\n",
            "            0,     0,     0,     0,     0,     0,     0,     0,     0,\n",
            "            0,     0,     0,     0,     0,     0,     0,     0,     0,\n",
            "            0,     0,     0,     0,     0,     0,     0,     0,     0,\n",
            "            0,     0,     0,     0,     0,     0,     0,     0,     0,\n",
            "            0,     0,     0,     0,     0,     0,     0,     0,     0,\n",
            "            0,     0,     0,     0,     0,     0,     0,     0,     0,\n",
            "            0,     0,     0,     0,     0,     0,     0,     0,     0,\n",
            "            0,     0,     0,     0,     0,     0,     0,     0,     0,\n",
            "            0,     0,     0,     0,     0,     0,     0,     0,     0,\n",
            "            0,     0,     0,     0,     0,     0,     0,     0,     0,\n",
            "            0,     0,     0,     0,     0,     0,     0,     0,     0,\n",
            "            0,     0,     0,     0,     0,     0,     0,     0,     0,\n",
            "            0,     0,     0,     0,     0,     0,     0,     0,     0,\n",
            "            0,     0,     0,     0,     0,     0,     0,     0,     0,\n",
            "            0,     0,     0,     0,     0,     0,     0,     0,     0,\n",
            "            0,     0,     0,     0,     0,     0,     0,     0,     0,\n",
            "            0,     0,     0,     0,     0,     0,     0,     0,     0,\n",
            "            0,     0,     0,     0,     0,     0,     0,     0,     0,\n",
            "            0,     0,     0,     0,     0,     0,     0,     0,     0,\n",
            "            0,     0,     0,     0,     0,     0,     0,     0,     0,\n",
            "            0,     0,     0,     0,     0,     0,     0,     0,     0,\n",
            "            0,     0,     0,     0,     0,     0,     0,     0,     0,\n",
            "            0,     0,     0,     0,     0,     0,     0,     0,     0,\n",
            "            0,     0,     0,     0,     0,     0,     0,     0,     0,\n",
            "            0,     0,     0,     0,     0,     0,     0,     0,     0,\n",
            "            0,     0,     0,     0,     0,     0,     0,     0,     0,\n",
            "            0,     0,     0,     0,     0,     0,     0,     0,     0,\n",
            "            0,     0,     0,     0,     0,     0,     0,     0,     0,\n",
            "            0,     0,     0,     0,     0,     0,     0,     0,     0,\n",
            "            0,     0,     0,     0,     0,     0,     0,     0,     0,\n",
            "            0,     0,     0,     0,     0,     0,     0,     0,     0,\n",
            "            0,     0,     0,     0,     0,     0,     0,     0,     0,\n",
            "            0,     0,     0,     0,     0,     0,     0,     0,     0,\n",
            "            0,     0,     0,     0,     0,     0,     0,     0,     0,\n",
            "            0,     0,     0,     0,     0,     0,     0,     0,     0,\n",
            "            0,     0,     0,     0,     0,     0,     0,     0,     0,\n",
            "            0,     0,     0,     0,     0,     0,     0,     0,     0,\n",
            "            0,     0,     0,     0,     0,     0,     0,     0,     0,\n",
            "            0,     0,     0,     0,     0,     0,     0,     0,     0,\n",
            "            0,     0,     0,     0,     0,     0,     0,     0,     0,\n",
            "            0,     0,     0,     0,     0,     0,     0,     0,     0,\n",
            "            0,     0,     0,     0,     0,     0,     0,     0,     0,\n",
            "            0,     0,     0,     0,     0,     0,     0,     0,     0,\n",
            "            0,     0,     0,     0,     0,     0,     0,     0,     0,\n",
            "            0,     0,     0,     0,     0,     0,     0,     0,     0,\n",
            "            0,     0,     0,     0,     0,     0,     0,     0,     0,\n",
            "            0,     0,     0,     0,     0,     0,     0,     0,     0,\n",
            "            0,     0,     0,     0,     0,     0,     0,     0]],\n",
            "      dtype=int32)>, 'input_mask': <tf.Tensor: shape=(1, 512), dtype=int32, numpy=\n",
            "array([[1, 1, 1, 1, 1, 1, 0, 0, 0, 0, 0, 0, 0, 0, 0, 0, 0, 0, 0, 0, 0, 0,\n",
            "        0, 0, 0, 0, 0, 0, 0, 0, 0, 0, 0, 0, 0, 0, 0, 0, 0, 0, 0, 0, 0, 0,\n",
            "        0, 0, 0, 0, 0, 0, 0, 0, 0, 0, 0, 0, 0, 0, 0, 0, 0, 0, 0, 0, 0, 0,\n",
            "        0, 0, 0, 0, 0, 0, 0, 0, 0, 0, 0, 0, 0, 0, 0, 0, 0, 0, 0, 0, 0, 0,\n",
            "        0, 0, 0, 0, 0, 0, 0, 0, 0, 0, 0, 0, 0, 0, 0, 0, 0, 0, 0, 0, 0, 0,\n",
            "        0, 0, 0, 0, 0, 0, 0, 0, 0, 0, 0, 0, 0, 0, 0, 0, 0, 0, 0, 0, 0, 0,\n",
            "        0, 0, 0, 0, 0, 0, 0, 0, 0, 0, 0, 0, 0, 0, 0, 0, 0, 0, 0, 0, 0, 0,\n",
            "        0, 0, 0, 0, 0, 0, 0, 0, 0, 0, 0, 0, 0, 0, 0, 0, 0, 0, 0, 0, 0, 0,\n",
            "        0, 0, 0, 0, 0, 0, 0, 0, 0, 0, 0, 0, 0, 0, 0, 0, 0, 0, 0, 0, 0, 0,\n",
            "        0, 0, 0, 0, 0, 0, 0, 0, 0, 0, 0, 0, 0, 0, 0, 0, 0, 0, 0, 0, 0, 0,\n",
            "        0, 0, 0, 0, 0, 0, 0, 0, 0, 0, 0, 0, 0, 0, 0, 0, 0, 0, 0, 0, 0, 0,\n",
            "        0, 0, 0, 0, 0, 0, 0, 0, 0, 0, 0, 0, 0, 0, 0, 0, 0, 0, 0, 0, 0, 0,\n",
            "        0, 0, 0, 0, 0, 0, 0, 0, 0, 0, 0, 0, 0, 0, 0, 0, 0, 0, 0, 0, 0, 0,\n",
            "        0, 0, 0, 0, 0, 0, 0, 0, 0, 0, 0, 0, 0, 0, 0, 0, 0, 0, 0, 0, 0, 0,\n",
            "        0, 0, 0, 0, 0, 0, 0, 0, 0, 0, 0, 0, 0, 0, 0, 0, 0, 0, 0, 0, 0, 0,\n",
            "        0, 0, 0, 0, 0, 0, 0, 0, 0, 0, 0, 0, 0, 0, 0, 0, 0, 0, 0, 0, 0, 0,\n",
            "        0, 0, 0, 0, 0, 0, 0, 0, 0, 0, 0, 0, 0, 0, 0, 0, 0, 0, 0, 0, 0, 0,\n",
            "        0, 0, 0, 0, 0, 0, 0, 0, 0, 0, 0, 0, 0, 0, 0, 0, 0, 0, 0, 0, 0, 0,\n",
            "        0, 0, 0, 0, 0, 0, 0, 0, 0, 0, 0, 0, 0, 0, 0, 0, 0, 0, 0, 0, 0, 0,\n",
            "        0, 0, 0, 0, 0, 0, 0, 0, 0, 0, 0, 0, 0, 0, 0, 0, 0, 0, 0, 0, 0, 0,\n",
            "        0, 0, 0, 0, 0, 0, 0, 0, 0, 0, 0, 0, 0, 0, 0, 0, 0, 0, 0, 0, 0, 0,\n",
            "        0, 0, 0, 0, 0, 0, 0, 0, 0, 0, 0, 0, 0, 0, 0, 0, 0, 0, 0, 0, 0, 0,\n",
            "        0, 0, 0, 0, 0, 0, 0, 0, 0, 0, 0, 0, 0, 0, 0, 0, 0, 0, 0, 0, 0, 0,\n",
            "        0, 0, 0, 0, 0, 0]], dtype=int32)>, 'input_type_ids': <tf.Tensor: shape=(1, 512), dtype=int32, numpy=\n",
            "array([[0, 1, 1, 1, 1, 1, 0, 0, 0, 0, 0, 0, 0, 0, 0, 0, 0, 0, 0, 0, 0, 0,\n",
            "        0, 0, 0, 0, 0, 0, 0, 0, 0, 0, 0, 0, 0, 0, 0, 0, 0, 0, 0, 0, 0, 0,\n",
            "        0, 0, 0, 0, 0, 0, 0, 0, 0, 0, 0, 0, 0, 0, 0, 0, 0, 0, 0, 0, 0, 0,\n",
            "        0, 0, 0, 0, 0, 0, 0, 0, 0, 0, 0, 0, 0, 0, 0, 0, 0, 0, 0, 0, 0, 0,\n",
            "        0, 0, 0, 0, 0, 0, 0, 0, 0, 0, 0, 0, 0, 0, 0, 0, 0, 0, 0, 0, 0, 0,\n",
            "        0, 0, 0, 0, 0, 0, 0, 0, 0, 0, 0, 0, 0, 0, 0, 0, 0, 0, 0, 0, 0, 0,\n",
            "        0, 0, 0, 0, 0, 0, 0, 0, 0, 0, 0, 0, 0, 0, 0, 0, 0, 0, 0, 0, 0, 0,\n",
            "        0, 0, 0, 0, 0, 0, 0, 0, 0, 0, 0, 0, 0, 0, 0, 0, 0, 0, 0, 0, 0, 0,\n",
            "        0, 0, 0, 0, 0, 0, 0, 0, 0, 0, 0, 0, 0, 0, 0, 0, 0, 0, 0, 0, 0, 0,\n",
            "        0, 0, 0, 0, 0, 0, 0, 0, 0, 0, 0, 0, 0, 0, 0, 0, 0, 0, 0, 0, 0, 0,\n",
            "        0, 0, 0, 0, 0, 0, 0, 0, 0, 0, 0, 0, 0, 0, 0, 0, 0, 0, 0, 0, 0, 0,\n",
            "        0, 0, 0, 0, 0, 0, 0, 0, 0, 0, 0, 0, 0, 0, 0, 0, 0, 0, 0, 0, 0, 0,\n",
            "        0, 0, 0, 0, 0, 0, 0, 0, 0, 0, 0, 0, 0, 0, 0, 0, 0, 0, 0, 0, 0, 0,\n",
            "        0, 0, 0, 0, 0, 0, 0, 0, 0, 0, 0, 0, 0, 0, 0, 0, 0, 0, 0, 0, 0, 0,\n",
            "        0, 0, 0, 0, 0, 0, 0, 0, 0, 0, 0, 0, 0, 0, 0, 0, 0, 0, 0, 0, 0, 0,\n",
            "        0, 0, 0, 0, 0, 0, 0, 0, 0, 0, 0, 0, 0, 0, 0, 0, 0, 0, 0, 0, 0, 0,\n",
            "        0, 0, 0, 0, 0, 0, 0, 0, 0, 0, 0, 0, 0, 0, 0, 0, 0, 0, 0, 0, 0, 0,\n",
            "        0, 0, 0, 0, 0, 0, 0, 0, 0, 0, 0, 0, 0, 0, 0, 0, 0, 0, 0, 0, 0, 0,\n",
            "        0, 0, 0, 0, 0, 0, 0, 0, 0, 0, 0, 0, 0, 0, 0, 0, 0, 0, 0, 0, 0, 0,\n",
            "        0, 0, 0, 0, 0, 0, 0, 0, 0, 0, 0, 0, 0, 0, 0, 0, 0, 0, 0, 0, 0, 0,\n",
            "        0, 0, 0, 0, 0, 0, 0, 0, 0, 0, 0, 0, 0, 0, 0, 0, 0, 0, 0, 0, 0, 0,\n",
            "        0, 0, 0, 0, 0, 0, 0, 0, 0, 0, 0, 0, 0, 0, 0, 0, 0, 0, 0, 0, 0, 0,\n",
            "        0, 0, 0, 0, 0, 0, 0, 0, 0, 0, 0, 0, 0, 0, 0, 0, 0, 0, 0, 0, 0, 0,\n",
            "        0, 0, 0, 0, 0, 0]], dtype=int32)>}\n"
          ]
        }
      ]
    },
    {
      "cell_type": "markdown",
      "metadata": {
        "id": "8K_R_A3lULSO"
      },
      "source": [
        "And now we preprocess inputs."
      ]
    },
    {
      "cell_type": "code",
      "metadata": {
        "id": "3X6EQXxVUi4s"
      },
      "source": [
        "X_train = bert_encode(x_train, tokenizer, max_seq_length)\n",
        "X_test = bert_encode(x_test, tokenizer, max_seq_length)"
      ],
      "execution_count": 120,
      "outputs": []
    },
    {
      "cell_type": "markdown",
      "metadata": {
        "id": "nJ6PVsxmVbRO"
      },
      "source": [
        "# Modelado Fine Tunning"
      ]
    },
    {
      "cell_type": "markdown",
      "metadata": {
        "id": "4QVhnrzH9ygq"
      },
      "source": [
        "## Initial training"
      ]
    },
    {
      "cell_type": "markdown",
      "metadata": {
        "id": "kXvVljK3VjKt"
      },
      "source": [
        "We need to set up our model using the inputs we made, BERT model that we downloaded and an output layer based on num of classes we are using."
      ]
    },
    {
      "cell_type": "code",
      "metadata": {
        "id": "TENzkxMeThTv"
      },
      "source": [
        "num_class = len(encoder.classes_)  # Based on available class selection\n",
        "max_seq_length = max_seq_length  # we calculated this a couple cells ago\n",
        "\n",
        "input_word_ids = tf.keras.layers.Input(shape=(max_seq_length,), dtype=tf.int32,\n",
        "                                       name=\"input_word_ids\")\n",
        "input_mask = tf.keras.layers.Input(shape=(max_seq_length,), dtype=tf.int32,\n",
        "                                   name=\"input_mask\")\n",
        "segment_ids = tf.keras.layers.Input(shape=(max_seq_length,), dtype=tf.int32,\n",
        "                                    name=\"segment_ids\")\n",
        "\n",
        "pooled_output, sequence_output = bert_layer([input_word_ids, input_mask, segment_ids])                                  \n",
        "\n",
        "output = tf.keras.layers.Dropout(rate=0.1)(pooled_output)\n",
        "\n",
        "output = tf.keras.layers.Dense(num_class, activation='softmax', name='output')(output)\n",
        "\n",
        "model = tf.keras.Model(\n",
        "    inputs={\n",
        "        'input_word_ids': input_word_ids,\n",
        "        'input_mask': input_mask,\n",
        "        'input_type_ids': segment_ids\n",
        "        },\n",
        "        outputs=output)"
      ],
      "execution_count": 121,
      "outputs": []
    },
    {
      "cell_type": "code",
      "source": [
        "[input_word_ids, input_mask, segment_ids]"
      ],
      "metadata": {
        "colab": {
          "base_uri": "https://localhost:8080/"
        },
        "id": "5weFOU4aqcrH",
        "outputId": "0f011765-f8d4-4e4d-f50f-33fd8386a08b"
      },
      "execution_count": 122,
      "outputs": [
        {
          "output_type": "execute_result",
          "data": {
            "text/plain": [
              "[<KerasTensor: shape=(None, 512) dtype=int32 (created by layer 'input_word_ids')>,\n",
              " <KerasTensor: shape=(None, 512) dtype=int32 (created by layer 'input_mask')>,\n",
              " <KerasTensor: shape=(None, 512) dtype=int32 (created by layer 'segment_ids')>]"
            ]
          },
          "metadata": {},
          "execution_count": 122
        }
      ]
    },
    {
      "cell_type": "markdown",
      "metadata": {
        "id": "A4CLYDQYUZMP"
      },
      "source": [
        "Our model."
      ]
    },
    {
      "cell_type": "code",
      "metadata": {
        "id": "oN0Kh1ruUWPF",
        "colab": {
          "base_uri": "https://localhost:8080/",
          "height": 220
        },
        "outputId": "55a12eee-bedd-4424-b01b-d5441e684d73"
      },
      "source": [
        "tf.keras.utils.plot_model(model, show_shapes=True, dpi=48)"
      ],
      "execution_count": 123,
      "outputs": [
        {
          "output_type": "execute_result",
          "data": {
            "text/plain": [
              "<IPython.core.display.Image object>"
            ],
            "image/png": "[encoded data removed]"
          },
          "metadata": {},
          "execution_count": 123
        }
      ]
    },
    {
      "cell_type": "markdown",
      "metadata": {
        "id": "qvap4afcV4cZ"
      },
      "source": [
        "Set up the training parameters."
      ]
    },
    {
      "cell_type": "code",
      "metadata": {
        "id": "bNeskVwpUco0"
      },
      "source": [
        "epochs = 3\n",
        "batch_size = 8  # select based on your GPU resources\n",
        "eval_batch_size = batch_size\n",
        "\n",
        "train_data_size = len(dummy_y_train)\n",
        "steps_per_epoch = int(train_data_size / batch_size)\n",
        "num_train_steps = steps_per_epoch * epochs\n",
        "warmup_steps = int(epochs * train_data_size * 0.1 / batch_size)\n",
        "\n",
        "optimizer = nlp.optimization.create_optimizer(\n",
        "    2e-5, num_train_steps=num_train_steps, num_warmup_steps=warmup_steps)"
      ],
      "execution_count": 124,
      "outputs": []
    },
    {
      "cell_type": "markdown",
      "metadata": {
        "id": "V2PRw94bV_cy"
      },
      "source": [
        "Compile the model."
      ]
    },
    {
      "cell_type": "code",
      "metadata": {
        "id": "dpXu5QfFWAoD"
      },
      "source": [
        "model.compile(optimizer=optimizer,\n",
        "              loss='categorical_crossentropy',\n",
        "              metrics=['accuracy'])"
      ],
      "execution_count": 125,
      "outputs": []
    },
    {
      "cell_type": "code",
      "metadata": {
        "id": "K0-u2YKQWDAV",
        "colab": {
          "base_uri": "https://localhost:8080/"
        },
        "outputId": "b90194a1-15bf-4d97-96fc-368673b1cbad"
      },
      "source": [
        "model.summary()"
      ],
      "execution_count": 126,
      "outputs": [
        {
          "output_type": "stream",
          "name": "stdout",
          "text": [
            "Model: \"model\"\n",
            "__________________________________________________________________________________________________\n",
            " Layer (type)                   Output Shape         Param #     Connected to                     \n",
            "==================================================================================================\n",
            " input_word_ids (InputLayer)    [(None, 512)]        0           []                               \n",
            "                                                                                                  \n",
            " input_mask (InputLayer)        [(None, 512)]        0           []                               \n",
            "                                                                                                  \n",
            " segment_ids (InputLayer)       [(None, 512)]        0           []                               \n",
            "                                                                                                  \n",
            " keras_layer (KerasLayer)       [(None, 768),        177853441   ['input_word_ids[0][0]',         \n",
            "                                 (None, 512, 768)]                'input_mask[0][0]',             \n",
            "                                                                  'segment_ids[0][0]']            \n",
            "                                                                                                  \n",
            " dropout (Dropout)              (None, 768)          0           ['keras_layer[0][0]']            \n",
            "                                                                                                  \n",
            " output (Dense)                 (None, 2)            1538        ['dropout[0][0]']                \n",
            "                                                                                                  \n",
            "==================================================================================================\n",
            "Total params: 177,854,979\n",
            "Trainable params: 177,854,978\n",
            "Non-trainable params: 1\n",
            "__________________________________________________________________________________________________\n"
          ]
        }
      ]
    },
    {
      "cell_type": "markdown",
      "metadata": {
        "id": "h_jIRI2zWbtx"
      },
      "source": [
        "Set up a history to check our model performance afterwards."
      ]
    },
    {
      "cell_type": "code",
      "metadata": {
        "id": "ATMWQDkVWY6n",
        "colab": {
          "base_uri": "https://localhost:8080/"
        },
        "outputId": "21e25d78-8d21-4bde-97a2-73636a2165bf"
      },
      "source": [
        "history = model.fit(X_train,\n",
        "                    dummy_y_train,\n",
        "                    epochs=epochs,\n",
        "                    batch_size=batch_size,\n",
        "                    validation_data=(X_test, dummy_y_test),\n",
        "                    verbose=1)"
      ],
      "execution_count": null,
      "outputs": [
        {
          "output_type": "stream",
          "name": "stdout",
          "text": [
            "Epoch 1/3\n",
            "4959/4959 [==============================] - 3363s 678ms/step - loss: 0.2338 - accuracy: 0.9423 - val_loss: 0.3555 - val_accuracy: 0.9206\n",
            "Epoch 2/3\n",
            "4959/4959 [==============================] - 3363s 678ms/step - loss: 0.1369 - accuracy: 0.9706 - val_loss: 0.4205 - val_accuracy: 0.9249\n",
            "Epoch 3/3\n",
            "4032/4959 [=======================>......] - ETA: 9:41 - loss: 0.1001 - accuracy: 0.9792"
          ]
        }
      ]
    },
    {
      "cell_type": "markdown",
      "metadata": {
        "id": "yVMCMpQJXXdM"
      },
      "source": [
        "Evaluation"
      ]
    },
    {
      "cell_type": "code",
      "metadata": {
        "id": "6yY0h7CPXWD_"
      },
      "source": [
        "loss, accuracy = model.evaluate(X_train, dummy_y_train, verbose=False)\n",
        "print(\"Training Accuracy: {:.4f}\".format(accuracy))\n",
        "loss, accuracy = model.evaluate(X_test, dummy_y_test, verbose=False)\n",
        "print(\"Testing Accuracy:  {:.4f}\".format(accuracy))"
      ],
      "execution_count": null,
      "outputs": []
    },
    {
      "cell_type": "markdown",
      "metadata": {
        "id": "QeIFeUsyXVwQ"
      },
      "source": [
        "Noice plots are noice"
      ]
    },
    {
      "cell_type": "code",
      "metadata": {
        "id": "n1jJDOPzXcEH"
      },
      "source": [
        "plt.style.use('ggplot')\n",
        "\n",
        "def plot_history(history):\n",
        "    acc = history.history['accuracy']\n",
        "    val_acc = history.history['val_accuracy']\n",
        "    loss = history.history['loss']\n",
        "    val_loss = history.history['val_loss']\n",
        "    x = range(1, len(acc) + 1)\n",
        "\n",
        "    plt.figure(figsize=(12, 5))\n",
        "    plt.subplot(1, 2, 1)\n",
        "    plt.plot(x, acc, 'b', label='Training acc')\n",
        "    plt.plot(x, val_acc, 'r', label='Validation acc')\n",
        "    plt.title('Training and validation accuracy')\n",
        "    plt.legend()\n",
        "    plt.subplot(1, 2, 2)\n",
        "    plt.plot(x, loss, 'b', label='Training loss')\n",
        "    plt.plot(x, val_loss, 'r', label='Validation loss')\n",
        "    plt.title('Training and validation loss')\n",
        "    plt.legend()"
      ],
      "execution_count": null,
      "outputs": []
    },
    {
      "cell_type": "code",
      "metadata": {
        "id": "RY7XA4HP9S7H"
      },
      "source": [
        "plot_history(history)"
      ],
      "execution_count": null,
      "outputs": []
    },
    {
      "cell_type": "markdown",
      "metadata": {
        "id": "C5VEZdft9buk"
      },
      "source": [
        "So, looking at the plot above we can see that at the 3rd epoch our `Validation Loss` jumped significantly even though `Validation Accuracy` stayed pretty much the same. If we would train it more on the same data it would significantly overtrain. \\\\\n",
        "What we can do instead is make another training dataset, lower our learning rate commonly denoted as `lr`, recompile our model using new `lr` and then train it a bit more. \\\\\n",
        "But before doing that we should save our model just in case if we would want to do the additional training in later sessions."
      ]
    },
    {
      "cell_type": "markdown",
      "metadata": {
        "id": "r-eqXo5f3SJc"
      },
      "source": [
        "## Model saving for later use"
      ]
    },
    {
      "cell_type": "markdown",
      "metadata": {
        "id": "ART6DOetXit1"
      },
      "source": [
        "Let's save our model for later use. Unfortunatelly we can't use the optimizer we used for model training to save. I get an error and I can't resolve it. So we will recompile our model before saving."
      ]
    },
    {
      "cell_type": "code",
      "metadata": {
        "id": "nInJE2SrXfS3"
      },
      "source": [
        "model.compile(optimizer='adam',\n",
        "              loss='categorical_crossentropy',\n",
        "              metrics=['accuracy'])"
      ],
      "execution_count": null,
      "outputs": []
    },
    {
      "cell_type": "code",
      "metadata": {
        "id": "eGLOM58PX4Rg"
      },
      "source": [
        "model_fname = 'imdb_bert_model'\n",
        "my_wd = '/content/gdrive/MyDrive/VIU-MIAR/09MIAR-TFM/BERT-sentiment-analysis/assets/'\n",
        "\n",
        "model.save(os.path.join(my_wd, model_fname))"
      ],
      "execution_count": null,
      "outputs": []
    },
    {
      "cell_type": "markdown",
      "metadata": {
        "id": "jl6wQ47qah-I"
      },
      "source": [
        "### Validate saved model"
      ]
    },
    {
      "cell_type": "markdown",
      "metadata": {
        "id": "MCH6r6NnakdW"
      },
      "source": [
        "Sometimes TF likes to corrupt your model when saving. It's always a good idea to check if everything loads correctly after save."
      ]
    },
    {
      "cell_type": "code",
      "metadata": {
        "id": "RUc7jKm6acec"
      },
      "source": [
        "model_fname = 'imdb_bert_model'\n",
        "my_wd = '/content/gdrive/MyDrive/VIU-MIAR/09MIAR-TFM/BERT-sentiment-analysis/assets/'\n",
        "\n",
        "new_model = tf.keras.models.load_model(os.path.join(my_wd, model_fname))"
      ],
      "execution_count": null,
      "outputs": []
    },
    {
      "cell_type": "code",
      "metadata": {
        "id": "PTW3N0FuawQP",
        "colab": {
          "base_uri": "https://localhost:8080/"
        },
        "outputId": "a7ba364a-0f61-4560-a423-4c3c271fe72b"
      },
      "source": [
        "loss, accuracy = new_model.evaluate(X_test, dummy_y_test, verbose=False)\n",
        "print(\"Testing Accuracy:  {:.4f}\".format(accuracy))"
      ],
      "execution_count": null,
      "outputs": [
        {
          "output_type": "stream",
          "name": "stdout",
          "text": [
            "Testing Accuracy:  0.8282\n"
          ]
        }
      ]
    },
    {
      "cell_type": "code",
      "metadata": {
        "id": "b41aPYSnayV_",
        "colab": {
          "base_uri": "https://localhost:8080/"
        },
        "outputId": "287868fc-7c8a-4b54-8208-8c42428e5923"
      },
      "source": [
        "new_model.summary()"
      ],
      "execution_count": null,
      "outputs": [
        {
          "output_type": "stream",
          "name": "stdout",
          "text": [
            "Model: \"model\"\n",
            "__________________________________________________________________________________________________\n",
            " Layer (type)                   Output Shape         Param #     Connected to                     \n",
            "==================================================================================================\n",
            " input_word_ids (InputLayer)    [(None, 180)]        0           []                               \n",
            "                                                                                                  \n",
            " input_mask (InputLayer)        [(None, 180)]        0           []                               \n",
            "                                                                                                  \n",
            " segment_ids (InputLayer)       [(None, 180)]        0           []                               \n",
            "                                                                                                  \n",
            " keras_layer (KerasLayer)       [(None, 768),        177853441   ['input_word_ids[0][0]',         \n",
            "                                 (None, 180, 768)]                'input_mask[0][0]',             \n",
            "                                                                  'segment_ids[0][0]']            \n",
            "                                                                                                  \n",
            " dropout (Dropout)              (None, 768)          0           ['keras_layer[0][0]']            \n",
            "                                                                                                  \n",
            " output (Dense)                 (None, 2)            1538        ['dropout[0][0]']                \n",
            "                                                                                                  \n",
            "==================================================================================================\n",
            "Total params: 177,854,979\n",
            "Trainable params: 177,854,978\n",
            "Non-trainable params: 1\n",
            "__________________________________________________________________________________________________\n"
          ]
        }
      ]
    },
    {
      "cell_type": "markdown",
      "metadata": {
        "id": "UResPCMRa2-Q"
      },
      "source": [
        "For safety reasons I would check the tokenizer variables as well."
      ]
    },
    {
      "cell_type": "code",
      "metadata": {
        "id": "9BOIJwPAazvD"
      },
      "source": [
        "tokenizerSaved = bert.tokenization.FullTokenizer(\n",
        "    vocab_file=os.path.join(my_wd, model_fname, 'assets/vocab.txt'),\n",
        "    do_lower_case=False)"
      ],
      "execution_count": null,
      "outputs": []
    },
    {
      "cell_type": "markdown",
      "metadata": {
        "id": "u8_Z4Mxwbk10"
      },
      "source": [
        "If this loads, you should be fine."
      ]
    },
    {
      "cell_type": "code",
      "metadata": {
        "id": "iE3HggMgbkVO",
        "colab": {
          "base_uri": "https://localhost:8080/"
        },
        "outputId": "368a6bf8-9470-48f0-9149-8762ed90e800"
      },
      "source": [
        "tokenizedTweet = tokenizerSaved.tokenize(x_train[0])\n",
        "for i in tokenizedTweet:\n",
        "  print(i, tokenizerSaved.convert_tokens_to_ids([i]))"
      ],
      "execution_count": null,
      "outputs": [
        {
          "output_type": "stream",
          "name": "stdout",
          "text": [
            "im [10211]\n",
            "soo [101893]\n",
            "ob [17339]\n",
            "##ses [13149]\n",
            "##sed [16219]\n",
            "with [10169]\n",
            "the [10105]\n",
            "song [12011]\n",
            "& [111]\n",
            "quo [48718]\n",
            "##t [10123]\n",
            "; [132]\n",
            "when [10841]\n",
            "i [177]\n",
            "get [15329]\n",
            "home [11816]\n",
            "your [20442]\n",
            "so [10380]\n",
            "dead [23457]\n",
            "by [10155]\n",
            "may [11387]\n",
            "##day [24558]\n",
            "parade [71115]\n",
            "& [111]\n",
            "quo [48718]\n",
            "##t [10123]\n",
            "; [132]\n",
            "it [10271]\n",
            "an [10151]\n",
            "aw [56237]\n",
            "##some [79972]\n",
            "song [12011]\n",
            "! [106]\n"
          ]
        }
      ]
    },
    {
      "cell_type": "markdown",
      "metadata": {
        "id": "Z6JCf8ON-Hro"
      },
      "source": [
        "As everything seems fine, we can move on to second training itteration and try to make our model a bit better."
      ]
    },
    {
      "cell_type": "markdown",
      "metadata": {
        "id": "WMhBzgkd5zAM"
      },
      "source": [
        "## Second training itteration"
      ]
    },
    {
      "cell_type": "code",
      "metadata": {
        "id": "XaNCm8S6Xd2G",
        "colab": {
          "base_uri": "https://localhost:8080/",
          "height": 337
        },
        "outputId": "e30a03f1-0335-46e9-ab6f-7c300304e6d0"
      },
      "source": [
        "plot_history(history)"
      ],
      "execution_count": null,
      "outputs": [
        {
          "output_type": "display_data",
          "data": {
            "text/plain": [
              "<Figure size 864x360 with 2 Axes>"
            ],
            "image/png": "[encoded data removed]"
          },
          "metadata": {}
        }
      ]
    },
    {
      "cell_type": "markdown",
      "metadata": {
        "id": "GEIaolS13gGY"
      },
      "source": [
        "As mentioned before, looking at the plot above we can see that at the 3rd epoch our `Validation Loss` jumped significantly even though `Validation Accuracy` stayed pretty much the same. If we would train it more on the same data it would significantly overtrain. \\\\\n",
        "\n",
        "What we can do instead is make another training dataset, lower our learning rate commonly denoted as `lr`, recompile our model using new `lr` and then train it a bit more.\n",
        "\n",
        "Are there any other options to approach overtraining? Sure. One of the most obvious ways would be to increase dropout layer number or the dropout precentage. You could try playing around with pooling as well, but in essence dropout would be your go to. \n",
        "\n",
        "If you do not know what dropout is then in short it 'turns off' preceeding layer neurons before next layer calculation, thus increasing the need for the model to 'abstract' things it sees.\n",
        "\n",
        "Anyway, in our case we are doing `lr` change and adding new data for the model. Let's see how that goes."
      ]
    },
    {
      "cell_type": "markdown",
      "metadata": {
        "id": "UotwRyBE6NP0"
      },
      "source": [
        "### Data"
      ]
    },
    {
      "cell_type": "markdown",
      "metadata": {
        "id": "8TkMh3rG59LK"
      },
      "source": [
        "First we need to prep our data. It's good that we made our processing easier making some functions. Let's take another 5% sample from our data."
      ]
    },
    {
      "cell_type": "code",
      "metadata": {
        "id": "mXXGcaZM54hg"
      },
      "source": [
        "sample_size = int(len(df)*0.05)\n",
        "sampleDf = df.sample(sample_size, random_state=42)  # notice the random state changes\n",
        "x = sampleDf.text.values\n",
        "y = sampleDf.target.values\n",
        "x_train2, x_test2, y_train2, y_test2 = train_test_split(x, y, test_size=0.20, random_state=19)  # notice the random state changes"
      ],
      "execution_count": null,
      "outputs": []
    },
    {
      "cell_type": "code",
      "metadata": {
        "id": "wC2tIF7-67F4",
        "colab": {
          "base_uri": "https://localhost:8080/",
          "height": 283
        },
        "outputId": "498cfa44-941b-4af3-9fa1-cd47f6ed0e75"
      },
      "source": [
        "classes = sampleDf.target.unique()\n",
        "print(classes)\n",
        "counts = []\n",
        "\n",
        "for i in classes:\n",
        "  count = len(sampleDf[sampleDf.target==i])\n",
        "  counts.append(count)\n",
        "\n",
        "plt.bar(['negative', 'positive'], counts)\n",
        "plt.show()"
      ],
      "execution_count": null,
      "outputs": [
        {
          "output_type": "stream",
          "name": "stdout",
          "text": [
            "[0 4]\n"
          ]
        },
        {
          "output_type": "display_data",
          "data": {
            "text/plain": [
              "<Figure size 432x288 with 1 Axes>"
            ],
            "image/png": "[encoded data removed]"
          },
          "metadata": {}
        }
      ]
    },
    {
      "cell_type": "markdown",
      "metadata": {
        "id": "Q7Qh-nti6mR7"
      },
      "source": [
        "It's not a bad idea to always check if your sample is representitive of the dataset itself. Most of the time it will, but when getting small samples it might be off in small datasets."
      ]
    },
    {
      "cell_type": "markdown",
      "metadata": {
        "id": "vAKNqpPh7c2M"
      },
      "source": [
        "#### Label Encoding\n",
        "Now we need to encode labels again. Good thing we have our label encoder saved."
      ]
    },
    {
      "cell_type": "code",
      "metadata": {
        "id": "teAtzXqt7ki-"
      },
      "source": [
        "encoder_fname = 'twitter_classes.npy'\n",
        "my_wd = '/content/gdrive/MyDrive/MIAR/TFM/BERT Sentiment/data/'\n",
        "\n",
        "encoder = LabelEncoder()\n",
        "encoder.classes_ = np.load(os.path.join(my_wd, encoder_fname), allow_pickle=True)\n",
        "\n",
        "encoded_Y_test2 = encoder.transform(y_test2)\n",
        "encoded_Y_train2 = encoder.transform(y_train2)\n",
        "\n",
        "# convert integers to dummy variables (i.e. one hot encoded)\n",
        "dummy_y_test2 = np_utils.to_categorical(encoded_Y_test2)\n",
        "dummy_y_train2 = np_utils.to_categorical(encoded_Y_train2)"
      ],
      "execution_count": null,
      "outputs": []
    },
    {
      "cell_type": "markdown",
      "metadata": {
        "id": "5c_9kIrI8cDz"
      },
      "source": [
        "#### Input preprocessing\n",
        "As we did before we need to tokenize our inputs (tweets) as `input_word_ids` and then add `input_mask` and `input_type`. As we saved our model, we can use it to build our tokenizer as it was."
      ]
    },
    {
      "cell_type": "code",
      "metadata": {
        "id": "lRDJu1jJ8mlF"
      },
      "source": [
        "model_fname = 'imdb_BERT_5pct'\n",
        "my_wd = '/content/gdrive/MyDrive/MIAR/TFM/BERT Sentiment/data/'\n",
        "\n",
        "tokenizerSaved = bert.tokenization.FullTokenizer(\n",
        "    vocab_file=os.path.join(my_wd, model_fname, 'assets/vocab.txt'),\n",
        "    do_lower_case=False)"
      ],
      "execution_count": null,
      "outputs": []
    },
    {
      "cell_type": "markdown",
      "metadata": {
        "id": "2rE5vM_OBaPP"
      },
      "source": [
        "I repaste our encoding functions here so it would be easier to follow."
      ]
    },
    {
      "cell_type": "code",
      "metadata": {
        "id": "wB9ImmkYbxJo"
      },
      "source": [
        "def encode_names(n, tokenizer):\n",
        "   tokens = list(tokenizer.tokenize(n))\n",
        "   tokens.append('[SEP]')\n",
        "   return tokenizer.convert_tokens_to_ids(tokens)\n",
        "\n",
        "def bert_encode(string_list, tokenizer, max_seq_length):\n",
        "  num_examples = len(string_list)\n",
        "  \n",
        "  string_tokens = tf.ragged.constant([\n",
        "      encode_names(n, tokenizer) for n in np.array(string_list)])\n",
        "\n",
        "  cls = [tokenizer.convert_tokens_to_ids(['[CLS]'])]*string_tokens.shape[0]\n",
        "  input_word_ids = tf.concat([cls, string_tokens], axis=-1)\n",
        "\n",
        "  input_mask = tf.ones_like(input_word_ids).to_tensor(shape=(None, max_seq_length))\n",
        "\n",
        "  type_cls = tf.zeros_like(cls)\n",
        "  type_tokens = tf.ones_like(string_tokens)\n",
        "  input_type_ids = tf.concat(\n",
        "      [type_cls, type_tokens], axis=-1).to_tensor(shape=(None, max_seq_length))\n",
        "\n",
        "  inputs = {\n",
        "      'input_word_ids': input_word_ids.to_tensor(shape=(None, max_seq_length)),\n",
        "      'input_mask': input_mask,\n",
        "      'input_type_ids': input_type_ids}\n",
        "\n",
        "  return inputs"
      ],
      "execution_count": null,
      "outputs": []
    },
    {
      "cell_type": "markdown",
      "metadata": {
        "id": "AFSbqkIzCEjn"
      },
      "source": [
        "As you can see in the functions we use max_seq_length to convert our tweets into inputs. We can't really change it from the one used to build our model as it is in the model structure itself. See below."
      ]
    },
    {
      "cell_type": "code",
      "metadata": {
        "id": "ACSBixa4CUg5",
        "colab": {
          "base_uri": "https://localhost:8080/"
        },
        "outputId": "1cf00886-a567-4f67-9b11-765389686b9a"
      },
      "source": [
        "print('Max sequence length is:', max_seq_length)"
      ],
      "execution_count": null,
      "outputs": [
        {
          "output_type": "stream",
          "name": "stdout",
          "text": [
            "Max sequence length is: 180\n"
          ]
        }
      ]
    },
    {
      "cell_type": "code",
      "metadata": {
        "id": "YoKZh0u0CcVT",
        "colab": {
          "base_uri": "https://localhost:8080/"
        },
        "outputId": "0ce5363c-d0a8-4a71-ee85-5e84aaa05ba0"
      },
      "source": [
        "model.summary()"
      ],
      "execution_count": null,
      "outputs": [
        {
          "output_type": "stream",
          "name": "stdout",
          "text": [
            "Model: \"model\"\n",
            "__________________________________________________________________________________________________\n",
            " Layer (type)                   Output Shape         Param #     Connected to                     \n",
            "==================================================================================================\n",
            " input_word_ids (InputLayer)    [(None, 180)]        0           []                               \n",
            "                                                                                                  \n",
            " input_mask (InputLayer)        [(None, 180)]        0           []                               \n",
            "                                                                                                  \n",
            " segment_ids (InputLayer)       [(None, 180)]        0           []                               \n",
            "                                                                                                  \n",
            " keras_layer (KerasLayer)       [(None, 768),        177853441   ['input_word_ids[0][0]',         \n",
            "                                 (None, 180, 768)]                'input_mask[0][0]',             \n",
            "                                                                  'segment_ids[0][0]']            \n",
            "                                                                                                  \n",
            " dropout (Dropout)              (None, 768)          0           ['keras_layer[0][0]']            \n",
            "                                                                                                  \n",
            " output (Dense)                 (None, 2)            1538        ['dropout[0][0]']                \n",
            "                                                                                                  \n",
            "==================================================================================================\n",
            "Total params: 177,854,979\n",
            "Trainable params: 177,854,978\n",
            "Non-trainable params: 1\n",
            "__________________________________________________________________________________________________\n"
          ]
        }
      ]
    },
    {
      "cell_type": "markdown",
      "metadata": {
        "id": "p7_D8CRsCpmM"
      },
      "source": [
        "You can see that all of the `InputLayers` have a shape of (0, 240) which is (0, `max_seq_length`). For that reason we must use the same `max_seq_length` for our model to understand the inputs it gets."
      ]
    },
    {
      "cell_type": "markdown",
      "metadata": {
        "id": "rMQbLqqpB2Zn"
      },
      "source": [
        "Now we will use the above functions to make all 3 of our inputs."
      ]
    },
    {
      "cell_type": "code",
      "metadata": {
        "id": "uiE8pkuqB6k_"
      },
      "source": [
        "X_train2 = bert_encode(x_train2, tokenizerSaved, max_seq_length)\n",
        "X_test2 = bert_encode(x_test2, tokenizerSaved, max_seq_length)"
      ],
      "execution_count": null,
      "outputs": []
    },
    {
      "cell_type": "code",
      "metadata": {
        "id": "1FG6bmxm6hQo",
        "colab": {
          "base_uri": "https://localhost:8080/",
          "height": 35
        },
        "outputId": "624b36da-31a1-4dd4-e46c-43cb9c6703a7"
      },
      "source": [
        "x_train2[0]"
      ],
      "execution_count": null,
      "outputs": [
        {
          "output_type": "execute_result",
          "data": {
            "text/plain": [
              "'@giselitapr http://twitpic.com/4wwtd - thats funny! '"
            ],
            "application/vnd.google.colaboratory.intrinsic+json": {
              "type": "string"
            }
          },
          "metadata": {},
          "execution_count": 112
        }
      ]
    },
    {
      "cell_type": "markdown",
      "metadata": {
        "id": "dXHn00cwDWac"
      },
      "source": [
        "### Training"
      ]
    },
    {
      "cell_type": "markdown",
      "metadata": {
        "id": "E04UInSQDkxM"
      },
      "source": [
        "Firstly let's load our saved model."
      ]
    },
    {
      "cell_type": "code",
      "metadata": {
        "id": "oIcOCiswDN9P",
        "colab": {
          "base_uri": "https://localhost:8080/"
        },
        "outputId": "0ae224bf-d58d-400a-cbc7-699255df522d"
      },
      "source": [
        "model_fname = 'twitter_BERT_5pct'\n",
        "my_wd = '/content/gdrive/MyDrive/MIAR/TFM/BERT Sentiment/data/'\n",
        "\n",
        "new_model = tf.keras.models.load_model(os.path.join(my_wd, model_fname))\n",
        "new_model.summary()"
      ],
      "execution_count": null,
      "outputs": [
        {
          "output_type": "stream",
          "name": "stdout",
          "text": [
            "Model: \"model\"\n",
            "__________________________________________________________________________________________________\n",
            " Layer (type)                   Output Shape         Param #     Connected to                     \n",
            "==================================================================================================\n",
            " input_word_ids (InputLayer)    [(None, 180)]        0           []                               \n",
            "                                                                                                  \n",
            " input_mask (InputLayer)        [(None, 180)]        0           []                               \n",
            "                                                                                                  \n",
            " segment_ids (InputLayer)       [(None, 180)]        0           []                               \n",
            "                                                                                                  \n",
            " keras_layer (KerasLayer)       [(None, 768),        177853441   ['input_word_ids[0][0]',         \n",
            "                                 (None, 180, 768)]                'input_mask[0][0]',             \n",
            "                                                                  'segment_ids[0][0]']            \n",
            "                                                                                                  \n",
            " dropout (Dropout)              (None, 768)          0           ['keras_layer[0][0]']            \n",
            "                                                                                                  \n",
            " output (Dense)                 (None, 2)            1538        ['dropout[0][0]']                \n",
            "                                                                                                  \n",
            "==================================================================================================\n",
            "Total params: 177,854,979\n",
            "Trainable params: 177,854,978\n",
            "Non-trainable params: 1\n",
            "__________________________________________________________________________________________________\n"
          ]
        }
      ]
    },
    {
      "cell_type": "code",
      "metadata": {
        "id": "yapkpJpXIFpw",
        "colab": {
          "base_uri": "https://localhost:8080/",
          "height": 220
        },
        "outputId": "8dd69616-e7c4-4dd1-8fc4-4d91347cd9e5"
      },
      "source": [
        "tf.keras.utils.plot_model(new_model, show_shapes=True, dpi=48)"
      ],
      "execution_count": null,
      "outputs": [
        {
          "output_type": "execute_result",
          "data": {
            "text/plain": [
              "<IPython.core.display.Image object>"
            ],
            "image/png": "[encoded data removed]"
          },
          "metadata": {},
          "execution_count": 114
        }
      ]
    },
    {
      "cell_type": "markdown",
      "metadata": {
        "id": "AAZri5-9D2Z3"
      },
      "source": [
        "To check training progress we can use the new and the old testing datasets. Their accuracy should be close. Let's see how it compares."
      ]
    },
    {
      "cell_type": "code",
      "metadata": {
        "id": "1n4i6qwPDtlM",
        "colab": {
          "base_uri": "https://localhost:8080/"
        },
        "outputId": "fa6080ee-1880-48d3-883b-b41930d0e9e3"
      },
      "source": [
        "loss, accuracy = new_model.evaluate(X_test, dummy_y_test, verbose=False)  # OLD\n",
        "print(\"Old testing Accuracy:  {:.4f}\".format(accuracy))\n",
        "\n",
        "loss, accuracy = new_model.evaluate(X_test2, dummy_y_test2, verbose=False)  # NEW\n",
        "print(\"New testing Accuracy:  {:.4f}\".format(accuracy))"
      ],
      "execution_count": null,
      "outputs": [
        {
          "output_type": "stream",
          "name": "stdout",
          "text": [
            "Old testing Accuracy:  0.8282\n",
            "New testing Accuracy:  0.9188\n"
          ]
        }
      ]
    },
    {
      "cell_type": "markdown",
      "metadata": {
        "id": "FoW6MxnIGRap"
      },
      "source": [
        "As you can see there's some difference. In any case, I suggest you use the same testing sample to proceed with you training no matter if the accuracy is the same. This of course applies only to when you do not train on the full dataset."
      ]
    },
    {
      "cell_type": "markdown",
      "metadata": {
        "id": "atw5HDRxGuBa"
      },
      "source": [
        "We need to setup our training parameters again."
      ]
    },
    {
      "cell_type": "code",
      "metadata": {
        "id": "TfgAOC5KERoI"
      },
      "source": [
        "epochs = 3\n",
        "batch_size = 24  # select based on your GPU resources\n",
        "eval_batch_size = batch_size\n",
        "\n",
        "train_data_size = len(dummy_y_train2)\n",
        "steps_per_epoch = int(train_data_size / batch_size)\n",
        "num_train_steps = steps_per_epoch * epochs\n",
        "warmup_steps = int(epochs * train_data_size * 0.1 / batch_size)"
      ],
      "execution_count": null,
      "outputs": []
    },
    {
      "cell_type": "markdown",
      "metadata": {
        "id": "swSWAB2FHLWA"
      },
      "source": [
        "Now the optimizer we use has learing rate decay in it. Which means learning rate goes down over time by the set parameters. We can lower the initial learning rate for this training session or we could use other optimizer with a fixed learning rate altogether."
      ]
    },
    {
      "cell_type": "code",
      "metadata": {
        "id": "mIKL2_TXHKNP"
      },
      "source": [
        "optimizer = nlp.optimization.create_optimizer(\n",
        "    2e-6, num_train_steps=num_train_steps, num_warmup_steps=warmup_steps)"
      ],
      "execution_count": null,
      "outputs": []
    },
    {
      "cell_type": "markdown",
      "metadata": {
        "id": "eylQBZg5HpC3"
      },
      "source": [
        "Let's compile our model."
      ]
    },
    {
      "cell_type": "code",
      "metadata": {
        "id": "up0osQrxHntP"
      },
      "source": [
        "new_model.compile(optimizer=optimizer,\n",
        "              loss='categorical_crossentropy',\n",
        "              metrics=['accuracy'])"
      ],
      "execution_count": null,
      "outputs": []
    },
    {
      "cell_type": "markdown",
      "metadata": {
        "id": "2YxVDhFMH86s"
      },
      "source": [
        "And now finally we can train again and see if that helps us achieve a better accuracy."
      ]
    },
    {
      "cell_type": "code",
      "metadata": {
        "id": "H4_BM84kH03L",
        "colab": {
          "base_uri": "https://localhost:8080/"
        },
        "outputId": "02dc453e-f5d4-40fd-9312-db57d3bb28a9"
      },
      "source": [
        "history2 = new_model.fit(X_train2,  # using new training set\n",
        "                         dummy_y_train2,  # using new training set\n",
        "                         epochs=epochs,\n",
        "                         batch_size=batch_size,\n",
        "                         validation_data=(X_test, dummy_y_test),  # using old test dataset\n",
        "                         verbose=1)"
      ],
      "execution_count": null,
      "outputs": [
        {
          "output_type": "stream",
          "name": "stdout",
          "text": [
            "Epoch 1/3\n",
            "2667/2667 [==============================] - 1632s 606ms/step - loss: 0.2561 - accuracy: 0.8992 - val_loss: 0.4016 - val_accuracy: 0.8422\n",
            "Epoch 2/3\n",
            "2667/2667 [==============================] - 1616s 606ms/step - loss: 0.2373 - accuracy: 0.9078 - val_loss: 0.3945 - val_accuracy: 0.8497\n",
            "Epoch 3/3\n",
            "2667/2667 [==============================] - 1616s 606ms/step - loss: 0.2269 - accuracy: 0.9124 - val_loss: 0.3833 - val_accuracy: 0.8538\n"
          ]
        }
      ]
    },
    {
      "cell_type": "markdown",
      "metadata": {
        "id": "e6J-2ru2rKLo"
      },
      "source": [
        "Let's plot everything out."
      ]
    },
    {
      "cell_type": "code",
      "metadata": {
        "id": "cHkRaP7Cpf_V"
      },
      "source": [
        "for i in history2.history:\n",
        "  for ele in history2.history[i]:\n",
        "    history.history[i].append(ele)"
      ],
      "execution_count": null,
      "outputs": []
    },
    {
      "cell_type": "code",
      "metadata": {
        "id": "Ug8_LyTbqxcS",
        "colab": {
          "base_uri": "https://localhost:8080/",
          "height": 337
        },
        "outputId": "75cc79ea-11c0-4175-a8c1-e68ff35cc5eb"
      },
      "source": [
        "plot_history(history)"
      ],
      "execution_count": null,
      "outputs": [
        {
          "output_type": "display_data",
          "data": {
            "text/plain": [
              "<Figure size 864x360 with 2 Axes>"
            ],
            "image/png": "[encoded data removed]"
          },
          "metadata": {}
        }
      ]
    },
    {
      "cell_type": "markdown",
      "metadata": {
        "id": "ZmWxjR2jrVjq"
      },
      "source": [
        "Our lines aren't consistent as we changed the training dataset. However, you can see that both the `val_accuracy` and `val_loss` improved. At his point we could itterate again and improve the model a bit more and more. Just understand that every incrimental improvement will take more data/time as it significantly slows down over time."
      ]
    },
    {
      "cell_type": "code",
      "metadata": {
        "id": "SimSbUNv7N4V"
      },
      "source": [
        "new_model.compile(optimizer='adam',\n",
        "              loss='categorical_crossentropy',\n",
        "              metrics=['accuracy'])"
      ],
      "execution_count": null,
      "outputs": []
    },
    {
      "cell_type": "code",
      "metadata": {
        "colab": {
          "base_uri": "https://localhost:8080/"
        },
        "outputId": "43d7ab80-84ae-48a9-f521-4b8838520a59",
        "id": "9iRs5CaA7N4W"
      },
      "source": [
        "model_fname = 'twitter_BERT_5pct_2'\n",
        "my_wd = '/content/gdrive/MyDrive/MIAR/TFM/BERT Sentiment/data/'\n",
        "\n",
        "new_model.save(os.path.join(my_wd, model_fname))"
      ],
      "execution_count": null,
      "outputs": [
        {
          "output_type": "stream",
          "name": "stderr",
          "text": [
            "WARNING:absl:Found untraced functions such as restored_function_body, restored_function_body, restored_function_body, restored_function_body, restored_function_body while saving (showing 5 of 378). These functions will not be directly callable after loading.\n"
          ]
        },
        {
          "output_type": "stream",
          "name": "stdout",
          "text": [
            "INFO:tensorflow:Assets written to: /content/gdrive/MyDrive/MIAR/TFM/BERT Sentiment/data/twitter_BERT_5pct_2/assets\n"
          ]
        },
        {
          "output_type": "stream",
          "name": "stderr",
          "text": [
            "INFO:tensorflow:Assets written to: /content/gdrive/MyDrive/MIAR/TFM/BERT Sentiment/data/twitter_BERT_5pct_2/assets\n"
          ]
        }
      ]
    },
    {
      "cell_type": "markdown",
      "metadata": {
        "id": "F5y81Wvk1Cav"
      },
      "source": [
        "# Is BERT worth it?"
      ]
    },
    {
      "cell_type": "markdown",
      "metadata": {
        "id": "nEzeXzX61GFe"
      },
      "source": [
        "So is BERT worth. BERT is a huge model compared to our simple NN and Logistic Regression models we used before. Is the increase in accuracy impactful enough compared to the increase in computation needed? Let's comapre accuracy:\n",
        "\n",
        "\n",
        "1.   Logistic Regression 0.80\n",
        "2.   Simple NN           0.79\n",
        "3.   Finetuned BERT      0.84\n",
        "\n",
        "In this case it totally depends on you. I personaly would say let's use Logistic Regression. Easily deployable, low computational resources and the task isn't that signicificant in terms of a mistake. If your goal is maximum accuracy possible I would train BERT a bit more and try to get to at least 85%, that would be significant enough to use BERT instead a much less computationaly intesnive Logistic Regression.\n",
        "\n"
      ]
    },
    {
      "cell_type": "markdown",
      "metadata": {
        "id": "aQIJMSxWRNOX"
      },
      "source": [
        "# Test"
      ]
    },
    {
      "cell_type": "markdown",
      "metadata": {
        "id": "CvXzVKLNS3EZ"
      },
      "source": [
        "We need to check in with our label encoder to get our classes."
      ]
    },
    {
      "cell_type": "code",
      "metadata": {
        "id": "Q48W5efMSdtI"
      },
      "source": [
        "encoder_fname = 'imdb_classes.npy'\n",
        "my_wd = '/content/gdrive/MyDrive/MIAR/TFM/BERT Sentiment/data/'\n",
        "\n",
        "encoder = LabelEncoder()\n",
        "encoder.classes_ = np.load(os.path.join(my_wd, encoder_fname), allow_pickle=True)"
      ],
      "execution_count": null,
      "outputs": []
    },
    {
      "cell_type": "markdown",
      "metadata": {
        "id": "XgjPsHVcTX9V"
      },
      "source": [
        "This is how our classes are encoded for the model."
      ]
    },
    {
      "cell_type": "code",
      "metadata": {
        "id": "ZT2DvZ2oTCBJ",
        "colab": {
          "base_uri": "https://localhost:8080/"
        },
        "outputId": "4f0268d6-8abb-44f9-cd62-2b135a207709"
      },
      "source": [
        "encoder.classes_"
      ],
      "execution_count": null,
      "outputs": [
        {
          "output_type": "execute_result",
          "data": {
            "text/plain": [
              "array(['negative', 'positive'], dtype=object)"
            ]
          },
          "metadata": {},
          "execution_count": 63
        }
      ]
    },
    {
      "cell_type": "markdown",
      "metadata": {
        "id": "-aVOr8MlSxa6"
      },
      "source": [
        "Input preprocessing."
      ]
    },
    {
      "cell_type": "code",
      "metadata": {
        "id": "SiruBLfcrCUo"
      },
      "source": [
        "tweet = ['Fui a ver la pelicula pensando que era muy mala pero resulto ser una pelicula muy buena. Las actuaciones fueron fascinantes y el guión me encanto']\n",
        "inputs = bert_encode(string_list=list(tweet), \n",
        "                     tokenizer=tokenizerSaved, \n",
        "                     max_seq_length=512)"
      ],
      "execution_count": null,
      "outputs": []
    },
    {
      "cell_type": "markdown",
      "metadata": {
        "id": "Zkoy3SgCTdgc"
      },
      "source": [
        "Prediction."
      ]
    },
    {
      "cell_type": "code",
      "metadata": {
        "id": "wQWW5CCtTDji",
        "colab": {
          "base_uri": "https://localhost:8080/"
        },
        "outputId": "312b19dc-8411-418f-b288-8354e68ce1d7"
      },
      "source": [
        "prediction = model.predict(inputs)\n",
        "print(prediction)\n",
        "print('Tweet is', 'positive' if encoder.classes_[np.argmax(prediction)]=='positive' else 'negative')"
      ],
      "execution_count": null,
      "outputs": [
        {
          "output_type": "stream",
          "name": "stdout",
          "text": [
            "[[0.25372165 0.74627835]]\n",
            "Tweet is positive\n"
          ]
        }
      ]
    },
    {
      "cell_type": "code",
      "metadata": {
        "id": "eq-DshwxTt4n",
        "colab": {
          "base_uri": "https://localhost:8080/"
        },
        "outputId": "8cea5258-6fdb-4ba1-b4d2-8e5b89200214"
      },
      "source": [
        "inputs"
      ],
      "execution_count": null,
      "outputs": [
        {
          "output_type": "execute_result",
          "data": {
            "text/plain": [
              "{'input_mask': <tf.Tensor: shape=(1, 180), dtype=int32, numpy=\n",
              " array([[1, 1, 1, 1, 1, 1, 1, 1, 1, 1, 1, 1, 0, 0, 0, 0, 0, 0, 0, 0, 0, 0,\n",
              "         0, 0, 0, 0, 0, 0, 0, 0, 0, 0, 0, 0, 0, 0, 0, 0, 0, 0, 0, 0, 0, 0,\n",
              "         0, 0, 0, 0, 0, 0, 0, 0, 0, 0, 0, 0, 0, 0, 0, 0, 0, 0, 0, 0, 0, 0,\n",
              "         0, 0, 0, 0, 0, 0, 0, 0, 0, 0, 0, 0, 0, 0, 0, 0, 0, 0, 0, 0, 0, 0,\n",
              "         0, 0, 0, 0, 0, 0, 0, 0, 0, 0, 0, 0, 0, 0, 0, 0, 0, 0, 0, 0, 0, 0,\n",
              "         0, 0, 0, 0, 0, 0, 0, 0, 0, 0, 0, 0, 0, 0, 0, 0, 0, 0, 0, 0, 0, 0,\n",
              "         0, 0, 0, 0, 0, 0, 0, 0, 0, 0, 0, 0, 0, 0, 0, 0, 0, 0, 0, 0, 0, 0,\n",
              "         0, 0, 0, 0, 0, 0, 0, 0, 0, 0, 0, 0, 0, 0, 0, 0, 0, 0, 0, 0, 0, 0,\n",
              "         0, 0, 0, 0]], dtype=int32)>,\n",
              " 'input_type_ids': <tf.Tensor: shape=(1, 180), dtype=int32, numpy=\n",
              " array([[0, 1, 1, 1, 1, 1, 1, 1, 1, 1, 1, 1, 0, 0, 0, 0, 0, 0, 0, 0, 0, 0,\n",
              "         0, 0, 0, 0, 0, 0, 0, 0, 0, 0, 0, 0, 0, 0, 0, 0, 0, 0, 0, 0, 0, 0,\n",
              "         0, 0, 0, 0, 0, 0, 0, 0, 0, 0, 0, 0, 0, 0, 0, 0, 0, 0, 0, 0, 0, 0,\n",
              "         0, 0, 0, 0, 0, 0, 0, 0, 0, 0, 0, 0, 0, 0, 0, 0, 0, 0, 0, 0, 0, 0,\n",
              "         0, 0, 0, 0, 0, 0, 0, 0, 0, 0, 0, 0, 0, 0, 0, 0, 0, 0, 0, 0, 0, 0,\n",
              "         0, 0, 0, 0, 0, 0, 0, 0, 0, 0, 0, 0, 0, 0, 0, 0, 0, 0, 0, 0, 0, 0,\n",
              "         0, 0, 0, 0, 0, 0, 0, 0, 0, 0, 0, 0, 0, 0, 0, 0, 0, 0, 0, 0, 0, 0,\n",
              "         0, 0, 0, 0, 0, 0, 0, 0, 0, 0, 0, 0, 0, 0, 0, 0, 0, 0, 0, 0, 0, 0,\n",
              "         0, 0, 0, 0]], dtype=int32)>,\n",
              " 'input_word_ids': <tf.Tensor: shape=(1, 180), dtype=int32, numpy=\n",
              " array([[  101, 24165, 10157, 89512, 16348, 10109, 11926, 10196, 10119,\n",
              "         10146, 10812,   102,     0,     0,     0,     0,     0,     0,\n",
              "             0,     0,     0,     0,     0,     0,     0,     0,     0,\n",
              "             0,     0,     0,     0,     0,     0,     0,     0,     0,\n",
              "             0,     0,     0,     0,     0,     0,     0,     0,     0,\n",
              "             0,     0,     0,     0,     0,     0,     0,     0,     0,\n",
              "             0,     0,     0,     0,     0,     0,     0,     0,     0,\n",
              "             0,     0,     0,     0,     0,     0,     0,     0,     0,\n",
              "             0,     0,     0,     0,     0,     0,     0,     0,     0,\n",
              "             0,     0,     0,     0,     0,     0,     0,     0,     0,\n",
              "             0,     0,     0,     0,     0,     0,     0,     0,     0,\n",
              "             0,     0,     0,     0,     0,     0,     0,     0,     0,\n",
              "             0,     0,     0,     0,     0,     0,     0,     0,     0,\n",
              "             0,     0,     0,     0,     0,     0,     0,     0,     0,\n",
              "             0,     0,     0,     0,     0,     0,     0,     0,     0,\n",
              "             0,     0,     0,     0,     0,     0,     0,     0,     0,\n",
              "             0,     0,     0,     0,     0,     0,     0,     0,     0,\n",
              "             0,     0,     0,     0,     0,     0,     0,     0,     0,\n",
              "             0,     0,     0,     0,     0,     0,     0,     0,     0,\n",
              "             0,     0,     0,     0,     0,     0,     0,     0,     0]],\n",
              "       dtype=int32)>}"
            ]
          },
          "metadata": {},
          "execution_count": 137
        }
      ]
    },
    {
      "cell_type": "code",
      "metadata": {
        "id": "PmCu_hwGLpRr"
      },
      "source": [
        ""
      ],
      "execution_count": null,
      "outputs": []
    }
  ]
}