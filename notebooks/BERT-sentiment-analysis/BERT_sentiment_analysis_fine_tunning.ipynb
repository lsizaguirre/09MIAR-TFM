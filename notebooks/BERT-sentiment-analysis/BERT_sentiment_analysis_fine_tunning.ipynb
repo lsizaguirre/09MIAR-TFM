{
  "cells": [
    {
      "cell_type": "markdown",
      "metadata": {
        "id": "H2GDDXnPPnLa"
      },
      "source": [
        "[![Open In Colab](https://colab.research.google.com/assets/colab-badge.svg)](https://colab.research.google.com/github/lsizaguirre/09MIAR-TFM/blob/main/notebooks/BERT-sentiment-analysis/BERT-sentiment-analysis-fine-tunning.ipynb)"
      ]
    },
    {
      "cell_type": "markdown",
      "metadata": {
        "id": "_XIGQ1hxR44W"
      },
      "source": [
        "<div>\n",
        "<img src=\"https://www.dropbox.com/s/crnfuz6kotkjzxa/viu_logo.png?dl=1\" width=\"300\"/>\n",
        "</div>\n",
        "\n",
        "## 09MIAR - TFM\n",
        "### Análisis de Sentimiento\n",
        "\n",
        "*por Luis Arturo Izaguirre Viera - lsizaguirre@gmail.com*\n",
        "\n",
        "---"
      ]
    },
    {
      "cell_type": "markdown",
      "source": [
        "Para realizar este experimento, se ha tomado como base el como base el código fuente suministrado por Tensorflow para hacer fine-tunning del proceso de BERT.\n",
        "\n",
        "source: https://www.tensorflow.org/text/tutorials/fine_tune_bert"
      ],
      "metadata": {
        "id": "JBS7ebjGQZcb"
      }
    },
    {
      "cell_type": "markdown",
      "metadata": {
        "id": "p2B9-HFJBOyq"
      },
      "source": [
        "# Librerias y Entorno"
      ]
    },
    {
      "cell_type": "markdown",
      "metadata": {
        "id": "t02J6-26TTfD"
      },
      "source": [
        "## Instalando librerias"
      ]
    },
    {
      "cell_type": "markdown",
      "source": [
        "Utilizamos las últimas versiones de las librerias que nos proporcionan acceso al modelo y a las funciones oficiles de BERT (official.nlp.bert)"
      ],
      "metadata": {
        "id": "hipT3lW6RT2v"
      }
    },
    {
      "cell_type": "code",
      "execution_count": 1,
      "metadata": {
        "id": "6iKNUdUXxAkj"
      },
      "outputs": [],
      "source": [
        "!pip install -q -U \"tensorflow-text==2.8.*\"\n",
        "!pip install -q -U tf-models-official==2.7.0\n",
        "!pip install -q -U tfds-nightly"
      ]
    },
    {
      "cell_type": "markdown",
      "source": [
        "Se instalan las librerias de Tensorflow Hub y Keras para construir el modelo"
      ],
      "metadata": {
        "id": "y6F8KoJvR2pS"
      }
    },
    {
      "cell_type": "code",
      "execution_count": 2,
      "metadata": {
        "id": "oXO5FPswBLSH"
      },
      "outputs": [],
      "source": [
        "!pip install -q -U tensorflow_hub\n",
        "!pip install -q -U keras"
      ]
    },
    {
      "cell_type": "markdown",
      "metadata": {
        "id": "3vEVGFDITlS6"
      },
      "source": [
        "## Importando librerias"
      ]
    },
    {
      "cell_type": "markdown",
      "source": [
        "Se importan las librerías que serán necesarias durante la ejecucion del experimento"
      ],
      "metadata": {
        "id": "1ErvMKgISMSh"
      }
    },
    {
      "cell_type": "code",
      "execution_count": 3,
      "metadata": {
        "id": "kHzoXf8sCxaW"
      },
      "outputs": [],
      "source": [
        "import os\n",
        "\n",
        "import numpy as np\n",
        "import pandas as pd\n",
        "\n",
        "import tensorflow as tf\n",
        "import tensorflow_hub as hub\n",
        "\n",
        "from keras.utils import np_utils\n",
        "\n",
        "import official.nlp.bert.bert_models\n",
        "import official.nlp.bert.configs\n",
        "import official.nlp.bert.run_classifier\n",
        "import official.nlp.bert.tokenization as tokenization\n",
        "\n",
        "from official.modeling import tf_utils\n",
        "from official import nlp\n",
        "from official.nlp import bert\n",
        "\n",
        "from sklearn.model_selection import train_test_split\n",
        "from sklearn.preprocessing import LabelEncoder\n",
        "\n",
        "from google.colab import drive\n",
        "from bs4 import BeautifulSoup\n",
        "import re, string\n",
        "\n",
        "import matplotlib.pyplot as plt"
      ]
    },
    {
      "cell_type": "markdown",
      "metadata": {
        "id": "POXQerynTrtV"
      },
      "source": [
        "## Obteniendo información del entorno"
      ]
    },
    {
      "cell_type": "markdown",
      "source": [
        "Algunos scripts de código solo para obtener información del entorno"
      ],
      "metadata": {
        "id": "PsUBwH-ngCLd"
      }
    },
    {
      "cell_type": "code",
      "execution_count": 4,
      "metadata": {
        "colab": {
          "base_uri": "https://localhost:8080/"
        },
        "id": "OJVySCYiT5C4",
        "outputId": "ea61dff7-b130-431f-f2c4-3268c7793447"
      },
      "outputs": [
        {
          "output_type": "stream",
          "name": "stdout",
          "text": [
            "Python 3.7.13\n"
          ]
        }
      ],
      "source": [
        "! python --version"
      ]
    },
    {
      "cell_type": "code",
      "execution_count": 5,
      "metadata": {
        "colab": {
          "base_uri": "https://localhost:8080/"
        },
        "id": "vR4gT3GPTw0J",
        "outputId": "eb2ddff9-d8c7-4b56-c6d8-6d8f2288e057"
      },
      "outputs": [
        {
          "output_type": "stream",
          "name": "stdout",
          "text": [
            "1 Physical GPUs, 1 Logical GPUs\n",
            "TF Version:  2.8.0\n",
            "Eager mode:  True\n",
            "Hub version:  0.12.0\n",
            "GPU is available\n",
            "Not connected to a TPU runtime\n"
          ]
        }
      ],
      "source": [
        "gpus = tf.config.experimental.list_physical_devices('GPU')\n",
        "if gpus:\n",
        "  try:\n",
        "    # Currently, memory growth needs to be the same across GPUs\n",
        "    for gpu in gpus:\n",
        "      tf.config.experimental.set_memory_growth(gpu, True)\n",
        "    logical_gpus = tf.config.experimental.list_logical_devices('GPU')\n",
        "    print(len(gpus), \"Physical GPUs,\", len(logical_gpus), \"Logical GPUs\")\n",
        "  except RuntimeError as e:\n",
        "    # Memory growth must be set before GPUs have been initialized\n",
        "    print(e)\n",
        "\n",
        "print(\"TF Version: \", tf.__version__)\n",
        "print(\"Eager mode: \", tf.executing_eagerly())\n",
        "print(\"Hub version: \", hub.__version__)\n",
        "print(\"GPU is\", \"available\" if tf.config.list_physical_devices('GPU') else \"NOT AVAILABLE\")\n",
        "\n",
        "try:\n",
        "  tpu = tf.distribute.cluster_resolver.TPUClusterResolver()  # TPU detection\n",
        "  print('Running on TPU ', tpu.cluster_spec().as_dict()['worker'])\n",
        "except ValueError:\n",
        "  print('Not connected to a TPU runtime')"
      ]
    },
    {
      "cell_type": "markdown",
      "metadata": {
        "id": "wWfuCNEnDJSX"
      },
      "source": [
        "# Datos"
      ]
    },
    {
      "cell_type": "markdown",
      "metadata": {
        "id": "whD8PJzp_TDZ"
      },
      "source": [
        "## Carga de dataset"
      ]
    },
    {
      "cell_type": "markdown",
      "source": [
        "Se monta el Google Drive y se carga el csv del dataset IMDB"
      ],
      "metadata": {
        "id": "Qvr3Iq-Ugm80"
      }
    },
    {
      "cell_type": "code",
      "execution_count": 6,
      "metadata": {
        "colab": {
          "base_uri": "https://localhost:8080/"
        },
        "id": "P_rwFwS_0agV",
        "outputId": "70387d8b-0416-434a-db8e-8e8f4c4f5863"
      },
      "outputs": [
        {
          "output_type": "stream",
          "name": "stdout",
          "text": [
            "Mounted at /content/gdrive\n"
          ]
        }
      ],
      "source": [
        "drive.mount('/content/gdrive')"
      ]
    },
    {
      "cell_type": "code",
      "execution_count": 7,
      "metadata": {
        "id": "8Iwpl2fpCwFq"
      },
      "outputs": [],
      "source": [
        "df = pd.read_csv('/content/gdrive/MyDrive/VIU-MIAR/09MIAR-TFM/BERT-sentiment-analysis/dataset/IMDB-dataset.csv'\n",
        "                ,encoding='ISO-8859-1')"
      ]
    },
    {
      "cell_type": "markdown",
      "metadata": {
        "id": "12E_EXFoXUsW"
      },
      "source": [
        "## Inspección de los datos"
      ]
    },
    {
      "cell_type": "code",
      "execution_count": 8,
      "metadata": {
        "id": "KdIoSy6gX5eV"
      },
      "outputs": [],
      "source": [
        "#Para poder observar mejor las reseñas\n",
        "pd.set_option('max_colwidth', 100)"
      ]
    },
    {
      "cell_type": "code",
      "execution_count": 9,
      "metadata": {
        "colab": {
          "base_uri": "https://localhost:8080/",
          "height": 363
        },
        "id": "cYgtLWXODYFJ",
        "outputId": "a75f8833-1405-47e2-a488-750fd9718c9e"
      },
      "outputs": [
        {
          "output_type": "execute_result",
          "data": {
            "text/plain": [
              "                                                                                                review  \\\n",
              "0  One of the other reviewers has mentioned that after watching just 1 Oz episode you'll be hooked....   \n",
              "1  A wonderful little production. <br /><br />The filming technique is very unassuming- very old-ti...   \n",
              "2  I thought this was a wonderful way to spend time on a too hot summer weekend, sitting in the air...   \n",
              "3  Basically there's a family where a little boy (Jake) thinks there's a zombie in his closet & his...   \n",
              "4  Petter Mattei's \"Love in the Time of Money\" is a visually stunning film to watch. Mr. Mattei off...   \n",
              "5  Probably my all-time favorite movie, a story of selflessness, sacrifice and dedication to a nobl...   \n",
              "6  I sure would like to see a resurrection of a up dated Seahunt series with the tech they have tod...   \n",
              "7  This show was an amazing, fresh & innovative idea in the 70's when it first aired. The first 7 o...   \n",
              "8  Encouraged by the positive comments about this film on here I was looking forward to watching th...   \n",
              "9  If you like original gut wrenching laughter you will like this movie. If you are young or old th...   \n",
              "\n",
              "  sentiment  \n",
              "0  positive  \n",
              "1  positive  \n",
              "2  positive  \n",
              "3  negative  \n",
              "4  positive  \n",
              "5  positive  \n",
              "6  positive  \n",
              "7  negative  \n",
              "8  negative  \n",
              "9  positive  "
            ],
            "text/html": [
              "\n",
              "  <div id=\"df-806e2695-ed5e-4635-867b-ea2427573b22\">\n",
              "    <div class=\"colab-df-container\">\n",
              "      <div>\n",
              "<style scoped>\n",
              "    .dataframe tbody tr th:only-of-type {\n",
              "        vertical-align: middle;\n",
              "    }\n",
              "\n",
              "    .dataframe tbody tr th {\n",
              "        vertical-align: top;\n",
              "    }\n",
              "\n",
              "    .dataframe thead th {\n",
              "        text-align: right;\n",
              "    }\n",
              "</style>\n",
              "<table border=\"1\" class=\"dataframe\">\n",
              "  <thead>\n",
              "    <tr style=\"text-align: right;\">\n",
              "      <th></th>\n",
              "      <th>review</th>\n",
              "      <th>sentiment</th>\n",
              "    </tr>\n",
              "  </thead>\n",
              "  <tbody>\n",
              "    <tr>\n",
              "      <th>0</th>\n",
              "      <td>One of the other reviewers has mentioned that after watching just 1 Oz episode you'll be hooked....</td>\n",
              "      <td>positive</td>\n",
              "    </tr>\n",
              "    <tr>\n",
              "      <th>1</th>\n",
              "      <td>A wonderful little production. &lt;br /&gt;&lt;br /&gt;The filming technique is very unassuming- very old-ti...</td>\n",
              "      <td>positive</td>\n",
              "    </tr>\n",
              "    <tr>\n",
              "      <th>2</th>\n",
              "      <td>I thought this was a wonderful way to spend time on a too hot summer weekend, sitting in the air...</td>\n",
              "      <td>positive</td>\n",
              "    </tr>\n",
              "    <tr>\n",
              "      <th>3</th>\n",
              "      <td>Basically there's a family where a little boy (Jake) thinks there's a zombie in his closet &amp; his...</td>\n",
              "      <td>negative</td>\n",
              "    </tr>\n",
              "    <tr>\n",
              "      <th>4</th>\n",
              "      <td>Petter Mattei's \"Love in the Time of Money\" is a visually stunning film to watch. Mr. Mattei off...</td>\n",
              "      <td>positive</td>\n",
              "    </tr>\n",
              "    <tr>\n",
              "      <th>5</th>\n",
              "      <td>Probably my all-time favorite movie, a story of selflessness, sacrifice and dedication to a nobl...</td>\n",
              "      <td>positive</td>\n",
              "    </tr>\n",
              "    <tr>\n",
              "      <th>6</th>\n",
              "      <td>I sure would like to see a resurrection of a up dated Seahunt series with the tech they have tod...</td>\n",
              "      <td>positive</td>\n",
              "    </tr>\n",
              "    <tr>\n",
              "      <th>7</th>\n",
              "      <td>This show was an amazing, fresh &amp; innovative idea in the 70's when it first aired. The first 7 o...</td>\n",
              "      <td>negative</td>\n",
              "    </tr>\n",
              "    <tr>\n",
              "      <th>8</th>\n",
              "      <td>Encouraged by the positive comments about this film on here I was looking forward to watching th...</td>\n",
              "      <td>negative</td>\n",
              "    </tr>\n",
              "    <tr>\n",
              "      <th>9</th>\n",
              "      <td>If you like original gut wrenching laughter you will like this movie. If you are young or old th...</td>\n",
              "      <td>positive</td>\n",
              "    </tr>\n",
              "  </tbody>\n",
              "</table>\n",
              "</div>\n",
              "      <button class=\"colab-df-convert\" onclick=\"convertToInteractive('df-806e2695-ed5e-4635-867b-ea2427573b22')\"\n",
              "              title=\"Convert this dataframe to an interactive table.\"\n",
              "              style=\"display:none;\">\n",
              "        \n",
              "  <svg xmlns=\"http://www.w3.org/2000/svg\" height=\"24px\"viewBox=\"0 0 24 24\"\n",
              "       width=\"24px\">\n",
              "    <path d=\"M0 0h24v24H0V0z\" fill=\"none\"/>\n",
              "    <path d=\"M18.56 5.44l.94 2.06.94-2.06 2.06-.94-2.06-.94-.94-2.06-.94 2.06-2.06.94zm-11 1L8.5 8.5l.94-2.06 2.06-.94-2.06-.94L8.5 2.5l-.94 2.06-2.06.94zm10 10l.94 2.06.94-2.06 2.06-.94-2.06-.94-.94-2.06-.94 2.06-2.06.94z\"/><path d=\"M17.41 7.96l-1.37-1.37c-.4-.4-.92-.59-1.43-.59-.52 0-1.04.2-1.43.59L10.3 9.45l-7.72 7.72c-.78.78-.78 2.05 0 2.83L4 21.41c.39.39.9.59 1.41.59.51 0 1.02-.2 1.41-.59l7.78-7.78 2.81-2.81c.8-.78.8-2.07 0-2.86zM5.41 20L4 18.59l7.72-7.72 1.47 1.35L5.41 20z\"/>\n",
              "  </svg>\n",
              "      </button>\n",
              "      \n",
              "  <style>\n",
              "    .colab-df-container {\n",
              "      display:flex;\n",
              "      flex-wrap:wrap;\n",
              "      gap: 12px;\n",
              "    }\n",
              "\n",
              "    .colab-df-convert {\n",
              "      background-color: #E8F0FE;\n",
              "      border: none;\n",
              "      border-radius: 50%;\n",
              "      cursor: pointer;\n",
              "      display: none;\n",
              "      fill: #1967D2;\n",
              "      height: 32px;\n",
              "      padding: 0 0 0 0;\n",
              "      width: 32px;\n",
              "    }\n",
              "\n",
              "    .colab-df-convert:hover {\n",
              "      background-color: #E2EBFA;\n",
              "      box-shadow: 0px 1px 2px rgba(60, 64, 67, 0.3), 0px 1px 3px 1px rgba(60, 64, 67, 0.15);\n",
              "      fill: #174EA6;\n",
              "    }\n",
              "\n",
              "    [theme=dark] .colab-df-convert {\n",
              "      background-color: #3B4455;\n",
              "      fill: #D2E3FC;\n",
              "    }\n",
              "\n",
              "    [theme=dark] .colab-df-convert:hover {\n",
              "      background-color: #434B5C;\n",
              "      box-shadow: 0px 1px 3px 1px rgba(0, 0, 0, 0.15);\n",
              "      filter: drop-shadow(0px 1px 2px rgba(0, 0, 0, 0.3));\n",
              "      fill: #FFFFFF;\n",
              "    }\n",
              "  </style>\n",
              "\n",
              "      <script>\n",
              "        const buttonEl =\n",
              "          document.querySelector('#df-806e2695-ed5e-4635-867b-ea2427573b22 button.colab-df-convert');\n",
              "        buttonEl.style.display =\n",
              "          google.colab.kernel.accessAllowed ? 'block' : 'none';\n",
              "\n",
              "        async function convertToInteractive(key) {\n",
              "          const element = document.querySelector('#df-806e2695-ed5e-4635-867b-ea2427573b22');\n",
              "          const dataTable =\n",
              "            await google.colab.kernel.invokeFunction('convertToInteractive',\n",
              "                                                     [key], {});\n",
              "          if (!dataTable) return;\n",
              "\n",
              "          const docLinkHtml = 'Like what you see? Visit the ' +\n",
              "            '<a target=\"_blank\" href=https://colab.research.google.com/notebooks/data_table.ipynb>data table notebook</a>'\n",
              "            + ' to learn more about interactive tables.';\n",
              "          element.innerHTML = '';\n",
              "          dataTable['output_type'] = 'display_data';\n",
              "          await google.colab.output.renderOutput(dataTable, element);\n",
              "          const docLink = document.createElement('div');\n",
              "          docLink.innerHTML = docLinkHtml;\n",
              "          element.appendChild(docLink);\n",
              "        }\n",
              "      </script>\n",
              "    </div>\n",
              "  </div>\n",
              "  "
            ]
          },
          "metadata": {},
          "execution_count": 9
        }
      ],
      "source": [
        "#Inspeccionamos las primeras 10 reseñas del dataset\n",
        "df.head(10)"
      ]
    },
    {
      "cell_type": "code",
      "execution_count": 10,
      "metadata": {
        "colab": {
          "base_uri": "https://localhost:8080/",
          "height": 175
        },
        "id": "H38KaRWdZoXb",
        "outputId": "e878108a-b6cc-4338-9af7-67753849663b"
      },
      "outputs": [
        {
          "output_type": "execute_result",
          "data": {
            "text/plain": [
              "                                                                                                     review  \\\n",
              "count                                                                                                 50000   \n",
              "unique                                                                                                49582   \n",
              "top     Loved today's show!!! It was a variety and not solely cooking (which would have been great too)....   \n",
              "freq                                                                                                      5   \n",
              "\n",
              "       sentiment  \n",
              "count      50000  \n",
              "unique         2  \n",
              "top     positive  \n",
              "freq       25000  "
            ],
            "text/html": [
              "\n",
              "  <div id=\"df-8e703a29-a277-4ab1-b814-b2d059cb7dc2\">\n",
              "    <div class=\"colab-df-container\">\n",
              "      <div>\n",
              "<style scoped>\n",
              "    .dataframe tbody tr th:only-of-type {\n",
              "        vertical-align: middle;\n",
              "    }\n",
              "\n",
              "    .dataframe tbody tr th {\n",
              "        vertical-align: top;\n",
              "    }\n",
              "\n",
              "    .dataframe thead th {\n",
              "        text-align: right;\n",
              "    }\n",
              "</style>\n",
              "<table border=\"1\" class=\"dataframe\">\n",
              "  <thead>\n",
              "    <tr style=\"text-align: right;\">\n",
              "      <th></th>\n",
              "      <th>review</th>\n",
              "      <th>sentiment</th>\n",
              "    </tr>\n",
              "  </thead>\n",
              "  <tbody>\n",
              "    <tr>\n",
              "      <th>count</th>\n",
              "      <td>50000</td>\n",
              "      <td>50000</td>\n",
              "    </tr>\n",
              "    <tr>\n",
              "      <th>unique</th>\n",
              "      <td>49582</td>\n",
              "      <td>2</td>\n",
              "    </tr>\n",
              "    <tr>\n",
              "      <th>top</th>\n",
              "      <td>Loved today's show!!! It was a variety and not solely cooking (which would have been great too)....</td>\n",
              "      <td>positive</td>\n",
              "    </tr>\n",
              "    <tr>\n",
              "      <th>freq</th>\n",
              "      <td>5</td>\n",
              "      <td>25000</td>\n",
              "    </tr>\n",
              "  </tbody>\n",
              "</table>\n",
              "</div>\n",
              "      <button class=\"colab-df-convert\" onclick=\"convertToInteractive('df-8e703a29-a277-4ab1-b814-b2d059cb7dc2')\"\n",
              "              title=\"Convert this dataframe to an interactive table.\"\n",
              "              style=\"display:none;\">\n",
              "        \n",
              "  <svg xmlns=\"http://www.w3.org/2000/svg\" height=\"24px\"viewBox=\"0 0 24 24\"\n",
              "       width=\"24px\">\n",
              "    <path d=\"M0 0h24v24H0V0z\" fill=\"none\"/>\n",
              "    <path d=\"M18.56 5.44l.94 2.06.94-2.06 2.06-.94-2.06-.94-.94-2.06-.94 2.06-2.06.94zm-11 1L8.5 8.5l.94-2.06 2.06-.94-2.06-.94L8.5 2.5l-.94 2.06-2.06.94zm10 10l.94 2.06.94-2.06 2.06-.94-2.06-.94-.94-2.06-.94 2.06-2.06.94z\"/><path d=\"M17.41 7.96l-1.37-1.37c-.4-.4-.92-.59-1.43-.59-.52 0-1.04.2-1.43.59L10.3 9.45l-7.72 7.72c-.78.78-.78 2.05 0 2.83L4 21.41c.39.39.9.59 1.41.59.51 0 1.02-.2 1.41-.59l7.78-7.78 2.81-2.81c.8-.78.8-2.07 0-2.86zM5.41 20L4 18.59l7.72-7.72 1.47 1.35L5.41 20z\"/>\n",
              "  </svg>\n",
              "      </button>\n",
              "      \n",
              "  <style>\n",
              "    .colab-df-container {\n",
              "      display:flex;\n",
              "      flex-wrap:wrap;\n",
              "      gap: 12px;\n",
              "    }\n",
              "\n",
              "    .colab-df-convert {\n",
              "      background-color: #E8F0FE;\n",
              "      border: none;\n",
              "      border-radius: 50%;\n",
              "      cursor: pointer;\n",
              "      display: none;\n",
              "      fill: #1967D2;\n",
              "      height: 32px;\n",
              "      padding: 0 0 0 0;\n",
              "      width: 32px;\n",
              "    }\n",
              "\n",
              "    .colab-df-convert:hover {\n",
              "      background-color: #E2EBFA;\n",
              "      box-shadow: 0px 1px 2px rgba(60, 64, 67, 0.3), 0px 1px 3px 1px rgba(60, 64, 67, 0.15);\n",
              "      fill: #174EA6;\n",
              "    }\n",
              "\n",
              "    [theme=dark] .colab-df-convert {\n",
              "      background-color: #3B4455;\n",
              "      fill: #D2E3FC;\n",
              "    }\n",
              "\n",
              "    [theme=dark] .colab-df-convert:hover {\n",
              "      background-color: #434B5C;\n",
              "      box-shadow: 0px 1px 3px 1px rgba(0, 0, 0, 0.15);\n",
              "      filter: drop-shadow(0px 1px 2px rgba(0, 0, 0, 0.3));\n",
              "      fill: #FFFFFF;\n",
              "    }\n",
              "  </style>\n",
              "\n",
              "      <script>\n",
              "        const buttonEl =\n",
              "          document.querySelector('#df-8e703a29-a277-4ab1-b814-b2d059cb7dc2 button.colab-df-convert');\n",
              "        buttonEl.style.display =\n",
              "          google.colab.kernel.accessAllowed ? 'block' : 'none';\n",
              "\n",
              "        async function convertToInteractive(key) {\n",
              "          const element = document.querySelector('#df-8e703a29-a277-4ab1-b814-b2d059cb7dc2');\n",
              "          const dataTable =\n",
              "            await google.colab.kernel.invokeFunction('convertToInteractive',\n",
              "                                                     [key], {});\n",
              "          if (!dataTable) return;\n",
              "\n",
              "          const docLinkHtml = 'Like what you see? Visit the ' +\n",
              "            '<a target=\"_blank\" href=https://colab.research.google.com/notebooks/data_table.ipynb>data table notebook</a>'\n",
              "            + ' to learn more about interactive tables.';\n",
              "          element.innerHTML = '';\n",
              "          dataTable['output_type'] = 'display_data';\n",
              "          await google.colab.output.renderOutput(dataTable, element);\n",
              "          const docLink = document.createElement('div');\n",
              "          docLink.innerHTML = docLinkHtml;\n",
              "          element.appendChild(docLink);\n",
              "        }\n",
              "      </script>\n",
              "    </div>\n",
              "  </div>\n",
              "  "
            ]
          },
          "metadata": {},
          "execution_count": 10
        }
      ],
      "source": [
        "# Obtenemos un poco más de información del dataframe\n",
        "df.describe()"
      ]
    },
    {
      "cell_type": "code",
      "execution_count": 11,
      "metadata": {
        "colab": {
          "base_uri": "https://localhost:8080/",
          "height": 424
        },
        "id": "3RxaC7zxZ8m3",
        "outputId": "9306988e-6337-4797-df7d-e7581eb6d47c"
      },
      "outputs": [
        {
          "output_type": "execute_result",
          "data": {
            "text/plain": [
              "                                                                                                    review  \\\n",
              "34058  \"Go Fish\" garnered Rose Troche rightly or wrongly the reputation of a film maker with much promi...   \n",
              "47467  \"Go Fish\" garnered Rose Troche rightly or wrongly the reputation of a film maker with much promi...   \n",
              "29956  \"Three\" is a seriously dumb shipwreck movie. Masquerading as a psychological thriller, it's clos...   \n",
              "31488  \"Three\" is a seriously dumb shipwreck movie. Masquerading as a psychological thriller, it's clos...   \n",
              "2976   \"Witchery\" might just be the most incoherent and lamentably scripted horror movie of the 80's bu...   \n",
              "...                                                                                                    ...   \n",
              "47876  this movie sucks. did anyone notice that the entire movie was shot in like 2 rooms. there are NE...   \n",
              "23056  well, the writing was very sloppy, the directing was sloppier, and the editing made it worse (at...   \n",
              "44122  well, the writing was very sloppy, the directing was sloppier, and the editing made it worse (at...   \n",
              "10163  when I first heard about this movie, I noticed it was one of the most controversial films of the...   \n",
              "15305  when I first heard about this movie, I noticed it was one of the most controversial films of the...   \n",
              "\n",
              "      sentiment  \n",
              "34058  negative  \n",
              "47467  negative  \n",
              "29956  negative  \n",
              "31488  negative  \n",
              "2976   negative  \n",
              "...         ...  \n",
              "47876  negative  \n",
              "23056  negative  \n",
              "44122  negative  \n",
              "10163  positive  \n",
              "15305  positive  \n",
              "\n",
              "[824 rows x 2 columns]"
            ],
            "text/html": [
              "\n",
              "  <div id=\"df-bc97add7-d287-44da-a008-9ad6cfdaec95\">\n",
              "    <div class=\"colab-df-container\">\n",
              "      <div>\n",
              "<style scoped>\n",
              "    .dataframe tbody tr th:only-of-type {\n",
              "        vertical-align: middle;\n",
              "    }\n",
              "\n",
              "    .dataframe tbody tr th {\n",
              "        vertical-align: top;\n",
              "    }\n",
              "\n",
              "    .dataframe thead th {\n",
              "        text-align: right;\n",
              "    }\n",
              "</style>\n",
              "<table border=\"1\" class=\"dataframe\">\n",
              "  <thead>\n",
              "    <tr style=\"text-align: right;\">\n",
              "      <th></th>\n",
              "      <th>review</th>\n",
              "      <th>sentiment</th>\n",
              "    </tr>\n",
              "  </thead>\n",
              "  <tbody>\n",
              "    <tr>\n",
              "      <th>34058</th>\n",
              "      <td>\"Go Fish\" garnered Rose Troche rightly or wrongly the reputation of a film maker with much promi...</td>\n",
              "      <td>negative</td>\n",
              "    </tr>\n",
              "    <tr>\n",
              "      <th>47467</th>\n",
              "      <td>\"Go Fish\" garnered Rose Troche rightly or wrongly the reputation of a film maker with much promi...</td>\n",
              "      <td>negative</td>\n",
              "    </tr>\n",
              "    <tr>\n",
              "      <th>29956</th>\n",
              "      <td>\"Three\" is a seriously dumb shipwreck movie. Masquerading as a psychological thriller, it's clos...</td>\n",
              "      <td>negative</td>\n",
              "    </tr>\n",
              "    <tr>\n",
              "      <th>31488</th>\n",
              "      <td>\"Three\" is a seriously dumb shipwreck movie. Masquerading as a psychological thriller, it's clos...</td>\n",
              "      <td>negative</td>\n",
              "    </tr>\n",
              "    <tr>\n",
              "      <th>2976</th>\n",
              "      <td>\"Witchery\" might just be the most incoherent and lamentably scripted horror movie of the 80's bu...</td>\n",
              "      <td>negative</td>\n",
              "    </tr>\n",
              "    <tr>\n",
              "      <th>...</th>\n",
              "      <td>...</td>\n",
              "      <td>...</td>\n",
              "    </tr>\n",
              "    <tr>\n",
              "      <th>47876</th>\n",
              "      <td>this movie sucks. did anyone notice that the entire movie was shot in like 2 rooms. there are NE...</td>\n",
              "      <td>negative</td>\n",
              "    </tr>\n",
              "    <tr>\n",
              "      <th>23056</th>\n",
              "      <td>well, the writing was very sloppy, the directing was sloppier, and the editing made it worse (at...</td>\n",
              "      <td>negative</td>\n",
              "    </tr>\n",
              "    <tr>\n",
              "      <th>44122</th>\n",
              "      <td>well, the writing was very sloppy, the directing was sloppier, and the editing made it worse (at...</td>\n",
              "      <td>negative</td>\n",
              "    </tr>\n",
              "    <tr>\n",
              "      <th>10163</th>\n",
              "      <td>when I first heard about this movie, I noticed it was one of the most controversial films of the...</td>\n",
              "      <td>positive</td>\n",
              "    </tr>\n",
              "    <tr>\n",
              "      <th>15305</th>\n",
              "      <td>when I first heard about this movie, I noticed it was one of the most controversial films of the...</td>\n",
              "      <td>positive</td>\n",
              "    </tr>\n",
              "  </tbody>\n",
              "</table>\n",
              "<p>824 rows × 2 columns</p>\n",
              "</div>\n",
              "      <button class=\"colab-df-convert\" onclick=\"convertToInteractive('df-bc97add7-d287-44da-a008-9ad6cfdaec95')\"\n",
              "              title=\"Convert this dataframe to an interactive table.\"\n",
              "              style=\"display:none;\">\n",
              "        \n",
              "  <svg xmlns=\"http://www.w3.org/2000/svg\" height=\"24px\"viewBox=\"0 0 24 24\"\n",
              "       width=\"24px\">\n",
              "    <path d=\"M0 0h24v24H0V0z\" fill=\"none\"/>\n",
              "    <path d=\"M18.56 5.44l.94 2.06.94-2.06 2.06-.94-2.06-.94-.94-2.06-.94 2.06-2.06.94zm-11 1L8.5 8.5l.94-2.06 2.06-.94-2.06-.94L8.5 2.5l-.94 2.06-2.06.94zm10 10l.94 2.06.94-2.06 2.06-.94-2.06-.94-.94-2.06-.94 2.06-2.06.94z\"/><path d=\"M17.41 7.96l-1.37-1.37c-.4-.4-.92-.59-1.43-.59-.52 0-1.04.2-1.43.59L10.3 9.45l-7.72 7.72c-.78.78-.78 2.05 0 2.83L4 21.41c.39.39.9.59 1.41.59.51 0 1.02-.2 1.41-.59l7.78-7.78 2.81-2.81c.8-.78.8-2.07 0-2.86zM5.41 20L4 18.59l7.72-7.72 1.47 1.35L5.41 20z\"/>\n",
              "  </svg>\n",
              "      </button>\n",
              "      \n",
              "  <style>\n",
              "    .colab-df-container {\n",
              "      display:flex;\n",
              "      flex-wrap:wrap;\n",
              "      gap: 12px;\n",
              "    }\n",
              "\n",
              "    .colab-df-convert {\n",
              "      background-color: #E8F0FE;\n",
              "      border: none;\n",
              "      border-radius: 50%;\n",
              "      cursor: pointer;\n",
              "      display: none;\n",
              "      fill: #1967D2;\n",
              "      height: 32px;\n",
              "      padding: 0 0 0 0;\n",
              "      width: 32px;\n",
              "    }\n",
              "\n",
              "    .colab-df-convert:hover {\n",
              "      background-color: #E2EBFA;\n",
              "      box-shadow: 0px 1px 2px rgba(60, 64, 67, 0.3), 0px 1px 3px 1px rgba(60, 64, 67, 0.15);\n",
              "      fill: #174EA6;\n",
              "    }\n",
              "\n",
              "    [theme=dark] .colab-df-convert {\n",
              "      background-color: #3B4455;\n",
              "      fill: #D2E3FC;\n",
              "    }\n",
              "\n",
              "    [theme=dark] .colab-df-convert:hover {\n",
              "      background-color: #434B5C;\n",
              "      box-shadow: 0px 1px 3px 1px rgba(0, 0, 0, 0.15);\n",
              "      filter: drop-shadow(0px 1px 2px rgba(0, 0, 0, 0.3));\n",
              "      fill: #FFFFFF;\n",
              "    }\n",
              "  </style>\n",
              "\n",
              "      <script>\n",
              "        const buttonEl =\n",
              "          document.querySelector('#df-bc97add7-d287-44da-a008-9ad6cfdaec95 button.colab-df-convert');\n",
              "        buttonEl.style.display =\n",
              "          google.colab.kernel.accessAllowed ? 'block' : 'none';\n",
              "\n",
              "        async function convertToInteractive(key) {\n",
              "          const element = document.querySelector('#df-bc97add7-d287-44da-a008-9ad6cfdaec95');\n",
              "          const dataTable =\n",
              "            await google.colab.kernel.invokeFunction('convertToInteractive',\n",
              "                                                     [key], {});\n",
              "          if (!dataTable) return;\n",
              "\n",
              "          const docLinkHtml = 'Like what you see? Visit the ' +\n",
              "            '<a target=\"_blank\" href=https://colab.research.google.com/notebooks/data_table.ipynb>data table notebook</a>'\n",
              "            + ' to learn more about interactive tables.';\n",
              "          element.innerHTML = '';\n",
              "          dataTable['output_type'] = 'display_data';\n",
              "          await google.colab.output.renderOutput(dataTable, element);\n",
              "          const docLink = document.createElement('div');\n",
              "          docLink.innerHTML = docLinkHtml;\n",
              "          element.appendChild(docLink);\n",
              "        }\n",
              "      </script>\n",
              "    </div>\n",
              "  </div>\n",
              "  "
            ]
          },
          "metadata": {},
          "execution_count": 11
        }
      ],
      "source": [
        "# Confirmamos que existen registros duplicados\n",
        "pd.concat(g for _, g in df.groupby(\"review\") if len(g) > 1)"
      ]
    },
    {
      "cell_type": "code",
      "execution_count": 12,
      "metadata": {
        "colab": {
          "base_uri": "https://localhost:8080/",
          "height": 353
        },
        "id": "nwnoN8RZvyEW",
        "outputId": "45a1ab3e-df12-46e3-cc3c-c18c5bdc5c23"
      },
      "outputs": [
        {
          "output_type": "execute_result",
          "data": {
            "text/plain": [
              "positive    25000\n",
              "negative    25000\n",
              "Name: sentiment, dtype: int64"
            ]
          },
          "metadata": {},
          "execution_count": 12
        },
        {
          "output_type": "display_data",
          "data": {
            "text/plain": [
              "<Figure size 432x288 with 1 Axes>"
            ],
            "image/png": "[encoded data removed]"
          },
          "metadata": {
            "needs_background": "light"
          }
        }
      ],
      "source": [
        "#Inspeccionamos como están distribuidos los valores de las etiquetas\n",
        "df['sentiment'].value_counts().plot(kind='bar')\n",
        "df['sentiment'].value_counts()"
      ]
    },
    {
      "cell_type": "markdown",
      "metadata": {
        "id": "5x34_8GvDf9C"
      },
      "source": [
        "En este punto podemos concluir:\n",
        "\n",
        "\n",
        "* El data set esta compuesto de 50.000 registros\n",
        "* Para cada registro contamos con 2 columnas, la reseña (review) y el sentimiento (sentiment)\n",
        "* El sentimiento contiene solo dos valores (positive y negative)\n",
        "* El dataset esta perfectamente balanceado en cuanto a las etiquetas con 25.000 registros etiquetados como posittivos y 25.000 registros etiquetados como negativos.\n",
        "* Existen registros duplicados por lo que procederemos a hacer un filtrado de los datos\n",
        "\n",
        "PD: La distribución de clases nos ayuda mucho en la clasificación de textos. Imaginemos una situación en la que el 95% de los datos se encuentran en una clase y el 5% restante se divide entre otras 5 clases. Si no hiciéramos nada al respecto, el modelo simplemente aprendería a adivinar la clase del 95% todo el tiempo y estaría en lo correcto el 95% de las veces con los datos que usaríamos.\n",
        "\n",
        "\n"
      ]
    },
    {
      "cell_type": "markdown",
      "metadata": {
        "id": "x4Tovl0ta8K9"
      },
      "source": [
        "## Filtrado de los datos"
      ]
    },
    {
      "cell_type": "code",
      "execution_count": 13,
      "metadata": {
        "id": "rsH7YM2NeOQr"
      },
      "outputs": [],
      "source": [
        "#Procedemos a eliminar los registros duplicados del dataset.\n",
        "df = df.drop_duplicates()"
      ]
    },
    {
      "cell_type": "code",
      "execution_count": 14,
      "metadata": {
        "colab": {
          "base_uri": "https://localhost:8080/"
        },
        "id": "YrbqD2xle_X5",
        "outputId": "b170bf0f-3406-4266-dd95-cf2b2290c7b5"
      },
      "outputs": [
        {
          "output_type": "stream",
          "name": "stdout",
          "text": [
            "\n",
            "DataFrame Shape : (49582, 2)\n",
            "\n",
            "Number of rows : 49582\n",
            "\n",
            "Number of columns : 2\n"
          ]
        }
      ],
      "source": [
        "#Obtenemos las dimensiones del dataframe despues del filtrado de duplicados.\n",
        "shape = df.shape\n",
        "print('\\nDataFrame Shape :', shape)\n",
        "print('\\nNumber of rows :', shape[0])\n",
        "print('\\nNumber of columns :', shape[1])"
      ]
    },
    {
      "cell_type": "markdown",
      "metadata": {
        "id": "HpskDyHJbjZa"
      },
      "source": [
        "## Limpieza de datos"
      ]
    },
    {
      "cell_type": "markdown",
      "metadata": {
        "id": "4CKxXy9Fb1kL"
      },
      "source": [
        "Debido a la naturaleza de los reviews, construiremos una funcion de limpieza que permita:\n",
        "* Remover etiquetas HTML en la reseña.\n",
        "* Eliminar textos entre corchetes.\n",
        "* Eliminar signos de puntuación.\n",
        "\n",
        "De esta forma eliminamos elementos que puedan causar ruido y obtendremos un mejor performance del modelo.\n",
        "\n"
      ]
    },
    {
      "cell_type": "code",
      "execution_count": 15,
      "metadata": {
        "id": "wUGC-o2NgKRI"
      },
      "outputs": [],
      "source": [
        "#Eliminando etiquetas HTML\n",
        "def remove_html_tags(text):\n",
        "    return re.sub('<.*?>', '', text)\n",
        "\n",
        "#Eliminando textos entre corchetes\n",
        "def remove_between_square_brackets(text):\n",
        "    return re.sub('\\[[^]]*\\]', '', text)\n",
        "\n",
        "#Eliminando signos de puntuación\n",
        "def remove_string_punctuation(text):\n",
        "    text = text.translate(text.maketrans('', '', string.punctuation))\n",
        "    return text\n",
        "\n",
        "#Funcion de limpieza\n",
        "def denoise_text(text):\n",
        "    text = remove_html_tags(text)\n",
        "    text = remove_between_square_brackets(text)\n",
        "    text = remove_string_punctuation(text)\n",
        "    return text"
      ]
    },
    {
      "cell_type": "code",
      "execution_count": 16,
      "metadata": {
        "colab": {
          "base_uri": "https://localhost:8080/",
          "height": 143
        },
        "id": "0vD5VGPEb5Me",
        "outputId": "543eed9d-8097-4e56-8f40-bb563480df07"
      },
      "outputs": [
        {
          "output_type": "execute_result",
          "data": {
            "text/plain": [
              "'Petter Mattei\\'s \"Love in the Time of Money\" is a visually stunning film to watch. Mr. Mattei offers us a vivid portrait about human relations. This is a movie that seems to be telling us what money, power and success do to people in the different situations we encounter. <br /><br />This being a variation on the Arthur Schnitzler\\'s play about the same theme, the director transfers the action to the present time New York where all these different characters meet and connect. Each one is connected in one way, or another to the next person, but no one seems to know the previous point of contact. Stylishly, the film has a sophisticated luxurious look. We are taken to see how these people live and the world they live in their own habitat.<br /><br />The only thing one gets out of all these souls in the picture is the different stages of loneliness each one inhabits. A big city is not exactly the best place in which human relations find sincere fulfillment, as one discerns is the case with most of the people we encounter.<br /><br />The acting is good under Mr. Mattei\\'s direction. Steve Buscemi, Rosario Dawson, Carol Kane, Michael Imperioli, Adrian Grenier, and the rest of the talented cast, make these characters come alive.<br /><br />We wish Mr. Mattei good luck and await anxiously for his next work.'"
            ],
            "application/vnd.google.colaboratory.intrinsic+json": {
              "type": "string"
            }
          },
          "metadata": {},
          "execution_count": 16
        }
      ],
      "source": [
        "# Visualizamos un review antes de aplicar la funcion de limpieza\n",
        "df['review'][4]"
      ]
    },
    {
      "cell_type": "code",
      "execution_count": 17,
      "metadata": {
        "id": "VPhbL8LacDUH"
      },
      "outputs": [],
      "source": [
        "#Aplicando la función de limpieza al dataframe\n",
        "df['review']=df['review'].apply(denoise_text)"
      ]
    },
    {
      "cell_type": "code",
      "execution_count": 18,
      "metadata": {
        "colab": {
          "base_uri": "https://localhost:8080/",
          "height": 143
        },
        "id": "yBPAdVh2cCpa",
        "outputId": "d0bafe45-e20b-421d-81ce-b38246a5adbc"
      },
      "outputs": [
        {
          "output_type": "execute_result",
          "data": {
            "text/plain": [
              "'Petter Matteis Love in the Time of Money is a visually stunning film to watch Mr Mattei offers us a vivid portrait about human relations This is a movie that seems to be telling us what money power and success do to people in the different situations we encounter This being a variation on the Arthur Schnitzlers play about the same theme the director transfers the action to the present time New York where all these different characters meet and connect Each one is connected in one way or another to the next person but no one seems to know the previous point of contact Stylishly the film has a sophisticated luxurious look We are taken to see how these people live and the world they live in their own habitatThe only thing one gets out of all these souls in the picture is the different stages of loneliness each one inhabits A big city is not exactly the best place in which human relations find sincere fulfillment as one discerns is the case with most of the people we encounterThe acting is good under Mr Matteis direction Steve Buscemi Rosario Dawson Carol Kane Michael Imperioli Adrian Grenier and the rest of the talented cast make these characters come aliveWe wish Mr Mattei good luck and await anxiously for his next work'"
            ],
            "application/vnd.google.colaboratory.intrinsic+json": {
              "type": "string"
            }
          },
          "metadata": {},
          "execution_count": 18
        }
      ],
      "source": [
        "# Visualizamos un review antes de aplicar la funcion de limpieza\n",
        "df['review'][4]"
      ]
    },
    {
      "cell_type": "markdown",
      "metadata": {
        "id": "FMJJVjExD0Uq"
      },
      "source": [
        "Para comenzar a construir el modelo procederemos a:\n",
        "\n",
        "1.   Dividir los datos en los datasets de entrenamiento y pruebas\n",
        "2.   Codificar las etiquetas\n",
        "3.   Tokenizar el texto"
      ]
    },
    {
      "cell_type": "markdown",
      "metadata": {
        "id": "HCwKlyvtD2wB"
      },
      "source": [
        "## Split Entrenamiento y Pruebas"
      ]
    },
    {
      "cell_type": "markdown",
      "source": [
        "Tomamos el 20% de los datos como datos de prueba"
      ],
      "metadata": {
        "id": "3kY22nlsiFoE"
      }
    },
    {
      "cell_type": "code",
      "execution_count": 19,
      "metadata": {
        "id": "I2bcU8X_Dz9M"
      },
      "outputs": [],
      "source": [
        "x = df.review.values\n",
        "y = df.sentiment.values\n",
        "x_train, x_test, y_train, y_test = train_test_split(x, y, test_size=0.20, random_state=42)"
      ]
    },
    {
      "cell_type": "code",
      "execution_count": 20,
      "metadata": {
        "colab": {
          "base_uri": "https://localhost:8080/"
        },
        "id": "j5CAHJuA4ru3",
        "outputId": "efb00877-870c-4c93-951a-febe46d5126d"
      },
      "outputs": [
        {
          "output_type": "stream",
          "name": "stdout",
          "text": [
            "Valores y cantidad de datos para el conjunto de entrenamiento: \n",
            " [['negative' 19759]\n",
            " ['positive' 19906]] \n",
            "\n",
            "Valores y cantidad de datos para el conjunto de prueba: \n",
            " [['negative' 4939]\n",
            " ['positive' 4978]] \n",
            "\n"
          ]
        }
      ],
      "source": [
        "unique_train, counts_train = np.unique(y_train, return_counts=True)\n",
        "unique_test, counts_test = np.unique(y_test, return_counts=True)\n",
        "\n",
        "result_train = np.column_stack((unique_train, counts_train))\n",
        "result_test = np.column_stack((unique_test, counts_test))\n",
        "\n",
        "print (f'Valores y cantidad de datos para el conjunto de entrenamiento: \\n {result_train} \\n')\n",
        "print (f'Valores y cantidad de datos para el conjunto de prueba: \\n {result_test} \\n')"
      ]
    },
    {
      "cell_type": "markdown",
      "metadata": {
        "id": "R6CgL-y4EI3o"
      },
      "source": [
        "## Label Encoding"
      ]
    },
    {
      "cell_type": "markdown",
      "metadata": {
        "id": "aNDz2KRGEMRS"
      },
      "source": [
        "Se construye un Encoder para las etiquetas pensando que el problema puede adaptarse a un problema que no sea de clasificación binaria."
      ]
    },
    {
      "cell_type": "code",
      "execution_count": 21,
      "metadata": {
        "colab": {
          "base_uri": "https://localhost:8080/"
        },
        "id": "0mmW4jGVDmCH",
        "outputId": "2e2a75d8-38d9-406c-ab45-116433b60a68"
      },
      "outputs": [
        {
          "output_type": "execute_result",
          "data": {
            "text/plain": [
              "array(['negative', 'positive'], dtype=object)"
            ]
          },
          "metadata": {},
          "execution_count": 21
        }
      ],
      "source": [
        "encoder = LabelEncoder()\n",
        "encoder.fit(y)\n",
        "\n",
        "encoder.classes_"
      ]
    },
    {
      "cell_type": "code",
      "source": [
        "encoded_Y_test = encoder.transform(y_test)\n",
        "encoded_Y_train = encoder.transform(y_train)"
      ],
      "metadata": {
        "id": "XdeC58KjkYju"
      },
      "execution_count": 22,
      "outputs": []
    },
    {
      "cell_type": "code",
      "execution_count": 23,
      "metadata": {
        "id": "WSHbXQCei-Fa"
      },
      "outputs": [],
      "source": [
        "encoded_Y_test = encoder.transform(y_test)\n",
        "encoded_Y_train = encoder.transform(y_train)\n",
        "\n",
        "# Se convierte el vector de clases (enteros 0 ó 1) a una matriz de clase binaria.\n",
        "dummy_y_test = np_utils.to_categorical(encoded_Y_test)\n",
        "dummy_y_train = np_utils.to_categorical(encoded_Y_train)"
      ]
    },
    {
      "cell_type": "markdown",
      "metadata": {
        "id": "doKxHdH6EXNZ"
      },
      "source": [
        "Se almacena el mapeo del encoding."
      ]
    },
    {
      "cell_type": "code",
      "execution_count": 24,
      "metadata": {
        "id": "cwQNtv17EdUz"
      },
      "outputs": [],
      "source": [
        "encoder_fname = 'imdb_encoder_classes.npy'\n",
        "my_wd = '/content/gdrive/MyDrive/VIU-MIAR/09MIAR-TFM/BERT-sentiment-analysis/assets/'\n",
        "np.save(os.path.join(my_wd, encoder_fname) , encoder.classes_)"
      ]
    },
    {
      "cell_type": "markdown",
      "metadata": {
        "id": "ct1-P5r1FGQO"
      },
      "source": [
        "Código para cargar el encoder."
      ]
    },
    {
      "cell_type": "code",
      "execution_count": 25,
      "metadata": {
        "id": "HEopM33sE_Et"
      },
      "outputs": [],
      "source": [
        "# encoder = LabelEncoder()\n",
        "# encoder.classes_ = np.load(os.path.join(my_wd, encoder_fname), allow_pickle=True)"
      ]
    },
    {
      "cell_type": "markdown",
      "metadata": {
        "id": "Rq5GSy35Gibn"
      },
      "source": [
        "## Tokenization"
      ]
    },
    {
      "cell_type": "markdown",
      "metadata": {
        "id": "F5f_ey3VGknK"
      },
      "source": [
        "\n",
        "Para tokenizar el texto, se usan algunas funciones del paquete \"official.nlp.bert\" y el propio modelo BERT preentrenado."
      ]
    },
    {
      "cell_type": "code",
      "execution_count": 26,
      "metadata": {
        "id": "atMa7VWVFQwV"
      },
      "outputs": [],
      "source": [
        "# Primero se obtiene el modelo BERT\n",
        "bert_layer = hub.KerasLayer(\"https://tfhub.dev/tensorflow/bert_multi_cased_L-12_H-768_A-12/2\",\n",
        "                            trainable=True)"
      ]
    },
    {
      "cell_type": "code",
      "execution_count": 27,
      "metadata": {
        "id": "VoD6yod_FRyN"
      },
      "outputs": [],
      "source": [
        "vocab_file = bert_layer.resolved_object.vocab_file.asset_path.numpy()\n",
        "do_lower_case = bert_layer.resolved_object.do_lower_case.numpy()\n",
        "tokenizer = tokenization.FullTokenizer(vocab_file, do_lower_case)"
      ]
    },
    {
      "cell_type": "markdown",
      "metadata": {
        "id": "hh9FX32qHeKI"
      },
      "source": [
        "Del modelo BERT preentrenado se obtienen algunas variables: \n",
        "\n",
        "1.   ```vocab_file``` es el conjunto de palabras sobre el que el modelo fue entrenado.\n",
        "2.   ```do_lower_case``` variable booleana. Si es ```True``` significa que el tokenizador reformateará todo el texto en minúsculas para que **NO** distinga entre mayúsculas y minúsculas. Por defecto es ```False```.\n"
      ]
    },
    {
      "cell_type": "code",
      "source": [
        "#Primeras 5 líneas del vocab_file\n",
        "f = open(vocab_file, 'r')\n",
        "for i in range(5):\n",
        "  word = f.readline()\n",
        "  print(word)"
      ],
      "metadata": {
        "colab": {
          "base_uri": "https://localhost:8080/"
        },
        "id": "MZ7sjxIEqAX5",
        "outputId": "aa0456c1-08f6-4ebf-ad83-c2d34466dfd4"
      },
      "execution_count": 28,
      "outputs": [
        {
          "output_type": "stream",
          "name": "stdout",
          "text": [
            "[PAD]\n",
            "\n",
            "[unused1]\n",
            "\n",
            "[unused2]\n",
            "\n",
            "[unused3]\n",
            "\n",
            "[unused4]\n",
            "\n"
          ]
        }
      ]
    },
    {
      "cell_type": "code",
      "execution_count": 29,
      "metadata": {
        "colab": {
          "base_uri": "https://localhost:8080/"
        },
        "id": "d0JoikgjFTmk",
        "outputId": "1e610a38-840c-4190-f7d6-c6ad1137a77d"
      },
      "outputs": [
        {
          "output_type": "execute_result",
          "data": {
            "text/plain": [
              "False"
            ]
          },
          "metadata": {},
          "execution_count": 29
        }
      ],
      "source": [
        "# Minúscula? Uncased?\n",
        "do_lower_case"
      ]
    },
    {
      "cell_type": "markdown",
      "source": [
        "Con las variables recogidas se instancia el Tokenizador"
      ],
      "metadata": {
        "id": "CwR1WL2bqrM8"
      }
    },
    {
      "cell_type": "code",
      "source": [
        "tokenizer = tokenization.FullTokenizer(vocab_file, do_lower_case)"
      ],
      "metadata": {
        "id": "6uMgId8ZqlHH"
      },
      "execution_count": 30,
      "outputs": []
    },
    {
      "cell_type": "code",
      "execution_count": 31,
      "metadata": {
        "colab": {
          "base_uri": "https://localhost:8080/"
        },
        "id": "wG-uTj1u9UXe",
        "outputId": "0d6e2d4c-833f-4931-b660-4f6b3f4bdfa0"
      },
      "outputs": [
        {
          "output_type": "execute_result",
          "data": {
            "text/plain": [
              "['Hello', 'how', 'are', 'your', 'print', '##er', '?']"
            ]
          },
          "metadata": {},
          "execution_count": 31
        }
      ],
      "source": [
        "tokenizer.tokenize('Hello how are your printer?')"
      ]
    },
    {
      "cell_type": "markdown",
      "metadata": {
        "id": "C3lCeedHKkkB"
      },
      "source": [
        "Ids de los tokens de Clasificación y Separación"
      ]
    },
    {
      "cell_type": "code",
      "execution_count": 32,
      "metadata": {
        "colab": {
          "base_uri": "https://localhost:8080/"
        },
        "id": "q1Y7q4QTKuTD",
        "outputId": "d21734e2-7616-404b-a413-a8b10ce28849"
      },
      "outputs": [
        {
          "output_type": "execute_result",
          "data": {
            "text/plain": [
              "[101, 102]"
            ]
          },
          "metadata": {},
          "execution_count": 32
        }
      ],
      "source": [
        "tokenizer.convert_tokens_to_ids(['[CLS]', '[SEP]'])"
      ]
    },
    {
      "cell_type": "markdown",
      "metadata": {
        "id": "Xazos3SQKa8w"
      },
      "source": [
        "Kewl, by this point we have everything for tokenization. This will take a bit as we have quite a bit of data."
      ]
    },
    {
      "cell_type": "code",
      "execution_count": 33,
      "metadata": {
        "id": "-DIT-v6bIFrw"
      },
      "outputs": [],
      "source": [
        "#Tokeniza y devuelve ids\n",
        "def encode_reviews(r):\n",
        "   tokens = list(tokenizer.tokenize(r))\n",
        "   tokens.append('[SEP]')  # seperation token. Would bemuch more useful if you had a multiple text input.\n",
        "   return tokenizer.convert_tokens_to_ids(tokens)\n",
        "\n",
        "reviews = tf.ragged.constant([encode_reviews(r) for r in x_train])"
      ]
    },
    {
      "cell_type": "code",
      "execution_count": 34,
      "metadata": {
        "colab": {
          "base_uri": "https://localhost:8080/"
        },
        "id": "jfcVehzDK_--",
        "outputId": "8545a6d6-ce2f-4e23-cc3c-5600ea0bce47"
      },
      "outputs": [
        {
          "output_type": "stream",
          "name": "stdout",
          "text": [
            "Forma de los reviews tokenizados [39665, None]\n"
          ]
        }
      ],
      "source": [
        "print('Forma de los reviews tokenizados', reviews.shape.as_list())"
      ]
    },
    {
      "cell_type": "code",
      "execution_count": 35,
      "metadata": {
        "id": "Ja4nDtfbx5AH"
      },
      "outputs": [],
      "source": [
        "lens = [len(i) for i in x_train]"
      ]
    },
    {
      "cell_type": "code",
      "execution_count": 36,
      "metadata": {
        "colab": {
          "base_uri": "https://localhost:8080/"
        },
        "id": "MGVJaK5CyFRy",
        "outputId": "bd138d92-651b-4d94-9321-93672b22577c"
      },
      "outputs": [
        {
          "output_type": "stream",
          "name": "stdout",
          "text": [
            "La longitud máxima es: 12219\n"
          ]
        }
      ],
      "source": [
        "max_seq_length = max(lens)\n",
        "print('La longitud máxima es:', max_seq_length)"
      ]
    },
    {
      "cell_type": "markdown",
      "metadata": {
        "id": "T5_IdTYjL_bT"
      },
      "source": [
        "Proceso de tokenización. Texto a TokensIDs"
      ]
    },
    {
      "cell_type": "code",
      "execution_count": 37,
      "metadata": {
        "colab": {
          "base_uri": "https://localhost:8080/",
          "height": 89
        },
        "id": "hqmw3xEKMtDn",
        "outputId": "c6d9026b-8e11-40cd-897f-0d663b8c790f"
      },
      "outputs": [
        {
          "output_type": "execute_result",
          "data": {
            "text/plain": [
              "'I really liked the movie The Emporers New Groove but watching this was like coming home and seeing your wife having relations with a llama Seriously this movie was bad Its like Club Dread after Super Troopers I am supposed to write 10 lines but I dont even know what else to say I laughed a couple of times but only because I was drinking A movie like that should at least be funny when your drunk It was not Maybe llamas are just funny and regular cartoon people arent Either way just stick with The Emporers New Groove if you want a funny cartoon llamathemed movie Line 10 is this line right here'"
            ],
            "application/vnd.google.colaboratory.intrinsic+json": {
              "type": "string"
            }
          },
          "metadata": {},
          "execution_count": 37
        }
      ],
      "source": [
        "x_train[0]"
      ]
    },
    {
      "cell_type": "code",
      "execution_count": 38,
      "metadata": {
        "colab": {
          "base_uri": "https://localhost:8080/"
        },
        "id": "aQ9_HEAiLXUI",
        "outputId": "30411433-6164-4282-885f-657aca3998bd"
      },
      "outputs": [
        {
          "output_type": "stream",
          "name": "stdout",
          "text": [
            "I [146]\n",
            "really [30181]\n",
            "like [11850]\n",
            "##d [10162]\n",
            "the [10105]\n",
            "movie [18379]\n",
            "The [10117]\n",
            "Em [11289]\n",
            "##pore [62758]\n",
            "##rs [10943]\n",
            "New [10287]\n",
            "Groove [76502]\n",
            "but [10473]\n",
            "watching [84532]\n",
            "this [10531]\n",
            "was [10134]\n",
            "like [11850]\n",
            "coming [23959]\n",
            "home [11816]\n",
            "and [10111]\n",
            "seeing [57039]\n",
            "your [20442]\n",
            "wife [14384]\n",
            "having [13677]\n",
            "relations [19824]\n",
            "with [10169]\n",
            "a [169]\n",
            "llama [47281]\n",
            "Seri [48939]\n",
            "##ously [47173]\n",
            "this [10531]\n",
            "movie [18379]\n",
            "was [10134]\n",
            "bad [15838]\n",
            "Its [14864]\n",
            "like [11850]\n",
            "Club [11316]\n",
            "Dre [72531]\n",
            "##ad [11488]\n",
            "after [10662]\n",
            "Super [12786]\n",
            "T [157]\n",
            "##ro [10567]\n",
            "##oper [56361]\n",
            "##s [10107]\n",
            "I [146]\n",
            "am [10392]\n",
            "supposed [59516]\n",
            "to [10114]\n",
            "write [28685]\n",
            "10 [10150]\n",
            "lines [19515]\n",
            "but [10473]\n",
            "I [146]\n",
            "dont [11758]\n",
            "even [13246]\n",
            "know [21852]\n",
            "what [12976]\n",
            "else [40843]\n",
            "to [10114]\n",
            "say [23763]\n",
            "I [146]\n",
            "lau [27207]\n",
            "##ghed [75395]\n",
            "a [169]\n",
            "couple [20969]\n",
            "of [10108]\n",
            "times [13465]\n",
            "but [10473]\n",
            "only [10893]\n",
            "because [12373]\n",
            "I [146]\n",
            "was [10134]\n",
            "drinking [68351]\n",
            "A [138]\n",
            "movie [18379]\n",
            "like [11850]\n",
            "that [10189]\n",
            "should [14819]\n",
            "at [10160]\n",
            "least [16298]\n",
            "be [10347]\n",
            "fun [41807]\n",
            "##ny [10756]\n",
            "when [10841]\n",
            "your [20442]\n",
            "dr [17094]\n",
            "##unk [33551]\n",
            "It [10377]\n",
            "was [10134]\n",
            "not [10472]\n",
            "Maybe [107561]\n",
            "llama [47281]\n",
            "##s [10107]\n",
            "are [10301]\n",
            "just [12820]\n",
            "fun [41807]\n",
            "##ny [10756]\n",
            "and [10111]\n",
            "regular [15670]\n",
            "cartoon [97727]\n",
            "people [11426]\n",
            "aren [99045]\n",
            "##t [10123]\n",
            "Eit [101262]\n",
            "##her [14206]\n",
            "way [13170]\n",
            "just [12820]\n",
            "stick [84081]\n",
            "with [10169]\n",
            "The [10117]\n",
            "Em [11289]\n",
            "##pore [62758]\n",
            "##rs [10943]\n",
            "New [10287]\n",
            "Groove [76502]\n",
            "if [12277]\n",
            "you [13028]\n",
            "want [21528]\n",
            "a [169]\n",
            "fun [41807]\n",
            "##ny [10756]\n",
            "cartoon [97727]\n",
            "llama [47281]\n",
            "##the [26900]\n",
            "##med [21986]\n",
            "movie [18379]\n",
            "Line [14357]\n",
            "10 [10150]\n",
            "is [10124]\n",
            "this [10531]\n",
            "line [12117]\n",
            "right [13448]\n",
            "here [19353]\n"
          ]
        }
      ],
      "source": [
        "tokenizedReview = tokenizer.tokenize(x_train[0])\n",
        "for i in tokenizedReview:\n",
        "  print(i, tokenizer.convert_tokens_to_ids([i]))"
      ]
    },
    {
      "cell_type": "markdown",
      "metadata": {
        "id": "-M-VCb0INUdm"
      },
      "source": [
        "Se añade token [CLS] al inicio de cada frase"
      ]
    },
    {
      "cell_type": "code",
      "execution_count": 39,
      "metadata": {
        "colab": {
          "base_uri": "https://localhost:8080/",
          "height": 269
        },
        "id": "XOenrketMSKq",
        "outputId": "cd59eb1b-1d7e-4982-ca3e-d4ec6e5db64e"
      },
      "outputs": [
        {
          "output_type": "display_data",
          "data": {
            "text/plain": [
              "<Figure size 432x288 with 1 Axes>"
            ],
            "image/png": "[encoded data removed]"
          },
          "metadata": {
            "needs_background": "light"
          }
        }
      ],
      "source": [
        "cls = [tokenizer.convert_tokens_to_ids(['[CLS]'])]*reviews.shape[0]\n",
        "input_word_ids = tf.concat([cls, reviews], axis=-1)\n",
        "_ = plt.pcolormesh(input_word_ids[0:10].to_tensor())"
      ]
    },
    {
      "cell_type": "markdown",
      "metadata": {
        "id": "OlHOhhbsOYDp"
      },
      "source": [
        "Lo que se observa arriba es una representación gráfica de las reseñas tokenizadas. El primer token es el token de clasificación. Los bloques de otros colores además del fondo son otros tokens."
      ]
    },
    {
      "cell_type": "markdown",
      "metadata": {
        "id": "7dKZpLlvQznW"
      },
      "source": [
        "## Mask_ids and input_type\n",
        "\n",
        "El modelo espera dos tipos de entradas adicionales:\n",
        "\n",
        "* masks_ids\n",
        "* input_type\n",
        "\n",
        "La máscara permite al modelo identificar de una forma sencilla entre el contenido y laparte que es relleno o padding. Tiene la misma forma que el `input_word_ids`, y contiene un `1` en aquellas posiciones donde `input_word_ids` no tiene un padding."
      ]
    },
    {
      "cell_type": "code",
      "execution_count": 40,
      "metadata": {
        "id": "DElTR00ENbYf"
      },
      "outputs": [],
      "source": [
        "# Se truncan todas las entradas a un máximo de 512 tokens de longitud.\n",
        "\n",
        "input_word_ids = input_word_ids[:,0:512]"
      ]
    },
    {
      "cell_type": "code",
      "execution_count": 41,
      "metadata": {
        "colab": {
          "base_uri": "https://localhost:8080/",
          "height": 269
        },
        "id": "zdbKZ02dv-Qu",
        "outputId": "ee07767f-62f4-4cb4-982c-f9f12a401cee"
      },
      "outputs": [
        {
          "output_type": "display_data",
          "data": {
            "text/plain": [
              "<Figure size 432x288 with 1 Axes>"
            ],
            "image/png": "[encoded data removed]"
          },
          "metadata": {
            "needs_background": "light"
          }
        }
      ],
      "source": [
        "_ = plt.pcolormesh(input_word_ids[0:10].to_tensor())"
      ]
    },
    {
      "cell_type": "code",
      "execution_count": 42,
      "metadata": {
        "colab": {
          "base_uri": "https://localhost:8080/",
          "height": 283
        },
        "id": "PNCmIxTbQ3L-",
        "outputId": "efab7664-c6c6-4652-97dc-8b641e8d8a31"
      },
      "outputs": [
        {
          "output_type": "execute_result",
          "data": {
            "text/plain": [
              "<matplotlib.collections.QuadMesh at 0x7fdfba5b2f90>"
            ]
          },
          "metadata": {},
          "execution_count": 42
        },
        {
          "output_type": "display_data",
          "data": {
            "text/plain": [
              "<Figure size 432x288 with 1 Axes>"
            ],
            "image/png": "[encoded data removed]"
          },
          "metadata": {
            "needs_background": "light"
          }
        }
      ],
      "source": [
        "input_mask = tf.ones_like(input_word_ids).to_tensor()\n",
        "plt.pcolormesh(input_mask)"
      ]
    },
    {
      "cell_type": "markdown",
      "metadata": {
        "id": "ZLZsqTeHQ896"
      },
      "source": [
        "Cada bloque amarillo tiene alguna entrada. Se hace esto para que el modelo difiera entre el relleno y la entrada."
      ]
    },
    {
      "cell_type": "code",
      "execution_count": 43,
      "metadata": {
        "id": "gCv37DCew2F7"
      },
      "outputs": [],
      "source": [
        "reviews = reviews[:,0:511]"
      ]
    },
    {
      "cell_type": "code",
      "execution_count": 44,
      "metadata": {
        "colab": {
          "base_uri": "https://localhost:8080/",
          "height": 283
        },
        "id": "4-eSiqx-Q6t7",
        "outputId": "aa4974eb-bb31-48ce-f592-50e50c9e9c6b"
      },
      "outputs": [
        {
          "output_type": "execute_result",
          "data": {
            "text/plain": [
              "<matplotlib.collections.QuadMesh at 0x7fdfba1a1250>"
            ]
          },
          "metadata": {},
          "execution_count": 44
        },
        {
          "output_type": "display_data",
          "data": {
            "text/plain": [
              "<Figure size 432x288 with 1 Axes>"
            ],
            "image/png": "[encoded data removed]"
          },
          "metadata": {
            "needs_background": "light"
          }
        }
      ],
      "source": [
        "type_cls = tf.zeros_like(cls)\n",
        "type_review = tf.ones_like(reviews)\n",
        "input_type_ids = tf.concat([type_cls, type_review], axis=-1).to_tensor()\n",
        "\n",
        "plt.pcolormesh(input_type_ids)"
      ]
    },
    {
      "cell_type": "markdown",
      "metadata": {
        "id": "eq4nvwwcSYKe"
      },
      "source": [
        "Se agrega un bloque vacío delante de cada tweet para el token `[CLS]`. Esto se puede observar en el tensor abajo"
      ]
    },
    {
      "cell_type": "code",
      "execution_count": 45,
      "metadata": {
        "colab": {
          "base_uri": "https://localhost:8080/"
        },
        "id": "wPy0lCwtRs1f",
        "outputId": "bf525b66-0e4a-47fc-bd7e-db6058f9bd76"
      },
      "outputs": [
        {
          "output_type": "execute_result",
          "data": {
            "text/plain": [
              "<tf.Tensor: shape=(39665, 512), dtype=int32, numpy=\n",
              "array([[0, 1, 1, ..., 0, 0, 0],\n",
              "       [0, 1, 1, ..., 0, 0, 0],\n",
              "       [0, 1, 1, ..., 1, 1, 1],\n",
              "       ...,\n",
              "       [0, 1, 1, ..., 1, 1, 1],\n",
              "       [0, 1, 1, ..., 0, 0, 0],\n",
              "       [0, 1, 1, ..., 0, 0, 0]], dtype=int32)>"
            ]
          },
          "metadata": {},
          "execution_count": 45
        }
      ],
      "source": [
        "input_type_ids"
      ]
    },
    {
      "cell_type": "markdown",
      "metadata": {
        "id": "EkRhOGvoSrTi"
      },
      "source": [
        "## Función construcción entrada"
      ]
    },
    {
      "cell_type": "markdown",
      "metadata": {
        "id": "8iJXVNBRSwWz"
      },
      "source": [
        "En este punto se cuenta con las 3 entradas requeridas:\n",
        "\n",
        "1.   Tokens\n",
        "2.   Input mask\n",
        "3.   Input type\n",
        "\n",
        "Se construye todo en funciones para hacer el desarrollo más fácil. Podemos hacer la construcción de la entrada de forma manual como propone el código original o podemos usar la función `tokenizer.encode_plus()` de la libreria transformers de HugginFace que realiza el trabajo de forma automatizada."
      ]
    },
    {
      "cell_type": "code",
      "execution_count": 46,
      "metadata": {
        "colab": {
          "base_uri": "https://localhost:8080/"
        },
        "id": "1-MsePX3Zq0E",
        "outputId": "9dce2c03-c043-43bc-8d38-3b3acbb8e46e"
      },
      "outputs": [
        {
          "output_type": "stream",
          "name": "stdout",
          "text": [
            "Max length is: 512\n"
          ]
        }
      ],
      "source": [
        "#Definimos la secuencia máxima a la longitud por la que truncamos las entradas max_seq_length.\n",
        "max_seq_length = 512\n",
        "print('Max length is:', max_seq_length)"
      ]
    },
    {
      "cell_type": "code",
      "execution_count": 47,
      "metadata": {
        "colab": {
          "base_uri": "https://localhost:8080/"
        },
        "id": "q0_oYtYt6ezm",
        "outputId": "7239dc50-d144-42ff-f569-40a4d789c2b7"
      },
      "outputs": [
        {
          "output_type": "stream",
          "name": "stdout",
          "text": [
            "\u001b[K     |████████████████████████████████| 4.0 MB 8.2 MB/s \n",
            "\u001b[K     |████████████████████████████████| 880 kB 64.8 MB/s \n",
            "\u001b[K     |████████████████████████████████| 77 kB 7.2 MB/s \n",
            "\u001b[K     |████████████████████████████████| 6.6 MB 71.7 MB/s \n",
            "\u001b[?25h  Building wheel for sacremoses (setup.py) ... \u001b[?25l\u001b[?25hdone\n"
          ]
        }
      ],
      "source": [
        "# Importamos Transformer\n",
        "!pip install -q transformers"
      ]
    },
    {
      "cell_type": "code",
      "execution_count": 48,
      "metadata": {
        "colab": {
          "base_uri": "https://localhost:8080/",
          "height": 113,
          "referenced_widgets": [
            "239a6db2d33b42b3b1b000fe49297b34",
            "da9a1f2e79124ef4b3871883cb91aae4",
            "b028cdd957284855b4a9860f238830d8",
            "c318679927724b919e5fc2451ad9658d",
            "b715210778ee484ba903422cc19afc56",
            "72173b3e20a24be49d576f7e2e9a96be",
            "cd559011119144dda0a27b4088a70294",
            "3712b6f2e57841aeb04f1da96d22bfb4",
            "10e91ca40b7e4744a3bf1a2f8b6ec6f8",
            "e5b6727659bd4409a94cf3f48f051b2c",
            "871d06fe6d5e4116a6379cd1b7060f58",
            "8ecc09c964e048fabc056ca505249993",
            "05e59865ddb8493783cb3645ef14d191",
            "1081ca99fe684d88aea8be10267c917e",
            "3f931409ffaa4e0291a88150c95e5e68",
            "35a122ad9b5146a5875ea6a10e383cdc",
            "48bf24c2a83747f8b5127ae7a57d9551",
            "c5a73117e2a049ba902e28fe620e135b",
            "909431b40174433283ba7acfd6678c6f",
            "bbedc4b00e664c029a8e8a4d41adba22",
            "c0f8a65395ba4af498141c06ad303759",
            "03329d574a144bdca6696c9e1c695219",
            "734a9cc7a71b4d51a38ab7f4562a2c98",
            "aeb71962b9b6413db3a5cbb5f1adb33c",
            "27963b7cee784e008b2ec16911abb1b5",
            "a108a3c6cb2144a595d2dc9ed6aa6437",
            "fdcd04c77b1d4bb19dc92da6bdd4a53b",
            "b8aae8ff08c44215a555147e4d403a47",
            "399266799d714ef4a47a02876faff403",
            "54d2346a58f948bc8fcbd4f158505289",
            "288a05961c404081a501fc4b0d6b6716",
            "bf06974b097f4a17a9156b719994eba7",
            "b72bdf4cd1f4400c8309a8d36167b9a1"
          ]
        },
        "id": "h6Dojw8i6B4A",
        "outputId": "4e16d76e-d161-411c-eab8-4b0dab0ca8fc"
      },
      "outputs": [
        {
          "output_type": "display_data",
          "data": {
            "text/plain": [
              "Downloading:   0%|          | 0.00/208k [00:00<?, ?B/s]"
            ],
            "application/vnd.jupyter.widget-view+json": {
              "version_major": 2,
              "version_minor": 0,
              "model_id": "239a6db2d33b42b3b1b000fe49297b34"
            }
          },
          "metadata": {}
        },
        {
          "output_type": "display_data",
          "data": {
            "text/plain": [
              "Downloading:   0%|          | 0.00/29.0 [00:00<?, ?B/s]"
            ],
            "application/vnd.jupyter.widget-view+json": {
              "version_major": 2,
              "version_minor": 0,
              "model_id": "8ecc09c964e048fabc056ca505249993"
            }
          },
          "metadata": {}
        },
        {
          "output_type": "display_data",
          "data": {
            "text/plain": [
              "Downloading:   0%|          | 0.00/570 [00:00<?, ?B/s]"
            ],
            "application/vnd.jupyter.widget-view+json": {
              "version_major": 2,
              "version_minor": 0,
              "model_id": "734a9cc7a71b4d51a38ab7f4562a2c98"
            }
          },
          "metadata": {}
        }
      ],
      "source": [
        "#Se instancia el tokenizador\n",
        "from transformers import BertTokenizer\n",
        "\n",
        "bertTokenizer = BertTokenizer.from_pretrained('bert-base-cased', do_lower_case=True)"
      ]
    },
    {
      "cell_type": "code",
      "execution_count": 49,
      "metadata": {
        "id": "VOei-h00z4ck"
      },
      "outputs": [],
      "source": [
        "# Función.\n",
        "def bert_encode(sentences, tokenizer, max_seq_length):\n",
        "\n",
        "    input_ids = []\n",
        "    attention_masks = []\n",
        "    token_type_ids = []\n",
        "\n",
        "    # For every sentence...\n",
        "    for sent in sentences:\n",
        "        # `encode_plus` will:\n",
        "        #   (1) Tokenize the sentence.\n",
        "        #   (2) Prepend the `[CLS]` token to the start.\n",
        "        #   (3) Append the `[SEP]` token to the end.\n",
        "        #   (4) Map tokens to their IDs.\n",
        "        #   (5) Pad or truncate the sentence to `max_length`\n",
        "        #   (6) Create attention masks for [PAD] tokens.\n",
        "        encoded_dict = tokenizer.encode_plus(\n",
        "                        sent,                      # Sentence to encode.\n",
        "                        add_special_tokens = True, # Add '[CLS]' and '[SEP]'\n",
        "                        max_length = max_seq_length,           # Pad & truncate all sentences.\n",
        "                        truncation = True,\n",
        "                        padding = 'max_length',\n",
        "                        return_attention_mask = True,   # Construct attn. masks.\n",
        "                        return_token_type_ids = True,   # Construct attn. masks.\n",
        "                        return_tensors = 'tf',     # Return tensorflow tensors.\n",
        "                   )\n",
        "    \n",
        "        # Add the encoded sentence to the list.    \n",
        "        input_ids.append(encoded_dict['input_ids'])\n",
        "    \n",
        "        # And its attention mask (simply differentiates padding from non-padding).\n",
        "        attention_masks.append(encoded_dict['attention_mask'])\n",
        "\n",
        "        # And its token_type_ids\n",
        "        token_type_ids.append(encoded_dict['token_type_ids'])\n",
        "\n",
        "    # Convert the lists into tensors.\n",
        "    # input_ids = torch.cat(input_ids, dim=0)\n",
        "    # attention_masks = torch.cat(attention_masks, dim=0)\n",
        "    # labels = torch.tensor(labels)\n",
        "    \n",
        "    inputs = {\n",
        "      'input_word_ids': tf.squeeze(tf.convert_to_tensor(input_ids)),\n",
        "      'input_mask': tf.squeeze(tf.convert_to_tensor(attention_masks)),\n",
        "      'input_type_ids': tf.squeeze(tf.convert_to_tensor(token_type_ids)) }\n",
        "\n",
        "    return inputs"
      ]
    },
    {
      "cell_type": "code",
      "execution_count": 50,
      "metadata": {
        "colab": {
          "base_uri": "https://localhost:8080/"
        },
        "id": "dys_X9krzix9",
        "outputId": "294f3ef5-8343-4484-99a7-5c37a1b5e63c"
      },
      "outputs": [
        {
          "output_type": "stream",
          "name": "stdout",
          "text": [
            "{'input_word_ids': <tf.Tensor: shape=(2, 512), dtype=int32, numpy=\n",
            "array([[  101, 12890,  1161, ...,     0,     0,     0],\n",
            "       [  101,   184,  4487, ...,     0,     0,     0]], dtype=int32)>, 'input_mask': <tf.Tensor: shape=(2, 512), dtype=int32, numpy=\n",
            "array([[1, 1, 1, ..., 0, 0, 0],\n",
            "       [1, 1, 1, ..., 0, 0, 0]], dtype=int32)>, 'input_type_ids': <tf.Tensor: shape=(2, 512), dtype=int32, numpy=\n",
            "array([[0, 0, 0, ..., 0, 0, 0],\n",
            "       [0, 0, 0, ..., 0, 0, 0]], dtype=int32)>}\n"
          ]
        }
      ],
      "source": [
        "word_test = bert_encode(['Esta es una frase', 'Otra frase'], bertTokenizer, max_seq_length)\n",
        "print(word_test)"
      ]
    },
    {
      "cell_type": "code",
      "execution_count": 51,
      "metadata": {
        "id": "3X6EQXxVUi4s"
      },
      "outputs": [],
      "source": [
        "# Con la función construida se procesan las entradas. Entrenamiento y Pruebas\n",
        "\n",
        "X_train = bert_encode(x_train, bertTokenizer, max_seq_length)\n",
        "X_test = bert_encode(x_test, bertTokenizer, max_seq_length)"
      ]
    },
    {
      "cell_type": "markdown",
      "metadata": {
        "id": "nJ6PVsxmVbRO"
      },
      "source": [
        "# Modelado y Fine Tunning"
      ]
    },
    {
      "cell_type": "markdown",
      "metadata": {
        "id": "4QVhnrzH9ygq"
      },
      "source": [
        "## Entrenamiento Inicial"
      ]
    },
    {
      "cell_type": "markdown",
      "metadata": {
        "id": "kXvVljK3VjKt"
      },
      "source": [
        "Necesitamos configurar nuestro modelo usando las entradas que hicimos, el modelo BERT que descargamos y una capa de salida basada en la cantidad de clases que estamos usando."
      ]
    },
    {
      "cell_type": "code",
      "execution_count": 52,
      "metadata": {
        "id": "TENzkxMeThTv"
      },
      "outputs": [],
      "source": [
        "num_class = len(encoder.classes_)  # Based on available class selection\n",
        "max_seq_length = max_seq_length  # we calculated this a couple cells ago\n",
        "\n",
        "input_word_ids = tf.keras.layers.Input(shape=(max_seq_length,), dtype=tf.int32,\n",
        "                                       name=\"input_word_ids\")\n",
        "input_mask = tf.keras.layers.Input(shape=(max_seq_length,), dtype=tf.int32,\n",
        "                                   name=\"input_mask\")\n",
        "segment_ids = tf.keras.layers.Input(shape=(max_seq_length,), dtype=tf.int32,\n",
        "                                    name=\"segment_ids\")\n",
        "\n",
        "pooled_output, sequence_output = bert_layer([input_word_ids, input_mask, segment_ids])                                  \n",
        "\n",
        "output = tf.keras.layers.Dropout(rate=0.1)(pooled_output)\n",
        "\n",
        "output = tf.keras.layers.Dense(num_class, activation='softmax', name='output')(output)\n",
        "\n",
        "model = tf.keras.Model(\n",
        "    inputs={\n",
        "        'input_word_ids': input_word_ids,\n",
        "        'input_mask': input_mask,\n",
        "        'input_type_ids': segment_ids\n",
        "        },\n",
        "        outputs=output)"
      ]
    },
    {
      "cell_type": "code",
      "execution_count": 53,
      "metadata": {
        "colab": {
          "base_uri": "https://localhost:8080/"
        },
        "id": "5weFOU4aqcrH",
        "outputId": "fc4a00c8-4479-483e-c3e5-a4408925f97d"
      },
      "outputs": [
        {
          "output_type": "execute_result",
          "data": {
            "text/plain": [
              "[<KerasTensor: shape=(None, 512) dtype=int32 (created by layer 'input_word_ids')>,\n",
              " <KerasTensor: shape=(None, 512) dtype=int32 (created by layer 'input_mask')>,\n",
              " <KerasTensor: shape=(None, 512) dtype=int32 (created by layer 'segment_ids')>]"
            ]
          },
          "metadata": {},
          "execution_count": 53
        }
      ],
      "source": [
        "[input_word_ids, input_mask, segment_ids]"
      ]
    },
    {
      "cell_type": "markdown",
      "metadata": {
        "id": "A4CLYDQYUZMP"
      },
      "source": [
        "El modelo."
      ]
    },
    {
      "cell_type": "code",
      "execution_count": 54,
      "metadata": {
        "colab": {
          "base_uri": "https://localhost:8080/",
          "height": 220
        },
        "id": "oN0Kh1ruUWPF",
        "outputId": "d446660f-00a1-47ba-b55d-10cfd885ac3c"
      },
      "outputs": [
        {
          "output_type": "execute_result",
          "data": {
            "text/plain": [
              "<IPython.core.display.Image object>"
            ],
            "image/png": "[encoded data removed]"
          },
          "metadata": {},
          "execution_count": 54
        }
      ],
      "source": [
        "tf.keras.utils.plot_model(model, show_shapes=True, dpi=48)"
      ]
    },
    {
      "cell_type": "markdown",
      "metadata": {
        "id": "qvap4afcV4cZ"
      },
      "source": [
        "Set up de los hiperparámetros."
      ]
    },
    {
      "cell_type": "code",
      "execution_count": 55,
      "metadata": {
        "id": "bNeskVwpUco0"
      },
      "outputs": [],
      "source": [
        "epochs = 3\n",
        "batch_size = 8 \n",
        "eval_batch_size = batch_size\n",
        "\n",
        "train_data_size = len(dummy_y_train)\n",
        "steps_per_epoch = int(train_data_size / batch_size)\n",
        "num_train_steps = steps_per_epoch * epochs\n",
        "warmup_steps = int(epochs * train_data_size * 0.1 / batch_size)\n",
        "\n",
        "optimizer = nlp.optimization.create_optimizer(\n",
        "    2e-5, num_train_steps=num_train_steps, num_warmup_steps=warmup_steps)"
      ]
    },
    {
      "cell_type": "markdown",
      "metadata": {
        "id": "V2PRw94bV_cy"
      },
      "source": [
        "Compilar el modelo."
      ]
    },
    {
      "cell_type": "code",
      "execution_count": 56,
      "metadata": {
        "id": "dpXu5QfFWAoD"
      },
      "outputs": [],
      "source": [
        "model.compile(optimizer=optimizer,\n",
        "              loss='binary_crossentropy',\n",
        "              metrics=['accuracy'])"
      ]
    },
    {
      "cell_type": "code",
      "execution_count": 57,
      "metadata": {
        "colab": {
          "base_uri": "https://localhost:8080/"
        },
        "id": "K0-u2YKQWDAV",
        "outputId": "3b03f238-9fb8-4568-b7ee-f9cff509280b"
      },
      "outputs": [
        {
          "output_type": "stream",
          "name": "stdout",
          "text": [
            "Model: \"model\"\n",
            "__________________________________________________________________________________________________\n",
            " Layer (type)                   Output Shape         Param #     Connected to                     \n",
            "==================================================================================================\n",
            " input_word_ids (InputLayer)    [(None, 512)]        0           []                               \n",
            "                                                                                                  \n",
            " input_mask (InputLayer)        [(None, 512)]        0           []                               \n",
            "                                                                                                  \n",
            " segment_ids (InputLayer)       [(None, 512)]        0           []                               \n",
            "                                                                                                  \n",
            " keras_layer (KerasLayer)       [(None, 768),        177853441   ['input_word_ids[0][0]',         \n",
            "                                 (None, 512, 768)]                'input_mask[0][0]',             \n",
            "                                                                  'segment_ids[0][0]']            \n",
            "                                                                                                  \n",
            " dropout (Dropout)              (None, 768)          0           ['keras_layer[0][0]']            \n",
            "                                                                                                  \n",
            " output (Dense)                 (None, 2)            1538        ['dropout[0][0]']                \n",
            "                                                                                                  \n",
            "==================================================================================================\n",
            "Total params: 177,854,979\n",
            "Trainable params: 177,854,978\n",
            "Non-trainable params: 1\n",
            "__________________________________________________________________________________________________\n"
          ]
        }
      ],
      "source": [
        "model.summary()"
      ]
    },
    {
      "cell_type": "markdown",
      "metadata": {
        "id": "h_jIRI2zWbtx"
      },
      "source": [
        "Se almacena la historia para hacerle seguimiento posteriormente"
      ]
    },
    {
      "cell_type": "code",
      "execution_count": 58,
      "metadata": {
        "colab": {
          "base_uri": "https://localhost:8080/"
        },
        "id": "ATMWQDkVWY6n",
        "outputId": "6bb63140-a85c-485c-cb88-c7e591052b93"
      },
      "outputs": [
        {
          "output_type": "stream",
          "name": "stdout",
          "text": [
            "Epoch 1/3\n",
            "4959/4959 [==============================] - 3387s 680ms/step - loss: 0.4759 - accuracy: 0.7706 - val_loss: 0.3462 - val_accuracy: 0.8656\n",
            "Epoch 2/3\n",
            "4959/4959 [==============================] - 3369s 679ms/step - loss: 0.3328 - accuracy: 0.8928 - val_loss: 0.3936 - val_accuracy: 0.8878\n",
            "Epoch 3/3\n",
            "4959/4959 [==============================] - 3369s 679ms/step - loss: 0.2565 - accuracy: 0.9345 - val_loss: 0.4660 - val_accuracy: 0.8925\n"
          ]
        }
      ],
      "source": [
        "history = model.fit(X_train,\n",
        "                    dummy_y_train,\n",
        "                    epochs=epochs,\n",
        "                    batch_size=batch_size,\n",
        "                    validation_data=(X_test, dummy_y_test),\n",
        "                    verbose=1)    "
      ]
    },
    {
      "cell_type": "markdown",
      "metadata": {
        "id": "yVMCMpQJXXdM"
      },
      "source": [
        "Evaluación"
      ]
    },
    {
      "cell_type": "code",
      "execution_count": 59,
      "metadata": {
        "colab": {
          "base_uri": "https://localhost:8080/"
        },
        "id": "6yY0h7CPXWD_",
        "outputId": "235b5c62-076e-4507-a290-9a7c137c5701"
      },
      "outputs": [
        {
          "output_type": "stream",
          "name": "stdout",
          "text": [
            "Training Accuracy: 0.9588\n",
            "Testing Accuracy:  0.8925\n"
          ]
        }
      ],
      "source": [
        "loss, accuracy = model.evaluate(X_train, dummy_y_train, verbose=False)\n",
        "print(\"Training Accuracy: {:.4f}\".format(accuracy))\n",
        "loss, accuracy = model.evaluate(X_test, dummy_y_test, verbose=False)\n",
        "print(\"Testing Accuracy:  {:.4f}\".format(accuracy))"
      ]
    },
    {
      "cell_type": "markdown",
      "metadata": {
        "id": "QeIFeUsyXVwQ"
      },
      "source": [
        "Se grafican los resultados"
      ]
    },
    {
      "cell_type": "code",
      "execution_count": 60,
      "metadata": {
        "id": "n1jJDOPzXcEH"
      },
      "outputs": [],
      "source": [
        "plt.style.use('ggplot')\n",
        "\n",
        "def plot_history(history):\n",
        "    acc = history.history['accuracy']\n",
        "    val_acc = history.history['val_accuracy']\n",
        "    loss = history.history['loss']\n",
        "    val_loss = history.history['val_loss']\n",
        "    x = range(1, len(acc) + 1)\n",
        "\n",
        "    plt.figure(figsize=(12, 5))\n",
        "    plt.subplot(1, 2, 1)\n",
        "    plt.plot(x, acc, 'b', label='Training acc')\n",
        "    plt.plot(x, val_acc, 'r', label='Validation acc')\n",
        "    plt.title('Training and validation accuracy')\n",
        "    plt.legend()\n",
        "    plt.subplot(1, 2, 2)\n",
        "    plt.plot(x, loss, 'b', label='Training loss')\n",
        "    plt.plot(x, val_loss, 'r', label='Validation loss')\n",
        "    plt.title('Training and validation loss')\n",
        "    plt.legend()"
      ]
    },
    {
      "cell_type": "code",
      "execution_count": 61,
      "metadata": {
        "colab": {
          "base_uri": "https://localhost:8080/",
          "height": 337
        },
        "id": "RY7XA4HP9S7H",
        "outputId": "99bf2d9a-7fc1-40b7-90ce-6b370e129a4b"
      },
      "outputs": [
        {
          "output_type": "display_data",
          "data": {
            "text/plain": [
              "<Figure size 864x360 with 2 Axes>"
            ],
            "image/png": "[encoded data removed]"
          },
          "metadata": {}
        }
      ],
      "source": [
        "plot_history(history)"
      ]
    },
    {
      "cell_type": "markdown",
      "metadata": {
        "id": "r-eqXo5f3SJc"
      },
      "source": [
        "## Almacenamiento del modelo \n",
        "\n",
        "para uso posterior"
      ]
    },
    {
      "cell_type": "code",
      "execution_count": 62,
      "metadata": {
        "id": "nInJE2SrXfS3"
      },
      "outputs": [],
      "source": [
        "model.compile(optimizer='adam',\n",
        "              loss='binary_crossentropy',\n",
        "              metrics=['accuracy'])"
      ]
    },
    {
      "cell_type": "code",
      "execution_count": 63,
      "metadata": {
        "colab": {
          "base_uri": "https://localhost:8080/"
        },
        "id": "eGLOM58PX4Rg",
        "outputId": "75393f7b-c669-4b65-8a9d-f49a13b24a1e"
      },
      "outputs": [
        {
          "output_type": "stream",
          "name": "stderr",
          "text": [
            "WARNING:absl:Found untraced functions such as restored_function_body, restored_function_body, restored_function_body, restored_function_body, restored_function_body while saving (showing 5 of 378). These functions will not be directly callable after loading.\n"
          ]
        },
        {
          "output_type": "stream",
          "name": "stdout",
          "text": [
            "INFO:tensorflow:Assets written to: /content/gdrive/MyDrive/VIU-MIAR/09MIAR-TFM/BERT-sentiment-analysis/assets/imdb_bert_model/assets\n"
          ]
        },
        {
          "output_type": "stream",
          "name": "stderr",
          "text": [
            "INFO:tensorflow:Assets written to: /content/gdrive/MyDrive/VIU-MIAR/09MIAR-TFM/BERT-sentiment-analysis/assets/imdb_bert_model/assets\n"
          ]
        }
      ],
      "source": [
        "model_fname = 'imdb_bert_model'\n",
        "my_wd = '/content/gdrive/MyDrive/VIU-MIAR/09MIAR-TFM/BERT-sentiment-analysis/assets/'\n",
        "\n",
        "model.save(os.path.join(my_wd, model_fname))"
      ]
    },
    {
      "cell_type": "markdown",
      "metadata": {
        "id": "jl6wQ47qah-I"
      },
      "source": [
        "### Validar el modelo guardado"
      ]
    },
    {
      "cell_type": "code",
      "execution_count": 64,
      "metadata": {
        "id": "RUc7jKm6acec"
      },
      "outputs": [],
      "source": [
        "model_fname = 'imdb_bert_model'\n",
        "my_wd = '/content/gdrive/MyDrive/VIU-MIAR/09MIAR-TFM/BERT-sentiment-analysis/assets/'\n",
        "\n",
        "new_model = tf.keras.models.load_model(os.path.join(my_wd, model_fname))"
      ]
    },
    {
      "cell_type": "code",
      "execution_count": 65,
      "metadata": {
        "colab": {
          "base_uri": "https://localhost:8080/"
        },
        "id": "PTW3N0FuawQP",
        "outputId": "a1cf5791-cedb-4f36-c68f-62975ba56015"
      },
      "outputs": [
        {
          "output_type": "stream",
          "name": "stdout",
          "text": [
            "Testing Accuracy:  0.8925\n"
          ]
        }
      ],
      "source": [
        "loss, accuracy = new_model.evaluate(X_test, dummy_y_test, verbose=False)\n",
        "print(\"Testing Accuracy:  {:.4f}\".format(accuracy))"
      ]
    },
    {
      "cell_type": "code",
      "execution_count": 66,
      "metadata": {
        "colab": {
          "base_uri": "https://localhost:8080/"
        },
        "id": "b41aPYSnayV_",
        "outputId": "c433ef34-6dfa-499b-c042-6c2cbb54a1e1"
      },
      "outputs": [
        {
          "output_type": "stream",
          "name": "stdout",
          "text": [
            "Model: \"model\"\n",
            "__________________________________________________________________________________________________\n",
            " Layer (type)                   Output Shape         Param #     Connected to                     \n",
            "==================================================================================================\n",
            " input_word_ids (InputLayer)    [(None, 512)]        0           []                               \n",
            "                                                                                                  \n",
            " input_mask (InputLayer)        [(None, 512)]        0           []                               \n",
            "                                                                                                  \n",
            " segment_ids (InputLayer)       [(None, 512)]        0           []                               \n",
            "                                                                                                  \n",
            " keras_layer (KerasLayer)       [(None, 768),        177853441   ['input_word_ids[0][0]',         \n",
            "                                 (None, 512, 768)]                'input_mask[0][0]',             \n",
            "                                                                  'segment_ids[0][0]']            \n",
            "                                                                                                  \n",
            " dropout (Dropout)              (None, 768)          0           ['keras_layer[0][0]']            \n",
            "                                                                                                  \n",
            " output (Dense)                 (None, 2)            1538        ['dropout[0][0]']                \n",
            "                                                                                                  \n",
            "==================================================================================================\n",
            "Total params: 177,854,979\n",
            "Trainable params: 177,854,978\n",
            "Non-trainable params: 1\n",
            "__________________________________________________________________________________________________\n"
          ]
        }
      ],
      "source": [
        "new_model.summary()"
      ]
    },
    {
      "cell_type": "markdown",
      "metadata": {
        "id": "UResPCMRa2-Q"
      },
      "source": [
        "Se carga tambien el tokenizador."
      ]
    },
    {
      "cell_type": "code",
      "execution_count": 67,
      "metadata": {
        "id": "9BOIJwPAazvD"
      },
      "outputs": [],
      "source": [
        "tokenizerSaved = bert.tokenization.FullTokenizer(\n",
        "    vocab_file=os.path.join(my_wd, model_fname, 'assets/vocab.txt'),\n",
        "    do_lower_case=False)"
      ]
    },
    {
      "cell_type": "markdown",
      "metadata": {
        "id": "u8_Z4Mxwbk10"
      },
      "source": [
        "Probamos el tokenizador."
      ]
    },
    {
      "cell_type": "code",
      "execution_count": 68,
      "metadata": {
        "colab": {
          "base_uri": "https://localhost:8080/"
        },
        "id": "iE3HggMgbkVO",
        "outputId": "016e3ec7-be2a-4a67-d1ab-cf79843b2183"
      },
      "outputs": [
        {
          "output_type": "stream",
          "name": "stdout",
          "text": [
            "I [146]\n",
            "really [30181]\n",
            "like [11850]\n",
            "##d [10162]\n",
            "the [10105]\n",
            "movie [18379]\n",
            "The [10117]\n",
            "Em [11289]\n",
            "##pore [62758]\n",
            "##rs [10943]\n",
            "New [10287]\n",
            "Groove [76502]\n",
            "but [10473]\n",
            "watching [84532]\n",
            "this [10531]\n",
            "was [10134]\n",
            "like [11850]\n",
            "coming [23959]\n",
            "home [11816]\n",
            "and [10111]\n",
            "seeing [57039]\n",
            "your [20442]\n",
            "wife [14384]\n",
            "having [13677]\n",
            "relations [19824]\n",
            "with [10169]\n",
            "a [169]\n",
            "llama [47281]\n",
            "Seri [48939]\n",
            "##ously [47173]\n",
            "this [10531]\n",
            "movie [18379]\n",
            "was [10134]\n",
            "bad [15838]\n",
            "Its [14864]\n",
            "like [11850]\n",
            "Club [11316]\n",
            "Dre [72531]\n",
            "##ad [11488]\n",
            "after [10662]\n",
            "Super [12786]\n",
            "T [157]\n",
            "##ro [10567]\n",
            "##oper [56361]\n",
            "##s [10107]\n",
            "I [146]\n",
            "am [10392]\n",
            "supposed [59516]\n",
            "to [10114]\n",
            "write [28685]\n",
            "10 [10150]\n",
            "lines [19515]\n",
            "but [10473]\n",
            "I [146]\n",
            "dont [11758]\n",
            "even [13246]\n",
            "know [21852]\n",
            "what [12976]\n",
            "else [40843]\n",
            "to [10114]\n",
            "say [23763]\n",
            "I [146]\n",
            "lau [27207]\n",
            "##ghed [75395]\n",
            "a [169]\n",
            "couple [20969]\n",
            "of [10108]\n",
            "times [13465]\n",
            "but [10473]\n",
            "only [10893]\n",
            "because [12373]\n",
            "I [146]\n",
            "was [10134]\n",
            "drinking [68351]\n",
            "A [138]\n",
            "movie [18379]\n",
            "like [11850]\n",
            "that [10189]\n",
            "should [14819]\n",
            "at [10160]\n",
            "least [16298]\n",
            "be [10347]\n",
            "fun [41807]\n",
            "##ny [10756]\n",
            "when [10841]\n",
            "your [20442]\n",
            "dr [17094]\n",
            "##unk [33551]\n",
            "It [10377]\n",
            "was [10134]\n",
            "not [10472]\n",
            "Maybe [107561]\n",
            "llama [47281]\n",
            "##s [10107]\n",
            "are [10301]\n",
            "just [12820]\n",
            "fun [41807]\n",
            "##ny [10756]\n",
            "and [10111]\n",
            "regular [15670]\n",
            "cartoon [97727]\n",
            "people [11426]\n",
            "aren [99045]\n",
            "##t [10123]\n",
            "Eit [101262]\n",
            "##her [14206]\n",
            "way [13170]\n",
            "just [12820]\n",
            "stick [84081]\n",
            "with [10169]\n",
            "The [10117]\n",
            "Em [11289]\n",
            "##pore [62758]\n",
            "##rs [10943]\n",
            "New [10287]\n",
            "Groove [76502]\n",
            "if [12277]\n",
            "you [13028]\n",
            "want [21528]\n",
            "a [169]\n",
            "fun [41807]\n",
            "##ny [10756]\n",
            "cartoon [97727]\n",
            "llama [47281]\n",
            "##the [26900]\n",
            "##med [21986]\n",
            "movie [18379]\n",
            "Line [14357]\n",
            "10 [10150]\n",
            "is [10124]\n",
            "this [10531]\n",
            "line [12117]\n",
            "right [13448]\n",
            "here [19353]\n"
          ]
        }
      ],
      "source": [
        "tokenizedTweet = tokenizerSaved.tokenize(x_train[0])\n",
        "for i in tokenizedTweet:\n",
        "  print(i, tokenizerSaved.convert_tokens_to_ids([i]))"
      ]
    },
    {
      "cell_type": "markdown",
      "metadata": {
        "id": "aQIJMSxWRNOX"
      },
      "source": [
        "# Evaluación"
      ]
    },
    {
      "cell_type": "markdown",
      "metadata": {
        "id": "CvXzVKLNS3EZ"
      },
      "source": [
        "Obtenemos las clases y el encoder"
      ]
    },
    {
      "cell_type": "code",
      "execution_count": null,
      "metadata": {
        "id": "Q48W5efMSdtI"
      },
      "outputs": [],
      "source": [
        "encoder_fname = 'imdb_classes.npy'\n",
        "my_wd = '/content/gdrive/MyDrive/MIAR/TFM/BERT Sentiment/data/'\n",
        "\n",
        "encoder = LabelEncoder()\n",
        "encoder.classes_ = np.load(os.path.join(my_wd, encoder_fname), allow_pickle=True)"
      ]
    },
    {
      "cell_type": "markdown",
      "metadata": {
        "id": "XgjPsHVcTX9V"
      },
      "source": [
        "Clases para el modelo."
      ]
    },
    {
      "cell_type": "code",
      "execution_count": null,
      "metadata": {
        "id": "ZT2DvZ2oTCBJ"
      },
      "outputs": [],
      "source": [
        "encoder.classes_"
      ]
    },
    {
      "cell_type": "markdown",
      "metadata": {
        "id": "-aVOr8MlSxa6"
      },
      "source": [
        "Preprocesado de la entrada."
      ]
    },
    {
      "cell_type": "code",
      "execution_count": null,
      "metadata": {
        "id": "SiruBLfcrCUo"
      },
      "outputs": [],
      "source": [
        "input = ['Fui a ver la pelicula pensando que era muy mala pero resulto ser una pelicula muy buena. Las actuaciones fueron fascinantes y el guión me encanto']\n",
        "inputs = bert_encode(string_list=list(input), \n",
        "                     tokenizer=tokenizerSaved, \n",
        "                     max_seq_length=512)"
      ]
    },
    {
      "cell_type": "markdown",
      "metadata": {
        "id": "Zkoy3SgCTdgc"
      },
      "source": [
        "Prediction."
      ]
    },
    {
      "cell_type": "code",
      "execution_count": null,
      "metadata": {
        "id": "wQWW5CCtTDji"
      },
      "outputs": [],
      "source": [
        "prediction = model.predict(inputs)\n",
        "print(prediction)\n",
        "print('Input is', 'positive' if encoder.classes_[np.argmax(prediction)]=='positive' else 'negative')"
      ]
    }
  ],
  "metadata": {
    "accelerator": "GPU",
    "colab": {
      "collapsed_sections": [],
      "machine_shape": "hm",
      "name": "BERT-sentiment-analysis-fine-tunning.ipynb",
      "provenance": []
    },
    "kernelspec": {
      "display_name": "Python 3",
      "name": "python3"
    },
    "widgets": {
      "application/vnd.jupyter.widget-state+json": {
        "239a6db2d33b42b3b1b000fe49297b34": {
          "model_module": "@jupyter-widgets/controls",
          "model_name": "HBoxModel",
          "model_module_version": "1.5.0",
          "state": {
            "_dom_classes": [],
            "_model_module": "@jupyter-widgets/controls",
            "_model_module_version": "1.5.0",
            "_model_name": "HBoxModel",
            "_view_count": null,
            "_view_module": "@jupyter-widgets/controls",
            "_view_module_version": "1.5.0",
            "_view_name": "HBoxView",
            "box_style": "",
            "children": [
              "IPY_MODEL_da9a1f2e79124ef4b3871883cb91aae4",
              "IPY_MODEL_b028cdd957284855b4a9860f238830d8",
              "IPY_MODEL_c318679927724b919e5fc2451ad9658d"
            ],
            "layout": "IPY_MODEL_b715210778ee484ba903422cc19afc56"
          }
        },
        "da9a1f2e79124ef4b3871883cb91aae4": {
          "model_module": "@jupyter-widgets/controls",
          "model_name": "HTMLModel",
          "model_module_version": "1.5.0",
          "state": {
            "_dom_classes": [],
            "_model_module": "@jupyter-widgets/controls",
            "_model_module_version": "1.5.0",
            "_model_name": "HTMLModel",
            "_view_count": null,
            "_view_module": "@jupyter-widgets/controls",
            "_view_module_version": "1.5.0",
            "_view_name": "HTMLView",
            "description": "",
            "description_tooltip": null,
            "layout": "IPY_MODEL_72173b3e20a24be49d576f7e2e9a96be",
            "placeholder": "​",
            "style": "IPY_MODEL_cd559011119144dda0a27b4088a70294",
            "value": "Downloading: 100%"
          }
        },
        "b028cdd957284855b4a9860f238830d8": {
          "model_module": "@jupyter-widgets/controls",
          "model_name": "FloatProgressModel",
          "model_module_version": "1.5.0",
          "state": {
            "_dom_classes": [],
            "_model_module": "@jupyter-widgets/controls",
            "_model_module_version": "1.5.0",
            "_model_name": "FloatProgressModel",
            "_view_count": null,
            "_view_module": "@jupyter-widgets/controls",
            "_view_module_version": "1.5.0",
            "_view_name": "ProgressView",
            "bar_style": "success",
            "description": "",
            "description_tooltip": null,
            "layout": "IPY_MODEL_3712b6f2e57841aeb04f1da96d22bfb4",
            "max": 213450,
            "min": 0,
            "orientation": "horizontal",
            "style": "IPY_MODEL_10e91ca40b7e4744a3bf1a2f8b6ec6f8",
            "value": 213450
          }
        },
        "c318679927724b919e5fc2451ad9658d": {
          "model_module": "@jupyter-widgets/controls",
          "model_name": "HTMLModel",
          "model_module_version": "1.5.0",
          "state": {
            "_dom_classes": [],
            "_model_module": "@jupyter-widgets/controls",
            "_model_module_version": "1.5.0",
            "_model_name": "HTMLModel",
            "_view_count": null,
            "_view_module": "@jupyter-widgets/controls",
            "_view_module_version": "1.5.0",
            "_view_name": "HTMLView",
            "description": "",
            "description_tooltip": null,
            "layout": "IPY_MODEL_e5b6727659bd4409a94cf3f48f051b2c",
            "placeholder": "​",
            "style": "IPY_MODEL_871d06fe6d5e4116a6379cd1b7060f58",
            "value": " 208k/208k [00:00&lt;00:00, 783kB/s]"
          }
        },
        "b715210778ee484ba903422cc19afc56": {
          "model_module": "@jupyter-widgets/base",
          "model_name": "LayoutModel",
          "model_module_version": "1.2.0",
          "state": {
            "_model_module": "@jupyter-widgets/base",
            "_model_module_version": "1.2.0",
            "_model_name": "LayoutModel",
            "_view_count": null,
            "_view_module": "@jupyter-widgets/base",
            "_view_module_version": "1.2.0",
            "_view_name": "LayoutView",
            "align_content": null,
            "align_items": null,
            "align_self": null,
            "border": null,
            "bottom": null,
            "display": null,
            "flex": null,
            "flex_flow": null,
            "grid_area": null,
            "grid_auto_columns": null,
            "grid_auto_flow": null,
            "grid_auto_rows": null,
            "grid_column": null,
            "grid_gap": null,
            "grid_row": null,
            "grid_template_areas": null,
            "grid_template_columns": null,
            "grid_template_rows": null,
            "height": null,
            "justify_content": null,
            "justify_items": null,
            "left": null,
            "margin": null,
            "max_height": null,
            "max_width": null,
            "min_height": null,
            "min_width": null,
            "object_fit": null,
            "object_position": null,
            "order": null,
            "overflow": null,
            "overflow_x": null,
            "overflow_y": null,
            "padding": null,
            "right": null,
            "top": null,
            "visibility": null,
            "width": null
          }
        },
        "72173b3e20a24be49d576f7e2e9a96be": {
          "model_module": "@jupyter-widgets/base",
          "model_name": "LayoutModel",
          "model_module_version": "1.2.0",
          "state": {
            "_model_module": "@jupyter-widgets/base",
            "_model_module_version": "1.2.0",
            "_model_name": "LayoutModel",
            "_view_count": null,
            "_view_module": "@jupyter-widgets/base",
            "_view_module_version": "1.2.0",
            "_view_name": "LayoutView",
            "align_content": null,
            "align_items": null,
            "align_self": null,
            "border": null,
            "bottom": null,
            "display": null,
            "flex": null,
            "flex_flow": null,
            "grid_area": null,
            "grid_auto_columns": null,
            "grid_auto_flow": null,
            "grid_auto_rows": null,
            "grid_column": null,
            "grid_gap": null,
            "grid_row": null,
            "grid_template_areas": null,
            "grid_template_columns": null,
            "grid_template_rows": null,
            "height": null,
            "justify_content": null,
            "justify_items": null,
            "left": null,
            "margin": null,
            "max_height": null,
            "max_width": null,
            "min_height": null,
            "min_width": null,
            "object_fit": null,
            "object_position": null,
            "order": null,
            "overflow": null,
            "overflow_x": null,
            "overflow_y": null,
            "padding": null,
            "right": null,
            "top": null,
            "visibility": null,
            "width": null
          }
        },
        "cd559011119144dda0a27b4088a70294": {
          "model_module": "@jupyter-widgets/controls",
          "model_name": "DescriptionStyleModel",
          "model_module_version": "1.5.0",
          "state": {
            "_model_module": "@jupyter-widgets/controls",
            "_model_module_version": "1.5.0",
            "_model_name": "DescriptionStyleModel",
            "_view_count": null,
            "_view_module": "@jupyter-widgets/base",
            "_view_module_version": "1.2.0",
            "_view_name": "StyleView",
            "description_width": ""
          }
        },
        "3712b6f2e57841aeb04f1da96d22bfb4": {
          "model_module": "@jupyter-widgets/base",
          "model_name": "LayoutModel",
          "model_module_version": "1.2.0",
          "state": {
            "_model_module": "@jupyter-widgets/base",
            "_model_module_version": "1.2.0",
            "_model_name": "LayoutModel",
            "_view_count": null,
            "_view_module": "@jupyter-widgets/base",
            "_view_module_version": "1.2.0",
            "_view_name": "LayoutView",
            "align_content": null,
            "align_items": null,
            "align_self": null,
            "border": null,
            "bottom": null,
            "display": null,
            "flex": null,
            "flex_flow": null,
            "grid_area": null,
            "grid_auto_columns": null,
            "grid_auto_flow": null,
            "grid_auto_rows": null,
            "grid_column": null,
            "grid_gap": null,
            "grid_row": null,
            "grid_template_areas": null,
            "grid_template_columns": null,
            "grid_template_rows": null,
            "height": null,
            "justify_content": null,
            "justify_items": null,
            "left": null,
            "margin": null,
            "max_height": null,
            "max_width": null,
            "min_height": null,
            "min_width": null,
            "object_fit": null,
            "object_position": null,
            "order": null,
            "overflow": null,
            "overflow_x": null,
            "overflow_y": null,
            "padding": null,
            "right": null,
            "top": null,
            "visibility": null,
            "width": null
          }
        },
        "10e91ca40b7e4744a3bf1a2f8b6ec6f8": {
          "model_module": "@jupyter-widgets/controls",
          "model_name": "ProgressStyleModel",
          "model_module_version": "1.5.0",
          "state": {
            "_model_module": "@jupyter-widgets/controls",
            "_model_module_version": "1.5.0",
            "_model_name": "ProgressStyleModel",
            "_view_count": null,
            "_view_module": "@jupyter-widgets/base",
            "_view_module_version": "1.2.0",
            "_view_name": "StyleView",
            "bar_color": null,
            "description_width": ""
          }
        },
        "e5b6727659bd4409a94cf3f48f051b2c": {
          "model_module": "@jupyter-widgets/base",
          "model_name": "LayoutModel",
          "model_module_version": "1.2.0",
          "state": {
            "_model_module": "@jupyter-widgets/base",
            "_model_module_version": "1.2.0",
            "_model_name": "LayoutModel",
            "_view_count": null,
            "_view_module": "@jupyter-widgets/base",
            "_view_module_version": "1.2.0",
            "_view_name": "LayoutView",
            "align_content": null,
            "align_items": null,
            "align_self": null,
            "border": null,
            "bottom": null,
            "display": null,
            "flex": null,
            "flex_flow": null,
            "grid_area": null,
            "grid_auto_columns": null,
            "grid_auto_flow": null,
            "grid_auto_rows": null,
            "grid_column": null,
            "grid_gap": null,
            "grid_row": null,
            "grid_template_areas": null,
            "grid_template_columns": null,
            "grid_template_rows": null,
            "height": null,
            "justify_content": null,
            "justify_items": null,
            "left": null,
            "margin": null,
            "max_height": null,
            "max_width": null,
            "min_height": null,
            "min_width": null,
            "object_fit": null,
            "object_position": null,
            "order": null,
            "overflow": null,
            "overflow_x": null,
            "overflow_y": null,
            "padding": null,
            "right": null,
            "top": null,
            "visibility": null,
            "width": null
          }
        },
        "871d06fe6d5e4116a6379cd1b7060f58": {
          "model_module": "@jupyter-widgets/controls",
          "model_name": "DescriptionStyleModel",
          "model_module_version": "1.5.0",
          "state": {
            "_model_module": "@jupyter-widgets/controls",
            "_model_module_version": "1.5.0",
            "_model_name": "DescriptionStyleModel",
            "_view_count": null,
            "_view_module": "@jupyter-widgets/base",
            "_view_module_version": "1.2.0",
            "_view_name": "StyleView",
            "description_width": ""
          }
        },
        "8ecc09c964e048fabc056ca505249993": {
          "model_module": "@jupyter-widgets/controls",
          "model_name": "HBoxModel",
          "model_module_version": "1.5.0",
          "state": {
            "_dom_classes": [],
            "_model_module": "@jupyter-widgets/controls",
            "_model_module_version": "1.5.0",
            "_model_name": "HBoxModel",
            "_view_count": null,
            "_view_module": "@jupyter-widgets/controls",
            "_view_module_version": "1.5.0",
            "_view_name": "HBoxView",
            "box_style": "",
            "children": [
              "IPY_MODEL_05e59865ddb8493783cb3645ef14d191",
              "IPY_MODEL_1081ca99fe684d88aea8be10267c917e",
              "IPY_MODEL_3f931409ffaa4e0291a88150c95e5e68"
            ],
            "layout": "IPY_MODEL_35a122ad9b5146a5875ea6a10e383cdc"
          }
        },
        "05e59865ddb8493783cb3645ef14d191": {
          "model_module": "@jupyter-widgets/controls",
          "model_name": "HTMLModel",
          "model_module_version": "1.5.0",
          "state": {
            "_dom_classes": [],
            "_model_module": "@jupyter-widgets/controls",
            "_model_module_version": "1.5.0",
            "_model_name": "HTMLModel",
            "_view_count": null,
            "_view_module": "@jupyter-widgets/controls",
            "_view_module_version": "1.5.0",
            "_view_name": "HTMLView",
            "description": "",
            "description_tooltip": null,
            "layout": "IPY_MODEL_48bf24c2a83747f8b5127ae7a57d9551",
            "placeholder": "​",
            "style": "IPY_MODEL_c5a73117e2a049ba902e28fe620e135b",
            "value": "Downloading: 100%"
          }
        },
        "1081ca99fe684d88aea8be10267c917e": {
          "model_module": "@jupyter-widgets/controls",
          "model_name": "FloatProgressModel",
          "model_module_version": "1.5.0",
          "state": {
            "_dom_classes": [],
            "_model_module": "@jupyter-widgets/controls",
            "_model_module_version": "1.5.0",
            "_model_name": "FloatProgressModel",
            "_view_count": null,
            "_view_module": "@jupyter-widgets/controls",
            "_view_module_version": "1.5.0",
            "_view_name": "ProgressView",
            "bar_style": "success",
            "description": "",
            "description_tooltip": null,
            "layout": "IPY_MODEL_909431b40174433283ba7acfd6678c6f",
            "max": 29,
            "min": 0,
            "orientation": "horizontal",
            "style": "IPY_MODEL_bbedc4b00e664c029a8e8a4d41adba22",
            "value": 29
          }
        },
        "3f931409ffaa4e0291a88150c95e5e68": {
          "model_module": "@jupyter-widgets/controls",
          "model_name": "HTMLModel",
          "model_module_version": "1.5.0",
          "state": {
            "_dom_classes": [],
            "_model_module": "@jupyter-widgets/controls",
            "_model_module_version": "1.5.0",
            "_model_name": "HTMLModel",
            "_view_count": null,
            "_view_module": "@jupyter-widgets/controls",
            "_view_module_version": "1.5.0",
            "_view_name": "HTMLView",
            "description": "",
            "description_tooltip": null,
            "layout": "IPY_MODEL_c0f8a65395ba4af498141c06ad303759",
            "placeholder": "​",
            "style": "IPY_MODEL_03329d574a144bdca6696c9e1c695219",
            "value": " 29.0/29.0 [00:00&lt;00:00, 506B/s]"
          }
        },
        "35a122ad9b5146a5875ea6a10e383cdc": {
          "model_module": "@jupyter-widgets/base",
          "model_name": "LayoutModel",
          "model_module_version": "1.2.0",
          "state": {
            "_model_module": "@jupyter-widgets/base",
            "_model_module_version": "1.2.0",
            "_model_name": "LayoutModel",
            "_view_count": null,
            "_view_module": "@jupyter-widgets/base",
            "_view_module_version": "1.2.0",
            "_view_name": "LayoutView",
            "align_content": null,
            "align_items": null,
            "align_self": null,
            "border": null,
            "bottom": null,
            "display": null,
            "flex": null,
            "flex_flow": null,
            "grid_area": null,
            "grid_auto_columns": null,
            "grid_auto_flow": null,
            "grid_auto_rows": null,
            "grid_column": null,
            "grid_gap": null,
            "grid_row": null,
            "grid_template_areas": null,
            "grid_template_columns": null,
            "grid_template_rows": null,
            "height": null,
            "justify_content": null,
            "justify_items": null,
            "left": null,
            "margin": null,
            "max_height": null,
            "max_width": null,
            "min_height": null,
            "min_width": null,
            "object_fit": null,
            "object_position": null,
            "order": null,
            "overflow": null,
            "overflow_x": null,
            "overflow_y": null,
            "padding": null,
            "right": null,
            "top": null,
            "visibility": null,
            "width": null
          }
        },
        "48bf24c2a83747f8b5127ae7a57d9551": {
          "model_module": "@jupyter-widgets/base",
          "model_name": "LayoutModel",
          "model_module_version": "1.2.0",
          "state": {
            "_model_module": "@jupyter-widgets/base",
            "_model_module_version": "1.2.0",
            "_model_name": "LayoutModel",
            "_view_count": null,
            "_view_module": "@jupyter-widgets/base",
            "_view_module_version": "1.2.0",
            "_view_name": "LayoutView",
            "align_content": null,
            "align_items": null,
            "align_self": null,
            "border": null,
            "bottom": null,
            "display": null,
            "flex": null,
            "flex_flow": null,
            "grid_area": null,
            "grid_auto_columns": null,
            "grid_auto_flow": null,
            "grid_auto_rows": null,
            "grid_column": null,
            "grid_gap": null,
            "grid_row": null,
            "grid_template_areas": null,
            "grid_template_columns": null,
            "grid_template_rows": null,
            "height": null,
            "justify_content": null,
            "justify_items": null,
            "left": null,
            "margin": null,
            "max_height": null,
            "max_width": null,
            "min_height": null,
            "min_width": null,
            "object_fit": null,
            "object_position": null,
            "order": null,
            "overflow": null,
            "overflow_x": null,
            "overflow_y": null,
            "padding": null,
            "right": null,
            "top": null,
            "visibility": null,
            "width": null
          }
        },
        "c5a73117e2a049ba902e28fe620e135b": {
          "model_module": "@jupyter-widgets/controls",
          "model_name": "DescriptionStyleModel",
          "model_module_version": "1.5.0",
          "state": {
            "_model_module": "@jupyter-widgets/controls",
            "_model_module_version": "1.5.0",
            "_model_name": "DescriptionStyleModel",
            "_view_count": null,
            "_view_module": "@jupyter-widgets/base",
            "_view_module_version": "1.2.0",
            "_view_name": "StyleView",
            "description_width": ""
          }
        },
        "909431b40174433283ba7acfd6678c6f": {
          "model_module": "@jupyter-widgets/base",
          "model_name": "LayoutModel",
          "model_module_version": "1.2.0",
          "state": {
            "_model_module": "@jupyter-widgets/base",
            "_model_module_version": "1.2.0",
            "_model_name": "LayoutModel",
            "_view_count": null,
            "_view_module": "@jupyter-widgets/base",
            "_view_module_version": "1.2.0",
            "_view_name": "LayoutView",
            "align_content": null,
            "align_items": null,
            "align_self": null,
            "border": null,
            "bottom": null,
            "display": null,
            "flex": null,
            "flex_flow": null,
            "grid_area": null,
            "grid_auto_columns": null,
            "grid_auto_flow": null,
            "grid_auto_rows": null,
            "grid_column": null,
            "grid_gap": null,
            "grid_row": null,
            "grid_template_areas": null,
            "grid_template_columns": null,
            "grid_template_rows": null,
            "height": null,
            "justify_content": null,
            "justify_items": null,
            "left": null,
            "margin": null,
            "max_height": null,
            "max_width": null,
            "min_height": null,
            "min_width": null,
            "object_fit": null,
            "object_position": null,
            "order": null,
            "overflow": null,
            "overflow_x": null,
            "overflow_y": null,
            "padding": null,
            "right": null,
            "top": null,
            "visibility": null,
            "width": null
          }
        },
        "bbedc4b00e664c029a8e8a4d41adba22": {
          "model_module": "@jupyter-widgets/controls",
          "model_name": "ProgressStyleModel",
          "model_module_version": "1.5.0",
          "state": {
            "_model_module": "@jupyter-widgets/controls",
            "_model_module_version": "1.5.0",
            "_model_name": "ProgressStyleModel",
            "_view_count": null,
            "_view_module": "@jupyter-widgets/base",
            "_view_module_version": "1.2.0",
            "_view_name": "StyleView",
            "bar_color": null,
            "description_width": ""
          }
        },
        "c0f8a65395ba4af498141c06ad303759": {
          "model_module": "@jupyter-widgets/base",
          "model_name": "LayoutModel",
          "model_module_version": "1.2.0",
          "state": {
            "_model_module": "@jupyter-widgets/base",
            "_model_module_version": "1.2.0",
            "_model_name": "LayoutModel",
            "_view_count": null,
            "_view_module": "@jupyter-widgets/base",
            "_view_module_version": "1.2.0",
            "_view_name": "LayoutView",
            "align_content": null,
            "align_items": null,
            "align_self": null,
            "border": null,
            "bottom": null,
            "display": null,
            "flex": null,
            "flex_flow": null,
            "grid_area": null,
            "grid_auto_columns": null,
            "grid_auto_flow": null,
            "grid_auto_rows": null,
            "grid_column": null,
            "grid_gap": null,
            "grid_row": null,
            "grid_template_areas": null,
            "grid_template_columns": null,
            "grid_template_rows": null,
            "height": null,
            "justify_content": null,
            "justify_items": null,
            "left": null,
            "margin": null,
            "max_height": null,
            "max_width": null,
            "min_height": null,
            "min_width": null,
            "object_fit": null,
            "object_position": null,
            "order": null,
            "overflow": null,
            "overflow_x": null,
            "overflow_y": null,
            "padding": null,
            "right": null,
            "top": null,
            "visibility": null,
            "width": null
          }
        },
        "03329d574a144bdca6696c9e1c695219": {
          "model_module": "@jupyter-widgets/controls",
          "model_name": "DescriptionStyleModel",
          "model_module_version": "1.5.0",
          "state": {
            "_model_module": "@jupyter-widgets/controls",
            "_model_module_version": "1.5.0",
            "_model_name": "DescriptionStyleModel",
            "_view_count": null,
            "_view_module": "@jupyter-widgets/base",
            "_view_module_version": "1.2.0",
            "_view_name": "StyleView",
            "description_width": ""
          }
        },
        "734a9cc7a71b4d51a38ab7f4562a2c98": {
          "model_module": "@jupyter-widgets/controls",
          "model_name": "HBoxModel",
          "model_module_version": "1.5.0",
          "state": {
            "_dom_classes": [],
            "_model_module": "@jupyter-widgets/controls",
            "_model_module_version": "1.5.0",
            "_model_name": "HBoxModel",
            "_view_count": null,
            "_view_module": "@jupyter-widgets/controls",
            "_view_module_version": "1.5.0",
            "_view_name": "HBoxView",
            "box_style": "",
            "children": [
              "IPY_MODEL_aeb71962b9b6413db3a5cbb5f1adb33c",
              "IPY_MODEL_27963b7cee784e008b2ec16911abb1b5",
              "IPY_MODEL_a108a3c6cb2144a595d2dc9ed6aa6437"
            ],
            "layout": "IPY_MODEL_fdcd04c77b1d4bb19dc92da6bdd4a53b"
          }
        },
        "aeb71962b9b6413db3a5cbb5f1adb33c": {
          "model_module": "@jupyter-widgets/controls",
          "model_name": "HTMLModel",
          "model_module_version": "1.5.0",
          "state": {
            "_dom_classes": [],
            "_model_module": "@jupyter-widgets/controls",
            "_model_module_version": "1.5.0",
            "_model_name": "HTMLModel",
            "_view_count": null,
            "_view_module": "@jupyter-widgets/controls",
            "_view_module_version": "1.5.0",
            "_view_name": "HTMLView",
            "description": "",
            "description_tooltip": null,
            "layout": "IPY_MODEL_b8aae8ff08c44215a555147e4d403a47",
            "placeholder": "​",
            "style": "IPY_MODEL_399266799d714ef4a47a02876faff403",
            "value": "Downloading: 100%"
          }
        },
        "27963b7cee784e008b2ec16911abb1b5": {
          "model_module": "@jupyter-widgets/controls",
          "model_name": "FloatProgressModel",
          "model_module_version": "1.5.0",
          "state": {
            "_dom_classes": [],
            "_model_module": "@jupyter-widgets/controls",
            "_model_module_version": "1.5.0",
            "_model_name": "FloatProgressModel",
            "_view_count": null,
            "_view_module": "@jupyter-widgets/controls",
            "_view_module_version": "1.5.0",
            "_view_name": "ProgressView",
            "bar_style": "success",
            "description": "",
            "description_tooltip": null,
            "layout": "IPY_MODEL_54d2346a58f948bc8fcbd4f158505289",
            "max": 570,
            "min": 0,
            "orientation": "horizontal",
            "style": "IPY_MODEL_288a05961c404081a501fc4b0d6b6716",
            "value": 570
          }
        },
        "a108a3c6cb2144a595d2dc9ed6aa6437": {
          "model_module": "@jupyter-widgets/controls",
          "model_name": "HTMLModel",
          "model_module_version": "1.5.0",
          "state": {
            "_dom_classes": [],
            "_model_module": "@jupyter-widgets/controls",
            "_model_module_version": "1.5.0",
            "_model_name": "HTMLModel",
            "_view_count": null,
            "_view_module": "@jupyter-widgets/controls",
            "_view_module_version": "1.5.0",
            "_view_name": "HTMLView",
            "description": "",
            "description_tooltip": null,
            "layout": "IPY_MODEL_bf06974b097f4a17a9156b719994eba7",
            "placeholder": "​",
            "style": "IPY_MODEL_b72bdf4cd1f4400c8309a8d36167b9a1",
            "value": " 570/570 [00:00&lt;00:00, 17.1kB/s]"
          }
        },
        "fdcd04c77b1d4bb19dc92da6bdd4a53b": {
          "model_module": "@jupyter-widgets/base",
          "model_name": "LayoutModel",
          "model_module_version": "1.2.0",
          "state": {
            "_model_module": "@jupyter-widgets/base",
            "_model_module_version": "1.2.0",
            "_model_name": "LayoutModel",
            "_view_count": null,
            "_view_module": "@jupyter-widgets/base",
            "_view_module_version": "1.2.0",
            "_view_name": "LayoutView",
            "align_content": null,
            "align_items": null,
            "align_self": null,
            "border": null,
            "bottom": null,
            "display": null,
            "flex": null,
            "flex_flow": null,
            "grid_area": null,
            "grid_auto_columns": null,
            "grid_auto_flow": null,
            "grid_auto_rows": null,
            "grid_column": null,
            "grid_gap": null,
            "grid_row": null,
            "grid_template_areas": null,
            "grid_template_columns": null,
            "grid_template_rows": null,
            "height": null,
            "justify_content": null,
            "justify_items": null,
            "left": null,
            "margin": null,
            "max_height": null,
            "max_width": null,
            "min_height": null,
            "min_width": null,
            "object_fit": null,
            "object_position": null,
            "order": null,
            "overflow": null,
            "overflow_x": null,
            "overflow_y": null,
            "padding": null,
            "right": null,
            "top": null,
            "visibility": null,
            "width": null
          }
        },
        "b8aae8ff08c44215a555147e4d403a47": {
          "model_module": "@jupyter-widgets/base",
          "model_name": "LayoutModel",
          "model_module_version": "1.2.0",
          "state": {
            "_model_module": "@jupyter-widgets/base",
            "_model_module_version": "1.2.0",
            "_model_name": "LayoutModel",
            "_view_count": null,
            "_view_module": "@jupyter-widgets/base",
            "_view_module_version": "1.2.0",
            "_view_name": "LayoutView",
            "align_content": null,
            "align_items": null,
            "align_self": null,
            "border": null,
            "bottom": null,
            "display": null,
            "flex": null,
            "flex_flow": null,
            "grid_area": null,
            "grid_auto_columns": null,
            "grid_auto_flow": null,
            "grid_auto_rows": null,
            "grid_column": null,
            "grid_gap": null,
            "grid_row": null,
            "grid_template_areas": null,
            "grid_template_columns": null,
            "grid_template_rows": null,
            "height": null,
            "justify_content": null,
            "justify_items": null,
            "left": null,
            "margin": null,
            "max_height": null,
            "max_width": null,
            "min_height": null,
            "min_width": null,
            "object_fit": null,
            "object_position": null,
            "order": null,
            "overflow": null,
            "overflow_x": null,
            "overflow_y": null,
            "padding": null,
            "right": null,
            "top": null,
            "visibility": null,
            "width": null
          }
        },
        "399266799d714ef4a47a02876faff403": {
          "model_module": "@jupyter-widgets/controls",
          "model_name": "DescriptionStyleModel",
          "model_module_version": "1.5.0",
          "state": {
            "_model_module": "@jupyter-widgets/controls",
            "_model_module_version": "1.5.0",
            "_model_name": "DescriptionStyleModel",
            "_view_count": null,
            "_view_module": "@jupyter-widgets/base",
            "_view_module_version": "1.2.0",
            "_view_name": "StyleView",
            "description_width": ""
          }
        },
        "54d2346a58f948bc8fcbd4f158505289": {
          "model_module": "@jupyter-widgets/base",
          "model_name": "LayoutModel",
          "model_module_version": "1.2.0",
          "state": {
            "_model_module": "@jupyter-widgets/base",
            "_model_module_version": "1.2.0",
            "_model_name": "LayoutModel",
            "_view_count": null,
            "_view_module": "@jupyter-widgets/base",
            "_view_module_version": "1.2.0",
            "_view_name": "LayoutView",
            "align_content": null,
            "align_items": null,
            "align_self": null,
            "border": null,
            "bottom": null,
            "display": null,
            "flex": null,
            "flex_flow": null,
            "grid_area": null,
            "grid_auto_columns": null,
            "grid_auto_flow": null,
            "grid_auto_rows": null,
            "grid_column": null,
            "grid_gap": null,
            "grid_row": null,
            "grid_template_areas": null,
            "grid_template_columns": null,
            "grid_template_rows": null,
            "height": null,
            "justify_content": null,
            "justify_items": null,
            "left": null,
            "margin": null,
            "max_height": null,
            "max_width": null,
            "min_height": null,
            "min_width": null,
            "object_fit": null,
            "object_position": null,
            "order": null,
            "overflow": null,
            "overflow_x": null,
            "overflow_y": null,
            "padding": null,
            "right": null,
            "top": null,
            "visibility": null,
            "width": null
          }
        },
        "288a05961c404081a501fc4b0d6b6716": {
          "model_module": "@jupyter-widgets/controls",
          "model_name": "ProgressStyleModel",
          "model_module_version": "1.5.0",
          "state": {
            "_model_module": "@jupyter-widgets/controls",
            "_model_module_version": "1.5.0",
            "_model_name": "ProgressStyleModel",
            "_view_count": null,
            "_view_module": "@jupyter-widgets/base",
            "_view_module_version": "1.2.0",
            "_view_name": "StyleView",
            "bar_color": null,
            "description_width": ""
          }
        },
        "bf06974b097f4a17a9156b719994eba7": {
          "model_module": "@jupyter-widgets/base",
          "model_name": "LayoutModel",
          "model_module_version": "1.2.0",
          "state": {
            "_model_module": "@jupyter-widgets/base",
            "_model_module_version": "1.2.0",
            "_model_name": "LayoutModel",
            "_view_count": null,
            "_view_module": "@jupyter-widgets/base",
            "_view_module_version": "1.2.0",
            "_view_name": "LayoutView",
            "align_content": null,
            "align_items": null,
            "align_self": null,
            "border": null,
            "bottom": null,
            "display": null,
            "flex": null,
            "flex_flow": null,
            "grid_area": null,
            "grid_auto_columns": null,
            "grid_auto_flow": null,
            "grid_auto_rows": null,
            "grid_column": null,
            "grid_gap": null,
            "grid_row": null,
            "grid_template_areas": null,
            "grid_template_columns": null,
            "grid_template_rows": null,
            "height": null,
            "justify_content": null,
            "justify_items": null,
            "left": null,
            "margin": null,
            "max_height": null,
            "max_width": null,
            "min_height": null,
            "min_width": null,
            "object_fit": null,
            "object_position": null,
            "order": null,
            "overflow": null,
            "overflow_x": null,
            "overflow_y": null,
            "padding": null,
            "right": null,
            "top": null,
            "visibility": null,
            "width": null
          }
        },
        "b72bdf4cd1f4400c8309a8d36167b9a1": {
          "model_module": "@jupyter-widgets/controls",
          "model_name": "DescriptionStyleModel",
          "model_module_version": "1.5.0",
          "state": {
            "_model_module": "@jupyter-widgets/controls",
            "_model_module_version": "1.5.0",
            "_model_name": "DescriptionStyleModel",
            "_view_count": null,
            "_view_module": "@jupyter-widgets/base",
            "_view_module_version": "1.2.0",
            "_view_name": "StyleView",
            "description_width": ""
          }
        }
      }
    }
  },
  "nbformat": 4,
  "nbformat_minor": 0
}